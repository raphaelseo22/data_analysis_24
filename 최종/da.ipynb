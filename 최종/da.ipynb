{
 "cells": [
  {
   "cell_type": "code",
   "execution_count": 1,
   "metadata": {},
   "outputs": [],
   "source": [
    "import pandas as pd\n",
    "import seaborn as sns\n",
    "import matplotlib.pyplot as plt"
   ]
  },
  {
   "cell_type": "code",
   "execution_count": 2,
   "metadata": {},
   "outputs": [
    {
     "name": "stdout",
     "output_type": "stream",
     "text": [
      "(284035, 11)\n"
     ]
    }
   ],
   "source": [
    "order_df = pd.read_csv('/Users/raphaelseo/Documents/study/fastcampus/바이트디그리/최종/order-9968.txt')\n",
    "print(order_df.shape)"
   ]
  },
  {
   "cell_type": "code",
   "execution_count": 3,
   "metadata": {},
   "outputs": [
    {
     "name": "stdout",
     "output_type": "stream",
     "text": [
      "(122989, 7)\n"
     ]
    }
   ],
   "source": [
    "user_df = pd.read_csv('/Users/raphaelseo/Documents/study/fastcampus/바이트디그리/최종/user-9968.csv')\n",
    "print(user_df.shape)"
   ]
  },
  {
   "cell_type": "code",
   "execution_count": 4,
   "metadata": {},
   "outputs": [
    {
     "data": {
      "text/html": [
       "<div>\n",
       "<style scoped>\n",
       "    .dataframe tbody tr th:only-of-type {\n",
       "        vertical-align: middle;\n",
       "    }\n",
       "\n",
       "    .dataframe tbody tr th {\n",
       "        vertical-align: top;\n",
       "    }\n",
       "\n",
       "    .dataframe thead th {\n",
       "        text-align: right;\n",
       "    }\n",
       "</style>\n",
       "<table border=\"1\" class=\"dataframe\">\n",
       "  <thead>\n",
       "    <tr style=\"text-align: right;\">\n",
       "      <th></th>\n",
       "      <th>id</th>\n",
       "      <th>type</th>\n",
       "      <th>state</th>\n",
       "      <th>name</th>\n",
       "      <th>created_at</th>\n",
       "      <th>updated_at</th>\n",
       "      <th>customer_id</th>\n",
       "      <th>list_price</th>\n",
       "      <th>sale_price</th>\n",
       "      <th>discount_price</th>\n",
       "      <th>tax_free_price</th>\n",
       "    </tr>\n",
       "  </thead>\n",
       "  <tbody>\n",
       "    <tr>\n",
       "      <th>0</th>\n",
       "      <td>1600585</td>\n",
       "      <td>ORDER</td>\n",
       "      <td>COMPLETED</td>\n",
       "      <td>[30일 수강] 엑</td>\n",
       "      <td>2022-12-31 23:42:49</td>\n",
       "      <td>2022-12-31 23:42:52</td>\n",
       "      <td>1083679</td>\n",
       "      <td>10000</td>\n",
       "      <td>0</td>\n",
       "      <td>10000</td>\n",
       "      <td>0</td>\n",
       "    </tr>\n",
       "    <tr>\n",
       "      <th>1</th>\n",
       "      <td>1600580</td>\n",
       "      <td>ORDER</td>\n",
       "      <td>COMPLETED</td>\n",
       "      <td>한번에 끝내는 재무</td>\n",
       "      <td>2022-12-31 23:39:01</td>\n",
       "      <td>2022-12-31 23:39:25</td>\n",
       "      <td>129176</td>\n",
       "      <td>40000</td>\n",
       "      <td>40000</td>\n",
       "      <td>0</td>\n",
       "      <td>40000</td>\n",
       "    </tr>\n",
       "    <tr>\n",
       "      <th>2</th>\n",
       "      <td>1600579</td>\n",
       "      <td>ORDER</td>\n",
       "      <td>COMPLETED</td>\n",
       "      <td>네오아카데미 : 까</td>\n",
       "      <td>2022-12-31 23:38:31</td>\n",
       "      <td>2022-12-31 23:39:17</td>\n",
       "      <td>1072552</td>\n",
       "      <td>20000</td>\n",
       "      <td>10000</td>\n",
       "      <td>10000</td>\n",
       "      <td>10000</td>\n",
       "    </tr>\n",
       "    <tr>\n",
       "      <th>3</th>\n",
       "      <td>1600577</td>\n",
       "      <td>ORDER</td>\n",
       "      <td>COMPLETED</td>\n",
       "      <td>백엔드 개발자를 위</td>\n",
       "      <td>2022-12-31 23:35:52</td>\n",
       "      <td>2022-12-31 23:36:09</td>\n",
       "      <td>1083664</td>\n",
       "      <td>20000</td>\n",
       "      <td>20000</td>\n",
       "      <td>10000</td>\n",
       "      <td>20000</td>\n",
       "    </tr>\n",
       "    <tr>\n",
       "      <th>4</th>\n",
       "      <td>1600574</td>\n",
       "      <td>ORDER</td>\n",
       "      <td>COMPLETED</td>\n",
       "      <td>React Nati</td>\n",
       "      <td>2022-12-31 23:30:51</td>\n",
       "      <td>2022-12-31 23:31:13</td>\n",
       "      <td>1033553</td>\n",
       "      <td>20000</td>\n",
       "      <td>20000</td>\n",
       "      <td>0</td>\n",
       "      <td>20000</td>\n",
       "    </tr>\n",
       "  </tbody>\n",
       "</table>\n",
       "</div>"
      ],
      "text/plain": [
       "        id   type      state        name           created_at  \\\n",
       "0  1600585  ORDER  COMPLETED  [30일 수강] 엑  2022-12-31 23:42:49   \n",
       "1  1600580  ORDER  COMPLETED  한번에 끝내는 재무  2022-12-31 23:39:01   \n",
       "2  1600579  ORDER  COMPLETED  네오아카데미 : 까  2022-12-31 23:38:31   \n",
       "3  1600577  ORDER  COMPLETED  백엔드 개발자를 위  2022-12-31 23:35:52   \n",
       "4  1600574  ORDER  COMPLETED  React Nati  2022-12-31 23:30:51   \n",
       "\n",
       "            updated_at  customer_id  list_price  sale_price  discount_price  \\\n",
       "0  2022-12-31 23:42:52      1083679       10000           0           10000   \n",
       "1  2022-12-31 23:39:25       129176       40000       40000               0   \n",
       "2  2022-12-31 23:39:17      1072552       20000       10000           10000   \n",
       "3  2022-12-31 23:36:09      1083664       20000       20000           10000   \n",
       "4  2022-12-31 23:31:13      1033553       20000       20000               0   \n",
       "\n",
       "   tax_free_price  \n",
       "0               0  \n",
       "1           40000  \n",
       "2           10000  \n",
       "3           20000  \n",
       "4           20000  "
      ]
     },
     "execution_count": 4,
     "metadata": {},
     "output_type": "execute_result"
    }
   ],
   "source": [
    "order_df.head()"
   ]
  },
  {
   "cell_type": "code",
   "execution_count": 5,
   "metadata": {},
   "outputs": [
    {
     "data": {
      "text/html": [
       "<div>\n",
       "<style scoped>\n",
       "    .dataframe tbody tr th:only-of-type {\n",
       "        vertical-align: middle;\n",
       "    }\n",
       "\n",
       "    .dataframe tbody tr th {\n",
       "        vertical-align: top;\n",
       "    }\n",
       "\n",
       "    .dataframe thead th {\n",
       "        text-align: right;\n",
       "    }\n",
       "</style>\n",
       "<table border=\"1\" class=\"dataframe\">\n",
       "  <thead>\n",
       "    <tr style=\"text-align: right;\">\n",
       "      <th></th>\n",
       "      <th>id</th>\n",
       "      <th>type</th>\n",
       "      <th>state</th>\n",
       "      <th>created_at</th>\n",
       "      <th>updated_at</th>\n",
       "      <th>last_login_at</th>\n",
       "      <th>username</th>\n",
       "    </tr>\n",
       "  </thead>\n",
       "  <tbody>\n",
       "    <tr>\n",
       "      <th>0</th>\n",
       "      <td>1075089</td>\n",
       "      <td>USER</td>\n",
       "      <td>NORMAL</td>\n",
       "      <td>2022-12-31 23:39:19</td>\n",
       "      <td>2023-12-02 00:00:22</td>\n",
       "      <td>2022-12-31 23:44:35</td>\n",
       "      <td>dkfk</td>\n",
       "    </tr>\n",
       "    <tr>\n",
       "      <th>1</th>\n",
       "      <td>1075079</td>\n",
       "      <td>USER</td>\n",
       "      <td>NORMAL</td>\n",
       "      <td>2022-12-31 23:08:47</td>\n",
       "      <td>2023-12-03 23:34:39</td>\n",
       "      <td>2023-12-03 23:34:40</td>\n",
       "      <td>toqu</td>\n",
       "    </tr>\n",
       "    <tr>\n",
       "      <th>2</th>\n",
       "      <td>1075074</td>\n",
       "      <td>USER</td>\n",
       "      <td>NORMAL</td>\n",
       "      <td>2022-12-31 22:46:31</td>\n",
       "      <td>2023-10-19 11:49:10</td>\n",
       "      <td>2023-10-19 11:49:10</td>\n",
       "      <td>theh</td>\n",
       "    </tr>\n",
       "    <tr>\n",
       "      <th>3</th>\n",
       "      <td>1075064</td>\n",
       "      <td>USER</td>\n",
       "      <td>NORMAL</td>\n",
       "      <td>2022-12-31 22:03:14</td>\n",
       "      <td>2023-10-06 18:20:51</td>\n",
       "      <td>2023-10-06 18:20:51</td>\n",
       "      <td>tige</td>\n",
       "    </tr>\n",
       "    <tr>\n",
       "      <th>4</th>\n",
       "      <td>1075059</td>\n",
       "      <td>USER</td>\n",
       "      <td>NORMAL</td>\n",
       "      <td>2022-12-31 21:35:42</td>\n",
       "      <td>2023-02-17 01:54:52</td>\n",
       "      <td>2023-02-17 01:54:52</td>\n",
       "      <td>kyg6</td>\n",
       "    </tr>\n",
       "  </tbody>\n",
       "</table>\n",
       "</div>"
      ],
      "text/plain": [
       "        id  type   state           created_at           updated_at  \\\n",
       "0  1075089  USER  NORMAL  2022-12-31 23:39:19  2023-12-02 00:00:22   \n",
       "1  1075079  USER  NORMAL  2022-12-31 23:08:47  2023-12-03 23:34:39   \n",
       "2  1075074  USER  NORMAL  2022-12-31 22:46:31  2023-10-19 11:49:10   \n",
       "3  1075064  USER  NORMAL  2022-12-31 22:03:14  2023-10-06 18:20:51   \n",
       "4  1075059  USER  NORMAL  2022-12-31 21:35:42  2023-02-17 01:54:52   \n",
       "\n",
       "         last_login_at username  \n",
       "0  2022-12-31 23:44:35     dkfk  \n",
       "1  2023-12-03 23:34:40     toqu  \n",
       "2  2023-10-19 11:49:10     theh  \n",
       "3  2023-10-06 18:20:51     tige  \n",
       "4  2023-02-17 01:54:52     kyg6  "
      ]
     },
     "execution_count": 5,
     "metadata": {},
     "output_type": "execute_result"
    }
   ],
   "source": [
    "user_df.head()"
   ]
  },
  {
   "cell_type": "code",
   "execution_count": 6,
   "metadata": {},
   "outputs": [
    {
     "name": "stdout",
     "output_type": "stream",
     "text": [
      "(123013, 9)\n"
     ]
    },
    {
     "data": {
      "text/html": [
       "<div>\n",
       "<style scoped>\n",
       "    .dataframe tbody tr th:only-of-type {\n",
       "        vertical-align: middle;\n",
       "    }\n",
       "\n",
       "    .dataframe tbody tr th {\n",
       "        vertical-align: top;\n",
       "    }\n",
       "\n",
       "    .dataframe thead th {\n",
       "        text-align: right;\n",
       "    }\n",
       "</style>\n",
       "<table border=\"1\" class=\"dataframe\">\n",
       "  <thead>\n",
       "    <tr style=\"text-align: right;\">\n",
       "      <th></th>\n",
       "      <th>id</th>\n",
       "      <th>type</th>\n",
       "      <th>state</th>\n",
       "      <th>created_at</th>\n",
       "      <th>updated_at</th>\n",
       "      <th>user_id</th>\n",
       "      <th>name</th>\n",
       "      <th>phone</th>\n",
       "      <th>email</th>\n",
       "    </tr>\n",
       "  </thead>\n",
       "  <tbody>\n",
       "    <tr>\n",
       "      <th>0</th>\n",
       "      <td>1482394</td>\n",
       "      <td>USER</td>\n",
       "      <td>NORMAL</td>\n",
       "      <td>2024-01-24 04:44:52</td>\n",
       "      <td>2024-01-24 13:54:05</td>\n",
       "      <td>959919</td>\n",
       "      <td>USER_1482394</td>\n",
       "      <td>1012345678</td>\n",
       "      <td>USER_1482394@notexistemail.com</td>\n",
       "    </tr>\n",
       "    <tr>\n",
       "      <th>1</th>\n",
       "      <td>1482300</td>\n",
       "      <td>USER</td>\n",
       "      <td>NORMAL</td>\n",
       "      <td>2024-01-24 04:43:18</td>\n",
       "      <td>2024-01-25 06:10:38</td>\n",
       "      <td>818301</td>\n",
       "      <td>USER_1482300</td>\n",
       "      <td>1012345678</td>\n",
       "      <td>USER_1482300@notexistemail.com</td>\n",
       "    </tr>\n",
       "    <tr>\n",
       "      <th>2</th>\n",
       "      <td>1482071</td>\n",
       "      <td>USER</td>\n",
       "      <td>NORMAL</td>\n",
       "      <td>2024-01-24 04:41:50</td>\n",
       "      <td>2024-01-25 07:46:45</td>\n",
       "      <td>543671</td>\n",
       "      <td>USER_1482071</td>\n",
       "      <td>1012345678</td>\n",
       "      <td>USER_1482071@notexistemail.com</td>\n",
       "    </tr>\n",
       "    <tr>\n",
       "      <th>3</th>\n",
       "      <td>1445268</td>\n",
       "      <td>USER</td>\n",
       "      <td>NORMAL</td>\n",
       "      <td>2023-12-27 04:17:51</td>\n",
       "      <td>2023-12-27 04:17:51</td>\n",
       "      <td>824733</td>\n",
       "      <td>USER_1445268</td>\n",
       "      <td>1012345678</td>\n",
       "      <td>USER_1445268@notexistemail.com</td>\n",
       "    </tr>\n",
       "    <tr>\n",
       "      <th>4</th>\n",
       "      <td>1445150</td>\n",
       "      <td>USER</td>\n",
       "      <td>NORMAL</td>\n",
       "      <td>2023-12-27 04:15:45</td>\n",
       "      <td>2023-12-27 04:15:45</td>\n",
       "      <td>767404</td>\n",
       "      <td>USER_1445150</td>\n",
       "      <td>1012345678</td>\n",
       "      <td>USER_1445150@notexistemail.com</td>\n",
       "    </tr>\n",
       "  </tbody>\n",
       "</table>\n",
       "</div>"
      ],
      "text/plain": [
       "        id  type   state          created_at          updated_at  user_id  \\\n",
       "0  1482394  USER  NORMAL 2024-01-24 04:44:52 2024-01-24 13:54:05   959919   \n",
       "1  1482300  USER  NORMAL 2024-01-24 04:43:18 2024-01-25 06:10:38   818301   \n",
       "2  1482071  USER  NORMAL 2024-01-24 04:41:50 2024-01-25 07:46:45   543671   \n",
       "3  1445268  USER  NORMAL 2023-12-27 04:17:51 2023-12-27 04:17:51   824733   \n",
       "4  1445150  USER  NORMAL 2023-12-27 04:15:45 2023-12-27 04:15:45   767404   \n",
       "\n",
       "           name       phone                           email  \n",
       "0  USER_1482394  1012345678  USER_1482394@notexistemail.com  \n",
       "1  USER_1482300  1012345678  USER_1482300@notexistemail.com  \n",
       "2  USER_1482071  1012345678  USER_1482071@notexistemail.com  \n",
       "3  USER_1445268  1012345678  USER_1445268@notexistemail.com  \n",
       "4  USER_1445150  1012345678  USER_1445150@notexistemail.com  "
      ]
     },
     "execution_count": 6,
     "metadata": {},
     "output_type": "execute_result"
    }
   ],
   "source": [
    "customer_df = pd.read_excel('/Users/raphaelseo/Documents/study/fastcampus/바이트디그리/최종/customer-9968.xlsx', engine='openpyxl')\n",
    "print(customer_df.shape)\n",
    "customer_df.head()"
   ]
  },
  {
   "cell_type": "code",
   "execution_count": 7,
   "metadata": {},
   "outputs": [
    {
     "data": {
      "text/plain": [
       "state\n",
       "NORMAL        0.620714\n",
       "HIBERNATED    0.372554\n",
       "DELETED       0.006635\n",
       "WITHDRAWN     0.000073\n",
       "ZOMBIE        0.000024\n",
       "Name: proportion, dtype: float64"
      ]
     },
     "execution_count": 7,
     "metadata": {},
     "output_type": "execute_result"
    }
   ],
   "source": [
    "user_df['state'].value_counts(normalize=True)"
   ]
  },
  {
   "cell_type": "code",
   "execution_count": 8,
   "metadata": {},
   "outputs": [],
   "source": [
    "normal = user_df[user_df['state']=='NORMAL']\n",
    "other = user_df[user_df['state']!='NORMAL']"
   ]
  },
  {
   "cell_type": "code",
   "execution_count": 9,
   "metadata": {},
   "outputs": [
    {
     "data": {
      "text/html": [
       "<div>\n",
       "<style scoped>\n",
       "    .dataframe tbody tr th:only-of-type {\n",
       "        vertical-align: middle;\n",
       "    }\n",
       "\n",
       "    .dataframe tbody tr th {\n",
       "        vertical-align: top;\n",
       "    }\n",
       "\n",
       "    .dataframe thead th {\n",
       "        text-align: right;\n",
       "    }\n",
       "</style>\n",
       "<table border=\"1\" class=\"dataframe\">\n",
       "  <thead>\n",
       "    <tr style=\"text-align: right;\">\n",
       "      <th></th>\n",
       "      <th>id</th>\n",
       "      <th>type</th>\n",
       "      <th>state</th>\n",
       "      <th>created_at</th>\n",
       "      <th>updated_at</th>\n",
       "      <th>last_login_at</th>\n",
       "      <th>username</th>\n",
       "    </tr>\n",
       "  </thead>\n",
       "  <tbody>\n",
       "    <tr>\n",
       "      <th>0</th>\n",
       "      <td>1075089</td>\n",
       "      <td>USER</td>\n",
       "      <td>NORMAL</td>\n",
       "      <td>2022-12-31 23:39:19</td>\n",
       "      <td>2023-12-02 00:00:22</td>\n",
       "      <td>2022-12-31 23:44:35</td>\n",
       "      <td>dkfk</td>\n",
       "    </tr>\n",
       "    <tr>\n",
       "      <th>1</th>\n",
       "      <td>1075079</td>\n",
       "      <td>USER</td>\n",
       "      <td>NORMAL</td>\n",
       "      <td>2022-12-31 23:08:47</td>\n",
       "      <td>2023-12-03 23:34:39</td>\n",
       "      <td>2023-12-03 23:34:40</td>\n",
       "      <td>toqu</td>\n",
       "    </tr>\n",
       "    <tr>\n",
       "      <th>2</th>\n",
       "      <td>1075074</td>\n",
       "      <td>USER</td>\n",
       "      <td>NORMAL</td>\n",
       "      <td>2022-12-31 22:46:31</td>\n",
       "      <td>2023-10-19 11:49:10</td>\n",
       "      <td>2023-10-19 11:49:10</td>\n",
       "      <td>theh</td>\n",
       "    </tr>\n",
       "    <tr>\n",
       "      <th>3</th>\n",
       "      <td>1075064</td>\n",
       "      <td>USER</td>\n",
       "      <td>NORMAL</td>\n",
       "      <td>2022-12-31 22:03:14</td>\n",
       "      <td>2023-10-06 18:20:51</td>\n",
       "      <td>2023-10-06 18:20:51</td>\n",
       "      <td>tige</td>\n",
       "    </tr>\n",
       "    <tr>\n",
       "      <th>4</th>\n",
       "      <td>1075059</td>\n",
       "      <td>USER</td>\n",
       "      <td>NORMAL</td>\n",
       "      <td>2022-12-31 21:35:42</td>\n",
       "      <td>2023-02-17 01:54:52</td>\n",
       "      <td>2023-02-17 01:54:52</td>\n",
       "      <td>kyg6</td>\n",
       "    </tr>\n",
       "  </tbody>\n",
       "</table>\n",
       "</div>"
      ],
      "text/plain": [
       "        id  type   state           created_at           updated_at  \\\n",
       "0  1075089  USER  NORMAL  2022-12-31 23:39:19  2023-12-02 00:00:22   \n",
       "1  1075079  USER  NORMAL  2022-12-31 23:08:47  2023-12-03 23:34:39   \n",
       "2  1075074  USER  NORMAL  2022-12-31 22:46:31  2023-10-19 11:49:10   \n",
       "3  1075064  USER  NORMAL  2022-12-31 22:03:14  2023-10-06 18:20:51   \n",
       "4  1075059  USER  NORMAL  2022-12-31 21:35:42  2023-02-17 01:54:52   \n",
       "\n",
       "         last_login_at username  \n",
       "0  2022-12-31 23:44:35     dkfk  \n",
       "1  2023-12-03 23:34:40     toqu  \n",
       "2  2023-10-19 11:49:10     theh  \n",
       "3  2023-10-06 18:20:51     tige  \n",
       "4  2023-02-17 01:54:52     kyg6  "
      ]
     },
     "execution_count": 9,
     "metadata": {},
     "output_type": "execute_result"
    }
   ],
   "source": [
    "normal.head()"
   ]
  },
  {
   "cell_type": "code",
   "execution_count": 10,
   "metadata": {},
   "outputs": [
    {
     "data": {
      "text/html": [
       "<div>\n",
       "<style scoped>\n",
       "    .dataframe tbody tr th:only-of-type {\n",
       "        vertical-align: middle;\n",
       "    }\n",
       "\n",
       "    .dataframe tbody tr th {\n",
       "        vertical-align: top;\n",
       "    }\n",
       "\n",
       "    .dataframe thead th {\n",
       "        text-align: right;\n",
       "    }\n",
       "</style>\n",
       "<table border=\"1\" class=\"dataframe\">\n",
       "  <thead>\n",
       "    <tr style=\"text-align: right;\">\n",
       "      <th></th>\n",
       "      <th>id</th>\n",
       "      <th>type</th>\n",
       "      <th>state</th>\n",
       "      <th>created_at</th>\n",
       "      <th>updated_at</th>\n",
       "      <th>last_login_at</th>\n",
       "      <th>username</th>\n",
       "    </tr>\n",
       "  </thead>\n",
       "  <tbody>\n",
       "    <tr>\n",
       "      <th>60</th>\n",
       "      <td>1074865</td>\n",
       "      <td>USER</td>\n",
       "      <td>DELETED</td>\n",
       "      <td>2022-12-31 14:46:12</td>\n",
       "      <td>2023-02-01 11:31:04</td>\n",
       "      <td>2023-01-01 08:49:56</td>\n",
       "      <td>SmJg</td>\n",
       "    </tr>\n",
       "    <tr>\n",
       "      <th>108</th>\n",
       "      <td>1074791</td>\n",
       "      <td>USER</td>\n",
       "      <td>DELETED</td>\n",
       "      <td>2022-12-31 14:06:00</td>\n",
       "      <td>2023-01-30 15:31:51</td>\n",
       "      <td>2022-12-31 15:17:39</td>\n",
       "      <td>y/5R</td>\n",
       "    </tr>\n",
       "    <tr>\n",
       "      <th>231</th>\n",
       "      <td>1074559</td>\n",
       "      <td>USER</td>\n",
       "      <td>DELETED</td>\n",
       "      <td>2022-12-31 11:06:51</td>\n",
       "      <td>2023-02-03 08:01:00</td>\n",
       "      <td>2023-01-04 07:46:49</td>\n",
       "      <td>ZVST</td>\n",
       "    </tr>\n",
       "    <tr>\n",
       "      <th>276</th>\n",
       "      <td>1074464</td>\n",
       "      <td>USER</td>\n",
       "      <td>DELETED</td>\n",
       "      <td>2022-12-31 09:21:31</td>\n",
       "      <td>2023-01-30 10:03:43</td>\n",
       "      <td>2022-12-31 09:56:50</td>\n",
       "      <td>PeUY</td>\n",
       "    </tr>\n",
       "    <tr>\n",
       "      <th>329</th>\n",
       "      <td>1074342</td>\n",
       "      <td>USER</td>\n",
       "      <td>DELETED</td>\n",
       "      <td>2022-12-31 07:32:57</td>\n",
       "      <td>2023-01-30 08:03:34</td>\n",
       "      <td>2022-12-31 07:39:49</td>\n",
       "      <td>WuXO</td>\n",
       "    </tr>\n",
       "  </tbody>\n",
       "</table>\n",
       "</div>"
      ],
      "text/plain": [
       "          id  type    state           created_at           updated_at  \\\n",
       "60   1074865  USER  DELETED  2022-12-31 14:46:12  2023-02-01 11:31:04   \n",
       "108  1074791  USER  DELETED  2022-12-31 14:06:00  2023-01-30 15:31:51   \n",
       "231  1074559  USER  DELETED  2022-12-31 11:06:51  2023-02-03 08:01:00   \n",
       "276  1074464  USER  DELETED  2022-12-31 09:21:31  2023-01-30 10:03:43   \n",
       "329  1074342  USER  DELETED  2022-12-31 07:32:57  2023-01-30 08:03:34   \n",
       "\n",
       "           last_login_at username  \n",
       "60   2023-01-01 08:49:56     SmJg  \n",
       "108  2022-12-31 15:17:39     y/5R  \n",
       "231  2023-01-04 07:46:49     ZVST  \n",
       "276  2022-12-31 09:56:50     PeUY  \n",
       "329  2022-12-31 07:39:49     WuXO  "
      ]
     },
     "execution_count": 10,
     "metadata": {},
     "output_type": "execute_result"
    }
   ],
   "source": [
    "other.head()"
   ]
  },
  {
   "cell_type": "code",
   "execution_count": 11,
   "metadata": {},
   "outputs": [],
   "source": [
    "normal_customer = customer_df[customer_df['user_id'].isin(normal['id'].unique())]\n",
    "other_customer = customer_df[customer_df['user_id'].isin(other['id'].unique())]"
   ]
  },
  {
   "cell_type": "code",
   "execution_count": 12,
   "metadata": {},
   "outputs": [],
   "source": [
    "normal_order = order_df[order_df['customer_id'].isin(normal_customer['id'].unique())]\n",
    "other_order = order_df[order_df['customer_id'].isin(other_customer['id'].unique())]"
   ]
  },
  {
   "cell_type": "code",
   "execution_count": 13,
   "metadata": {},
   "outputs": [
    {
     "data": {
      "text/html": [
       "<div>\n",
       "<style scoped>\n",
       "    .dataframe tbody tr th:only-of-type {\n",
       "        vertical-align: middle;\n",
       "    }\n",
       "\n",
       "    .dataframe tbody tr th {\n",
       "        vertical-align: top;\n",
       "    }\n",
       "\n",
       "    .dataframe thead th {\n",
       "        text-align: right;\n",
       "    }\n",
       "</style>\n",
       "<table border=\"1\" class=\"dataframe\">\n",
       "  <thead>\n",
       "    <tr style=\"text-align: right;\">\n",
       "      <th></th>\n",
       "      <th>id</th>\n",
       "      <th>type</th>\n",
       "      <th>state</th>\n",
       "      <th>name</th>\n",
       "      <th>created_at</th>\n",
       "      <th>updated_at</th>\n",
       "      <th>customer_id</th>\n",
       "      <th>list_price</th>\n",
       "      <th>sale_price</th>\n",
       "      <th>discount_price</th>\n",
       "      <th>tax_free_price</th>\n",
       "    </tr>\n",
       "  </thead>\n",
       "  <tbody>\n",
       "    <tr>\n",
       "      <th>0</th>\n",
       "      <td>1600585</td>\n",
       "      <td>ORDER</td>\n",
       "      <td>COMPLETED</td>\n",
       "      <td>[30일 수강] 엑</td>\n",
       "      <td>2022-12-31 23:42:49</td>\n",
       "      <td>2022-12-31 23:42:52</td>\n",
       "      <td>1083679</td>\n",
       "      <td>10000</td>\n",
       "      <td>0</td>\n",
       "      <td>10000</td>\n",
       "      <td>0</td>\n",
       "    </tr>\n",
       "    <tr>\n",
       "      <th>1</th>\n",
       "      <td>1600580</td>\n",
       "      <td>ORDER</td>\n",
       "      <td>COMPLETED</td>\n",
       "      <td>한번에 끝내는 재무</td>\n",
       "      <td>2022-12-31 23:39:01</td>\n",
       "      <td>2022-12-31 23:39:25</td>\n",
       "      <td>129176</td>\n",
       "      <td>40000</td>\n",
       "      <td>40000</td>\n",
       "      <td>0</td>\n",
       "      <td>40000</td>\n",
       "    </tr>\n",
       "    <tr>\n",
       "      <th>2</th>\n",
       "      <td>1600579</td>\n",
       "      <td>ORDER</td>\n",
       "      <td>COMPLETED</td>\n",
       "      <td>네오아카데미 : 까</td>\n",
       "      <td>2022-12-31 23:38:31</td>\n",
       "      <td>2022-12-31 23:39:17</td>\n",
       "      <td>1072552</td>\n",
       "      <td>20000</td>\n",
       "      <td>10000</td>\n",
       "      <td>10000</td>\n",
       "      <td>10000</td>\n",
       "    </tr>\n",
       "    <tr>\n",
       "      <th>3</th>\n",
       "      <td>1600577</td>\n",
       "      <td>ORDER</td>\n",
       "      <td>COMPLETED</td>\n",
       "      <td>백엔드 개발자를 위</td>\n",
       "      <td>2022-12-31 23:35:52</td>\n",
       "      <td>2022-12-31 23:36:09</td>\n",
       "      <td>1083664</td>\n",
       "      <td>20000</td>\n",
       "      <td>20000</td>\n",
       "      <td>10000</td>\n",
       "      <td>20000</td>\n",
       "    </tr>\n",
       "    <tr>\n",
       "      <th>4</th>\n",
       "      <td>1600574</td>\n",
       "      <td>ORDER</td>\n",
       "      <td>COMPLETED</td>\n",
       "      <td>React Nati</td>\n",
       "      <td>2022-12-31 23:30:51</td>\n",
       "      <td>2022-12-31 23:31:13</td>\n",
       "      <td>1033553</td>\n",
       "      <td>20000</td>\n",
       "      <td>20000</td>\n",
       "      <td>0</td>\n",
       "      <td>20000</td>\n",
       "    </tr>\n",
       "  </tbody>\n",
       "</table>\n",
       "</div>"
      ],
      "text/plain": [
       "        id   type      state        name           created_at  \\\n",
       "0  1600585  ORDER  COMPLETED  [30일 수강] 엑  2022-12-31 23:42:49   \n",
       "1  1600580  ORDER  COMPLETED  한번에 끝내는 재무  2022-12-31 23:39:01   \n",
       "2  1600579  ORDER  COMPLETED  네오아카데미 : 까  2022-12-31 23:38:31   \n",
       "3  1600577  ORDER  COMPLETED  백엔드 개발자를 위  2022-12-31 23:35:52   \n",
       "4  1600574  ORDER  COMPLETED  React Nati  2022-12-31 23:30:51   \n",
       "\n",
       "            updated_at  customer_id  list_price  sale_price  discount_price  \\\n",
       "0  2022-12-31 23:42:52      1083679       10000           0           10000   \n",
       "1  2022-12-31 23:39:25       129176       40000       40000               0   \n",
       "2  2022-12-31 23:39:17      1072552       20000       10000           10000   \n",
       "3  2022-12-31 23:36:09      1083664       20000       20000           10000   \n",
       "4  2022-12-31 23:31:13      1033553       20000       20000               0   \n",
       "\n",
       "   tax_free_price  \n",
       "0               0  \n",
       "1           40000  \n",
       "2           10000  \n",
       "3           20000  \n",
       "4           20000  "
      ]
     },
     "execution_count": 13,
     "metadata": {},
     "output_type": "execute_result"
    }
   ],
   "source": [
    "normal_order.head()"
   ]
  },
  {
   "cell_type": "code",
   "execution_count": 14,
   "metadata": {},
   "outputs": [
    {
     "data": {
      "text/html": [
       "<div>\n",
       "<style scoped>\n",
       "    .dataframe tbody tr th:only-of-type {\n",
       "        vertical-align: middle;\n",
       "    }\n",
       "\n",
       "    .dataframe tbody tr th {\n",
       "        vertical-align: top;\n",
       "    }\n",
       "\n",
       "    .dataframe thead th {\n",
       "        text-align: right;\n",
       "    }\n",
       "</style>\n",
       "<table border=\"1\" class=\"dataframe\">\n",
       "  <thead>\n",
       "    <tr style=\"text-align: right;\">\n",
       "      <th></th>\n",
       "      <th>id</th>\n",
       "      <th>type</th>\n",
       "      <th>state</th>\n",
       "      <th>name</th>\n",
       "      <th>created_at</th>\n",
       "      <th>updated_at</th>\n",
       "      <th>customer_id</th>\n",
       "      <th>list_price</th>\n",
       "      <th>sale_price</th>\n",
       "      <th>discount_price</th>\n",
       "      <th>tax_free_price</th>\n",
       "    </tr>\n",
       "  </thead>\n",
       "  <tbody>\n",
       "    <tr>\n",
       "      <th>294</th>\n",
       "      <td>1599945</td>\n",
       "      <td>ORDER</td>\n",
       "      <td>COMPLETED</td>\n",
       "      <td>Next.js 완전</td>\n",
       "      <td>2022-12-31 14:47:23</td>\n",
       "      <td>2022-12-31 14:47:45</td>\n",
       "      <td>1083455</td>\n",
       "      <td>20000</td>\n",
       "      <td>20000</td>\n",
       "      <td>0</td>\n",
       "      <td>20000</td>\n",
       "    </tr>\n",
       "    <tr>\n",
       "      <th>295</th>\n",
       "      <td>1599944</td>\n",
       "      <td>ORDER</td>\n",
       "      <td>CANCELLED</td>\n",
       "      <td>Next.js 완전</td>\n",
       "      <td>2022-12-31 14:47:00</td>\n",
       "      <td>2022-12-31 14:47:15</td>\n",
       "      <td>1083455</td>\n",
       "      <td>20000</td>\n",
       "      <td>20000</td>\n",
       "      <td>0</td>\n",
       "      <td>20000</td>\n",
       "    </tr>\n",
       "    <tr>\n",
       "      <th>442</th>\n",
       "      <td>1599747</td>\n",
       "      <td>ORDER</td>\n",
       "      <td>PENDING</td>\n",
       "      <td>올인원 패키지 :</td>\n",
       "      <td>2022-12-31 14:25:49</td>\n",
       "      <td>2022-12-31 14:25:49</td>\n",
       "      <td>1080180</td>\n",
       "      <td>20000</td>\n",
       "      <td>20000</td>\n",
       "      <td>10000</td>\n",
       "      <td>20000</td>\n",
       "    </tr>\n",
       "    <tr>\n",
       "      <th>783</th>\n",
       "      <td>1599258</td>\n",
       "      <td>ORDER</td>\n",
       "      <td>COMPLETED</td>\n",
       "      <td>한 번에 끝내는 A</td>\n",
       "      <td>2022-12-31 13:22:12</td>\n",
       "      <td>2022-12-31 13:24:28</td>\n",
       "      <td>19976</td>\n",
       "      <td>20000</td>\n",
       "      <td>20000</td>\n",
       "      <td>10000</td>\n",
       "      <td>20000</td>\n",
       "    </tr>\n",
       "    <tr>\n",
       "      <th>798</th>\n",
       "      <td>1599240</td>\n",
       "      <td>ORDER</td>\n",
       "      <td>CANCELLED</td>\n",
       "      <td>한 번에 끝내는 A</td>\n",
       "      <td>2022-12-31 13:18:56</td>\n",
       "      <td>2022-12-31 13:19:08</td>\n",
       "      <td>19976</td>\n",
       "      <td>20000</td>\n",
       "      <td>20000</td>\n",
       "      <td>10000</td>\n",
       "      <td>20000</td>\n",
       "    </tr>\n",
       "  </tbody>\n",
       "</table>\n",
       "</div>"
      ],
      "text/plain": [
       "          id   type      state        name           created_at  \\\n",
       "294  1599945  ORDER  COMPLETED  Next.js 완전  2022-12-31 14:47:23   \n",
       "295  1599944  ORDER  CANCELLED  Next.js 완전  2022-12-31 14:47:00   \n",
       "442  1599747  ORDER    PENDING  올인원 패키지 :   2022-12-31 14:25:49   \n",
       "783  1599258  ORDER  COMPLETED  한 번에 끝내는 A  2022-12-31 13:22:12   \n",
       "798  1599240  ORDER  CANCELLED  한 번에 끝내는 A  2022-12-31 13:18:56   \n",
       "\n",
       "              updated_at  customer_id  list_price  sale_price  discount_price  \\\n",
       "294  2022-12-31 14:47:45      1083455       20000       20000               0   \n",
       "295  2022-12-31 14:47:15      1083455       20000       20000               0   \n",
       "442  2022-12-31 14:25:49      1080180       20000       20000           10000   \n",
       "783  2022-12-31 13:24:28        19976       20000       20000           10000   \n",
       "798  2022-12-31 13:19:08        19976       20000       20000           10000   \n",
       "\n",
       "     tax_free_price  \n",
       "294           20000  \n",
       "295           20000  \n",
       "442           20000  \n",
       "783           20000  \n",
       "798           20000  "
      ]
     },
     "execution_count": 14,
     "metadata": {},
     "output_type": "execute_result"
    }
   ],
   "source": [
    "other_order.head()"
   ]
  },
  {
   "cell_type": "code",
   "execution_count": 15,
   "metadata": {},
   "outputs": [
    {
     "data": {
      "text/plain": [
       "state\n",
       "COMPLETED    0.640157\n",
       "CANCELLED    0.194889\n",
       "PENDING      0.164954\n",
       "Name: proportion, dtype: float64"
      ]
     },
     "execution_count": 15,
     "metadata": {},
     "output_type": "execute_result"
    }
   ],
   "source": [
    "normal_order['state'].value_counts(normalize=True)"
   ]
  },
  {
   "cell_type": "code",
   "execution_count": 16,
   "metadata": {},
   "outputs": [
    {
     "data": {
      "text/plain": [
       "state\n",
       "COMPLETED    0.556749\n",
       "CANCELLED    0.235652\n",
       "PENDING      0.207599\n",
       "Name: proportion, dtype: float64"
      ]
     },
     "execution_count": 16,
     "metadata": {},
     "output_type": "execute_result"
    }
   ],
   "source": [
    "other_order['state'].value_counts(normalize=True)"
   ]
  },
  {
   "cell_type": "markdown",
   "metadata": {},
   "source": [
    "### 일반 유저와 동명 유저간의 주문 상태 비교\n",
    "- 일반유저의 경우 완료된 주문이 약 64%, 보류 중인 주문이 약 19% 그리고 취소된 주문이 약 16% 입니다.\n",
    "- 반면 동면중이거나 삭제된 유저의 경우 완료된 주문이 약 56%, 보류 중인 주문이 약 24% 그리고 취소된 주문이 약 21% 입니다.\n",
    "- 두 집단을 비교해본 결과 일반유저의 주문완료율이 다른 집단에 비해 약 8% 높은 경향성을 보여주고 있습니다."
   ]
  },
  {
   "cell_type": "markdown",
   "metadata": {},
   "source": [
    "### 두 집단간의 평균 금액 차이"
   ]
  },
  {
   "cell_type": "code",
   "execution_count": 17,
   "metadata": {},
   "outputs": [],
   "source": [
    "from scipy import stats"
   ]
  },
  {
   "cell_type": "code",
   "execution_count": 18,
   "metadata": {},
   "outputs": [],
   "source": [
    "normal_list_price = normal_order['list_price']\n",
    "other_list_price = other_order['list_price']"
   ]
  },
  {
   "cell_type": "code",
   "execution_count": 19,
   "metadata": {},
   "outputs": [
    {
     "data": {
      "text/plain": [
       "TtestResult(statistic=10.398970804342909, pvalue=2.5326664724524917e-25, df=283937.0)"
      ]
     },
     "execution_count": 19,
     "metadata": {},
     "output_type": "execute_result"
    }
   ],
   "source": [
    "stats.ttest_ind(normal_list_price, other_list_price)"
   ]
  },
  {
   "cell_type": "code",
   "execution_count": 20,
   "metadata": {},
   "outputs": [],
   "source": [
    "normal_discount = normal_order['discount_price']\n",
    "other_discount = other_order['discount_price']"
   ]
  },
  {
   "cell_type": "code",
   "execution_count": 21,
   "metadata": {},
   "outputs": [
    {
     "data": {
      "text/plain": [
       "TtestResult(statistic=34.417721300063086, pvalue=4.705489147984824e-259, df=283937.0)"
      ]
     },
     "execution_count": 21,
     "metadata": {},
     "output_type": "execute_result"
    }
   ],
   "source": [
    "stats.ttest_ind(normal_discount, other_discount)"
   ]
  },
  {
   "cell_type": "code",
   "execution_count": 22,
   "metadata": {},
   "outputs": [],
   "source": [
    "normal_tax_free = normal_order['tax_free_price']\n",
    "other_tax_free = other_order['tax_free_price']"
   ]
  },
  {
   "cell_type": "code",
   "execution_count": 23,
   "metadata": {},
   "outputs": [
    {
     "data": {
      "text/plain": [
       "TtestResult(statistic=-3.3310517692424253, pvalue=0.0008652953742044565, df=283937.0)"
      ]
     },
     "execution_count": 23,
     "metadata": {},
     "output_type": "execute_result"
    }
   ],
   "source": [
    "stats.ttest_ind(normal_tax_free, other_tax_free)"
   ]
  },
  {
   "cell_type": "code",
   "execution_count": 24,
   "metadata": {},
   "outputs": [
    {
     "name": "stdout",
     "output_type": "stream",
     "text": [
      "28691.8012554922 26929.655293395317\n",
      "7785.861097836526 6055.462971084407\n",
      "22210.98393285483 22753.70581527936\n"
     ]
    }
   ],
   "source": [
    "print(normal_list_price.mean(), other_list_price.mean())\n",
    "print(normal_discount.mean(), other_discount.mean())\n",
    "print(normal_tax_free.mean(), other_tax_free.mean())"
   ]
  },
  {
   "cell_type": "markdown",
   "metadata": {},
   "source": [
    "### 가격 비교 결과\n",
    "- ttest를 통해서 두 집단의 list price, discount price, tax free price를 비교해본 결과 모두 통계적으로 유의미한 차이를 보여주었습니다.\n",
    "- list price와 discount price 모두 일반 유저 집단이 다른 유저들 보다 높은 평균치를 보여주었지만, 실제 결제 금액인 tax free price는 다른 유저 집단의 평균이 더 높았습니다."
   ]
  },
  {
   "cell_type": "code",
   "execution_count": 25,
   "metadata": {},
   "outputs": [],
   "source": [
    "import warnings\n",
    "warnings.filterwarnings('ignore')"
   ]
  },
  {
   "cell_type": "code",
   "execution_count": 26,
   "metadata": {},
   "outputs": [],
   "source": [
    "normal['created_at'] = pd.to_datetime(normal['created_at']).dt.normalize()\n",
    "other['created_at'] = pd.to_datetime(other['created_at']).dt.normalize()"
   ]
  },
  {
   "cell_type": "code",
   "execution_count": 27,
   "metadata": {},
   "outputs": [],
   "source": [
    "normal_size = normal.groupby('created_at').size().reset_index()\n",
    "other_size = other.groupby('created_at').size().reset_index()"
   ]
  },
  {
   "cell_type": "code",
   "execution_count": 28,
   "metadata": {},
   "outputs": [],
   "source": [
    "from matplotlib import rc\n",
    "rc('font', family='AppleGothic')"
   ]
  },
  {
   "cell_type": "code",
   "execution_count": 29,
   "metadata": {},
   "outputs": [],
   "source": [
    "normal_size = normal_size.rename({0:'count'}, axis=1)"
   ]
  },
  {
   "cell_type": "code",
   "execution_count": 30,
   "metadata": {},
   "outputs": [],
   "source": [
    "other_size = other_size.rename({0:'count'}, axis=1)"
   ]
  },
  {
   "cell_type": "code",
   "execution_count": 31,
   "metadata": {},
   "outputs": [
    {
     "data": {
      "image/png": "[encoded data removed]",
      "text/plain": [
       "<Figure size 640x480 with 1 Axes>"
      ]
     },
     "metadata": {},
     "output_type": "display_data"
    }
   ],
   "source": [
    "sns.lineplot(data=normal_size, x='created_at', y='count', alpha=0.7, label='Normal')\n",
    "sns.lineplot(data=other_size, x='created_at', y='count', alpha=0.7, label='Other')\n",
    "plt.title('월별 회원가입 수')\n",
    "plt.show()"
   ]
  },
  {
   "cell_type": "markdown",
   "metadata": {},
   "source": [
    "### 회원가입자 수 비교\n",
    "- 두 집단의 월별 회원가입자 수를 시각화 하였습니다.\n",
    "- 2022년 전까지는 대체로 회원가입한 유저의 대다수가 활동중인 것으로 나타납니다.\n",
    "- 하지만 2022년 이후로는 활동중인 유저와 그렇지 않은 유저의 비율이 유사하다가, 2023년 1월은 유의미한 차이로 활동중인 유저의 차이가 발생한 것으로 보입니다.\n",
    "  - 하지만 이것은 아직 최신의 데이터이기 떄문에 좀 더 예전의 데이터를 위주로 생각해야 할 것으로 판단됩니다.\n",
    "- 그래프를 보았을 때  2022년 이전에 가입한 유저들의 활동 가능성이 2022년 이후보다 높은 경향성을 보이고 있습니다.\n",
    "- 2022년을 기준으로 주문 데이터를 분리하여 비교하고자 하였으나 데이터가 존재하지 않아서 진행하지 못했습니다."
   ]
  },
  {
   "cell_type": "code",
   "execution_count": null,
   "metadata": {},
   "outputs": [],
   "source": []
  }
 ],
 "metadata": {
  "kernelspec": {
   "display_name": "fastcampus-giRWxq6z-py3.10",
   "language": "python",
   "name": "python3"
  },
  "language_info": {
   "codemirror_mode": {
    "name": "ipython",
    "version": 3
   },
   "file_extension": ".py",
   "mimetype": "text/x-python",
   "name": "python",
   "nbconvert_exporter": "python",
   "pygments_lexer": "ipython3",
   "version": "3.10.13"
  }
 },
 "nbformat": 4,
 "nbformat_minor": 2
}
