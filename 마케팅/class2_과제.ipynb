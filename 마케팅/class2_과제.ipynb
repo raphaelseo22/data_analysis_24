{
 "cells": [
  {
   "cell_type": "markdown",
   "metadata": {},
   "source": [
    "## 분석목적 설명\n",
    "- 현재는 2021년, 000님은 가상의 홈쇼핑 기반 온라인 커머스 기업 ‘다잇다'의 데이터 분석가로 해당 서비스의 데이터 분석을 진행하려고 합니다.\n",
    "- ‘다잇다'의 고객 구매 이력 데이터를 기반으로 고객의 추가 구매 유도를 하기 위한 방안을 수립하고자 합니다. "
   ]
  },
  {
   "cell_type": "code",
   "execution_count": 1,
   "metadata": {},
   "outputs": [],
   "source": [
    "import pandas as pd\n",
    "import numpy as np\n",
    "import matplotlib.pyplot as plt\n",
    "import seaborn as sns"
   ]
  },
  {
   "cell_type": "code",
   "execution_count": 2,
   "metadata": {},
   "outputs": [],
   "source": [
    "import warnings\n",
    "warnings.filterwarnings('ignore')"
   ]
  },
  {
   "cell_type": "code",
   "execution_count": 3,
   "metadata": {},
   "outputs": [],
   "source": [
    "df = pd.read_csv('/Users/raphaelseo/Documents/study/fastcampus/바이트디그리/마케팅/class02/data/online_commerce_data.csv')"
   ]
  },
  {
   "cell_type": "code",
   "execution_count": 4,
   "metadata": {},
   "outputs": [
    {
     "data": {
      "text/plain": [
       "(147311, 14)"
      ]
     },
     "execution_count": 4,
     "metadata": {},
     "output_type": "execute_result"
    }
   ],
   "source": [
    "df.shape"
   ]
  },
  {
   "cell_type": "code",
   "execution_count": 5,
   "metadata": {},
   "outputs": [
    {
     "data": {
      "text/html": [
       "<div>\n",
       "<style scoped>\n",
       "    .dataframe tbody tr th:only-of-type {\n",
       "        vertical-align: middle;\n",
       "    }\n",
       "\n",
       "    .dataframe tbody tr th {\n",
       "        vertical-align: top;\n",
       "    }\n",
       "\n",
       "    .dataframe thead th {\n",
       "        text-align: right;\n",
       "    }\n",
       "</style>\n",
       "<table border=\"1\" class=\"dataframe\">\n",
       "  <thead>\n",
       "    <tr style=\"text-align: right;\">\n",
       "      <th></th>\n",
       "      <th>customer_no</th>\n",
       "      <th>age</th>\n",
       "      <th>gender</th>\n",
       "      <th>order_no</th>\n",
       "      <th>order_date</th>\n",
       "      <th>channel</th>\n",
       "      <th>item_category</th>\n",
       "      <th>item_code</th>\n",
       "      <th>item_name</th>\n",
       "      <th>price</th>\n",
       "      <th>qty</th>\n",
       "      <th>order_amount</th>\n",
       "      <th>discount_amount</th>\n",
       "      <th>paid_amount</th>\n",
       "    </tr>\n",
       "  </thead>\n",
       "  <tbody>\n",
       "    <tr>\n",
       "      <th>0</th>\n",
       "      <td>2021059651101</td>\n",
       "      <td>68.0</td>\n",
       "      <td>9</td>\n",
       "      <td>202106072433746</td>\n",
       "      <td>2021/06/07</td>\n",
       "      <td>TV</td>\n",
       "      <td>캐쥬얼</td>\n",
       "      <td>323421750</td>\n",
       "      <td>밴딩팬츠</td>\n",
       "      <td>49900</td>\n",
       "      <td>1</td>\n",
       "      <td>49900</td>\n",
       "      <td>4990</td>\n",
       "      <td>44910</td>\n",
       "    </tr>\n",
       "    <tr>\n",
       "      <th>1</th>\n",
       "      <td>2018069800502</td>\n",
       "      <td>49.0</td>\n",
       "      <td>2</td>\n",
       "      <td>202105311957155</td>\n",
       "      <td>2021/05/31</td>\n",
       "      <td>TV</td>\n",
       "      <td>레포츠패션</td>\n",
       "      <td>323516657</td>\n",
       "      <td>트랙수트</td>\n",
       "      <td>39000</td>\n",
       "      <td>1</td>\n",
       "      <td>39000</td>\n",
       "      <td>1000</td>\n",
       "      <td>38000</td>\n",
       "    </tr>\n",
       "    <tr>\n",
       "      <th>2</th>\n",
       "      <td>2019073300103</td>\n",
       "      <td>35.0</td>\n",
       "      <td>1</td>\n",
       "      <td>202105138020462</td>\n",
       "      <td>2021/05/13</td>\n",
       "      <td>TV</td>\n",
       "      <td>뷰티</td>\n",
       "      <td>323393459</td>\n",
       "      <td>기초세트</td>\n",
       "      <td>72000</td>\n",
       "      <td>2</td>\n",
       "      <td>144000</td>\n",
       "      <td>27600</td>\n",
       "      <td>116400</td>\n",
       "    </tr>\n",
       "    <tr>\n",
       "      <th>3</th>\n",
       "      <td>2020075283364</td>\n",
       "      <td>41.0</td>\n",
       "      <td>9</td>\n",
       "      <td>202106171444319</td>\n",
       "      <td>2021/06/17</td>\n",
       "      <td>TV</td>\n",
       "      <td>건강식품</td>\n",
       "      <td>323420069</td>\n",
       "      <td>유산균</td>\n",
       "      <td>119000</td>\n",
       "      <td>2</td>\n",
       "      <td>238000</td>\n",
       "      <td>72920</td>\n",
       "      <td>165080</td>\n",
       "    </tr>\n",
       "    <tr>\n",
       "      <th>4</th>\n",
       "      <td>2020104780765</td>\n",
       "      <td>46.0</td>\n",
       "      <td>1</td>\n",
       "      <td>202106024431989</td>\n",
       "      <td>2021/06/02</td>\n",
       "      <td>TV</td>\n",
       "      <td>일반식품</td>\n",
       "      <td>321820178</td>\n",
       "      <td>건강주스</td>\n",
       "      <td>45900</td>\n",
       "      <td>1</td>\n",
       "      <td>45900</td>\n",
       "      <td>2290</td>\n",
       "      <td>43610</td>\n",
       "    </tr>\n",
       "  </tbody>\n",
       "</table>\n",
       "</div>"
      ],
      "text/plain": [
       "     customer_no   age  gender         order_no  order_date channel  \\\n",
       "0  2021059651101  68.0       9  202106072433746  2021/06/07      TV   \n",
       "1  2018069800502  49.0       2  202105311957155  2021/05/31      TV   \n",
       "2  2019073300103  35.0       1  202105138020462  2021/05/13      TV   \n",
       "3  2020075283364  41.0       9  202106171444319  2021/06/17      TV   \n",
       "4  2020104780765  46.0       1  202106024431989  2021/06/02      TV   \n",
       "\n",
       "  item_category  item_code item_name   price  qty  order_amount  \\\n",
       "0           캐쥬얼  323421750      밴딩팬츠   49900    1         49900   \n",
       "1         레포츠패션  323516657      트랙수트   39000    1         39000   \n",
       "2            뷰티  323393459      기초세트   72000    2        144000   \n",
       "3          건강식품  323420069       유산균  119000    2        238000   \n",
       "4          일반식품  321820178      건강주스   45900    1         45900   \n",
       "\n",
       "   discount_amount  paid_amount  \n",
       "0             4990        44910  \n",
       "1             1000        38000  \n",
       "2            27600       116400  \n",
       "3            72920       165080  \n",
       "4             2290        43610  "
      ]
     },
     "execution_count": 5,
     "metadata": {},
     "output_type": "execute_result"
    }
   ],
   "source": [
    "df.head()"
   ]
  },
  {
   "cell_type": "markdown",
   "metadata": {},
   "source": [
    "### 컬럼 타입 확인"
   ]
  },
  {
   "cell_type": "code",
   "execution_count": 6,
   "metadata": {},
   "outputs": [
    {
     "name": "stdout",
     "output_type": "stream",
     "text": [
      "<class 'pandas.core.frame.DataFrame'>\n",
      "RangeIndex: 147311 entries, 0 to 147310\n",
      "Data columns (total 14 columns):\n",
      " #   Column           Non-Null Count   Dtype  \n",
      "---  ------           --------------   -----  \n",
      " 0   customer_no      147311 non-null  int64  \n",
      " 1   age              147273 non-null  float64\n",
      " 2   gender           147311 non-null  int64  \n",
      " 3   order_no         147311 non-null  int64  \n",
      " 4   order_date       147311 non-null  object \n",
      " 5   channel          147311 non-null  object \n",
      " 6   item_category    147311 non-null  object \n",
      " 7   item_code        147311 non-null  int64  \n",
      " 8   item_name        147311 non-null  object \n",
      " 9   price            147311 non-null  int64  \n",
      " 10  qty              147311 non-null  int64  \n",
      " 11  order_amount     147311 non-null  int64  \n",
      " 12  discount_amount  147311 non-null  int64  \n",
      " 13  paid_amount      147311 non-null  int64  \n",
      "dtypes: float64(1), int64(9), object(4)\n",
      "memory usage: 15.7+ MB\n"
     ]
    }
   ],
   "source": [
    "df.info()"
   ]
  },
  {
   "cell_type": "markdown",
   "metadata": {},
   "source": [
    "### 결측치 확인"
   ]
  },
  {
   "cell_type": "code",
   "execution_count": 7,
   "metadata": {},
   "outputs": [
    {
     "name": "stdout",
     "output_type": "stream",
     "text": [
      "age\n"
     ]
    }
   ],
   "source": [
    "for c in df.columns:\n",
    "    t = df[c]\n",
    "    if t.isnull().sum() != 0:\n",
    "        print(c)"
   ]
  },
  {
   "cell_type": "code",
   "execution_count": 8,
   "metadata": {},
   "outputs": [
    {
     "data": {
      "text/plain": [
       "(38, 14)"
      ]
     },
     "execution_count": 8,
     "metadata": {},
     "output_type": "execute_result"
    }
   ],
   "source": [
    "df[df['age'].isnull()].shape"
   ]
  },
  {
   "cell_type": "markdown",
   "metadata": {},
   "source": [
    "#### 결측치 처리 방법\n",
    "- 나이 컬럼에서 약 38개의 결측치가 존재\n",
    "- 보유한 데이터 147311 건중 38개의 경우 매우 적은 비율이라 생각되어 결측치 삭제 진행"
   ]
  },
  {
   "cell_type": "code",
   "execution_count": 9,
   "metadata": {},
   "outputs": [],
   "source": [
    "df = df.dropna()"
   ]
  },
  {
   "cell_type": "code",
   "execution_count": 10,
   "metadata": {},
   "outputs": [
    {
     "data": {
      "text/plain": [
       "(147273, 14)"
      ]
     },
     "execution_count": 10,
     "metadata": {},
     "output_type": "execute_result"
    }
   ],
   "source": [
    "df.shape"
   ]
  },
  {
   "cell_type": "markdown",
   "metadata": {},
   "source": [
    "### 데이터 설명\n",
    "- customer_no : 고객번호 (고객 식별 값, 보통 고유함)\n",
    "  - 고객번호의 앞 여섯 자리는 고객의 가입연월을 의미함 (eg. 2019073300103 고객의 가입연월은 2019-07)\n",
    "- age : 고객 연령\n",
    "- gender : 고객 성별 (1 : 남성, 2 : 여성, 9 : 성별 알 수 없음)\n",
    "- order_no : 주문 번호\n",
    "- order_date : 주문 일자\n",
    "- channel : 주문 채널 (TV, Mobile)\n",
    "- item_category : 아이템 카테고리\n",
    "- item_code : 아이템 코드\n",
    "- item_name : 아이템명\n",
    "- price : 판매가\n",
    "- qty : 주문 수량\n",
    "- order_amount : 주문 금액\n",
    "- discount_amount : 할인 금액\n",
    "- paid_amount : 고객 결제 금액"
   ]
  },
  {
   "cell_type": "code",
   "execution_count": 11,
   "metadata": {},
   "outputs": [],
   "source": [
    "# 시간데이터 변환   \n",
    "df['order_date'] = pd.to_datetime(df['order_date'])"
   ]
  },
  {
   "cell_type": "markdown",
   "metadata": {},
   "source": [
    "## 고객과 서비스의 특징 분석"
   ]
  },
  {
   "cell_type": "markdown",
   "metadata": {},
   "source": [
    "### 성별 및 연령분포"
   ]
  },
  {
   "cell_type": "code",
   "execution_count": 12,
   "metadata": {},
   "outputs": [],
   "source": [
    "from matplotlib import rc\n",
    "rc('font', family='AppleGothic')"
   ]
  },
  {
   "cell_type": "code",
   "execution_count": 13,
   "metadata": {},
   "outputs": [],
   "source": [
    "age_labels = ['20 or under', '21-25', '26-30', '31-35', '36-40', 'over 40']"
   ]
  },
  {
   "cell_type": "code",
   "execution_count": 14,
   "metadata": {},
   "outputs": [],
   "source": [
    "bins = [0, 20, 25, 30, 35, 40, float('inf')]\n",
    "df['age_group'] = pd.cut(df['age'], bins=bins, labels=age_labels, right=False)"
   ]
  },
  {
   "cell_type": "code",
   "execution_count": 15,
   "metadata": {},
   "outputs": [
    {
     "data": {
      "text/html": [
       "<div>\n",
       "<style scoped>\n",
       "    .dataframe tbody tr th:only-of-type {\n",
       "        vertical-align: middle;\n",
       "    }\n",
       "\n",
       "    .dataframe tbody tr th {\n",
       "        vertical-align: top;\n",
       "    }\n",
       "\n",
       "    .dataframe thead th {\n",
       "        text-align: right;\n",
       "    }\n",
       "</style>\n",
       "<table border=\"1\" class=\"dataframe\">\n",
       "  <thead>\n",
       "    <tr style=\"text-align: right;\">\n",
       "      <th></th>\n",
       "      <th>customer_no</th>\n",
       "      <th>age</th>\n",
       "      <th>gender</th>\n",
       "      <th>order_no</th>\n",
       "      <th>order_date</th>\n",
       "      <th>channel</th>\n",
       "      <th>item_category</th>\n",
       "      <th>item_code</th>\n",
       "      <th>item_name</th>\n",
       "      <th>price</th>\n",
       "      <th>qty</th>\n",
       "      <th>order_amount</th>\n",
       "      <th>discount_amount</th>\n",
       "      <th>paid_amount</th>\n",
       "      <th>age_group</th>\n",
       "    </tr>\n",
       "  </thead>\n",
       "  <tbody>\n",
       "    <tr>\n",
       "      <th>0</th>\n",
       "      <td>2021059651101</td>\n",
       "      <td>68.0</td>\n",
       "      <td>9</td>\n",
       "      <td>202106072433746</td>\n",
       "      <td>2021-06-07</td>\n",
       "      <td>TV</td>\n",
       "      <td>캐쥬얼</td>\n",
       "      <td>323421750</td>\n",
       "      <td>밴딩팬츠</td>\n",
       "      <td>49900</td>\n",
       "      <td>1</td>\n",
       "      <td>49900</td>\n",
       "      <td>4990</td>\n",
       "      <td>44910</td>\n",
       "      <td>over 40</td>\n",
       "    </tr>\n",
       "    <tr>\n",
       "      <th>1</th>\n",
       "      <td>2018069800502</td>\n",
       "      <td>49.0</td>\n",
       "      <td>2</td>\n",
       "      <td>202105311957155</td>\n",
       "      <td>2021-05-31</td>\n",
       "      <td>TV</td>\n",
       "      <td>레포츠패션</td>\n",
       "      <td>323516657</td>\n",
       "      <td>트랙수트</td>\n",
       "      <td>39000</td>\n",
       "      <td>1</td>\n",
       "      <td>39000</td>\n",
       "      <td>1000</td>\n",
       "      <td>38000</td>\n",
       "      <td>over 40</td>\n",
       "    </tr>\n",
       "    <tr>\n",
       "      <th>2</th>\n",
       "      <td>2019073300103</td>\n",
       "      <td>35.0</td>\n",
       "      <td>1</td>\n",
       "      <td>202105138020462</td>\n",
       "      <td>2021-05-13</td>\n",
       "      <td>TV</td>\n",
       "      <td>뷰티</td>\n",
       "      <td>323393459</td>\n",
       "      <td>기초세트</td>\n",
       "      <td>72000</td>\n",
       "      <td>2</td>\n",
       "      <td>144000</td>\n",
       "      <td>27600</td>\n",
       "      <td>116400</td>\n",
       "      <td>36-40</td>\n",
       "    </tr>\n",
       "    <tr>\n",
       "      <th>3</th>\n",
       "      <td>2020075283364</td>\n",
       "      <td>41.0</td>\n",
       "      <td>9</td>\n",
       "      <td>202106171444319</td>\n",
       "      <td>2021-06-17</td>\n",
       "      <td>TV</td>\n",
       "      <td>건강식품</td>\n",
       "      <td>323420069</td>\n",
       "      <td>유산균</td>\n",
       "      <td>119000</td>\n",
       "      <td>2</td>\n",
       "      <td>238000</td>\n",
       "      <td>72920</td>\n",
       "      <td>165080</td>\n",
       "      <td>over 40</td>\n",
       "    </tr>\n",
       "    <tr>\n",
       "      <th>4</th>\n",
       "      <td>2020104780765</td>\n",
       "      <td>46.0</td>\n",
       "      <td>1</td>\n",
       "      <td>202106024431989</td>\n",
       "      <td>2021-06-02</td>\n",
       "      <td>TV</td>\n",
       "      <td>일반식품</td>\n",
       "      <td>321820178</td>\n",
       "      <td>건강주스</td>\n",
       "      <td>45900</td>\n",
       "      <td>1</td>\n",
       "      <td>45900</td>\n",
       "      <td>2290</td>\n",
       "      <td>43610</td>\n",
       "      <td>over 40</td>\n",
       "    </tr>\n",
       "  </tbody>\n",
       "</table>\n",
       "</div>"
      ],
      "text/plain": [
       "     customer_no   age  gender         order_no order_date channel  \\\n",
       "0  2021059651101  68.0       9  202106072433746 2021-06-07      TV   \n",
       "1  2018069800502  49.0       2  202105311957155 2021-05-31      TV   \n",
       "2  2019073300103  35.0       1  202105138020462 2021-05-13      TV   \n",
       "3  2020075283364  41.0       9  202106171444319 2021-06-17      TV   \n",
       "4  2020104780765  46.0       1  202106024431989 2021-06-02      TV   \n",
       "\n",
       "  item_category  item_code item_name   price  qty  order_amount  \\\n",
       "0           캐쥬얼  323421750      밴딩팬츠   49900    1         49900   \n",
       "1         레포츠패션  323516657      트랙수트   39000    1         39000   \n",
       "2            뷰티  323393459      기초세트   72000    2        144000   \n",
       "3          건강식품  323420069       유산균  119000    2        238000   \n",
       "4          일반식품  321820178      건강주스   45900    1         45900   \n",
       "\n",
       "   discount_amount  paid_amount age_group  \n",
       "0             4990        44910   over 40  \n",
       "1             1000        38000   over 40  \n",
       "2            27600       116400     36-40  \n",
       "3            72920       165080   over 40  \n",
       "4             2290        43610   over 40  "
      ]
     },
     "execution_count": 15,
     "metadata": {},
     "output_type": "execute_result"
    }
   ],
   "source": [
    "df.head()"
   ]
  },
  {
   "cell_type": "code",
   "execution_count": 16,
   "metadata": {},
   "outputs": [
    {
     "data": {
      "image/png": "[encoded data removed]",
      "text/plain": [
       "<Figure size 640x480 with 1 Axes>"
      ]
     },
     "metadata": {},
     "output_type": "display_data"
    }
   ],
   "source": [
    "value_counts = df['age_group'].value_counts(normalize=True)\n",
    "ratio = value_counts.values\n",
    "labels = value_counts.index\n",
    "plt.pie(ratio, autopct='%.1f%%', startangle=260, counterclock=False)\n",
    "plt.title('나이분포')\n",
    "plt.legend(labels, loc='upper right')\n",
    "plt.show()"
   ]
  },
  {
   "cell_type": "markdown",
   "metadata": {},
   "source": [
    "#### 피드백\n",
    "- 나이가 하나로 치중되어있음\n",
    "- 히스토그램을 활용하여 나이의 분포를 확인한 후 그룹화를 진행하는 것이 좋음"
   ]
  },
  {
   "cell_type": "code",
   "execution_count": 17,
   "metadata": {},
   "outputs": [
    {
     "name": "stdout",
     "output_type": "stream",
     "text": [
      "age_group\n",
      "over 40        0.720329\n",
      "36-40          0.141900\n",
      "31-35          0.083369\n",
      "26-30          0.043762\n",
      "21-25          0.009010\n",
      "20 or under    0.001630\n",
      "Name: proportion, dtype: float64\n"
     ]
    }
   ],
   "source": [
    "print(value_counts)"
   ]
  },
  {
   "cell_type": "code",
   "execution_count": 19,
   "metadata": {},
   "outputs": [
    {
     "data": {
      "image/png": "[encoded data removed]",
      "text/plain": [
       "<Figure size 640x480 with 1 Axes>"
      ]
     },
     "metadata": {},
     "output_type": "display_data"
    }
   ],
   "source": [
    "value_counts = df['gender'].value_counts(normalize=True)\n",
    "n_labels = value_counts.index\n",
    "ratio = value_counts.values\n",
    "label_dic = {1:'남성', 2:'여성', 9:'알 수 없음'}\n",
    "labels = [label_dic[i] for i in n_labels]\n",
    "plt.pie(ratio, autopct='%.1f%%', startangle=260, counterclock=False)\n",
    "plt.title('성별분포')\n",
    "plt.legend(labels, loc='upper right')\n",
    "plt.show()"
   ]
  },
  {
   "cell_type": "markdown",
   "metadata": {},
   "source": [
    "#### 성별과 연령 분포 시각화 결과\n",
    "- 대부분의 고객은 여성이며 41세 이상의 고객이 가장 많았습니다.\n",
    "- 20세 이하의 경우 전채 고객의 약 0.16% 정도를 차지하며 가장 적은 고객수를 갖고있습니다."
   ]
  },
  {
   "cell_type": "markdown",
   "metadata": {},
   "source": [
    "### 고객 타입별 평균 구매회수와 총 구매금액 비교"
   ]
  },
  {
   "cell_type": "code",
   "execution_count": 21,
   "metadata": {},
   "outputs": [
    {
     "data": {
      "text/html": [
       "<div>\n",
       "<style scoped>\n",
       "    .dataframe tbody tr th:only-of-type {\n",
       "        vertical-align: middle;\n",
       "    }\n",
       "\n",
       "    .dataframe tbody tr th {\n",
       "        vertical-align: top;\n",
       "    }\n",
       "\n",
       "    .dataframe thead th {\n",
       "        text-align: right;\n",
       "    }\n",
       "</style>\n",
       "<table border=\"1\" class=\"dataframe\">\n",
       "  <thead>\n",
       "    <tr style=\"text-align: right;\">\n",
       "      <th></th>\n",
       "      <th>customer_no</th>\n",
       "      <th>age</th>\n",
       "      <th>gender</th>\n",
       "      <th>order_no</th>\n",
       "      <th>order_date</th>\n",
       "      <th>channel</th>\n",
       "      <th>item_category</th>\n",
       "      <th>item_code</th>\n",
       "      <th>item_name</th>\n",
       "      <th>price</th>\n",
       "      <th>qty</th>\n",
       "      <th>order_amount</th>\n",
       "      <th>discount_amount</th>\n",
       "      <th>paid_amount</th>\n",
       "      <th>age_group</th>\n",
       "    </tr>\n",
       "  </thead>\n",
       "  <tbody>\n",
       "    <tr>\n",
       "      <th>0</th>\n",
       "      <td>2021059651101</td>\n",
       "      <td>68.0</td>\n",
       "      <td>9</td>\n",
       "      <td>202106072433746</td>\n",
       "      <td>2021-06-07</td>\n",
       "      <td>TV</td>\n",
       "      <td>캐쥬얼</td>\n",
       "      <td>323421750</td>\n",
       "      <td>밴딩팬츠</td>\n",
       "      <td>49900</td>\n",
       "      <td>1</td>\n",
       "      <td>49900</td>\n",
       "      <td>4990</td>\n",
       "      <td>44910</td>\n",
       "      <td>over 40</td>\n",
       "    </tr>\n",
       "    <tr>\n",
       "      <th>1</th>\n",
       "      <td>2018069800502</td>\n",
       "      <td>49.0</td>\n",
       "      <td>2</td>\n",
       "      <td>202105311957155</td>\n",
       "      <td>2021-05-31</td>\n",
       "      <td>TV</td>\n",
       "      <td>레포츠패션</td>\n",
       "      <td>323516657</td>\n",
       "      <td>트랙수트</td>\n",
       "      <td>39000</td>\n",
       "      <td>1</td>\n",
       "      <td>39000</td>\n",
       "      <td>1000</td>\n",
       "      <td>38000</td>\n",
       "      <td>over 40</td>\n",
       "    </tr>\n",
       "    <tr>\n",
       "      <th>2</th>\n",
       "      <td>2019073300103</td>\n",
       "      <td>35.0</td>\n",
       "      <td>1</td>\n",
       "      <td>202105138020462</td>\n",
       "      <td>2021-05-13</td>\n",
       "      <td>TV</td>\n",
       "      <td>뷰티</td>\n",
       "      <td>323393459</td>\n",
       "      <td>기초세트</td>\n",
       "      <td>72000</td>\n",
       "      <td>2</td>\n",
       "      <td>144000</td>\n",
       "      <td>27600</td>\n",
       "      <td>116400</td>\n",
       "      <td>36-40</td>\n",
       "    </tr>\n",
       "    <tr>\n",
       "      <th>3</th>\n",
       "      <td>2020075283364</td>\n",
       "      <td>41.0</td>\n",
       "      <td>9</td>\n",
       "      <td>202106171444319</td>\n",
       "      <td>2021-06-17</td>\n",
       "      <td>TV</td>\n",
       "      <td>건강식품</td>\n",
       "      <td>323420069</td>\n",
       "      <td>유산균</td>\n",
       "      <td>119000</td>\n",
       "      <td>2</td>\n",
       "      <td>238000</td>\n",
       "      <td>72920</td>\n",
       "      <td>165080</td>\n",
       "      <td>over 40</td>\n",
       "    </tr>\n",
       "    <tr>\n",
       "      <th>4</th>\n",
       "      <td>2020104780765</td>\n",
       "      <td>46.0</td>\n",
       "      <td>1</td>\n",
       "      <td>202106024431989</td>\n",
       "      <td>2021-06-02</td>\n",
       "      <td>TV</td>\n",
       "      <td>일반식품</td>\n",
       "      <td>321820178</td>\n",
       "      <td>건강주스</td>\n",
       "      <td>45900</td>\n",
       "      <td>1</td>\n",
       "      <td>45900</td>\n",
       "      <td>2290</td>\n",
       "      <td>43610</td>\n",
       "      <td>over 40</td>\n",
       "    </tr>\n",
       "  </tbody>\n",
       "</table>\n",
       "</div>"
      ],
      "text/plain": [
       "     customer_no   age  gender         order_no order_date channel  \\\n",
       "0  2021059651101  68.0       9  202106072433746 2021-06-07      TV   \n",
       "1  2018069800502  49.0       2  202105311957155 2021-05-31      TV   \n",
       "2  2019073300103  35.0       1  202105138020462 2021-05-13      TV   \n",
       "3  2020075283364  41.0       9  202106171444319 2021-06-17      TV   \n",
       "4  2020104780765  46.0       1  202106024431989 2021-06-02      TV   \n",
       "\n",
       "  item_category  item_code item_name   price  qty  order_amount  \\\n",
       "0           캐쥬얼  323421750      밴딩팬츠   49900    1         49900   \n",
       "1         레포츠패션  323516657      트랙수트   39000    1         39000   \n",
       "2            뷰티  323393459      기초세트   72000    2        144000   \n",
       "3          건강식품  323420069       유산균  119000    2        238000   \n",
       "4          일반식품  321820178      건강주스   45900    1         45900   \n",
       "\n",
       "   discount_amount  paid_amount age_group  \n",
       "0             4990        44910   over 40  \n",
       "1             1000        38000   over 40  \n",
       "2            27600       116400     36-40  \n",
       "3            72920       165080   over 40  \n",
       "4             2290        43610   over 40  "
      ]
     },
     "execution_count": 21,
     "metadata": {},
     "output_type": "execute_result"
    }
   ],
   "source": [
    "df.head()"
   ]
  },
  {
   "cell_type": "code",
   "execution_count": 22,
   "metadata": {},
   "outputs": [
    {
     "data": {
      "text/html": [
       "<div>\n",
       "<style scoped>\n",
       "    .dataframe tbody tr th:only-of-type {\n",
       "        vertical-align: middle;\n",
       "    }\n",
       "\n",
       "    .dataframe tbody tr th {\n",
       "        vertical-align: top;\n",
       "    }\n",
       "\n",
       "    .dataframe thead th {\n",
       "        text-align: right;\n",
       "    }\n",
       "</style>\n",
       "<table border=\"1\" class=\"dataframe\">\n",
       "  <thead>\n",
       "    <tr style=\"text-align: right;\">\n",
       "      <th></th>\n",
       "      <th>gender</th>\n",
       "      <th>order_no</th>\n",
       "    </tr>\n",
       "  </thead>\n",
       "  <tbody>\n",
       "    <tr>\n",
       "      <th>1</th>\n",
       "      <td>2</td>\n",
       "      <td>79432</td>\n",
       "    </tr>\n",
       "    <tr>\n",
       "      <th>0</th>\n",
       "      <td>1</td>\n",
       "      <td>42527</td>\n",
       "    </tr>\n",
       "    <tr>\n",
       "      <th>2</th>\n",
       "      <td>9</td>\n",
       "      <td>25314</td>\n",
       "    </tr>\n",
       "  </tbody>\n",
       "</table>\n",
       "</div>"
      ],
      "text/plain": [
       "   gender  order_no\n",
       "1       2     79432\n",
       "0       1     42527\n",
       "2       9     25314"
      ]
     },
     "execution_count": 22,
     "metadata": {},
     "output_type": "execute_result"
    }
   ],
   "source": [
    "df.groupby('gender')['order_no'].count().reset_index().sort_values('order_no', axis=0, ascending=False)"
   ]
  },
  {
   "cell_type": "code",
   "execution_count": 23,
   "metadata": {},
   "outputs": [
    {
     "data": {
      "text/html": [
       "<div>\n",
       "<style scoped>\n",
       "    .dataframe tbody tr th:only-of-type {\n",
       "        vertical-align: middle;\n",
       "    }\n",
       "\n",
       "    .dataframe tbody tr th {\n",
       "        vertical-align: top;\n",
       "    }\n",
       "\n",
       "    .dataframe thead th {\n",
       "        text-align: right;\n",
       "    }\n",
       "</style>\n",
       "<table border=\"1\" class=\"dataframe\">\n",
       "  <thead>\n",
       "    <tr style=\"text-align: right;\">\n",
       "      <th></th>\n",
       "      <th>gender</th>\n",
       "      <th>paid_amount</th>\n",
       "    </tr>\n",
       "  </thead>\n",
       "  <tbody>\n",
       "    <tr>\n",
       "      <th>2</th>\n",
       "      <td>9</td>\n",
       "      <td>147712.242633</td>\n",
       "    </tr>\n",
       "    <tr>\n",
       "      <th>0</th>\n",
       "      <td>1</td>\n",
       "      <td>139484.860206</td>\n",
       "    </tr>\n",
       "    <tr>\n",
       "      <th>1</th>\n",
       "      <td>2</td>\n",
       "      <td>83656.895458</td>\n",
       "    </tr>\n",
       "  </tbody>\n",
       "</table>\n",
       "</div>"
      ],
      "text/plain": [
       "   gender    paid_amount\n",
       "2       9  147712.242633\n",
       "0       1  139484.860206\n",
       "1       2   83656.895458"
      ]
     },
     "execution_count": 23,
     "metadata": {},
     "output_type": "execute_result"
    }
   ],
   "source": [
    "df.groupby('gender')['paid_amount'].mean().reset_index().sort_values('paid_amount', axis=0, ascending=False)"
   ]
  },
  {
   "cell_type": "code",
   "execution_count": 24,
   "metadata": {},
   "outputs": [
    {
     "data": {
      "text/html": [
       "<div>\n",
       "<style scoped>\n",
       "    .dataframe tbody tr th:only-of-type {\n",
       "        vertical-align: middle;\n",
       "    }\n",
       "\n",
       "    .dataframe tbody tr th {\n",
       "        vertical-align: top;\n",
       "    }\n",
       "\n",
       "    .dataframe thead th {\n",
       "        text-align: right;\n",
       "    }\n",
       "</style>\n",
       "<table border=\"1\" class=\"dataframe\">\n",
       "  <thead>\n",
       "    <tr style=\"text-align: right;\">\n",
       "      <th></th>\n",
       "      <th>gender</th>\n",
       "      <th>order_amount</th>\n",
       "    </tr>\n",
       "  </thead>\n",
       "  <tbody>\n",
       "    <tr>\n",
       "      <th>2</th>\n",
       "      <td>9</td>\n",
       "      <td>161082.427510</td>\n",
       "    </tr>\n",
       "    <tr>\n",
       "      <th>0</th>\n",
       "      <td>1</td>\n",
       "      <td>157084.950032</td>\n",
       "    </tr>\n",
       "    <tr>\n",
       "      <th>1</th>\n",
       "      <td>2</td>\n",
       "      <td>91924.308213</td>\n",
       "    </tr>\n",
       "  </tbody>\n",
       "</table>\n",
       "</div>"
      ],
      "text/plain": [
       "   gender   order_amount\n",
       "2       9  161082.427510\n",
       "0       1  157084.950032\n",
       "1       2   91924.308213"
      ]
     },
     "execution_count": 24,
     "metadata": {},
     "output_type": "execute_result"
    }
   ],
   "source": [
    "df.groupby('gender')['order_amount'].mean().reset_index().sort_values('order_amount', axis=0, ascending=False)"
   ]
  },
  {
   "cell_type": "code",
   "execution_count": 25,
   "metadata": {},
   "outputs": [
    {
     "data": {
      "text/html": [
       "<div>\n",
       "<style scoped>\n",
       "    .dataframe tbody tr th:only-of-type {\n",
       "        vertical-align: middle;\n",
       "    }\n",
       "\n",
       "    .dataframe tbody tr th {\n",
       "        vertical-align: top;\n",
       "    }\n",
       "\n",
       "    .dataframe thead th {\n",
       "        text-align: right;\n",
       "    }\n",
       "</style>\n",
       "<table border=\"1\" class=\"dataframe\">\n",
       "  <thead>\n",
       "    <tr style=\"text-align: right;\">\n",
       "      <th></th>\n",
       "      <th>gender</th>\n",
       "      <th>discount_amount</th>\n",
       "    </tr>\n",
       "  </thead>\n",
       "  <tbody>\n",
       "    <tr>\n",
       "      <th>0</th>\n",
       "      <td>1</td>\n",
       "      <td>17600.089825</td>\n",
       "    </tr>\n",
       "    <tr>\n",
       "      <th>2</th>\n",
       "      <td>9</td>\n",
       "      <td>13370.184878</td>\n",
       "    </tr>\n",
       "    <tr>\n",
       "      <th>1</th>\n",
       "      <td>2</td>\n",
       "      <td>8267.412756</td>\n",
       "    </tr>\n",
       "  </tbody>\n",
       "</table>\n",
       "</div>"
      ],
      "text/plain": [
       "   gender  discount_amount\n",
       "0       1     17600.089825\n",
       "2       9     13370.184878\n",
       "1       2      8267.412756"
      ]
     },
     "execution_count": 25,
     "metadata": {},
     "output_type": "execute_result"
    }
   ],
   "source": [
    "df.groupby('gender')['discount_amount'].mean().reset_index().sort_values('discount_amount', axis=0, ascending=False)"
   ]
  },
  {
   "cell_type": "markdown",
   "metadata": {},
   "source": [
    "#### 고객의 성별별 구매 금액 비교\n",
    "- 저희 홈쇼핑의 고객의 대부분이 여성이기 때문에 절대적인 주문건수는 여성이 가장 많았습니다.\n",
    "- 하지만 평균 구매 금액을 비교해본 결과는 결제 금액과 구매 금액 모두 성별 알 수 없음, 남성, 여성의 순으로 높게 나타났습니다.\n",
    "- 할인 금액의 경우에는 남성, 알 수 없음, 여성의 순으로 높게 나타났습니다."
   ]
  },
  {
   "cell_type": "code",
   "execution_count": 26,
   "metadata": {},
   "outputs": [
    {
     "data": {
      "text/html": [
       "<div>\n",
       "<style scoped>\n",
       "    .dataframe tbody tr th:only-of-type {\n",
       "        vertical-align: middle;\n",
       "    }\n",
       "\n",
       "    .dataframe tbody tr th {\n",
       "        vertical-align: top;\n",
       "    }\n",
       "\n",
       "    .dataframe thead th {\n",
       "        text-align: right;\n",
       "    }\n",
       "</style>\n",
       "<table border=\"1\" class=\"dataframe\">\n",
       "  <thead>\n",
       "    <tr style=\"text-align: right;\">\n",
       "      <th></th>\n",
       "      <th>age_group</th>\n",
       "      <th>order_no</th>\n",
       "    </tr>\n",
       "  </thead>\n",
       "  <tbody>\n",
       "    <tr>\n",
       "      <th>5</th>\n",
       "      <td>over 40</td>\n",
       "      <td>106085</td>\n",
       "    </tr>\n",
       "    <tr>\n",
       "      <th>4</th>\n",
       "      <td>36-40</td>\n",
       "      <td>20898</td>\n",
       "    </tr>\n",
       "    <tr>\n",
       "      <th>3</th>\n",
       "      <td>31-35</td>\n",
       "      <td>12278</td>\n",
       "    </tr>\n",
       "    <tr>\n",
       "      <th>2</th>\n",
       "      <td>26-30</td>\n",
       "      <td>6445</td>\n",
       "    </tr>\n",
       "    <tr>\n",
       "      <th>1</th>\n",
       "      <td>21-25</td>\n",
       "      <td>1327</td>\n",
       "    </tr>\n",
       "    <tr>\n",
       "      <th>0</th>\n",
       "      <td>20 or under</td>\n",
       "      <td>240</td>\n",
       "    </tr>\n",
       "  </tbody>\n",
       "</table>\n",
       "</div>"
      ],
      "text/plain": [
       "     age_group  order_no\n",
       "5      over 40    106085\n",
       "4        36-40     20898\n",
       "3        31-35     12278\n",
       "2        26-30      6445\n",
       "1        21-25      1327\n",
       "0  20 or under       240"
      ]
     },
     "execution_count": 26,
     "metadata": {},
     "output_type": "execute_result"
    }
   ],
   "source": [
    "df.groupby('age_group')['order_no'].count().reset_index().sort_values('order_no', axis=0, ascending=False)"
   ]
  },
  {
   "cell_type": "code",
   "execution_count": 27,
   "metadata": {},
   "outputs": [
    {
     "data": {
      "text/html": [
       "<div>\n",
       "<style scoped>\n",
       "    .dataframe tbody tr th:only-of-type {\n",
       "        vertical-align: middle;\n",
       "    }\n",
       "\n",
       "    .dataframe tbody tr th {\n",
       "        vertical-align: top;\n",
       "    }\n",
       "\n",
       "    .dataframe thead th {\n",
       "        text-align: right;\n",
       "    }\n",
       "</style>\n",
       "<table border=\"1\" class=\"dataframe\">\n",
       "  <thead>\n",
       "    <tr style=\"text-align: right;\">\n",
       "      <th></th>\n",
       "      <th>age_group</th>\n",
       "      <th>paid_amount</th>\n",
       "    </tr>\n",
       "  </thead>\n",
       "  <tbody>\n",
       "    <tr>\n",
       "      <th>2</th>\n",
       "      <td>26-30</td>\n",
       "      <td>201397.321955</td>\n",
       "    </tr>\n",
       "    <tr>\n",
       "      <th>1</th>\n",
       "      <td>21-25</td>\n",
       "      <td>196295.267521</td>\n",
       "    </tr>\n",
       "    <tr>\n",
       "      <th>0</th>\n",
       "      <td>20 or under</td>\n",
       "      <td>170769.666667</td>\n",
       "    </tr>\n",
       "    <tr>\n",
       "      <th>4</th>\n",
       "      <td>36-40</td>\n",
       "      <td>140507.054264</td>\n",
       "    </tr>\n",
       "    <tr>\n",
       "      <th>3</th>\n",
       "      <td>31-35</td>\n",
       "      <td>108854.763805</td>\n",
       "    </tr>\n",
       "    <tr>\n",
       "      <th>5</th>\n",
       "      <td>over 40</td>\n",
       "      <td>98447.333648</td>\n",
       "    </tr>\n",
       "  </tbody>\n",
       "</table>\n",
       "</div>"
      ],
      "text/plain": [
       "     age_group    paid_amount\n",
       "2        26-30  201397.321955\n",
       "1        21-25  196295.267521\n",
       "0  20 or under  170769.666667\n",
       "4        36-40  140507.054264\n",
       "3        31-35  108854.763805\n",
       "5      over 40   98447.333648"
      ]
     },
     "execution_count": 27,
     "metadata": {},
     "output_type": "execute_result"
    }
   ],
   "source": [
    "df.groupby('age_group')['paid_amount'].mean().reset_index().sort_values('paid_amount', axis=0, ascending=False)"
   ]
  },
  {
   "cell_type": "code",
   "execution_count": 28,
   "metadata": {},
   "outputs": [
    {
     "data": {
      "text/html": [
       "<div>\n",
       "<style scoped>\n",
       "    .dataframe tbody tr th:only-of-type {\n",
       "        vertical-align: middle;\n",
       "    }\n",
       "\n",
       "    .dataframe tbody tr th {\n",
       "        vertical-align: top;\n",
       "    }\n",
       "\n",
       "    .dataframe thead th {\n",
       "        text-align: right;\n",
       "    }\n",
       "</style>\n",
       "<table border=\"1\" class=\"dataframe\">\n",
       "  <thead>\n",
       "    <tr style=\"text-align: right;\">\n",
       "      <th></th>\n",
       "      <th>age_group</th>\n",
       "      <th>order_amount</th>\n",
       "    </tr>\n",
       "  </thead>\n",
       "  <tbody>\n",
       "    <tr>\n",
       "      <th>2</th>\n",
       "      <td>26-30</td>\n",
       "      <td>225157.373157</td>\n",
       "    </tr>\n",
       "    <tr>\n",
       "      <th>1</th>\n",
       "      <td>21-25</td>\n",
       "      <td>223416.578749</td>\n",
       "    </tr>\n",
       "    <tr>\n",
       "      <th>0</th>\n",
       "      <td>20 or under</td>\n",
       "      <td>198232.458333</td>\n",
       "    </tr>\n",
       "    <tr>\n",
       "      <th>4</th>\n",
       "      <td>36-40</td>\n",
       "      <td>157788.071586</td>\n",
       "    </tr>\n",
       "    <tr>\n",
       "      <th>3</th>\n",
       "      <td>31-35</td>\n",
       "      <td>123546.329207</td>\n",
       "    </tr>\n",
       "    <tr>\n",
       "      <th>5</th>\n",
       "      <td>over 40</td>\n",
       "      <td>107933.997078</td>\n",
       "    </tr>\n",
       "  </tbody>\n",
       "</table>\n",
       "</div>"
      ],
      "text/plain": [
       "     age_group   order_amount\n",
       "2        26-30  225157.373157\n",
       "1        21-25  223416.578749\n",
       "0  20 or under  198232.458333\n",
       "4        36-40  157788.071586\n",
       "3        31-35  123546.329207\n",
       "5      over 40  107933.997078"
      ]
     },
     "execution_count": 28,
     "metadata": {},
     "output_type": "execute_result"
    }
   ],
   "source": [
    "df.groupby('age_group')['order_amount'].mean().reset_index().sort_values('order_amount', axis=0, ascending=False)"
   ]
  },
  {
   "cell_type": "code",
   "execution_count": 29,
   "metadata": {},
   "outputs": [
    {
     "data": {
      "text/html": [
       "<div>\n",
       "<style scoped>\n",
       "    .dataframe tbody tr th:only-of-type {\n",
       "        vertical-align: middle;\n",
       "    }\n",
       "\n",
       "    .dataframe tbody tr th {\n",
       "        vertical-align: top;\n",
       "    }\n",
       "\n",
       "    .dataframe thead th {\n",
       "        text-align: right;\n",
       "    }\n",
       "</style>\n",
       "<table border=\"1\" class=\"dataframe\">\n",
       "  <thead>\n",
       "    <tr style=\"text-align: right;\">\n",
       "      <th></th>\n",
       "      <th>age_group</th>\n",
       "      <th>discount_amount</th>\n",
       "    </tr>\n",
       "  </thead>\n",
       "  <tbody>\n",
       "    <tr>\n",
       "      <th>0</th>\n",
       "      <td>20 or under</td>\n",
       "      <td>27462.791667</td>\n",
       "    </tr>\n",
       "    <tr>\n",
       "      <th>1</th>\n",
       "      <td>21-25</td>\n",
       "      <td>27121.311228</td>\n",
       "    </tr>\n",
       "    <tr>\n",
       "      <th>2</th>\n",
       "      <td>26-30</td>\n",
       "      <td>23760.051202</td>\n",
       "    </tr>\n",
       "    <tr>\n",
       "      <th>4</th>\n",
       "      <td>36-40</td>\n",
       "      <td>17281.017322</td>\n",
       "    </tr>\n",
       "    <tr>\n",
       "      <th>3</th>\n",
       "      <td>31-35</td>\n",
       "      <td>14691.565402</td>\n",
       "    </tr>\n",
       "    <tr>\n",
       "      <th>5</th>\n",
       "      <td>over 40</td>\n",
       "      <td>9486.663430</td>\n",
       "    </tr>\n",
       "  </tbody>\n",
       "</table>\n",
       "</div>"
      ],
      "text/plain": [
       "     age_group  discount_amount\n",
       "0  20 or under     27462.791667\n",
       "1        21-25     27121.311228\n",
       "2        26-30     23760.051202\n",
       "4        36-40     17281.017322\n",
       "3        31-35     14691.565402\n",
       "5      over 40      9486.663430"
      ]
     },
     "execution_count": 29,
     "metadata": {},
     "output_type": "execute_result"
    }
   ],
   "source": [
    "df.groupby('age_group')['discount_amount'].mean().reset_index().sort_values('discount_amount', axis=0, ascending=False)"
   ]
  },
  {
   "cell_type": "markdown",
   "metadata": {},
   "source": [
    "#### 고객의 나이대별 구매 금액 비교\n",
    "- 성별비교와 마찬가지로 고객의 많은 비중을 차지하고 있는 41세 이상의 고객의 주문 횟수가 많았습니다.\n",
    "- 하지만 평균적인 구매 금액과 결제 금액의 경우에는 26세에서 30세 그룹이 가장 많은 평균 금액을 보여주었습니다.\n",
    "- 할인 금액의 경우에는 나이가 어릴수록 더 높은 경향성을 보여주었습니다."
   ]
  },
  {
   "cell_type": "markdown",
   "metadata": {},
   "source": [
    "### 고객의 타입별 선호 카테고리"
   ]
  },
  {
   "cell_type": "code",
   "execution_count": 30,
   "metadata": {},
   "outputs": [],
   "source": [
    "m_cate = df[df['gender']==1]['item_category'].value_counts().reset_index()\n",
    "f_cate = df[df['gender']==2]['item_category'].value_counts().reset_index()\n",
    "u_cate = df[df['gender']==9]['item_category'].value_counts().reset_index()"
   ]
  },
  {
   "cell_type": "code",
   "execution_count": 31,
   "metadata": {},
   "outputs": [],
   "source": [
    "cate = df['item_category'].value_counts()"
   ]
  },
  {
   "cell_type": "code",
   "execution_count": 32,
   "metadata": {},
   "outputs": [
    {
     "data": {
      "image/png": "[encoded data removed]",
      "text/plain": [
       "<Figure size 640x480 with 1 Axes>"
      ]
     },
     "metadata": {},
     "output_type": "display_data"
    }
   ],
   "source": [
    "sns.barplot(data=f_cate, x='count', y='item_category', label='female', alpha=0.5)\n",
    "sns.barplot(data=m_cate, x='count', y='item_category', label='male', alpha=0.5)\n",
    "sns.barplot(data=u_cate, x='count', y='item_category', label='unknown', alpha=0.5)\n",
    "plt.legend(loc='lower right')\n",
    "plt.title('상품 카테고리별 구매횟수')\n",
    "plt.show()"
   ]
  },
  {
   "cell_type": "code",
   "execution_count": 33,
   "metadata": {},
   "outputs": [],
   "source": [
    "m_cate = df[df['gender']==1]['item_category'].value_counts(normalize=True)\n",
    "f_cate = df[df['gender']==2]['item_category'].value_counts(normalize=True)\n",
    "u_cate = df[df['gender']==9]['item_category'].value_counts(normalize=True)"
   ]
  },
  {
   "cell_type": "code",
   "execution_count": 34,
   "metadata": {},
   "outputs": [
    {
     "name": "stdout",
     "output_type": "stream",
     "text": [
      "item_category\n",
      "일반식품       0.488090\n",
      "대형가전       0.067886\n",
      "언더웨어       0.067839\n",
      "건강식품       0.059092\n",
      "레포츠패션      0.058175\n",
      "뷰티         0.057587\n",
      "생활가전       0.051991\n",
      "생활용품       0.044395\n",
      "패션잡화       0.030498\n",
      "주방가전       0.016648\n",
      "캐쥬얼        0.013968\n",
      "여성의류       0.011992\n",
      "상품권        0.010276\n",
      "주방용품       0.007195\n",
      "레저/스포츠     0.005361\n",
      "키즈/유아동     0.003316\n",
      "가구/인테리어    0.002775\n",
      "남성의류       0.001670\n",
      "침구         0.000988\n",
      "반려용품       0.000259\n",
      "Name: proportion, dtype: float64\n"
     ]
    }
   ],
   "source": [
    "print(m_cate)"
   ]
  },
  {
   "cell_type": "code",
   "execution_count": 35,
   "metadata": {},
   "outputs": [
    {
     "name": "stdout",
     "output_type": "stream",
     "text": [
      "item_category\n",
      "일반식품       0.485661\n",
      "레포츠패션      0.084840\n",
      "생활용품       0.070891\n",
      "언더웨어       0.060404\n",
      "패션잡화       0.052045\n",
      "여성의류       0.050924\n",
      "건강식품       0.039480\n",
      "생활가전       0.031914\n",
      "캐쥬얼        0.031423\n",
      "대형가전       0.026224\n",
      "뷰티         0.023580\n",
      "주방용품       0.015900\n",
      "주방가전       0.011129\n",
      "키즈/유아동     0.004897\n",
      "가구/인테리어    0.003563\n",
      "레저/스포츠     0.003349\n",
      "침구         0.001964\n",
      "남성의류       0.000881\n",
      "반려용품       0.000667\n",
      "상품권        0.000239\n",
      "여행         0.000025\n",
      "Name: proportion, dtype: float64\n"
     ]
    }
   ],
   "source": [
    "print(f_cate)"
   ]
  },
  {
   "cell_type": "code",
   "execution_count": 36,
   "metadata": {},
   "outputs": [
    {
     "name": "stdout",
     "output_type": "stream",
     "text": [
      "item_category\n",
      "일반식품       0.381093\n",
      "건강식품       0.127913\n",
      "레포츠패션      0.091214\n",
      "생활용품       0.069803\n",
      "패션잡화       0.053291\n",
      "언더웨어       0.049696\n",
      "뷰티         0.048550\n",
      "여성의류       0.036818\n",
      "캐쥬얼        0.031208\n",
      "키즈/유아동     0.021885\n",
      "생활가전       0.021056\n",
      "주방용품       0.015486\n",
      "주방가전       0.013155\n",
      "대형가전       0.012483\n",
      "레저/스포츠     0.009639\n",
      "가구/인테리어    0.006992\n",
      "침구         0.004503\n",
      "상품권        0.003279\n",
      "남성의류       0.001185\n",
      "반려용품       0.000672\n",
      "여행         0.000079\n",
      "Name: proportion, dtype: float64\n"
     ]
    }
   ],
   "source": [
    "print(u_cate)"
   ]
  },
  {
   "cell_type": "markdown",
   "metadata": {},
   "source": [
    "#### 성별별 구매순위\n",
    "- 모든 성별에서 일반식품의 구매가 가장 많이 이루어졌습니다.\n",
    "- 남성의 경우에는 이후 대형가전, 언더웨어, 건강식품을 많이 구매하였습니다.\n",
    "- 여성의 경우에는 이후 레포츠패션, 생활용품, 언더웨어를 많이 구매하였습니다.\n",
    "- 성별을 알 수 없는 고객들의 경우에는 건강식품, 레포츠패션, 생활용품을 많이 구매하였습니다."
   ]
  },
  {
   "cell_type": "code",
   "execution_count": 37,
   "metadata": {},
   "outputs": [],
   "source": [
    "cate_20 = df[df['age_group']=='20 or under']['item_category'].value_counts().reset_index()\n",
    "cate_25 = df[df['age_group']=='21-25']['item_category'].value_counts().reset_index()\n",
    "cate_30 = df[df['age_group']=='26-30']['item_category'].value_counts().reset_index()\n",
    "cate_35 = df[df['age_group']=='31-35']['item_category'].value_counts().reset_index()\n",
    "cate_40 = df[df['age_group']=='36-40']['item_category'].value_counts().reset_index()\n",
    "cate_over40 = df[df['age_group']=='over 40']['item_category'].value_counts().reset_index()"
   ]
  },
  {
   "cell_type": "code",
   "execution_count": 38,
   "metadata": {},
   "outputs": [
    {
     "data": {
      "image/png": "[encoded data removed]",
      "text/plain": [
       "<Figure size 640x480 with 1 Axes>"
      ]
     },
     "metadata": {},
     "output_type": "display_data"
    }
   ],
   "source": [
    "sns.barplot(data=cate_over40, x='count', y='item_category', label='over 40', alpha=0.5)\n",
    "sns.barplot(data=cate_40, x='count', y='item_category', label='36-40', alpha=0.5)\n",
    "sns.barplot(data=cate_35, x='count', y='item_category', label='31-35', alpha=0.5)\n",
    "sns.barplot(data=cate_30, x='count', y='item_category', label='26-30', alpha=0.5)\n",
    "sns.barplot(data=cate_25, x='count', y='item_category', label='21-25', alpha=0.5)\n",
    "sns.barplot(data=cate_20, x='count', y='item_category', label='20 or under', alpha=0.5)\n",
    "plt.legend(loc='lower right')\n",
    "plt.title('상품 카테고리별 구매횟수')\n",
    "plt.show()"
   ]
  },
  {
   "cell_type": "code",
   "execution_count": 39,
   "metadata": {},
   "outputs": [
    {
     "data": {
      "image/png": "[encoded data removed]",
      "text/plain": [
       "<Figure size 640x480 with 1 Axes>"
      ]
     },
     "metadata": {},
     "output_type": "display_data"
    }
   ],
   "source": [
    "sns.barplot(data=cate_40, x='count', y='item_category', label='36-40', alpha=0.5)\n",
    "sns.barplot(data=cate_35, x='count', y='item_category', label='31-35', alpha=0.5)\n",
    "sns.barplot(data=cate_30, x='count', y='item_category', label='26-30', alpha=0.5)\n",
    "sns.barplot(data=cate_25, x='count', y='item_category', label='21-25', alpha=0.5)\n",
    "sns.barplot(data=cate_20, x='count', y='item_category', label='20 or under', alpha=0.5)\n",
    "plt.legend(loc='lower right')\n",
    "plt.title('상품 카테고리별 구매횟수 41세 이상 제외')\n",
    "plt.show()"
   ]
  },
  {
   "cell_type": "code",
   "execution_count": 40,
   "metadata": {},
   "outputs": [],
   "source": [
    "cate_20 = df[df['age_group']=='20 or under']['item_category'].value_counts(normalize=True)\n",
    "cate_25 = df[df['age_group']=='21-25']['item_category'].value_counts(normalize=True)\n",
    "cate_30 = df[df['age_group']=='26-30']['item_category'].value_counts(normalize=True)\n",
    "cate_35 = df[df['age_group']=='31-35']['item_category'].value_counts(normalize=True)\n",
    "cate_40 = df[df['age_group']=='36-40']['item_category'].value_counts(normalize=True)\n",
    "cate_over40 = df[df['age_group']=='over 40']['item_category'].value_counts(normalize=True)"
   ]
  },
  {
   "cell_type": "code",
   "execution_count": 41,
   "metadata": {},
   "outputs": [
    {
     "data": {
      "text/plain": [
       "item_category\n",
       "일반식품      0.537500\n",
       "대형가전      0.125000\n",
       "언더웨어      0.100000\n",
       "키즈/유아동    0.050000\n",
       "생활용품      0.045833\n",
       "건강식품      0.041667\n",
       "패션잡화      0.037500\n",
       "레포츠패션     0.020833\n",
       "생활가전      0.016667\n",
       "주방용품      0.012500\n",
       "뷰티        0.004167\n",
       "주방가전      0.004167\n",
       "여성의류      0.004167\n",
       "Name: proportion, dtype: float64"
      ]
     },
     "execution_count": 41,
     "metadata": {},
     "output_type": "execute_result"
    }
   ],
   "source": [
    "cate_20"
   ]
  },
  {
   "cell_type": "code",
   "execution_count": 42,
   "metadata": {},
   "outputs": [
    {
     "data": {
      "text/plain": [
       "item_category\n",
       "일반식품       0.452901\n",
       "건강식품       0.140166\n",
       "대형가전       0.106255\n",
       "생활가전       0.082894\n",
       "생활용품       0.041447\n",
       "뷰티         0.034665\n",
       "언더웨어       0.027882\n",
       "레포츠패션      0.023361\n",
       "패션잡화       0.021100\n",
       "주방용품       0.019593\n",
       "상품권        0.012811\n",
       "여성의류       0.009043\n",
       "주방가전       0.008289\n",
       "가구/인테리어    0.006029\n",
       "캐쥬얼        0.005275\n",
       "레저/스포츠     0.003768\n",
       "침구         0.001507\n",
       "남성의류       0.001507\n",
       "키즈/유아동     0.001507\n",
       "Name: proportion, dtype: float64"
      ]
     },
     "execution_count": 42,
     "metadata": {},
     "output_type": "execute_result"
    }
   ],
   "source": [
    "cate_25"
   ]
  },
  {
   "cell_type": "code",
   "execution_count": 43,
   "metadata": {},
   "outputs": [
    {
     "data": {
      "text/plain": [
       "item_category\n",
       "일반식품       0.434911\n",
       "생활가전       0.129247\n",
       "대형가전       0.121334\n",
       "건강식품       0.078510\n",
       "뷰티         0.074321\n",
       "생활용품       0.043134\n",
       "언더웨어       0.032739\n",
       "상품권        0.018309\n",
       "레포츠패션      0.015826\n",
       "패션잡화       0.012723\n",
       "여성의류       0.007137\n",
       "캐쥬얼        0.006362\n",
       "주방가전       0.005741\n",
       "주방용품       0.005431\n",
       "키즈/유아동     0.004655\n",
       "레저/스포츠     0.004189\n",
       "가구/인테리어    0.002793\n",
       "반려용품       0.001552\n",
       "침구         0.000776\n",
       "남성의류       0.000310\n",
       "Name: proportion, dtype: float64"
      ]
     },
     "execution_count": 43,
     "metadata": {},
     "output_type": "execute_result"
    }
   ],
   "source": [
    "cate_30"
   ]
  },
  {
   "cell_type": "code",
   "execution_count": 44,
   "metadata": {},
   "outputs": [
    {
     "data": {
      "text/plain": [
       "item_category\n",
       "일반식품       0.552777\n",
       "건강식품       0.067763\n",
       "대형가전       0.062714\n",
       "생활용품       0.052044\n",
       "생활가전       0.050171\n",
       "언더웨어       0.044958\n",
       "주방가전       0.044388\n",
       "뷰티         0.033719\n",
       "키즈/유아동     0.017837\n",
       "레포츠패션      0.016534\n",
       "패션잡화       0.014823\n",
       "주방용품       0.009855\n",
       "여성의류       0.009448\n",
       "상품권        0.008796\n",
       "캐쥬얼        0.007412\n",
       "가구/인테리어    0.002606\n",
       "레저/스포츠     0.001955\n",
       "침구         0.000977\n",
       "반려용품       0.000652\n",
       "남성의류       0.000570\n",
       "Name: proportion, dtype: float64"
      ]
     },
     "execution_count": 44,
     "metadata": {},
     "output_type": "execute_result"
    }
   ],
   "source": [
    "cate_35"
   ]
  },
  {
   "cell_type": "code",
   "execution_count": 45,
   "metadata": {},
   "outputs": [
    {
     "data": {
      "text/plain": [
       "item_category\n",
       "일반식품       0.538042\n",
       "뷰티         0.072208\n",
       "대형가전       0.061681\n",
       "생활가전       0.061346\n",
       "건강식품       0.059862\n",
       "언더웨어       0.052684\n",
       "생활용품       0.041774\n",
       "주방가전       0.021820\n",
       "레포츠패션      0.020098\n",
       "키즈/유아동     0.018806\n",
       "패션잡화       0.014403\n",
       "주방용품       0.010814\n",
       "여성의류       0.008757\n",
       "캐쥬얼        0.007704\n",
       "레저/스포츠     0.004498\n",
       "침구         0.001531\n",
       "가구/인테리어    0.001388\n",
       "상품권        0.001148\n",
       "반려용품       0.000861\n",
       "남성의류       0.000526\n",
       "여행         0.000048\n",
       "Name: proportion, dtype: float64"
      ]
     },
     "execution_count": 45,
     "metadata": {},
     "output_type": "execute_result"
    }
   ],
   "source": [
    "cate_40"
   ]
  },
  {
   "cell_type": "code",
   "execution_count": 46,
   "metadata": {},
   "outputs": [
    {
     "data": {
      "text/plain": [
       "item_category\n",
       "일반식품       0.446972\n",
       "레포츠패션      0.101438\n",
       "생활용품       0.070038\n",
       "언더웨어       0.066136\n",
       "패션잡화       0.058236\n",
       "건강식품       0.057520\n",
       "여성의류       0.048348\n",
       "캐쥬얼        0.033747\n",
       "뷰티         0.029241\n",
       "생활가전       0.022944\n",
       "대형가전       0.021436\n",
       "주방용품       0.014611\n",
       "주방가전       0.008248\n",
       "레저/스포츠     0.005543\n",
       "가구/인테리어    0.004628\n",
       "키즈/유아동     0.004035\n",
       "상품권        0.002564\n",
       "침구         0.002460\n",
       "남성의류       0.001405\n",
       "반려용품       0.000424\n",
       "여행         0.000028\n",
       "Name: proportion, dtype: float64"
      ]
     },
     "execution_count": 46,
     "metadata": {},
     "output_type": "execute_result"
    }
   ],
   "source": [
    "cate_over40"
   ]
  },
  {
   "cell_type": "markdown",
   "metadata": {},
   "source": [
    "#### 고객의 나이대별 구매순위\n",
    "- 모든 연령대의 고객들이 일반식품을 가장 많이 구매하였습니다.\n",
    "- 그러나 그 다음 순위부터는 모든 연령대가 다른 카테고리의 상품을 많이 구매하였습니다."
   ]
  },
  {
   "cell_type": "markdown",
   "metadata": {},
   "source": [
    "### 채녈별 특징 분석"
   ]
  },
  {
   "cell_type": "code",
   "execution_count": 47,
   "metadata": {},
   "outputs": [
    {
     "data": {
      "image/png": "[encoded data removed]",
      "text/plain": [
       "<Figure size 640x480 with 1 Axes>"
      ]
     },
     "metadata": {},
     "output_type": "display_data"
    }
   ],
   "source": [
    "value_counts = df['channel'].value_counts(normalize=True)\n",
    "ratio = value_counts.values\n",
    "labels = value_counts.index\n",
    "plt.pie(ratio, autopct='%.1f%%', startangle=260, counterclock=False)\n",
    "plt.title('채널분포')\n",
    "plt.legend(labels, loc='upper right')\n",
    "plt.show()"
   ]
  },
  {
   "cell_type": "code",
   "execution_count": 48,
   "metadata": {},
   "outputs": [],
   "source": [
    "mobile = df[df['channel']=='Mobile']\n",
    "tv = df[df['channel']=='TV']"
   ]
  },
  {
   "cell_type": "code",
   "execution_count": 49,
   "metadata": {},
   "outputs": [
    {
     "data": {
      "text/plain": [
       "channel  gender\n",
       "Mobile   2         44139\n",
       "         1         29239\n",
       "         9         11002\n",
       "TV       2         35293\n",
       "         9         14312\n",
       "         1         13288\n",
       "Name: count, dtype: int64"
      ]
     },
     "execution_count": 49,
     "metadata": {},
     "output_type": "execute_result"
    }
   ],
   "source": [
    "df.groupby('channel')['gender'].value_counts()"
   ]
  },
  {
   "cell_type": "code",
   "execution_count": 50,
   "metadata": {},
   "outputs": [
    {
     "data": {
      "image/png": "[encoded data removed]",
      "text/plain": [
       "<Figure size 640x480 with 1 Axes>"
      ]
     },
     "metadata": {},
     "output_type": "display_data"
    }
   ],
   "source": [
    "value_counts = mobile['gender'].value_counts(normalize=True)\n",
    "ratio = value_counts.values\n",
    "n_labels = value_counts.index\n",
    "label_dic = {1:'남성', 2:'여성', 9:'알 수 없음'}\n",
    "labels = [label_dic[i] for i in n_labels]\n",
    "plt.pie(ratio, autopct='%.1f%%', startangle=260, counterclock=False)\n",
    "plt.title('모바일 고객 성별 분포')\n",
    "plt.legend(labels, loc='upper right')\n",
    "plt.show()"
   ]
  },
  {
   "cell_type": "code",
   "execution_count": 51,
   "metadata": {},
   "outputs": [
    {
     "data": {
      "image/png": "[encoded data removed]",
      "text/plain": [
       "<Figure size 640x480 with 1 Axes>"
      ]
     },
     "metadata": {},
     "output_type": "display_data"
    }
   ],
   "source": [
    "value_counts = tv['gender'].value_counts(normalize=True)\n",
    "ratio = value_counts.values\n",
    "n_labels = value_counts.index\n",
    "label_dic = {1:'남성', 2:'여성', 9:'알 수 없음'}\n",
    "labels = [label_dic[i] for i in n_labels]\n",
    "plt.pie(ratio, autopct='%.1f%%', startangle=260, counterclock=False)\n",
    "plt.title('TV 고객 성별 분포')\n",
    "plt.legend(labels, loc='upper right')\n",
    "plt.show()"
   ]
  },
  {
   "cell_type": "markdown",
   "metadata": {},
   "source": [
    "#### 채널별 성별 분포\n",
    "- 두 집단 모두 여성이 절반이상을 차지하고 있습니다.\n",
    "- 하지만 TV의 경우 모바일보다 남성의 비율이 약 11.9%p 낮고 알 수 없음의 비율이 약 8.1%p 높습니다."
   ]
  },
  {
   "cell_type": "code",
   "execution_count": 52,
   "metadata": {},
   "outputs": [],
   "source": [
    "from scipy import stats"
   ]
  },
  {
   "cell_type": "code",
   "execution_count": 53,
   "metadata": {},
   "outputs": [
    {
     "name": "stdout",
     "output_type": "stream",
     "text": [
      "44.77319269969187\n",
      "52.51697327206525\n",
      "0.0\n"
     ]
    }
   ],
   "source": [
    "t, p = stats.ttest_ind(mobile['age'], tv['age'], equal_var=True)\n",
    "print(mobile['age'].mean())\n",
    "print(tv['age'].mean())\n",
    "print(p)"
   ]
  },
  {
   "cell_type": "markdown",
   "metadata": {},
   "source": [
    "#### 채널별 평균 연령차이\n",
    "- 모바일 고객의 평균 연령은 약 45세 이고 TV 고객의 평균 연령은 약 53세 입니다.\n",
    "- 두 집단의 T-test 결과 P-value가 0으로 이는 통계적으로 유의미한 평균 차이를 갖고 있다는 것을 나타냅니다."
   ]
  },
  {
   "cell_type": "markdown",
   "metadata": {},
   "source": [
    "### 채널별 구매 금액 비교"
   ]
  },
  {
   "cell_type": "code",
   "execution_count": 54,
   "metadata": {},
   "outputs": [
    {
     "data": {
      "text/html": [
       "<div>\n",
       "<style scoped>\n",
       "    .dataframe tbody tr th:only-of-type {\n",
       "        vertical-align: middle;\n",
       "    }\n",
       "\n",
       "    .dataframe tbody tr th {\n",
       "        vertical-align: top;\n",
       "    }\n",
       "\n",
       "    .dataframe thead th {\n",
       "        text-align: right;\n",
       "    }\n",
       "</style>\n",
       "<table border=\"1\" class=\"dataframe\">\n",
       "  <thead>\n",
       "    <tr style=\"text-align: right;\">\n",
       "      <th></th>\n",
       "      <th>customer_no</th>\n",
       "      <th>age</th>\n",
       "      <th>gender</th>\n",
       "      <th>order_no</th>\n",
       "      <th>order_date</th>\n",
       "      <th>channel</th>\n",
       "      <th>item_category</th>\n",
       "      <th>item_code</th>\n",
       "      <th>item_name</th>\n",
       "      <th>price</th>\n",
       "      <th>qty</th>\n",
       "      <th>order_amount</th>\n",
       "      <th>discount_amount</th>\n",
       "      <th>paid_amount</th>\n",
       "      <th>age_group</th>\n",
       "    </tr>\n",
       "  </thead>\n",
       "  <tbody>\n",
       "    <tr>\n",
       "      <th>0</th>\n",
       "      <td>2021059651101</td>\n",
       "      <td>68.0</td>\n",
       "      <td>9</td>\n",
       "      <td>202106072433746</td>\n",
       "      <td>2021-06-07</td>\n",
       "      <td>TV</td>\n",
       "      <td>캐쥬얼</td>\n",
       "      <td>323421750</td>\n",
       "      <td>밴딩팬츠</td>\n",
       "      <td>49900</td>\n",
       "      <td>1</td>\n",
       "      <td>49900</td>\n",
       "      <td>4990</td>\n",
       "      <td>44910</td>\n",
       "      <td>over 40</td>\n",
       "    </tr>\n",
       "    <tr>\n",
       "      <th>1</th>\n",
       "      <td>2018069800502</td>\n",
       "      <td>49.0</td>\n",
       "      <td>2</td>\n",
       "      <td>202105311957155</td>\n",
       "      <td>2021-05-31</td>\n",
       "      <td>TV</td>\n",
       "      <td>레포츠패션</td>\n",
       "      <td>323516657</td>\n",
       "      <td>트랙수트</td>\n",
       "      <td>39000</td>\n",
       "      <td>1</td>\n",
       "      <td>39000</td>\n",
       "      <td>1000</td>\n",
       "      <td>38000</td>\n",
       "      <td>over 40</td>\n",
       "    </tr>\n",
       "    <tr>\n",
       "      <th>2</th>\n",
       "      <td>2019073300103</td>\n",
       "      <td>35.0</td>\n",
       "      <td>1</td>\n",
       "      <td>202105138020462</td>\n",
       "      <td>2021-05-13</td>\n",
       "      <td>TV</td>\n",
       "      <td>뷰티</td>\n",
       "      <td>323393459</td>\n",
       "      <td>기초세트</td>\n",
       "      <td>72000</td>\n",
       "      <td>2</td>\n",
       "      <td>144000</td>\n",
       "      <td>27600</td>\n",
       "      <td>116400</td>\n",
       "      <td>36-40</td>\n",
       "    </tr>\n",
       "    <tr>\n",
       "      <th>3</th>\n",
       "      <td>2020075283364</td>\n",
       "      <td>41.0</td>\n",
       "      <td>9</td>\n",
       "      <td>202106171444319</td>\n",
       "      <td>2021-06-17</td>\n",
       "      <td>TV</td>\n",
       "      <td>건강식품</td>\n",
       "      <td>323420069</td>\n",
       "      <td>유산균</td>\n",
       "      <td>119000</td>\n",
       "      <td>2</td>\n",
       "      <td>238000</td>\n",
       "      <td>72920</td>\n",
       "      <td>165080</td>\n",
       "      <td>over 40</td>\n",
       "    </tr>\n",
       "    <tr>\n",
       "      <th>4</th>\n",
       "      <td>2020104780765</td>\n",
       "      <td>46.0</td>\n",
       "      <td>1</td>\n",
       "      <td>202106024431989</td>\n",
       "      <td>2021-06-02</td>\n",
       "      <td>TV</td>\n",
       "      <td>일반식품</td>\n",
       "      <td>321820178</td>\n",
       "      <td>건강주스</td>\n",
       "      <td>45900</td>\n",
       "      <td>1</td>\n",
       "      <td>45900</td>\n",
       "      <td>2290</td>\n",
       "      <td>43610</td>\n",
       "      <td>over 40</td>\n",
       "    </tr>\n",
       "  </tbody>\n",
       "</table>\n",
       "</div>"
      ],
      "text/plain": [
       "     customer_no   age  gender         order_no order_date channel  \\\n",
       "0  2021059651101  68.0       9  202106072433746 2021-06-07      TV   \n",
       "1  2018069800502  49.0       2  202105311957155 2021-05-31      TV   \n",
       "2  2019073300103  35.0       1  202105138020462 2021-05-13      TV   \n",
       "3  2020075283364  41.0       9  202106171444319 2021-06-17      TV   \n",
       "4  2020104780765  46.0       1  202106024431989 2021-06-02      TV   \n",
       "\n",
       "  item_category  item_code item_name   price  qty  order_amount  \\\n",
       "0           캐쥬얼  323421750      밴딩팬츠   49900    1         49900   \n",
       "1         레포츠패션  323516657      트랙수트   39000    1         39000   \n",
       "2            뷰티  323393459      기초세트   72000    2        144000   \n",
       "3          건강식품  323420069       유산균  119000    2        238000   \n",
       "4          일반식품  321820178      건강주스   45900    1         45900   \n",
       "\n",
       "   discount_amount  paid_amount age_group  \n",
       "0             4990        44910   over 40  \n",
       "1             1000        38000   over 40  \n",
       "2            27600       116400     36-40  \n",
       "3            72920       165080   over 40  \n",
       "4             2290        43610   over 40  "
      ]
     },
     "execution_count": 54,
     "metadata": {},
     "output_type": "execute_result"
    }
   ],
   "source": [
    "df.head()"
   ]
  },
  {
   "cell_type": "code",
   "execution_count": 55,
   "metadata": {},
   "outputs": [
    {
     "name": "stdout",
     "output_type": "stream",
     "text": [
      "109050.41585683811\n",
      "140843.17491612738\n",
      "4.738671126745462e-54\n"
     ]
    }
   ],
   "source": [
    "t, p = stats.ttest_ind(mobile['order_amount'], tv['order_amount'], equal_var=True)\n",
    "print(mobile['order_amount'].mean())\n",
    "print(tv['order_amount'].mean())\n",
    "print(p)"
   ]
  },
  {
   "cell_type": "code",
   "execution_count": 56,
   "metadata": {},
   "outputs": [
    {
     "name": "stdout",
     "output_type": "stream",
     "text": [
      "6622.789677648732\n",
      "18838.312960106847\n",
      "0.0\n"
     ]
    }
   ],
   "source": [
    "t, p = stats.ttest_ind(mobile['discount_amount'], tv['discount_amount'], equal_var=True)\n",
    "print(mobile['discount_amount'].mean())\n",
    "print(tv['discount_amount'].mean())\n",
    "print(p)"
   ]
  },
  {
   "cell_type": "code",
   "execution_count": 57,
   "metadata": {},
   "outputs": [
    {
     "name": "stdout",
     "output_type": "stream",
     "text": [
      "102427.62617918938\n",
      "122004.86195602054\n",
      "6.924600599068578e-26\n"
     ]
    }
   ],
   "source": [
    "t, p = stats.ttest_ind(mobile['paid_amount'], tv['paid_amount'], equal_var=True)\n",
    "print(mobile['paid_amount'].mean())\n",
    "print(tv['paid_amount'].mean())\n",
    "print(p)"
   ]
  },
  {
   "cell_type": "markdown",
   "metadata": {},
   "source": [
    "#### 매출 비교 결과\n",
    "- 총 구매횟수의 경우 모바일이 TV 보다 많았습니다.\n",
    "- 하지만 평균 구매금액과 평균 결제금액 모두 TV가 높았으며 T-test 결과 둘 다 통계적으로 유의미한 차이가 있었습니다.\n",
    "- 할인금액도 역시 TV가 더 높았는데 이 경우에는 TV가 거의 두배 높았으며 역시 T-test 결과 통계적으로 유의미하였습니다."
   ]
  },
  {
   "cell_type": "code",
   "execution_count": 58,
   "metadata": {},
   "outputs": [
    {
     "data": {
      "image/png": "[encoded data removed]",
      "text/plain": [
       "<Figure size 640x480 with 1 Axes>"
      ]
     },
     "metadata": {},
     "output_type": "display_data"
    }
   ],
   "source": [
    "mobile_cnt = mobile['item_category'].value_counts().reset_index()\n",
    "tv_cnt = tv['item_category'].value_counts().reset_index()\n",
    "\n",
    "sns.barplot(data=mobile_cnt, x='count', y='item_category', label='Mobile', alpha=0.7)\n",
    "sns.barplot(data=tv_cnt, x='count', y='item_category', label='TV', alpha=0.7)\n",
    "plt.title('채널별 카테고리 구매 분포')\n",
    "plt.show()"
   ]
  },
  {
   "cell_type": "markdown",
   "metadata": {},
   "source": [
    "#### 카테고리별 구매 분포 비교\n",
    "- 일반식품과 언더웨어, 생활용품의 경우 두 채널에서 모두 높은 판매를 보여주었습니다.\n",
    "- 반면 다른 대부분의 상품에서 두 집단은 다른 분포를 보여주고 있습니다.\n",
    "  - 예를 들어 레포츠패션과 여성의류의 경우에는 거의 대부분의 판매가 TV에서 이루어졌습니다.\n",
    "  - 반면 대형과전과 생활가전 그리고 키즈/유아동 상품은 대부분의 판매가 모바일에서 이루어졌습니다."
   ]
  },
  {
   "cell_type": "markdown",
   "metadata": {},
   "source": [
    "## Time Decay 적용하기"
   ]
  },
  {
   "cell_type": "markdown",
   "metadata": {},
   "source": [
    "### Time Decay를 통해서 선호하는 채널 분석\n",
    "- 선호하는 채널을 분석하여 그 채널에서 비슷한 조건의 고객이 많이 구매한 상품 상위 5개 추천"
   ]
  },
  {
   "cell_type": "code",
   "execution_count": 59,
   "metadata": {},
   "outputs": [],
   "source": [
    "from datetime import datetime, timedelta"
   ]
  },
  {
   "cell_type": "code",
   "execution_count": 60,
   "metadata": {},
   "outputs": [
    {
     "data": {
      "text/html": [
       "<div>\n",
       "<style scoped>\n",
       "    .dataframe tbody tr th:only-of-type {\n",
       "        vertical-align: middle;\n",
       "    }\n",
       "\n",
       "    .dataframe tbody tr th {\n",
       "        vertical-align: top;\n",
       "    }\n",
       "\n",
       "    .dataframe thead th {\n",
       "        text-align: right;\n",
       "    }\n",
       "</style>\n",
       "<table border=\"1\" class=\"dataframe\">\n",
       "  <thead>\n",
       "    <tr style=\"text-align: right;\">\n",
       "      <th></th>\n",
       "      <th>customer_no</th>\n",
       "      <th>age</th>\n",
       "      <th>gender</th>\n",
       "      <th>order_no</th>\n",
       "      <th>order_date</th>\n",
       "      <th>channel</th>\n",
       "      <th>item_category</th>\n",
       "      <th>item_code</th>\n",
       "      <th>item_name</th>\n",
       "      <th>price</th>\n",
       "      <th>qty</th>\n",
       "      <th>order_amount</th>\n",
       "      <th>discount_amount</th>\n",
       "      <th>paid_amount</th>\n",
       "      <th>age_group</th>\n",
       "    </tr>\n",
       "  </thead>\n",
       "  <tbody>\n",
       "    <tr>\n",
       "      <th>69122</th>\n",
       "      <td>2020121967734</td>\n",
       "      <td>58.0</td>\n",
       "      <td>2</td>\n",
       "      <td>202106242229766</td>\n",
       "      <td>2021-06-24</td>\n",
       "      <td>TV</td>\n",
       "      <td>생활가전</td>\n",
       "      <td>323573636</td>\n",
       "      <td>블루투스이어폰</td>\n",
       "      <td>89000</td>\n",
       "      <td>1</td>\n",
       "      <td>89000</td>\n",
       "      <td>10000</td>\n",
       "      <td>79000</td>\n",
       "      <td>over 40</td>\n",
       "    </tr>\n",
       "    <tr>\n",
       "      <th>51399</th>\n",
       "      <td>2020081608963</td>\n",
       "      <td>32.0</td>\n",
       "      <td>2</td>\n",
       "      <td>202106241896651</td>\n",
       "      <td>2021-06-24</td>\n",
       "      <td>TV</td>\n",
       "      <td>주방용품</td>\n",
       "      <td>323608310</td>\n",
       "      <td>프라이팬</td>\n",
       "      <td>159000</td>\n",
       "      <td>4</td>\n",
       "      <td>636000</td>\n",
       "      <td>24000</td>\n",
       "      <td>612000</td>\n",
       "      <td>31-35</td>\n",
       "    </tr>\n",
       "    <tr>\n",
       "      <th>7090</th>\n",
       "      <td>2020045274483</td>\n",
       "      <td>64.0</td>\n",
       "      <td>2</td>\n",
       "      <td>202106241773617</td>\n",
       "      <td>2021-06-24</td>\n",
       "      <td>TV</td>\n",
       "      <td>여성의류</td>\n",
       "      <td>323632109</td>\n",
       "      <td>원피스</td>\n",
       "      <td>39900</td>\n",
       "      <td>1</td>\n",
       "      <td>39900</td>\n",
       "      <td>1000</td>\n",
       "      <td>38900</td>\n",
       "      <td>over 40</td>\n",
       "    </tr>\n",
       "    <tr>\n",
       "      <th>83024</th>\n",
       "      <td>2019086625644</td>\n",
       "      <td>39.0</td>\n",
       "      <td>2</td>\n",
       "      <td>202106241860390</td>\n",
       "      <td>2021-06-24</td>\n",
       "      <td>TV</td>\n",
       "      <td>주방용품</td>\n",
       "      <td>323608310</td>\n",
       "      <td>프라이팬</td>\n",
       "      <td>159000</td>\n",
       "      <td>2</td>\n",
       "      <td>318000</td>\n",
       "      <td>12000</td>\n",
       "      <td>306000</td>\n",
       "      <td>36-40</td>\n",
       "    </tr>\n",
       "    <tr>\n",
       "      <th>51363</th>\n",
       "      <td>2020069228052</td>\n",
       "      <td>72.0</td>\n",
       "      <td>2</td>\n",
       "      <td>202106242091636</td>\n",
       "      <td>2021-06-24</td>\n",
       "      <td>TV</td>\n",
       "      <td>생활용품</td>\n",
       "      <td>322413868</td>\n",
       "      <td>화장지</td>\n",
       "      <td>28900</td>\n",
       "      <td>3</td>\n",
       "      <td>86700</td>\n",
       "      <td>6000</td>\n",
       "      <td>80700</td>\n",
       "      <td>over 40</td>\n",
       "    </tr>\n",
       "    <tr>\n",
       "      <th>...</th>\n",
       "      <td>...</td>\n",
       "      <td>...</td>\n",
       "      <td>...</td>\n",
       "      <td>...</td>\n",
       "      <td>...</td>\n",
       "      <td>...</td>\n",
       "      <td>...</td>\n",
       "      <td>...</td>\n",
       "      <td>...</td>\n",
       "      <td>...</td>\n",
       "      <td>...</td>\n",
       "      <td>...</td>\n",
       "      <td>...</td>\n",
       "      <td>...</td>\n",
       "      <td>...</td>\n",
       "    </tr>\n",
       "    <tr>\n",
       "      <th>146936</th>\n",
       "      <td>2019112568362</td>\n",
       "      <td>62.0</td>\n",
       "      <td>2</td>\n",
       "      <td>202101018166501</td>\n",
       "      <td>2021-01-01</td>\n",
       "      <td>TV</td>\n",
       "      <td>여성의류</td>\n",
       "      <td>322442163</td>\n",
       "      <td>패딩점퍼</td>\n",
       "      <td>29900</td>\n",
       "      <td>1</td>\n",
       "      <td>29900</td>\n",
       "      <td>1000</td>\n",
       "      <td>28900</td>\n",
       "      <td>over 40</td>\n",
       "    </tr>\n",
       "    <tr>\n",
       "      <th>99289</th>\n",
       "      <td>2018119450648</td>\n",
       "      <td>47.0</td>\n",
       "      <td>2</td>\n",
       "      <td>202101019160183</td>\n",
       "      <td>2021-01-01</td>\n",
       "      <td>TV</td>\n",
       "      <td>생활용품</td>\n",
       "      <td>322413868</td>\n",
       "      <td>화장지</td>\n",
       "      <td>28900</td>\n",
       "      <td>1</td>\n",
       "      <td>28900</td>\n",
       "      <td>2000</td>\n",
       "      <td>26900</td>\n",
       "      <td>over 40</td>\n",
       "    </tr>\n",
       "    <tr>\n",
       "      <th>23210</th>\n",
       "      <td>2019107678281</td>\n",
       "      <td>66.0</td>\n",
       "      <td>2</td>\n",
       "      <td>202101018558935</td>\n",
       "      <td>2021-01-01</td>\n",
       "      <td>TV</td>\n",
       "      <td>생활용품</td>\n",
       "      <td>322319860</td>\n",
       "      <td>화장지</td>\n",
       "      <td>36810</td>\n",
       "      <td>1</td>\n",
       "      <td>36810</td>\n",
       "      <td>0</td>\n",
       "      <td>36810</td>\n",
       "      <td>over 40</td>\n",
       "    </tr>\n",
       "    <tr>\n",
       "      <th>719</th>\n",
       "      <td>2017049614387</td>\n",
       "      <td>66.0</td>\n",
       "      <td>2</td>\n",
       "      <td>202101018474236</td>\n",
       "      <td>2021-01-01</td>\n",
       "      <td>TV</td>\n",
       "      <td>언더웨어</td>\n",
       "      <td>322403230</td>\n",
       "      <td>여성팬티</td>\n",
       "      <td>39900</td>\n",
       "      <td>1</td>\n",
       "      <td>39900</td>\n",
       "      <td>1000</td>\n",
       "      <td>38900</td>\n",
       "      <td>over 40</td>\n",
       "    </tr>\n",
       "    <tr>\n",
       "      <th>129412</th>\n",
       "      <td>2019099807359</td>\n",
       "      <td>60.0</td>\n",
       "      <td>1</td>\n",
       "      <td>202101018701924</td>\n",
       "      <td>2021-01-01</td>\n",
       "      <td>TV</td>\n",
       "      <td>생활용품</td>\n",
       "      <td>322505860</td>\n",
       "      <td>황사마스크</td>\n",
       "      <td>78000</td>\n",
       "      <td>1</td>\n",
       "      <td>78000</td>\n",
       "      <td>1000</td>\n",
       "      <td>77000</td>\n",
       "      <td>over 40</td>\n",
       "    </tr>\n",
       "  </tbody>\n",
       "</table>\n",
       "<p>147273 rows × 15 columns</p>\n",
       "</div>"
      ],
      "text/plain": [
       "          customer_no   age  gender         order_no order_date channel  \\\n",
       "69122   2020121967734  58.0       2  202106242229766 2021-06-24      TV   \n",
       "51399   2020081608963  32.0       2  202106241896651 2021-06-24      TV   \n",
       "7090    2020045274483  64.0       2  202106241773617 2021-06-24      TV   \n",
       "83024   2019086625644  39.0       2  202106241860390 2021-06-24      TV   \n",
       "51363   2020069228052  72.0       2  202106242091636 2021-06-24      TV   \n",
       "...               ...   ...     ...              ...        ...     ...   \n",
       "146936  2019112568362  62.0       2  202101018166501 2021-01-01      TV   \n",
       "99289   2018119450648  47.0       2  202101019160183 2021-01-01      TV   \n",
       "23210   2019107678281  66.0       2  202101018558935 2021-01-01      TV   \n",
       "719     2017049614387  66.0       2  202101018474236 2021-01-01      TV   \n",
       "129412  2019099807359  60.0       1  202101018701924 2021-01-01      TV   \n",
       "\n",
       "       item_category  item_code item_name   price  qty  order_amount  \\\n",
       "69122           생활가전  323573636   블루투스이어폰   89000    1         89000   \n",
       "51399           주방용품  323608310      프라이팬  159000    4        636000   \n",
       "7090            여성의류  323632109       원피스   39900    1         39900   \n",
       "83024           주방용품  323608310      프라이팬  159000    2        318000   \n",
       "51363           생활용품  322413868       화장지   28900    3         86700   \n",
       "...              ...        ...       ...     ...  ...           ...   \n",
       "146936          여성의류  322442163      패딩점퍼   29900    1         29900   \n",
       "99289           생활용품  322413868       화장지   28900    1         28900   \n",
       "23210           생활용품  322319860       화장지   36810    1         36810   \n",
       "719             언더웨어  322403230      여성팬티   39900    1         39900   \n",
       "129412          생활용품  322505860     황사마스크   78000    1         78000   \n",
       "\n",
       "        discount_amount  paid_amount age_group  \n",
       "69122             10000        79000   over 40  \n",
       "51399             24000       612000     31-35  \n",
       "7090               1000        38900   over 40  \n",
       "83024             12000       306000     36-40  \n",
       "51363              6000        80700   over 40  \n",
       "...                 ...          ...       ...  \n",
       "146936             1000        28900   over 40  \n",
       "99289              2000        26900   over 40  \n",
       "23210                 0        36810   over 40  \n",
       "719                1000        38900   over 40  \n",
       "129412             1000        77000   over 40  \n",
       "\n",
       "[147273 rows x 15 columns]"
      ]
     },
     "execution_count": 60,
     "metadata": {},
     "output_type": "execute_result"
    }
   ],
   "source": [
    "df.sort_values('order_date', ascending=False)"
   ]
  },
  {
   "cell_type": "code",
   "execution_count": 61,
   "metadata": {},
   "outputs": [
    {
     "data": {
      "text/html": [
       "<div>\n",
       "<style scoped>\n",
       "    .dataframe tbody tr th:only-of-type {\n",
       "        vertical-align: middle;\n",
       "    }\n",
       "\n",
       "    .dataframe tbody tr th {\n",
       "        vertical-align: top;\n",
       "    }\n",
       "\n",
       "    .dataframe thead th {\n",
       "        text-align: right;\n",
       "    }\n",
       "</style>\n",
       "<table border=\"1\" class=\"dataframe\">\n",
       "  <thead>\n",
       "    <tr style=\"text-align: right;\">\n",
       "      <th></th>\n",
       "      <th>customer_no</th>\n",
       "      <th>channel</th>\n",
       "      <th>cnt_order</th>\n",
       "    </tr>\n",
       "  </thead>\n",
       "  <tbody>\n",
       "    <tr>\n",
       "      <th>0</th>\n",
       "      <td>2015010000596</td>\n",
       "      <td>Mobile</td>\n",
       "      <td>1</td>\n",
       "    </tr>\n",
       "    <tr>\n",
       "      <th>1</th>\n",
       "      <td>2015010000596</td>\n",
       "      <td>TV</td>\n",
       "      <td>1</td>\n",
       "    </tr>\n",
       "    <tr>\n",
       "      <th>2</th>\n",
       "      <td>2015010000652</td>\n",
       "      <td>Mobile</td>\n",
       "      <td>1</td>\n",
       "    </tr>\n",
       "    <tr>\n",
       "      <th>3</th>\n",
       "      <td>2015010001152</td>\n",
       "      <td>Mobile</td>\n",
       "      <td>1</td>\n",
       "    </tr>\n",
       "    <tr>\n",
       "      <th>4</th>\n",
       "      <td>2015010001152</td>\n",
       "      <td>TV</td>\n",
       "      <td>5</td>\n",
       "    </tr>\n",
       "    <tr>\n",
       "      <th>5</th>\n",
       "      <td>2015010001213</td>\n",
       "      <td>TV</td>\n",
       "      <td>1</td>\n",
       "    </tr>\n",
       "    <tr>\n",
       "      <th>6</th>\n",
       "      <td>2015010001954</td>\n",
       "      <td>TV</td>\n",
       "      <td>1</td>\n",
       "    </tr>\n",
       "    <tr>\n",
       "      <th>7</th>\n",
       "      <td>2015010004299</td>\n",
       "      <td>Mobile</td>\n",
       "      <td>1</td>\n",
       "    </tr>\n",
       "    <tr>\n",
       "      <th>8</th>\n",
       "      <td>2015010004451</td>\n",
       "      <td>TV</td>\n",
       "      <td>2</td>\n",
       "    </tr>\n",
       "    <tr>\n",
       "      <th>9</th>\n",
       "      <td>2015010005813</td>\n",
       "      <td>Mobile</td>\n",
       "      <td>1</td>\n",
       "    </tr>\n",
       "  </tbody>\n",
       "</table>\n",
       "</div>"
      ],
      "text/plain": [
       "     customer_no channel  cnt_order\n",
       "0  2015010000596  Mobile          1\n",
       "1  2015010000596      TV          1\n",
       "2  2015010000652  Mobile          1\n",
       "3  2015010001152  Mobile          1\n",
       "4  2015010001152      TV          5\n",
       "5  2015010001213      TV          1\n",
       "6  2015010001954      TV          1\n",
       "7  2015010004299  Mobile          1\n",
       "8  2015010004451      TV          2\n",
       "9  2015010005813  Mobile          1"
      ]
     },
     "execution_count": 61,
     "metadata": {},
     "output_type": "execute_result"
    }
   ],
   "source": [
    "## 유저 단위로 channel별 구매 건수 구하기\n",
    "user_summary = df.groupby(['customer_no', 'channel'])['order_no'].nunique().reset_index()\n",
    "user_summary = user_summary.rename(columns={'order_no': 'cnt_order'})\n",
    "user_summary.head(10)"
   ]
  },
  {
   "cell_type": "code",
   "execution_count": 62,
   "metadata": {},
   "outputs": [
    {
     "data": {
      "text/html": [
       "<div>\n",
       "<style scoped>\n",
       "    .dataframe tbody tr th:only-of-type {\n",
       "        vertical-align: middle;\n",
       "    }\n",
       "\n",
       "    .dataframe tbody tr th {\n",
       "        vertical-align: top;\n",
       "    }\n",
       "\n",
       "    .dataframe thead th {\n",
       "        text-align: right;\n",
       "    }\n",
       "</style>\n",
       "<table border=\"1\" class=\"dataframe\">\n",
       "  <thead>\n",
       "    <tr style=\"text-align: right;\">\n",
       "      <th></th>\n",
       "      <th>customer_no</th>\n",
       "      <th>channel</th>\n",
       "      <th>cnt_order</th>\n",
       "      <th>rn</th>\n",
       "    </tr>\n",
       "  </thead>\n",
       "  <tbody>\n",
       "    <tr>\n",
       "      <th>0</th>\n",
       "      <td>2015010000596</td>\n",
       "      <td>Mobile</td>\n",
       "      <td>1</td>\n",
       "      <td>1</td>\n",
       "    </tr>\n",
       "    <tr>\n",
       "      <th>1</th>\n",
       "      <td>2015010000596</td>\n",
       "      <td>TV</td>\n",
       "      <td>1</td>\n",
       "      <td>2</td>\n",
       "    </tr>\n",
       "    <tr>\n",
       "      <th>2</th>\n",
       "      <td>2015010000652</td>\n",
       "      <td>Mobile</td>\n",
       "      <td>1</td>\n",
       "      <td>1</td>\n",
       "    </tr>\n",
       "    <tr>\n",
       "      <th>3</th>\n",
       "      <td>2015010001152</td>\n",
       "      <td>Mobile</td>\n",
       "      <td>1</td>\n",
       "      <td>2</td>\n",
       "    </tr>\n",
       "    <tr>\n",
       "      <th>4</th>\n",
       "      <td>2015010001152</td>\n",
       "      <td>TV</td>\n",
       "      <td>5</td>\n",
       "      <td>1</td>\n",
       "    </tr>\n",
       "    <tr>\n",
       "      <th>5</th>\n",
       "      <td>2015010001213</td>\n",
       "      <td>TV</td>\n",
       "      <td>1</td>\n",
       "      <td>1</td>\n",
       "    </tr>\n",
       "    <tr>\n",
       "      <th>6</th>\n",
       "      <td>2015010001954</td>\n",
       "      <td>TV</td>\n",
       "      <td>1</td>\n",
       "      <td>1</td>\n",
       "    </tr>\n",
       "    <tr>\n",
       "      <th>7</th>\n",
       "      <td>2015010004299</td>\n",
       "      <td>Mobile</td>\n",
       "      <td>1</td>\n",
       "      <td>1</td>\n",
       "    </tr>\n",
       "    <tr>\n",
       "      <th>8</th>\n",
       "      <td>2015010004451</td>\n",
       "      <td>TV</td>\n",
       "      <td>2</td>\n",
       "      <td>1</td>\n",
       "    </tr>\n",
       "    <tr>\n",
       "      <th>9</th>\n",
       "      <td>2015010005813</td>\n",
       "      <td>Mobile</td>\n",
       "      <td>1</td>\n",
       "      <td>1</td>\n",
       "    </tr>\n",
       "  </tbody>\n",
       "</table>\n",
       "</div>"
      ],
      "text/plain": [
       "     customer_no channel  cnt_order  rn\n",
       "0  2015010000596  Mobile          1   1\n",
       "1  2015010000596      TV          1   2\n",
       "2  2015010000652  Mobile          1   1\n",
       "3  2015010001152  Mobile          1   2\n",
       "4  2015010001152      TV          5   1\n",
       "5  2015010001213      TV          1   1\n",
       "6  2015010001954      TV          1   1\n",
       "7  2015010004299  Mobile          1   1\n",
       "8  2015010004451      TV          2   1\n",
       "9  2015010005813  Mobile          1   1"
      ]
     },
     "execution_count": 62,
     "metadata": {},
     "output_type": "execute_result"
    }
   ],
   "source": [
    "## 구매 건수가 많은 channel별로 순위 매기기\n",
    "user_summary['rn'] = user_summary.sort_values(by='cnt_order', ascending=False) \\\n",
    "             .groupby('customer_no') \\\n",
    "             .cumcount() + 1\n",
    "\n",
    "user_summary.head(10)"
   ]
  },
  {
   "cell_type": "code",
   "execution_count": 63,
   "metadata": {},
   "outputs": [
    {
     "data": {
      "text/html": [
       "<div>\n",
       "<style scoped>\n",
       "    .dataframe tbody tr th:only-of-type {\n",
       "        vertical-align: middle;\n",
       "    }\n",
       "\n",
       "    .dataframe tbody tr th {\n",
       "        vertical-align: top;\n",
       "    }\n",
       "\n",
       "    .dataframe thead th {\n",
       "        text-align: right;\n",
       "    }\n",
       "</style>\n",
       "<table border=\"1\" class=\"dataframe\">\n",
       "  <thead>\n",
       "    <tr style=\"text-align: right;\">\n",
       "      <th></th>\n",
       "      <th>customer_no</th>\n",
       "      <th>channel</th>\n",
       "      <th>cnt_order</th>\n",
       "      <th>rn</th>\n",
       "    </tr>\n",
       "  </thead>\n",
       "  <tbody>\n",
       "    <tr>\n",
       "      <th>0</th>\n",
       "      <td>2015010000596</td>\n",
       "      <td>Mobile</td>\n",
       "      <td>1</td>\n",
       "      <td>1</td>\n",
       "    </tr>\n",
       "    <tr>\n",
       "      <th>1</th>\n",
       "      <td>2015010000652</td>\n",
       "      <td>Mobile</td>\n",
       "      <td>1</td>\n",
       "      <td>1</td>\n",
       "    </tr>\n",
       "    <tr>\n",
       "      <th>2</th>\n",
       "      <td>2015010001152</td>\n",
       "      <td>TV</td>\n",
       "      <td>5</td>\n",
       "      <td>1</td>\n",
       "    </tr>\n",
       "    <tr>\n",
       "      <th>3</th>\n",
       "      <td>2015010001213</td>\n",
       "      <td>TV</td>\n",
       "      <td>1</td>\n",
       "      <td>1</td>\n",
       "    </tr>\n",
       "    <tr>\n",
       "      <th>4</th>\n",
       "      <td>2015010001954</td>\n",
       "      <td>TV</td>\n",
       "      <td>1</td>\n",
       "      <td>1</td>\n",
       "    </tr>\n",
       "  </tbody>\n",
       "</table>\n",
       "</div>"
      ],
      "text/plain": [
       "     customer_no channel  cnt_order  rn\n",
       "0  2015010000596  Mobile          1   1\n",
       "1  2015010000652  Mobile          1   1\n",
       "2  2015010001152      TV          5   1\n",
       "3  2015010001213      TV          1   1\n",
       "4  2015010001954      TV          1   1"
      ]
     },
     "execution_count": 63,
     "metadata": {},
     "output_type": "execute_result"
    }
   ],
   "source": [
    "## 최다 구매 channel 정보만 남기기\n",
    "user_max_item_info = user_summary[user_summary['rn'] == 1].reset_index(drop = True)\n",
    "user_max_item_info.head()"
   ]
  },
  {
   "cell_type": "code",
   "execution_count": 64,
   "metadata": {},
   "outputs": [
    {
     "data": {
      "image/png": "[encoded data removed]",
      "text/plain": [
       "<Figure size 640x480 with 1 Axes>"
      ]
     },
     "metadata": {},
     "output_type": "display_data"
    }
   ],
   "source": [
    "import numpy as np\n",
    "\n",
    "# 경과일수 생성 (예: 0부터 365까지의 경과일수)\n",
    "elapsed_days = np.arange(0, 366, 1)\n",
    "\n",
    "# 가중치 계산 (0.995^경과일수)\n",
    "weights = 0.995**elapsed_days\n",
    "\n",
    "# 그래프 그리기\n",
    "plt.plot(elapsed_days, weights, label='Weight Function')\n",
    "plt.title('Exponential Decay Function')\n",
    "plt.xlabel('Elapsed Days')\n",
    "plt.ylabel('Weight')\n",
    "plt.legend()\n",
    "plt.show()"
   ]
  },
  {
   "cell_type": "code",
   "execution_count": 65,
   "metadata": {},
   "outputs": [
    {
     "name": "stdout",
     "output_type": "stream",
     "text": [
      "2021-06-25 00:00:00\n"
     ]
    }
   ],
   "source": [
    "# 추천을 제공하는 날짜가 이 데이터의 가장 마지막 구매 일자의 다음 날이라고 가정\n",
    "recommend_ymd = df['order_date'].max() + pd.Timedelta(days=1)\n",
    "print(recommend_ymd)"
   ]
  },
  {
   "cell_type": "code",
   "execution_count": 66,
   "metadata": {},
   "outputs": [
    {
     "data": {
      "text/html": [
       "<div>\n",
       "<style scoped>\n",
       "    .dataframe tbody tr th:only-of-type {\n",
       "        vertical-align: middle;\n",
       "    }\n",
       "\n",
       "    .dataframe tbody tr th {\n",
       "        vertical-align: top;\n",
       "    }\n",
       "\n",
       "    .dataframe thead th {\n",
       "        text-align: right;\n",
       "    }\n",
       "</style>\n",
       "<table border=\"1\" class=\"dataframe\">\n",
       "  <thead>\n",
       "    <tr style=\"text-align: right;\">\n",
       "      <th></th>\n",
       "      <th>customer_no</th>\n",
       "      <th>order_date</th>\n",
       "      <th>channel</th>\n",
       "      <th>cnt_order</th>\n",
       "    </tr>\n",
       "  </thead>\n",
       "  <tbody>\n",
       "    <tr>\n",
       "      <th>0</th>\n",
       "      <td>2015010000596</td>\n",
       "      <td>2021-01-15</td>\n",
       "      <td>TV</td>\n",
       "      <td>1</td>\n",
       "    </tr>\n",
       "    <tr>\n",
       "      <th>1</th>\n",
       "      <td>2015010000596</td>\n",
       "      <td>2021-06-03</td>\n",
       "      <td>Mobile</td>\n",
       "      <td>1</td>\n",
       "    </tr>\n",
       "    <tr>\n",
       "      <th>2</th>\n",
       "      <td>2015010000652</td>\n",
       "      <td>2021-03-06</td>\n",
       "      <td>Mobile</td>\n",
       "      <td>1</td>\n",
       "    </tr>\n",
       "    <tr>\n",
       "      <th>3</th>\n",
       "      <td>2015010001152</td>\n",
       "      <td>2021-02-13</td>\n",
       "      <td>TV</td>\n",
       "      <td>1</td>\n",
       "    </tr>\n",
       "    <tr>\n",
       "      <th>4</th>\n",
       "      <td>2015010001152</td>\n",
       "      <td>2021-02-18</td>\n",
       "      <td>TV</td>\n",
       "      <td>1</td>\n",
       "    </tr>\n",
       "    <tr>\n",
       "      <th>5</th>\n",
       "      <td>2015010001152</td>\n",
       "      <td>2021-03-02</td>\n",
       "      <td>Mobile</td>\n",
       "      <td>1</td>\n",
       "    </tr>\n",
       "    <tr>\n",
       "      <th>6</th>\n",
       "      <td>2015010001152</td>\n",
       "      <td>2021-03-23</td>\n",
       "      <td>TV</td>\n",
       "      <td>1</td>\n",
       "    </tr>\n",
       "    <tr>\n",
       "      <th>7</th>\n",
       "      <td>2015010001152</td>\n",
       "      <td>2021-04-24</td>\n",
       "      <td>TV</td>\n",
       "      <td>1</td>\n",
       "    </tr>\n",
       "    <tr>\n",
       "      <th>8</th>\n",
       "      <td>2015010001152</td>\n",
       "      <td>2021-05-25</td>\n",
       "      <td>TV</td>\n",
       "      <td>1</td>\n",
       "    </tr>\n",
       "    <tr>\n",
       "      <th>9</th>\n",
       "      <td>2015010001213</td>\n",
       "      <td>2021-02-25</td>\n",
       "      <td>TV</td>\n",
       "      <td>1</td>\n",
       "    </tr>\n",
       "  </tbody>\n",
       "</table>\n",
       "</div>"
      ],
      "text/plain": [
       "     customer_no order_date channel  cnt_order\n",
       "0  2015010000596 2021-01-15      TV          1\n",
       "1  2015010000596 2021-06-03  Mobile          1\n",
       "2  2015010000652 2021-03-06  Mobile          1\n",
       "3  2015010001152 2021-02-13      TV          1\n",
       "4  2015010001152 2021-02-18      TV          1\n",
       "5  2015010001152 2021-03-02  Mobile          1\n",
       "6  2015010001152 2021-03-23      TV          1\n",
       "7  2015010001152 2021-04-24      TV          1\n",
       "8  2015010001152 2021-05-25      TV          1\n",
       "9  2015010001213 2021-02-25      TV          1"
      ]
     },
     "execution_count": 66,
     "metadata": {},
     "output_type": "execute_result"
    }
   ],
   "source": [
    "## 유저별 데이터 집계\n",
    "decay_summary = df.groupby(['customer_no', 'order_date', 'channel'])['order_no'].nunique().reset_index()\n",
    "decay_summary = decay_summary.rename(columns={'order_no': 'cnt_order'})\n",
    "decay_summary.head(10)"
   ]
  },
  {
   "cell_type": "code",
   "execution_count": 67,
   "metadata": {},
   "outputs": [
    {
     "data": {
      "text/html": [
       "<div>\n",
       "<style scoped>\n",
       "    .dataframe tbody tr th:only-of-type {\n",
       "        vertical-align: middle;\n",
       "    }\n",
       "\n",
       "    .dataframe tbody tr th {\n",
       "        vertical-align: top;\n",
       "    }\n",
       "\n",
       "    .dataframe thead th {\n",
       "        text-align: right;\n",
       "    }\n",
       "</style>\n",
       "<table border=\"1\" class=\"dataframe\">\n",
       "  <thead>\n",
       "    <tr style=\"text-align: right;\">\n",
       "      <th></th>\n",
       "      <th>customer_no</th>\n",
       "      <th>order_date</th>\n",
       "      <th>channel</th>\n",
       "      <th>cnt_order</th>\n",
       "      <th>decay_day</th>\n",
       "    </tr>\n",
       "  </thead>\n",
       "  <tbody>\n",
       "    <tr>\n",
       "      <th>0</th>\n",
       "      <td>2015010000596</td>\n",
       "      <td>2021-01-15</td>\n",
       "      <td>TV</td>\n",
       "      <td>1</td>\n",
       "      <td>0.446186</td>\n",
       "    </tr>\n",
       "    <tr>\n",
       "      <th>1</th>\n",
       "      <td>2015010000596</td>\n",
       "      <td>2021-06-03</td>\n",
       "      <td>Mobile</td>\n",
       "      <td>1</td>\n",
       "      <td>0.895587</td>\n",
       "    </tr>\n",
       "    <tr>\n",
       "      <th>2</th>\n",
       "      <td>2015010000652</td>\n",
       "      <td>2021-03-06</td>\n",
       "      <td>Mobile</td>\n",
       "      <td>1</td>\n",
       "      <td>0.573274</td>\n",
       "    </tr>\n",
       "    <tr>\n",
       "      <th>3</th>\n",
       "      <td>2015010001152</td>\n",
       "      <td>2021-02-13</td>\n",
       "      <td>TV</td>\n",
       "      <td>1</td>\n",
       "      <td>0.515996</td>\n",
       "    </tr>\n",
       "    <tr>\n",
       "      <th>4</th>\n",
       "      <td>2015010001152</td>\n",
       "      <td>2021-02-18</td>\n",
       "      <td>TV</td>\n",
       "      <td>1</td>\n",
       "      <td>0.529092</td>\n",
       "    </tr>\n",
       "    <tr>\n",
       "      <th>5</th>\n",
       "      <td>2015010001152</td>\n",
       "      <td>2021-03-02</td>\n",
       "      <td>Mobile</td>\n",
       "      <td>1</td>\n",
       "      <td>0.561894</td>\n",
       "    </tr>\n",
       "    <tr>\n",
       "      <th>6</th>\n",
       "      <td>2015010001152</td>\n",
       "      <td>2021-03-23</td>\n",
       "      <td>TV</td>\n",
       "      <td>1</td>\n",
       "      <td>0.624266</td>\n",
       "    </tr>\n",
       "    <tr>\n",
       "      <th>7</th>\n",
       "      <td>2015010001152</td>\n",
       "      <td>2021-04-24</td>\n",
       "      <td>TV</td>\n",
       "      <td>1</td>\n",
       "      <td>0.732877</td>\n",
       "    </tr>\n",
       "    <tr>\n",
       "      <th>8</th>\n",
       "      <td>2015010001152</td>\n",
       "      <td>2021-05-25</td>\n",
       "      <td>TV</td>\n",
       "      <td>1</td>\n",
       "      <td>0.856082</td>\n",
       "    </tr>\n",
       "    <tr>\n",
       "      <th>9</th>\n",
       "      <td>2015010001213</td>\n",
       "      <td>2021-02-25</td>\n",
       "      <td>TV</td>\n",
       "      <td>1</td>\n",
       "      <td>0.547986</td>\n",
       "    </tr>\n",
       "  </tbody>\n",
       "</table>\n",
       "</div>"
      ],
      "text/plain": [
       "     customer_no order_date channel  cnt_order  decay_day\n",
       "0  2015010000596 2021-01-15      TV          1   0.446186\n",
       "1  2015010000596 2021-06-03  Mobile          1   0.895587\n",
       "2  2015010000652 2021-03-06  Mobile          1   0.573274\n",
       "3  2015010001152 2021-02-13      TV          1   0.515996\n",
       "4  2015010001152 2021-02-18      TV          1   0.529092\n",
       "5  2015010001152 2021-03-02  Mobile          1   0.561894\n",
       "6  2015010001152 2021-03-23      TV          1   0.624266\n",
       "7  2015010001152 2021-04-24      TV          1   0.732877\n",
       "8  2015010001152 2021-05-25      TV          1   0.856082\n",
       "9  2015010001213 2021-02-25      TV          1   0.547986"
      ]
     },
     "execution_count": 67,
     "metadata": {},
     "output_type": "execute_result"
    }
   ],
   "source": [
    "## 파라미터 설정\n",
    "day_parameter = 0.995\n",
    "\n",
    "## Time Decay 적용 컬럼 생성\n",
    "decay_summary['decay_day'] = day_parameter ** ((recommend_ymd - decay_summary['order_date']).dt.days)\n",
    "decay_summary.head(10)"
   ]
  },
  {
   "cell_type": "code",
   "execution_count": 68,
   "metadata": {},
   "outputs": [
    {
     "data": {
      "text/html": [
       "<div>\n",
       "<style scoped>\n",
       "    .dataframe tbody tr th:only-of-type {\n",
       "        vertical-align: middle;\n",
       "    }\n",
       "\n",
       "    .dataframe tbody tr th {\n",
       "        vertical-align: top;\n",
       "    }\n",
       "\n",
       "    .dataframe thead th {\n",
       "        text-align: right;\n",
       "    }\n",
       "</style>\n",
       "<table border=\"1\" class=\"dataframe\">\n",
       "  <thead>\n",
       "    <tr style=\"text-align: right;\">\n",
       "      <th></th>\n",
       "      <th>customer_no</th>\n",
       "      <th>channel</th>\n",
       "      <th>cnt_order</th>\n",
       "      <th>decay_day</th>\n",
       "    </tr>\n",
       "  </thead>\n",
       "  <tbody>\n",
       "    <tr>\n",
       "      <th>0</th>\n",
       "      <td>2015010000596</td>\n",
       "      <td>Mobile</td>\n",
       "      <td>1</td>\n",
       "      <td>0.895587</td>\n",
       "    </tr>\n",
       "    <tr>\n",
       "      <th>1</th>\n",
       "      <td>2015010000596</td>\n",
       "      <td>TV</td>\n",
       "      <td>1</td>\n",
       "      <td>0.446186</td>\n",
       "    </tr>\n",
       "    <tr>\n",
       "      <th>2</th>\n",
       "      <td>2015010000652</td>\n",
       "      <td>Mobile</td>\n",
       "      <td>1</td>\n",
       "      <td>0.573274</td>\n",
       "    </tr>\n",
       "    <tr>\n",
       "      <th>3</th>\n",
       "      <td>2015010001152</td>\n",
       "      <td>Mobile</td>\n",
       "      <td>1</td>\n",
       "      <td>0.561894</td>\n",
       "    </tr>\n",
       "    <tr>\n",
       "      <th>4</th>\n",
       "      <td>2015010001152</td>\n",
       "      <td>TV</td>\n",
       "      <td>5</td>\n",
       "      <td>3.258313</td>\n",
       "    </tr>\n",
       "    <tr>\n",
       "      <th>5</th>\n",
       "      <td>2015010001213</td>\n",
       "      <td>TV</td>\n",
       "      <td>1</td>\n",
       "      <td>0.547986</td>\n",
       "    </tr>\n",
       "    <tr>\n",
       "      <th>6</th>\n",
       "      <td>2015010001954</td>\n",
       "      <td>TV</td>\n",
       "      <td>1</td>\n",
       "      <td>0.564717</td>\n",
       "    </tr>\n",
       "    <tr>\n",
       "      <th>7</th>\n",
       "      <td>2015010004299</td>\n",
       "      <td>Mobile</td>\n",
       "      <td>1</td>\n",
       "      <td>0.697047</td>\n",
       "    </tr>\n",
       "    <tr>\n",
       "      <th>8</th>\n",
       "      <td>2015010004451</td>\n",
       "      <td>TV</td>\n",
       "      <td>2</td>\n",
       "      <td>1.373534</td>\n",
       "    </tr>\n",
       "    <tr>\n",
       "      <th>9</th>\n",
       "      <td>2015010005813</td>\n",
       "      <td>Mobile</td>\n",
       "      <td>1</td>\n",
       "      <td>0.834893</td>\n",
       "    </tr>\n",
       "  </tbody>\n",
       "</table>\n",
       "</div>"
      ],
      "text/plain": [
       "     customer_no channel  cnt_order  decay_day\n",
       "0  2015010000596  Mobile          1   0.895587\n",
       "1  2015010000596      TV          1   0.446186\n",
       "2  2015010000652  Mobile          1   0.573274\n",
       "3  2015010001152  Mobile          1   0.561894\n",
       "4  2015010001152      TV          5   3.258313\n",
       "5  2015010001213      TV          1   0.547986\n",
       "6  2015010001954      TV          1   0.564717\n",
       "7  2015010004299  Mobile          1   0.697047\n",
       "8  2015010004451      TV          2   1.373534\n",
       "9  2015010005813  Mobile          1   0.834893"
      ]
     },
     "execution_count": 68,
     "metadata": {},
     "output_type": "execute_result"
    }
   ],
   "source": [
    "## decay_day 집계\n",
    "user_decay_summary = decay_summary.groupby(['customer_no', 'channel']).agg(cnt_order = ('cnt_order', 'sum'),\n",
    "                                                                             decay_day = ('decay_day', 'sum')).reset_index()\n",
    "\n",
    "user_decay_summary.head(10)"
   ]
  },
  {
   "cell_type": "code",
   "execution_count": 69,
   "metadata": {},
   "outputs": [
    {
     "data": {
      "text/html": [
       "<div>\n",
       "<style scoped>\n",
       "    .dataframe tbody tr th:only-of-type {\n",
       "        vertical-align: middle;\n",
       "    }\n",
       "\n",
       "    .dataframe tbody tr th {\n",
       "        vertical-align: top;\n",
       "    }\n",
       "\n",
       "    .dataframe thead th {\n",
       "        text-align: right;\n",
       "    }\n",
       "</style>\n",
       "<table border=\"1\" class=\"dataframe\">\n",
       "  <thead>\n",
       "    <tr style=\"text-align: right;\">\n",
       "      <th></th>\n",
       "      <th>customer_no</th>\n",
       "      <th>channel</th>\n",
       "      <th>cnt_order</th>\n",
       "      <th>decay_day</th>\n",
       "      <th>rn</th>\n",
       "    </tr>\n",
       "  </thead>\n",
       "  <tbody>\n",
       "    <tr>\n",
       "      <th>0</th>\n",
       "      <td>2015010000596</td>\n",
       "      <td>Mobile</td>\n",
       "      <td>1</td>\n",
       "      <td>0.895587</td>\n",
       "      <td>1</td>\n",
       "    </tr>\n",
       "    <tr>\n",
       "      <th>1</th>\n",
       "      <td>2015010000596</td>\n",
       "      <td>TV</td>\n",
       "      <td>1</td>\n",
       "      <td>0.446186</td>\n",
       "      <td>2</td>\n",
       "    </tr>\n",
       "    <tr>\n",
       "      <th>2</th>\n",
       "      <td>2015010000652</td>\n",
       "      <td>Mobile</td>\n",
       "      <td>1</td>\n",
       "      <td>0.573274</td>\n",
       "      <td>1</td>\n",
       "    </tr>\n",
       "    <tr>\n",
       "      <th>3</th>\n",
       "      <td>2015010001152</td>\n",
       "      <td>Mobile</td>\n",
       "      <td>1</td>\n",
       "      <td>0.561894</td>\n",
       "      <td>2</td>\n",
       "    </tr>\n",
       "    <tr>\n",
       "      <th>4</th>\n",
       "      <td>2015010001152</td>\n",
       "      <td>TV</td>\n",
       "      <td>5</td>\n",
       "      <td>3.258313</td>\n",
       "      <td>1</td>\n",
       "    </tr>\n",
       "    <tr>\n",
       "      <th>5</th>\n",
       "      <td>2015010001213</td>\n",
       "      <td>TV</td>\n",
       "      <td>1</td>\n",
       "      <td>0.547986</td>\n",
       "      <td>1</td>\n",
       "    </tr>\n",
       "    <tr>\n",
       "      <th>6</th>\n",
       "      <td>2015010001954</td>\n",
       "      <td>TV</td>\n",
       "      <td>1</td>\n",
       "      <td>0.564717</td>\n",
       "      <td>1</td>\n",
       "    </tr>\n",
       "    <tr>\n",
       "      <th>7</th>\n",
       "      <td>2015010004299</td>\n",
       "      <td>Mobile</td>\n",
       "      <td>1</td>\n",
       "      <td>0.697047</td>\n",
       "      <td>1</td>\n",
       "    </tr>\n",
       "    <tr>\n",
       "      <th>8</th>\n",
       "      <td>2015010004451</td>\n",
       "      <td>TV</td>\n",
       "      <td>2</td>\n",
       "      <td>1.373534</td>\n",
       "      <td>1</td>\n",
       "    </tr>\n",
       "    <tr>\n",
       "      <th>9</th>\n",
       "      <td>2015010005813</td>\n",
       "      <td>Mobile</td>\n",
       "      <td>1</td>\n",
       "      <td>0.834893</td>\n",
       "      <td>1</td>\n",
       "    </tr>\n",
       "  </tbody>\n",
       "</table>\n",
       "</div>"
      ],
      "text/plain": [
       "     customer_no channel  cnt_order  decay_day  rn\n",
       "0  2015010000596  Mobile          1   0.895587   1\n",
       "1  2015010000596      TV          1   0.446186   2\n",
       "2  2015010000652  Mobile          1   0.573274   1\n",
       "3  2015010001152  Mobile          1   0.561894   2\n",
       "4  2015010001152      TV          5   3.258313   1\n",
       "5  2015010001213      TV          1   0.547986   1\n",
       "6  2015010001954      TV          1   0.564717   1\n",
       "7  2015010004299  Mobile          1   0.697047   1\n",
       "8  2015010004451      TV          2   1.373534   1\n",
       "9  2015010005813  Mobile          1   0.834893   1"
      ]
     },
     "execution_count": 69,
     "metadata": {},
     "output_type": "execute_result"
    }
   ],
   "source": [
    "## decay_day 값이 큰 아이템별로 순위 매기기\n",
    "user_decay_summary['rn'] = user_decay_summary.sort_values(by='decay_day', ascending=False) \\\n",
    "             .groupby('customer_no') \\\n",
    "             .cumcount() + 1\n",
    "\n",
    "user_decay_summary.head(10)"
   ]
  },
  {
   "cell_type": "code",
   "execution_count": 70,
   "metadata": {},
   "outputs": [
    {
     "data": {
      "text/html": [
       "<div>\n",
       "<style scoped>\n",
       "    .dataframe tbody tr th:only-of-type {\n",
       "        vertical-align: middle;\n",
       "    }\n",
       "\n",
       "    .dataframe tbody tr th {\n",
       "        vertical-align: top;\n",
       "    }\n",
       "\n",
       "    .dataframe thead th {\n",
       "        text-align: right;\n",
       "    }\n",
       "</style>\n",
       "<table border=\"1\" class=\"dataframe\">\n",
       "  <thead>\n",
       "    <tr style=\"text-align: right;\">\n",
       "      <th></th>\n",
       "      <th>customer_no</th>\n",
       "      <th>channel</th>\n",
       "      <th>cnt_order</th>\n",
       "      <th>decay_day</th>\n",
       "      <th>rn</th>\n",
       "    </tr>\n",
       "  </thead>\n",
       "  <tbody>\n",
       "    <tr>\n",
       "      <th>0</th>\n",
       "      <td>2015010000596</td>\n",
       "      <td>Mobile</td>\n",
       "      <td>1</td>\n",
       "      <td>0.895587</td>\n",
       "      <td>1</td>\n",
       "    </tr>\n",
       "    <tr>\n",
       "      <th>1</th>\n",
       "      <td>2015010000652</td>\n",
       "      <td>Mobile</td>\n",
       "      <td>1</td>\n",
       "      <td>0.573274</td>\n",
       "      <td>1</td>\n",
       "    </tr>\n",
       "    <tr>\n",
       "      <th>2</th>\n",
       "      <td>2015010001152</td>\n",
       "      <td>TV</td>\n",
       "      <td>5</td>\n",
       "      <td>3.258313</td>\n",
       "      <td>1</td>\n",
       "    </tr>\n",
       "    <tr>\n",
       "      <th>3</th>\n",
       "      <td>2015010001213</td>\n",
       "      <td>TV</td>\n",
       "      <td>1</td>\n",
       "      <td>0.547986</td>\n",
       "      <td>1</td>\n",
       "    </tr>\n",
       "    <tr>\n",
       "      <th>4</th>\n",
       "      <td>2015010001954</td>\n",
       "      <td>TV</td>\n",
       "      <td>1</td>\n",
       "      <td>0.564717</td>\n",
       "      <td>1</td>\n",
       "    </tr>\n",
       "  </tbody>\n",
       "</table>\n",
       "</div>"
      ],
      "text/plain": [
       "     customer_no channel  cnt_order  decay_day  rn\n",
       "0  2015010000596  Mobile          1   0.895587   1\n",
       "1  2015010000652  Mobile          1   0.573274   1\n",
       "2  2015010001152      TV          5   3.258313   1\n",
       "3  2015010001213      TV          1   0.547986   1\n",
       "4  2015010001954      TV          1   0.564717   1"
      ]
     },
     "execution_count": 70,
     "metadata": {},
     "output_type": "execute_result"
    }
   ],
   "source": [
    "## Time decay 적용한 최선호 구매 아이템 정보만 남기기\n",
    "user_decay_channel_info = user_decay_summary[user_decay_summary['rn'] == 1].reset_index(drop = True)\n",
    "user_decay_channel_info.head()"
   ]
  },
  {
   "cell_type": "code",
   "execution_count": 71,
   "metadata": {},
   "outputs": [
    {
     "data": {
      "text/plain": [
       "channel\n",
       "TV        45303\n",
       "Mobile    26728\n",
       "Name: count, dtype: int64"
      ]
     },
     "execution_count": 71,
     "metadata": {},
     "output_type": "execute_result"
    }
   ],
   "source": [
    "user_decay_channel_info['channel'].value_counts()"
   ]
  },
  {
   "cell_type": "code",
   "execution_count": 72,
   "metadata": {},
   "outputs": [],
   "source": [
    "test = df.groupby('customer_no')[['gender', 'age_group']].value_counts().reset_index()"
   ]
  },
  {
   "cell_type": "code",
   "execution_count": 73,
   "metadata": {},
   "outputs": [],
   "source": [
    "unique_gender_age = test[test['count']!=0]"
   ]
  },
  {
   "cell_type": "code",
   "execution_count": 74,
   "metadata": {},
   "outputs": [
    {
     "data": {
      "text/html": [
       "<div>\n",
       "<style scoped>\n",
       "    .dataframe tbody tr th:only-of-type {\n",
       "        vertical-align: middle;\n",
       "    }\n",
       "\n",
       "    .dataframe tbody tr th {\n",
       "        vertical-align: top;\n",
       "    }\n",
       "\n",
       "    .dataframe thead th {\n",
       "        text-align: right;\n",
       "    }\n",
       "</style>\n",
       "<table border=\"1\" class=\"dataframe\">\n",
       "  <thead>\n",
       "    <tr style=\"text-align: right;\">\n",
       "      <th></th>\n",
       "      <th>customer_no</th>\n",
       "      <th>channel</th>\n",
       "      <th>cnt_order</th>\n",
       "      <th>decay_day</th>\n",
       "      <th>rn</th>\n",
       "    </tr>\n",
       "  </thead>\n",
       "  <tbody>\n",
       "    <tr>\n",
       "      <th>0</th>\n",
       "      <td>2015010000596</td>\n",
       "      <td>Mobile</td>\n",
       "      <td>1</td>\n",
       "      <td>0.895587</td>\n",
       "      <td>1</td>\n",
       "    </tr>\n",
       "    <tr>\n",
       "      <th>1</th>\n",
       "      <td>2015010000652</td>\n",
       "      <td>Mobile</td>\n",
       "      <td>1</td>\n",
       "      <td>0.573274</td>\n",
       "      <td>1</td>\n",
       "    </tr>\n",
       "    <tr>\n",
       "      <th>2</th>\n",
       "      <td>2015010001152</td>\n",
       "      <td>TV</td>\n",
       "      <td>5</td>\n",
       "      <td>3.258313</td>\n",
       "      <td>1</td>\n",
       "    </tr>\n",
       "    <tr>\n",
       "      <th>3</th>\n",
       "      <td>2015010001213</td>\n",
       "      <td>TV</td>\n",
       "      <td>1</td>\n",
       "      <td>0.547986</td>\n",
       "      <td>1</td>\n",
       "    </tr>\n",
       "    <tr>\n",
       "      <th>4</th>\n",
       "      <td>2015010001954</td>\n",
       "      <td>TV</td>\n",
       "      <td>1</td>\n",
       "      <td>0.564717</td>\n",
       "      <td>1</td>\n",
       "    </tr>\n",
       "  </tbody>\n",
       "</table>\n",
       "</div>"
      ],
      "text/plain": [
       "     customer_no channel  cnt_order  decay_day  rn\n",
       "0  2015010000596  Mobile          1   0.895587   1\n",
       "1  2015010000652  Mobile          1   0.573274   1\n",
       "2  2015010001152      TV          5   3.258313   1\n",
       "3  2015010001213      TV          1   0.547986   1\n",
       "4  2015010001954      TV          1   0.564717   1"
      ]
     },
     "execution_count": 74,
     "metadata": {},
     "output_type": "execute_result"
    }
   ],
   "source": [
    "user_decay_channel_info.head()"
   ]
  },
  {
   "cell_type": "code",
   "execution_count": 75,
   "metadata": {},
   "outputs": [
    {
     "data": {
      "text/html": [
       "<div>\n",
       "<style scoped>\n",
       "    .dataframe tbody tr th:only-of-type {\n",
       "        vertical-align: middle;\n",
       "    }\n",
       "\n",
       "    .dataframe tbody tr th {\n",
       "        vertical-align: top;\n",
       "    }\n",
       "\n",
       "    .dataframe thead th {\n",
       "        text-align: right;\n",
       "    }\n",
       "</style>\n",
       "<table border=\"1\" class=\"dataframe\">\n",
       "  <thead>\n",
       "    <tr style=\"text-align: right;\">\n",
       "      <th></th>\n",
       "      <th>customer_no</th>\n",
       "      <th>gender</th>\n",
       "      <th>age_group</th>\n",
       "      <th>count</th>\n",
       "    </tr>\n",
       "  </thead>\n",
       "  <tbody>\n",
       "    <tr>\n",
       "      <th>0</th>\n",
       "      <td>2015010000596</td>\n",
       "      <td>1</td>\n",
       "      <td>over 40</td>\n",
       "      <td>2</td>\n",
       "    </tr>\n",
       "    <tr>\n",
       "      <th>18</th>\n",
       "      <td>2015010000652</td>\n",
       "      <td>2</td>\n",
       "      <td>over 40</td>\n",
       "      <td>1</td>\n",
       "    </tr>\n",
       "    <tr>\n",
       "      <th>36</th>\n",
       "      <td>2015010001152</td>\n",
       "      <td>1</td>\n",
       "      <td>over 40</td>\n",
       "      <td>6</td>\n",
       "    </tr>\n",
       "    <tr>\n",
       "      <th>54</th>\n",
       "      <td>2015010001213</td>\n",
       "      <td>2</td>\n",
       "      <td>36-40</td>\n",
       "      <td>1</td>\n",
       "    </tr>\n",
       "    <tr>\n",
       "      <th>72</th>\n",
       "      <td>2015010001954</td>\n",
       "      <td>2</td>\n",
       "      <td>over 40</td>\n",
       "      <td>1</td>\n",
       "    </tr>\n",
       "  </tbody>\n",
       "</table>\n",
       "</div>"
      ],
      "text/plain": [
       "      customer_no  gender age_group  count\n",
       "0   2015010000596       1   over 40      2\n",
       "18  2015010000652       2   over 40      1\n",
       "36  2015010001152       1   over 40      6\n",
       "54  2015010001213       2     36-40      1\n",
       "72  2015010001954       2   over 40      1"
      ]
     },
     "execution_count": 75,
     "metadata": {},
     "output_type": "execute_result"
    }
   ],
   "source": [
    "unique_gender_age.head()"
   ]
  },
  {
   "cell_type": "code",
   "execution_count": 76,
   "metadata": {},
   "outputs": [],
   "source": [
    "merge_df = pd.merge(user_decay_channel_info, unique_gender_age, on=['customer_no'])"
   ]
  },
  {
   "cell_type": "code",
   "execution_count": 77,
   "metadata": {},
   "outputs": [
    {
     "data": {
      "text/html": [
       "<div>\n",
       "<style scoped>\n",
       "    .dataframe tbody tr th:only-of-type {\n",
       "        vertical-align: middle;\n",
       "    }\n",
       "\n",
       "    .dataframe tbody tr th {\n",
       "        vertical-align: top;\n",
       "    }\n",
       "\n",
       "    .dataframe thead th {\n",
       "        text-align: right;\n",
       "    }\n",
       "</style>\n",
       "<table border=\"1\" class=\"dataframe\">\n",
       "  <thead>\n",
       "    <tr style=\"text-align: right;\">\n",
       "      <th></th>\n",
       "      <th>customer_no</th>\n",
       "      <th>channel</th>\n",
       "      <th>cnt_order</th>\n",
       "      <th>decay_day</th>\n",
       "      <th>rn</th>\n",
       "      <th>gender</th>\n",
       "      <th>age_group</th>\n",
       "      <th>count</th>\n",
       "    </tr>\n",
       "  </thead>\n",
       "  <tbody>\n",
       "    <tr>\n",
       "      <th>0</th>\n",
       "      <td>2015010000596</td>\n",
       "      <td>Mobile</td>\n",
       "      <td>1</td>\n",
       "      <td>0.895587</td>\n",
       "      <td>1</td>\n",
       "      <td>1</td>\n",
       "      <td>over 40</td>\n",
       "      <td>2</td>\n",
       "    </tr>\n",
       "    <tr>\n",
       "      <th>1</th>\n",
       "      <td>2015010000652</td>\n",
       "      <td>Mobile</td>\n",
       "      <td>1</td>\n",
       "      <td>0.573274</td>\n",
       "      <td>1</td>\n",
       "      <td>2</td>\n",
       "      <td>over 40</td>\n",
       "      <td>1</td>\n",
       "    </tr>\n",
       "    <tr>\n",
       "      <th>2</th>\n",
       "      <td>2015010001152</td>\n",
       "      <td>TV</td>\n",
       "      <td>5</td>\n",
       "      <td>3.258313</td>\n",
       "      <td>1</td>\n",
       "      <td>1</td>\n",
       "      <td>over 40</td>\n",
       "      <td>6</td>\n",
       "    </tr>\n",
       "    <tr>\n",
       "      <th>3</th>\n",
       "      <td>2015010001213</td>\n",
       "      <td>TV</td>\n",
       "      <td>1</td>\n",
       "      <td>0.547986</td>\n",
       "      <td>1</td>\n",
       "      <td>2</td>\n",
       "      <td>36-40</td>\n",
       "      <td>1</td>\n",
       "    </tr>\n",
       "    <tr>\n",
       "      <th>4</th>\n",
       "      <td>2015010001954</td>\n",
       "      <td>TV</td>\n",
       "      <td>1</td>\n",
       "      <td>0.564717</td>\n",
       "      <td>1</td>\n",
       "      <td>2</td>\n",
       "      <td>over 40</td>\n",
       "      <td>1</td>\n",
       "    </tr>\n",
       "  </tbody>\n",
       "</table>\n",
       "</div>"
      ],
      "text/plain": [
       "     customer_no channel  cnt_order  decay_day  rn  gender age_group  count\n",
       "0  2015010000596  Mobile          1   0.895587   1       1   over 40      2\n",
       "1  2015010000652  Mobile          1   0.573274   1       2   over 40      1\n",
       "2  2015010001152      TV          5   3.258313   1       1   over 40      6\n",
       "3  2015010001213      TV          1   0.547986   1       2     36-40      1\n",
       "4  2015010001954      TV          1   0.564717   1       2   over 40      1"
      ]
     },
     "execution_count": 77,
     "metadata": {},
     "output_type": "execute_result"
    }
   ],
   "source": [
    "merge_df.head()"
   ]
  },
  {
   "cell_type": "code",
   "execution_count": 78,
   "metadata": {},
   "outputs": [],
   "source": [
    "from tqdm import tqdm"
   ]
  },
  {
   "cell_type": "code",
   "execution_count": 79,
   "metadata": {},
   "outputs": [
    {
     "data": {
      "text/plain": [
       "72031"
      ]
     },
     "execution_count": 79,
     "metadata": {},
     "output_type": "execute_result"
    }
   ],
   "source": [
    "len(merge_df['customer_no'])"
   ]
  },
  {
   "cell_type": "code",
   "execution_count": 80,
   "metadata": {},
   "outputs": [
    {
     "name": "stderr",
     "output_type": "stream",
     "text": [
      "  0%|          | 0/72031 [00:00<?, ?it/s]"
     ]
    },
    {
     "name": "stderr",
     "output_type": "stream",
     "text": [
      "100%|██████████| 72031/72031 [10:10<00:00, 117.91it/s]\n"
     ]
    }
   ],
   "source": [
    "res = []\n",
    "for i in tqdm(merge_df['customer_no']):\n",
    "    u_df = merge_df[merge_df['customer_no']==i]\n",
    "    gender = u_df['gender'].values[0]\n",
    "    age_group = u_df['age_group'].values[0]\n",
    "    channel = u_df['channel'].values[0]\n",
    "    target = df[(df['channel']==channel) & (df['gender']==gender) & (df['age_group']==age_group)]\n",
    "    result = list(target['item_name'].value_counts()[:5].index)\n",
    "    if not len(result) == 0:\n",
    "        res.append(result)\n",
    "    else: \n",
    "        res.append([])"
   ]
  },
  {
   "cell_type": "code",
   "execution_count": 81,
   "metadata": {},
   "outputs": [],
   "source": [
    "res_df = merge_df.copy()\n",
    "res_df['rec'] = res"
   ]
  },
  {
   "cell_type": "code",
   "execution_count": 82,
   "metadata": {},
   "outputs": [
    {
     "data": {
      "text/html": [
       "<div>\n",
       "<style scoped>\n",
       "    .dataframe tbody tr th:only-of-type {\n",
       "        vertical-align: middle;\n",
       "    }\n",
       "\n",
       "    .dataframe tbody tr th {\n",
       "        vertical-align: top;\n",
       "    }\n",
       "\n",
       "    .dataframe thead th {\n",
       "        text-align: right;\n",
       "    }\n",
       "</style>\n",
       "<table border=\"1\" class=\"dataframe\">\n",
       "  <thead>\n",
       "    <tr style=\"text-align: right;\">\n",
       "      <th></th>\n",
       "      <th>customer_no</th>\n",
       "      <th>channel</th>\n",
       "      <th>cnt_order</th>\n",
       "      <th>decay_day</th>\n",
       "      <th>rn</th>\n",
       "      <th>gender</th>\n",
       "      <th>age_group</th>\n",
       "      <th>count</th>\n",
       "      <th>rec</th>\n",
       "    </tr>\n",
       "  </thead>\n",
       "  <tbody>\n",
       "    <tr>\n",
       "      <th>0</th>\n",
       "      <td>2015010000596</td>\n",
       "      <td>Mobile</td>\n",
       "      <td>1</td>\n",
       "      <td>0.895587</td>\n",
       "      <td>1</td>\n",
       "      <td>1</td>\n",
       "      <td>over 40</td>\n",
       "      <td>2</td>\n",
       "      <td>[생수, 드로즈, 기타 간편/즉석식품, 건강음료, 드럼세탁기]</td>\n",
       "    </tr>\n",
       "    <tr>\n",
       "      <th>1</th>\n",
       "      <td>2015010000652</td>\n",
       "      <td>Mobile</td>\n",
       "      <td>1</td>\n",
       "      <td>0.573274</td>\n",
       "      <td>1</td>\n",
       "      <td>2</td>\n",
       "      <td>over 40</td>\n",
       "      <td>1</td>\n",
       "      <td>[생수, 기타 간편/즉석식품, 드로즈, 골드바/코인, 기타 반찬류]</td>\n",
       "    </tr>\n",
       "    <tr>\n",
       "      <th>2</th>\n",
       "      <td>2015010001152</td>\n",
       "      <td>TV</td>\n",
       "      <td>5</td>\n",
       "      <td>3.258313</td>\n",
       "      <td>1</td>\n",
       "      <td>1</td>\n",
       "      <td>over 40</td>\n",
       "      <td>6</td>\n",
       "      <td>[티셔츠, 캐주얼화, 트랙수트, 오메가3, 트레킹화]</td>\n",
       "    </tr>\n",
       "    <tr>\n",
       "      <th>3</th>\n",
       "      <td>2015010001213</td>\n",
       "      <td>TV</td>\n",
       "      <td>1</td>\n",
       "      <td>0.547986</td>\n",
       "      <td>1</td>\n",
       "      <td>2</td>\n",
       "      <td>36-40</td>\n",
       "      <td>1</td>\n",
       "      <td>[오메가3, 황사마스크, 티셔츠, 트랙수트, 화장지]</td>\n",
       "    </tr>\n",
       "    <tr>\n",
       "      <th>4</th>\n",
       "      <td>2015010001954</td>\n",
       "      <td>TV</td>\n",
       "      <td>1</td>\n",
       "      <td>0.564717</td>\n",
       "      <td>1</td>\n",
       "      <td>2</td>\n",
       "      <td>over 40</td>\n",
       "      <td>1</td>\n",
       "      <td>[티셔츠, 캐주얼화, 트랙수트, 황사마스크, 팬츠]</td>\n",
       "    </tr>\n",
       "    <tr>\n",
       "      <th>...</th>\n",
       "      <td>...</td>\n",
       "      <td>...</td>\n",
       "      <td>...</td>\n",
       "      <td>...</td>\n",
       "      <td>...</td>\n",
       "      <td>...</td>\n",
       "      <td>...</td>\n",
       "      <td>...</td>\n",
       "      <td>...</td>\n",
       "    </tr>\n",
       "    <tr>\n",
       "      <th>72026</th>\n",
       "      <td>2021069984125</td>\n",
       "      <td>TV</td>\n",
       "      <td>1</td>\n",
       "      <td>0.900087</td>\n",
       "      <td>1</td>\n",
       "      <td>2</td>\n",
       "      <td>over 40</td>\n",
       "      <td>1</td>\n",
       "      <td>[티셔츠, 캐주얼화, 트랙수트, 황사마스크, 팬츠]</td>\n",
       "    </tr>\n",
       "    <tr>\n",
       "      <th>72027</th>\n",
       "      <td>2021069986151</td>\n",
       "      <td>TV</td>\n",
       "      <td>1</td>\n",
       "      <td>0.900087</td>\n",
       "      <td>1</td>\n",
       "      <td>2</td>\n",
       "      <td>over 40</td>\n",
       "      <td>1</td>\n",
       "      <td>[티셔츠, 캐주얼화, 트랙수트, 황사마스크, 팬츠]</td>\n",
       "    </tr>\n",
       "    <tr>\n",
       "      <th>72028</th>\n",
       "      <td>2021069994005</td>\n",
       "      <td>TV</td>\n",
       "      <td>1</td>\n",
       "      <td>0.918316</td>\n",
       "      <td>1</td>\n",
       "      <td>9</td>\n",
       "      <td>over 40</td>\n",
       "      <td>1</td>\n",
       "      <td>[오메가3, 캐주얼화, 티셔츠, 트랙수트, 황사마스크]</td>\n",
       "    </tr>\n",
       "    <tr>\n",
       "      <th>72029</th>\n",
       "      <td>2021069994853</td>\n",
       "      <td>TV</td>\n",
       "      <td>1</td>\n",
       "      <td>0.900087</td>\n",
       "      <td>1</td>\n",
       "      <td>1</td>\n",
       "      <td>over 40</td>\n",
       "      <td>1</td>\n",
       "      <td>[티셔츠, 캐주얼화, 트랙수트, 오메가3, 트레킹화]</td>\n",
       "    </tr>\n",
       "    <tr>\n",
       "      <th>72030</th>\n",
       "      <td>2021069995629</td>\n",
       "      <td>TV</td>\n",
       "      <td>1</td>\n",
       "      <td>0.922931</td>\n",
       "      <td>1</td>\n",
       "      <td>9</td>\n",
       "      <td>36-40</td>\n",
       "      <td>1</td>\n",
       "      <td>[오메가3, 티셔츠, 유산균, 프라이팬, 황사마스크]</td>\n",
       "    </tr>\n",
       "  </tbody>\n",
       "</table>\n",
       "<p>72031 rows × 9 columns</p>\n",
       "</div>"
      ],
      "text/plain": [
       "         customer_no channel  cnt_order  decay_day  rn  gender age_group  \\\n",
       "0      2015010000596  Mobile          1   0.895587   1       1   over 40   \n",
       "1      2015010000652  Mobile          1   0.573274   1       2   over 40   \n",
       "2      2015010001152      TV          5   3.258313   1       1   over 40   \n",
       "3      2015010001213      TV          1   0.547986   1       2     36-40   \n",
       "4      2015010001954      TV          1   0.564717   1       2   over 40   \n",
       "...              ...     ...        ...        ...  ..     ...       ...   \n",
       "72026  2021069984125      TV          1   0.900087   1       2   over 40   \n",
       "72027  2021069986151      TV          1   0.900087   1       2   over 40   \n",
       "72028  2021069994005      TV          1   0.918316   1       9   over 40   \n",
       "72029  2021069994853      TV          1   0.900087   1       1   over 40   \n",
       "72030  2021069995629      TV          1   0.922931   1       9     36-40   \n",
       "\n",
       "       count                                    rec  \n",
       "0          2     [생수, 드로즈, 기타 간편/즉석식품, 건강음료, 드럼세탁기]  \n",
       "1          1  [생수, 기타 간편/즉석식품, 드로즈, 골드바/코인, 기타 반찬류]  \n",
       "2          6          [티셔츠, 캐주얼화, 트랙수트, 오메가3, 트레킹화]  \n",
       "3          1          [오메가3, 황사마스크, 티셔츠, 트랙수트, 화장지]  \n",
       "4          1           [티셔츠, 캐주얼화, 트랙수트, 황사마스크, 팬츠]  \n",
       "...      ...                                    ...  \n",
       "72026      1           [티셔츠, 캐주얼화, 트랙수트, 황사마스크, 팬츠]  \n",
       "72027      1           [티셔츠, 캐주얼화, 트랙수트, 황사마스크, 팬츠]  \n",
       "72028      1         [오메가3, 캐주얼화, 티셔츠, 트랙수트, 황사마스크]  \n",
       "72029      1          [티셔츠, 캐주얼화, 트랙수트, 오메가3, 트레킹화]  \n",
       "72030      1          [오메가3, 티셔츠, 유산균, 프라이팬, 황사마스크]  \n",
       "\n",
       "[72031 rows x 9 columns]"
      ]
     },
     "execution_count": 82,
     "metadata": {},
     "output_type": "execute_result"
    }
   ],
   "source": [
    "res_df"
   ]
  },
  {
   "cell_type": "code",
   "execution_count": 83,
   "metadata": {},
   "outputs": [],
   "source": [
    "res_df.to_csv('rec.csv')"
   ]
  },
  {
   "cell_type": "code",
   "execution_count": null,
   "metadata": {},
   "outputs": [],
   "source": []
  }
 ],
 "metadata": {
  "kernelspec": {
   "display_name": "fastcampus-giRWxq6z-py3.10",
   "language": "python",
   "name": "python3"
  },
  "language_info": {
   "codemirror_mode": {
    "name": "ipython",
    "version": 3
   },
   "file_extension": ".py",
   "mimetype": "text/x-python",
   "name": "python",
   "nbconvert_exporter": "python",
   "pygments_lexer": "ipython3",
   "version": "3.10.13"
  }
 },
 "nbformat": 4,
 "nbformat_minor": 2
}
