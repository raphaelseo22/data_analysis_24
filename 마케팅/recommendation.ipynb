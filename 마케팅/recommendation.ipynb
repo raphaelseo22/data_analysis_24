{
 "cells": [
  {
   "cell_type": "markdown",
   "metadata": {},
   "source": [
    "## 분석목적 설명\n",
    "- 현재는 2021년, 000님은 가상의 홈쇼핑 기반 온라인 커머스 기업 ‘다잇다'의 데이터 분석가로 해당 서비스의 데이터 분석을 진행하려고 합니다.\n",
    "- ‘다잇다'의 고객 구매 이력 데이터를 기반으로 고객의 추가 구매 유도를 하기 위한 방안을 수립하고자 합니다. "
   ]
  },
  {
   "cell_type": "code",
   "execution_count": 1,
   "metadata": {},
   "outputs": [],
   "source": [
    "import pandas as pd\n",
    "import numpy as np\n",
    "import matplotlib.pyplot as plt\n",
    "import seaborn as sns"
   ]
  },
  {
   "cell_type": "code",
   "execution_count": 2,
   "metadata": {},
   "outputs": [],
   "source": [
    "import warnings\n",
    "warnings.filterwarnings('ignore')"
   ]
  },
  {
   "cell_type": "code",
   "execution_count": 3,
   "metadata": {},
   "outputs": [],
   "source": [
    "df = pd.read_csv('/Users/raphaelseo/Documents/study/fastcampus/바이트디그리/마케팅/class02/data/online_commerce_data.csv')"
   ]
  },
  {
   "cell_type": "code",
   "execution_count": 4,
   "metadata": {},
   "outputs": [
    {
     "data": {
      "text/plain": [
       "(147311, 14)"
      ]
     },
     "execution_count": 4,
     "metadata": {},
     "output_type": "execute_result"
    }
   ],
   "source": [
    "df.shape"
   ]
  },
  {
   "cell_type": "code",
   "execution_count": 5,
   "metadata": {},
   "outputs": [
    {
     "data": {
      "text/html": [
       "<div>\n",
       "<style scoped>\n",
       "    .dataframe tbody tr th:only-of-type {\n",
       "        vertical-align: middle;\n",
       "    }\n",
       "\n",
       "    .dataframe tbody tr th {\n",
       "        vertical-align: top;\n",
       "    }\n",
       "\n",
       "    .dataframe thead th {\n",
       "        text-align: right;\n",
       "    }\n",
       "</style>\n",
       "<table border=\"1\" class=\"dataframe\">\n",
       "  <thead>\n",
       "    <tr style=\"text-align: right;\">\n",
       "      <th></th>\n",
       "      <th>customer_no</th>\n",
       "      <th>age</th>\n",
       "      <th>gender</th>\n",
       "      <th>order_no</th>\n",
       "      <th>order_date</th>\n",
       "      <th>channel</th>\n",
       "      <th>item_category</th>\n",
       "      <th>item_code</th>\n",
       "      <th>item_name</th>\n",
       "      <th>price</th>\n",
       "      <th>qty</th>\n",
       "      <th>order_amount</th>\n",
       "      <th>discount_amount</th>\n",
       "      <th>paid_amount</th>\n",
       "    </tr>\n",
       "  </thead>\n",
       "  <tbody>\n",
       "    <tr>\n",
       "      <th>0</th>\n",
       "      <td>2021059651101</td>\n",
       "      <td>68.0</td>\n",
       "      <td>9</td>\n",
       "      <td>202106072433746</td>\n",
       "      <td>2021/06/07</td>\n",
       "      <td>TV</td>\n",
       "      <td>캐쥬얼</td>\n",
       "      <td>323421750</td>\n",
       "      <td>밴딩팬츠</td>\n",
       "      <td>49900</td>\n",
       "      <td>1</td>\n",
       "      <td>49900</td>\n",
       "      <td>4990</td>\n",
       "      <td>44910</td>\n",
       "    </tr>\n",
       "    <tr>\n",
       "      <th>1</th>\n",
       "      <td>2018069800502</td>\n",
       "      <td>49.0</td>\n",
       "      <td>2</td>\n",
       "      <td>202105311957155</td>\n",
       "      <td>2021/05/31</td>\n",
       "      <td>TV</td>\n",
       "      <td>레포츠패션</td>\n",
       "      <td>323516657</td>\n",
       "      <td>트랙수트</td>\n",
       "      <td>39000</td>\n",
       "      <td>1</td>\n",
       "      <td>39000</td>\n",
       "      <td>1000</td>\n",
       "      <td>38000</td>\n",
       "    </tr>\n",
       "    <tr>\n",
       "      <th>2</th>\n",
       "      <td>2019073300103</td>\n",
       "      <td>35.0</td>\n",
       "      <td>1</td>\n",
       "      <td>202105138020462</td>\n",
       "      <td>2021/05/13</td>\n",
       "      <td>TV</td>\n",
       "      <td>뷰티</td>\n",
       "      <td>323393459</td>\n",
       "      <td>기초세트</td>\n",
       "      <td>72000</td>\n",
       "      <td>2</td>\n",
       "      <td>144000</td>\n",
       "      <td>27600</td>\n",
       "      <td>116400</td>\n",
       "    </tr>\n",
       "    <tr>\n",
       "      <th>3</th>\n",
       "      <td>2020075283364</td>\n",
       "      <td>41.0</td>\n",
       "      <td>9</td>\n",
       "      <td>202106171444319</td>\n",
       "      <td>2021/06/17</td>\n",
       "      <td>TV</td>\n",
       "      <td>건강식품</td>\n",
       "      <td>323420069</td>\n",
       "      <td>유산균</td>\n",
       "      <td>119000</td>\n",
       "      <td>2</td>\n",
       "      <td>238000</td>\n",
       "      <td>72920</td>\n",
       "      <td>165080</td>\n",
       "    </tr>\n",
       "    <tr>\n",
       "      <th>4</th>\n",
       "      <td>2020104780765</td>\n",
       "      <td>46.0</td>\n",
       "      <td>1</td>\n",
       "      <td>202106024431989</td>\n",
       "      <td>2021/06/02</td>\n",
       "      <td>TV</td>\n",
       "      <td>일반식품</td>\n",
       "      <td>321820178</td>\n",
       "      <td>건강주스</td>\n",
       "      <td>45900</td>\n",
       "      <td>1</td>\n",
       "      <td>45900</td>\n",
       "      <td>2290</td>\n",
       "      <td>43610</td>\n",
       "    </tr>\n",
       "  </tbody>\n",
       "</table>\n",
       "</div>"
      ],
      "text/plain": [
       "     customer_no   age  gender         order_no  order_date channel  \\\n",
       "0  2021059651101  68.0       9  202106072433746  2021/06/07      TV   \n",
       "1  2018069800502  49.0       2  202105311957155  2021/05/31      TV   \n",
       "2  2019073300103  35.0       1  202105138020462  2021/05/13      TV   \n",
       "3  2020075283364  41.0       9  202106171444319  2021/06/17      TV   \n",
       "4  2020104780765  46.0       1  202106024431989  2021/06/02      TV   \n",
       "\n",
       "  item_category  item_code item_name   price  qty  order_amount  \\\n",
       "0           캐쥬얼  323421750      밴딩팬츠   49900    1         49900   \n",
       "1         레포츠패션  323516657      트랙수트   39000    1         39000   \n",
       "2            뷰티  323393459      기초세트   72000    2        144000   \n",
       "3          건강식품  323420069       유산균  119000    2        238000   \n",
       "4          일반식품  321820178      건강주스   45900    1         45900   \n",
       "\n",
       "   discount_amount  paid_amount  \n",
       "0             4990        44910  \n",
       "1             1000        38000  \n",
       "2            27600       116400  \n",
       "3            72920       165080  \n",
       "4             2290        43610  "
      ]
     },
     "execution_count": 5,
     "metadata": {},
     "output_type": "execute_result"
    }
   ],
   "source": [
    "df.head()"
   ]
  },
  {
   "cell_type": "markdown",
   "metadata": {},
   "source": [
    "### 컬럼 타입 확인"
   ]
  },
  {
   "cell_type": "code",
   "execution_count": 6,
   "metadata": {},
   "outputs": [
    {
     "name": "stdout",
     "output_type": "stream",
     "text": [
      "<class 'pandas.core.frame.DataFrame'>\n",
      "RangeIndex: 147311 entries, 0 to 147310\n",
      "Data columns (total 14 columns):\n",
      " #   Column           Non-Null Count   Dtype  \n",
      "---  ------           --------------   -----  \n",
      " 0   customer_no      147311 non-null  int64  \n",
      " 1   age              147273 non-null  float64\n",
      " 2   gender           147311 non-null  int64  \n",
      " 3   order_no         147311 non-null  int64  \n",
      " 4   order_date       147311 non-null  object \n",
      " 5   channel          147311 non-null  object \n",
      " 6   item_category    147311 non-null  object \n",
      " 7   item_code        147311 non-null  int64  \n",
      " 8   item_name        147311 non-null  object \n",
      " 9   price            147311 non-null  int64  \n",
      " 10  qty              147311 non-null  int64  \n",
      " 11  order_amount     147311 non-null  int64  \n",
      " 12  discount_amount  147311 non-null  int64  \n",
      " 13  paid_amount      147311 non-null  int64  \n",
      "dtypes: float64(1), int64(9), object(4)\n",
      "memory usage: 15.7+ MB\n"
     ]
    }
   ],
   "source": [
    "df.info()"
   ]
  },
  {
   "cell_type": "markdown",
   "metadata": {},
   "source": [
    "### 결측치 확인"
   ]
  },
  {
   "cell_type": "code",
   "execution_count": 7,
   "metadata": {},
   "outputs": [
    {
     "name": "stdout",
     "output_type": "stream",
     "text": [
      "age\n"
     ]
    }
   ],
   "source": [
    "for c in df.columns:\n",
    "    t = df[c]\n",
    "    if t.isnull().sum() != 0:\n",
    "        print(c)"
   ]
  },
  {
   "cell_type": "code",
   "execution_count": 8,
   "metadata": {},
   "outputs": [
    {
     "data": {
      "text/plain": [
       "(38, 14)"
      ]
     },
     "execution_count": 8,
     "metadata": {},
     "output_type": "execute_result"
    }
   ],
   "source": [
    "df[df['age'].isnull()].shape"
   ]
  },
  {
   "cell_type": "markdown",
   "metadata": {},
   "source": [
    "#### 결측치 처리 방법\n",
    "- 나이 컬럼에서 약 38개의 결측치가 존재\n",
    "- 보유한 데이터 147311 건중 38개의 경우 매우 적은 비율이라 생각되어 결측치 삭제 진행"
   ]
  },
  {
   "cell_type": "code",
   "execution_count": 9,
   "metadata": {},
   "outputs": [],
   "source": [
    "df = df.dropna()"
   ]
  },
  {
   "cell_type": "code",
   "execution_count": 10,
   "metadata": {},
   "outputs": [
    {
     "data": {
      "text/plain": [
       "(147273, 14)"
      ]
     },
     "execution_count": 10,
     "metadata": {},
     "output_type": "execute_result"
    }
   ],
   "source": [
    "df.shape"
   ]
  },
  {
   "cell_type": "markdown",
   "metadata": {},
   "source": [
    "### 데이터 설명\n",
    "- customer_no : 고객번호 (고객 식별 값, 보통 고유함)\n",
    "  - 고객번호의 앞 여섯 자리는 고객의 가입연월을 의미함 (eg. 2019073300103 고객의 가입연월은 2019-07)\n",
    "- age : 고객 연령\n",
    "- gender : 고객 성별 (1 : 남성, 2 : 여성, 9 : 성별 알 수 없음)\n",
    "- order_no : 주문 번호\n",
    "- order_date : 주문 일자\n",
    "- channel : 주문 채널 (TV, Mobile)\n",
    "- item_category : 아이템 카테고리\n",
    "- item_code : 아이템 코드\n",
    "- item_name : 아이템명\n",
    "- price : 판매가\n",
    "- qty : 주문 수량\n",
    "- order_amount : 주문 금액\n",
    "- discount_amount : 할인 금액\n",
    "- paid_amount : 고객 결제 금액"
   ]
  },
  {
   "cell_type": "code",
   "execution_count": 11,
   "metadata": {},
   "outputs": [],
   "source": [
    "# 시간데이터 변환   \n",
    "df['order_date'] = pd.to_datetime(df['order_date'])"
   ]
  },
  {
   "cell_type": "markdown",
   "metadata": {},
   "source": [
    "## 고객과 서비스의 특징 분석"
   ]
  },
  {
   "cell_type": "markdown",
   "metadata": {},
   "source": [
    "### 성별 및 연령분포"
   ]
  },
  {
   "cell_type": "code",
   "execution_count": 12,
   "metadata": {},
   "outputs": [],
   "source": [
    "from matplotlib import rc\n",
    "rc('font', family='AppleGothic')"
   ]
  },
  {
   "cell_type": "code",
   "execution_count": 13,
   "metadata": {},
   "outputs": [
    {
     "data": {
      "text/plain": [
       "<Axes: xlabel='age', ylabel='Count'>"
      ]
     },
     "execution_count": 13,
     "metadata": {},
     "output_type": "execute_result"
    },
    {
     "data": {
      "image/png": "[encoded data removed]",
      "text/plain": [
       "<Figure size 640x480 with 1 Axes>"
      ]
     },
     "metadata": {},
     "output_type": "display_data"
    }
   ],
   "source": [
    "sns.histplot(data=df, x='age', bins=10)"
   ]
  },
  {
   "cell_type": "code",
   "execution_count": 14,
   "metadata": {},
   "outputs": [],
   "source": [
    "age_labels = ['29세 이하', '30대', '40대', '50대', '60대', '70세 이상']"
   ]
  },
  {
   "cell_type": "code",
   "execution_count": 15,
   "metadata": {},
   "outputs": [],
   "source": [
    "bins = [0, 30, 40, 50, 60, 70, float('inf')]\n",
    "df['age_group'] = pd.cut(df['age'], bins=bins, labels=age_labels, right=False)"
   ]
  },
  {
   "cell_type": "code",
   "execution_count": 16,
   "metadata": {},
   "outputs": [
    {
     "data": {
      "text/html": [
       "<div>\n",
       "<style scoped>\n",
       "    .dataframe tbody tr th:only-of-type {\n",
       "        vertical-align: middle;\n",
       "    }\n",
       "\n",
       "    .dataframe tbody tr th {\n",
       "        vertical-align: top;\n",
       "    }\n",
       "\n",
       "    .dataframe thead th {\n",
       "        text-align: right;\n",
       "    }\n",
       "</style>\n",
       "<table border=\"1\" class=\"dataframe\">\n",
       "  <thead>\n",
       "    <tr style=\"text-align: right;\">\n",
       "      <th></th>\n",
       "      <th>customer_no</th>\n",
       "      <th>age</th>\n",
       "      <th>gender</th>\n",
       "      <th>order_no</th>\n",
       "      <th>order_date</th>\n",
       "      <th>channel</th>\n",
       "      <th>item_category</th>\n",
       "      <th>item_code</th>\n",
       "      <th>item_name</th>\n",
       "      <th>price</th>\n",
       "      <th>qty</th>\n",
       "      <th>order_amount</th>\n",
       "      <th>discount_amount</th>\n",
       "      <th>paid_amount</th>\n",
       "      <th>age_group</th>\n",
       "    </tr>\n",
       "  </thead>\n",
       "  <tbody>\n",
       "    <tr>\n",
       "      <th>0</th>\n",
       "      <td>2021059651101</td>\n",
       "      <td>68.0</td>\n",
       "      <td>9</td>\n",
       "      <td>202106072433746</td>\n",
       "      <td>2021-06-07</td>\n",
       "      <td>TV</td>\n",
       "      <td>캐쥬얼</td>\n",
       "      <td>323421750</td>\n",
       "      <td>밴딩팬츠</td>\n",
       "      <td>49900</td>\n",
       "      <td>1</td>\n",
       "      <td>49900</td>\n",
       "      <td>4990</td>\n",
       "      <td>44910</td>\n",
       "      <td>60대</td>\n",
       "    </tr>\n",
       "    <tr>\n",
       "      <th>1</th>\n",
       "      <td>2018069800502</td>\n",
       "      <td>49.0</td>\n",
       "      <td>2</td>\n",
       "      <td>202105311957155</td>\n",
       "      <td>2021-05-31</td>\n",
       "      <td>TV</td>\n",
       "      <td>레포츠패션</td>\n",
       "      <td>323516657</td>\n",
       "      <td>트랙수트</td>\n",
       "      <td>39000</td>\n",
       "      <td>1</td>\n",
       "      <td>39000</td>\n",
       "      <td>1000</td>\n",
       "      <td>38000</td>\n",
       "      <td>40대</td>\n",
       "    </tr>\n",
       "    <tr>\n",
       "      <th>2</th>\n",
       "      <td>2019073300103</td>\n",
       "      <td>35.0</td>\n",
       "      <td>1</td>\n",
       "      <td>202105138020462</td>\n",
       "      <td>2021-05-13</td>\n",
       "      <td>TV</td>\n",
       "      <td>뷰티</td>\n",
       "      <td>323393459</td>\n",
       "      <td>기초세트</td>\n",
       "      <td>72000</td>\n",
       "      <td>2</td>\n",
       "      <td>144000</td>\n",
       "      <td>27600</td>\n",
       "      <td>116400</td>\n",
       "      <td>30대</td>\n",
       "    </tr>\n",
       "    <tr>\n",
       "      <th>3</th>\n",
       "      <td>2020075283364</td>\n",
       "      <td>41.0</td>\n",
       "      <td>9</td>\n",
       "      <td>202106171444319</td>\n",
       "      <td>2021-06-17</td>\n",
       "      <td>TV</td>\n",
       "      <td>건강식품</td>\n",
       "      <td>323420069</td>\n",
       "      <td>유산균</td>\n",
       "      <td>119000</td>\n",
       "      <td>2</td>\n",
       "      <td>238000</td>\n",
       "      <td>72920</td>\n",
       "      <td>165080</td>\n",
       "      <td>40대</td>\n",
       "    </tr>\n",
       "    <tr>\n",
       "      <th>4</th>\n",
       "      <td>2020104780765</td>\n",
       "      <td>46.0</td>\n",
       "      <td>1</td>\n",
       "      <td>202106024431989</td>\n",
       "      <td>2021-06-02</td>\n",
       "      <td>TV</td>\n",
       "      <td>일반식품</td>\n",
       "      <td>321820178</td>\n",
       "      <td>건강주스</td>\n",
       "      <td>45900</td>\n",
       "      <td>1</td>\n",
       "      <td>45900</td>\n",
       "      <td>2290</td>\n",
       "      <td>43610</td>\n",
       "      <td>40대</td>\n",
       "    </tr>\n",
       "  </tbody>\n",
       "</table>\n",
       "</div>"
      ],
      "text/plain": [
       "     customer_no   age  gender         order_no order_date channel  \\\n",
       "0  2021059651101  68.0       9  202106072433746 2021-06-07      TV   \n",
       "1  2018069800502  49.0       2  202105311957155 2021-05-31      TV   \n",
       "2  2019073300103  35.0       1  202105138020462 2021-05-13      TV   \n",
       "3  2020075283364  41.0       9  202106171444319 2021-06-17      TV   \n",
       "4  2020104780765  46.0       1  202106024431989 2021-06-02      TV   \n",
       "\n",
       "  item_category  item_code item_name   price  qty  order_amount  \\\n",
       "0           캐쥬얼  323421750      밴딩팬츠   49900    1         49900   \n",
       "1         레포츠패션  323516657      트랙수트   39000    1         39000   \n",
       "2            뷰티  323393459      기초세트   72000    2        144000   \n",
       "3          건강식품  323420069       유산균  119000    2        238000   \n",
       "4          일반식품  321820178      건강주스   45900    1         45900   \n",
       "\n",
       "   discount_amount  paid_amount age_group  \n",
       "0             4990        44910       60대  \n",
       "1             1000        38000       40대  \n",
       "2            27600       116400       30대  \n",
       "3            72920       165080       40대  \n",
       "4             2290        43610       40대  "
      ]
     },
     "execution_count": 16,
     "metadata": {},
     "output_type": "execute_result"
    }
   ],
   "source": [
    "df.head()"
   ]
  },
  {
   "cell_type": "code",
   "execution_count": 17,
   "metadata": {},
   "outputs": [
    {
     "data": {
      "image/png": "[encoded data removed]",
      "text/plain": [
       "<Figure size 640x480 with 1 Axes>"
      ]
     },
     "metadata": {},
     "output_type": "display_data"
    }
   ],
   "source": [
    "value_counts = df['age_group'].value_counts(normalize=True)\n",
    "ratio = value_counts.values\n",
    "labels = value_counts.index\n",
    "plt.pie(ratio, autopct='%.1f%%', startangle=260, counterclock=False)\n",
    "plt.title('나이분포')\n",
    "plt.legend(labels, loc='upper right')\n",
    "plt.show()"
   ]
  },
  {
   "cell_type": "markdown",
   "metadata": {},
   "source": [
    "#### 피드백\n",
    "- 나이가 하나로 치중되어있음\n",
    "- 히스토그램을 활용하여 나이의 분포를 확인한 후 그룹화를 진행하는 것이 좋음"
   ]
  },
  {
   "cell_type": "code",
   "execution_count": 18,
   "metadata": {},
   "outputs": [
    {
     "name": "stdout",
     "output_type": "stream",
     "text": [
      "age_group\n",
      "40대       0.281769\n",
      "50대       0.237464\n",
      "30대       0.225269\n",
      "60대       0.153097\n",
      "29세 이하    0.054402\n",
      "70세 이상    0.047999\n",
      "Name: proportion, dtype: float64\n"
     ]
    }
   ],
   "source": [
    "print(value_counts)"
   ]
  },
  {
   "cell_type": "code",
   "execution_count": 19,
   "metadata": {},
   "outputs": [
    {
     "data": {
      "image/png": "[encoded data removed]",
      "text/plain": [
       "<Figure size 640x480 with 1 Axes>"
      ]
     },
     "metadata": {},
     "output_type": "display_data"
    }
   ],
   "source": [
    "value_counts = df['gender'].value_counts(normalize=True)\n",
    "n_labels = value_counts.index\n",
    "ratio = value_counts.values\n",
    "label_dic = {1:'남성', 2:'여성', 9:'알 수 없음'}\n",
    "labels = [label_dic[i] for i in n_labels]\n",
    "plt.pie(ratio, autopct='%.1f%%', startangle=260, counterclock=False)\n",
    "plt.title('성별분포')\n",
    "plt.legend(labels, loc='upper right')\n",
    "plt.show()"
   ]
  },
  {
   "cell_type": "markdown",
   "metadata": {},
   "source": [
    "#### 성별과 연령 분포 시각화 결과\n",
    "- 대부분의 고객은 여성이며 40대의 고객이 가장 많았습니다.\n",
    "- 70세 이하의 경우 전채 고객의 약 4.8% 정도를 차지하며 가장 적은 고객수를 갖고있습니다."
   ]
  },
  {
   "cell_type": "markdown",
   "metadata": {},
   "source": [
    "### 고객 타입별 평균 구매회수와 총 구매금액 비교"
   ]
  },
  {
   "cell_type": "code",
   "execution_count": 20,
   "metadata": {},
   "outputs": [
    {
     "data": {
      "text/html": [
       "<div>\n",
       "<style scoped>\n",
       "    .dataframe tbody tr th:only-of-type {\n",
       "        vertical-align: middle;\n",
       "    }\n",
       "\n",
       "    .dataframe tbody tr th {\n",
       "        vertical-align: top;\n",
       "    }\n",
       "\n",
       "    .dataframe thead th {\n",
       "        text-align: right;\n",
       "    }\n",
       "</style>\n",
       "<table border=\"1\" class=\"dataframe\">\n",
       "  <thead>\n",
       "    <tr style=\"text-align: right;\">\n",
       "      <th></th>\n",
       "      <th>customer_no</th>\n",
       "      <th>age</th>\n",
       "      <th>gender</th>\n",
       "      <th>order_no</th>\n",
       "      <th>order_date</th>\n",
       "      <th>channel</th>\n",
       "      <th>item_category</th>\n",
       "      <th>item_code</th>\n",
       "      <th>item_name</th>\n",
       "      <th>price</th>\n",
       "      <th>qty</th>\n",
       "      <th>order_amount</th>\n",
       "      <th>discount_amount</th>\n",
       "      <th>paid_amount</th>\n",
       "      <th>age_group</th>\n",
       "    </tr>\n",
       "  </thead>\n",
       "  <tbody>\n",
       "    <tr>\n",
       "      <th>0</th>\n",
       "      <td>2021059651101</td>\n",
       "      <td>68.0</td>\n",
       "      <td>9</td>\n",
       "      <td>202106072433746</td>\n",
       "      <td>2021-06-07</td>\n",
       "      <td>TV</td>\n",
       "      <td>캐쥬얼</td>\n",
       "      <td>323421750</td>\n",
       "      <td>밴딩팬츠</td>\n",
       "      <td>49900</td>\n",
       "      <td>1</td>\n",
       "      <td>49900</td>\n",
       "      <td>4990</td>\n",
       "      <td>44910</td>\n",
       "      <td>60대</td>\n",
       "    </tr>\n",
       "    <tr>\n",
       "      <th>1</th>\n",
       "      <td>2018069800502</td>\n",
       "      <td>49.0</td>\n",
       "      <td>2</td>\n",
       "      <td>202105311957155</td>\n",
       "      <td>2021-05-31</td>\n",
       "      <td>TV</td>\n",
       "      <td>레포츠패션</td>\n",
       "      <td>323516657</td>\n",
       "      <td>트랙수트</td>\n",
       "      <td>39000</td>\n",
       "      <td>1</td>\n",
       "      <td>39000</td>\n",
       "      <td>1000</td>\n",
       "      <td>38000</td>\n",
       "      <td>40대</td>\n",
       "    </tr>\n",
       "    <tr>\n",
       "      <th>2</th>\n",
       "      <td>2019073300103</td>\n",
       "      <td>35.0</td>\n",
       "      <td>1</td>\n",
       "      <td>202105138020462</td>\n",
       "      <td>2021-05-13</td>\n",
       "      <td>TV</td>\n",
       "      <td>뷰티</td>\n",
       "      <td>323393459</td>\n",
       "      <td>기초세트</td>\n",
       "      <td>72000</td>\n",
       "      <td>2</td>\n",
       "      <td>144000</td>\n",
       "      <td>27600</td>\n",
       "      <td>116400</td>\n",
       "      <td>30대</td>\n",
       "    </tr>\n",
       "    <tr>\n",
       "      <th>3</th>\n",
       "      <td>2020075283364</td>\n",
       "      <td>41.0</td>\n",
       "      <td>9</td>\n",
       "      <td>202106171444319</td>\n",
       "      <td>2021-06-17</td>\n",
       "      <td>TV</td>\n",
       "      <td>건강식품</td>\n",
       "      <td>323420069</td>\n",
       "      <td>유산균</td>\n",
       "      <td>119000</td>\n",
       "      <td>2</td>\n",
       "      <td>238000</td>\n",
       "      <td>72920</td>\n",
       "      <td>165080</td>\n",
       "      <td>40대</td>\n",
       "    </tr>\n",
       "    <tr>\n",
       "      <th>4</th>\n",
       "      <td>2020104780765</td>\n",
       "      <td>46.0</td>\n",
       "      <td>1</td>\n",
       "      <td>202106024431989</td>\n",
       "      <td>2021-06-02</td>\n",
       "      <td>TV</td>\n",
       "      <td>일반식품</td>\n",
       "      <td>321820178</td>\n",
       "      <td>건강주스</td>\n",
       "      <td>45900</td>\n",
       "      <td>1</td>\n",
       "      <td>45900</td>\n",
       "      <td>2290</td>\n",
       "      <td>43610</td>\n",
       "      <td>40대</td>\n",
       "    </tr>\n",
       "  </tbody>\n",
       "</table>\n",
       "</div>"
      ],
      "text/plain": [
       "     customer_no   age  gender         order_no order_date channel  \\\n",
       "0  2021059651101  68.0       9  202106072433746 2021-06-07      TV   \n",
       "1  2018069800502  49.0       2  202105311957155 2021-05-31      TV   \n",
       "2  2019073300103  35.0       1  202105138020462 2021-05-13      TV   \n",
       "3  2020075283364  41.0       9  202106171444319 2021-06-17      TV   \n",
       "4  2020104780765  46.0       1  202106024431989 2021-06-02      TV   \n",
       "\n",
       "  item_category  item_code item_name   price  qty  order_amount  \\\n",
       "0           캐쥬얼  323421750      밴딩팬츠   49900    1         49900   \n",
       "1         레포츠패션  323516657      트랙수트   39000    1         39000   \n",
       "2            뷰티  323393459      기초세트   72000    2        144000   \n",
       "3          건강식품  323420069       유산균  119000    2        238000   \n",
       "4          일반식품  321820178      건강주스   45900    1         45900   \n",
       "\n",
       "   discount_amount  paid_amount age_group  \n",
       "0             4990        44910       60대  \n",
       "1             1000        38000       40대  \n",
       "2            27600       116400       30대  \n",
       "3            72920       165080       40대  \n",
       "4             2290        43610       40대  "
      ]
     },
     "execution_count": 20,
     "metadata": {},
     "output_type": "execute_result"
    }
   ],
   "source": [
    "df.head()"
   ]
  },
  {
   "cell_type": "code",
   "execution_count": 21,
   "metadata": {},
   "outputs": [
    {
     "data": {
      "text/html": [
       "<div>\n",
       "<style scoped>\n",
       "    .dataframe tbody tr th:only-of-type {\n",
       "        vertical-align: middle;\n",
       "    }\n",
       "\n",
       "    .dataframe tbody tr th {\n",
       "        vertical-align: top;\n",
       "    }\n",
       "\n",
       "    .dataframe thead th {\n",
       "        text-align: right;\n",
       "    }\n",
       "</style>\n",
       "<table border=\"1\" class=\"dataframe\">\n",
       "  <thead>\n",
       "    <tr style=\"text-align: right;\">\n",
       "      <th></th>\n",
       "      <th>gender</th>\n",
       "      <th>order_no</th>\n",
       "    </tr>\n",
       "  </thead>\n",
       "  <tbody>\n",
       "    <tr>\n",
       "      <th>1</th>\n",
       "      <td>2</td>\n",
       "      <td>79432</td>\n",
       "    </tr>\n",
       "    <tr>\n",
       "      <th>0</th>\n",
       "      <td>1</td>\n",
       "      <td>42527</td>\n",
       "    </tr>\n",
       "    <tr>\n",
       "      <th>2</th>\n",
       "      <td>9</td>\n",
       "      <td>25314</td>\n",
       "    </tr>\n",
       "  </tbody>\n",
       "</table>\n",
       "</div>"
      ],
      "text/plain": [
       "   gender  order_no\n",
       "1       2     79432\n",
       "0       1     42527\n",
       "2       9     25314"
      ]
     },
     "execution_count": 21,
     "metadata": {},
     "output_type": "execute_result"
    }
   ],
   "source": [
    "df.groupby('gender')['order_no'].count().reset_index().sort_values('order_no', axis=0, ascending=False)"
   ]
  },
  {
   "cell_type": "code",
   "execution_count": 22,
   "metadata": {},
   "outputs": [
    {
     "data": {
      "text/html": [
       "<div>\n",
       "<style scoped>\n",
       "    .dataframe tbody tr th:only-of-type {\n",
       "        vertical-align: middle;\n",
       "    }\n",
       "\n",
       "    .dataframe tbody tr th {\n",
       "        vertical-align: top;\n",
       "    }\n",
       "\n",
       "    .dataframe thead th {\n",
       "        text-align: right;\n",
       "    }\n",
       "</style>\n",
       "<table border=\"1\" class=\"dataframe\">\n",
       "  <thead>\n",
       "    <tr style=\"text-align: right;\">\n",
       "      <th></th>\n",
       "      <th>gender</th>\n",
       "      <th>paid_amount</th>\n",
       "    </tr>\n",
       "  </thead>\n",
       "  <tbody>\n",
       "    <tr>\n",
       "      <th>2</th>\n",
       "      <td>9</td>\n",
       "      <td>147712.242633</td>\n",
       "    </tr>\n",
       "    <tr>\n",
       "      <th>0</th>\n",
       "      <td>1</td>\n",
       "      <td>139484.860206</td>\n",
       "    </tr>\n",
       "    <tr>\n",
       "      <th>1</th>\n",
       "      <td>2</td>\n",
       "      <td>83656.895458</td>\n",
       "    </tr>\n",
       "  </tbody>\n",
       "</table>\n",
       "</div>"
      ],
      "text/plain": [
       "   gender    paid_amount\n",
       "2       9  147712.242633\n",
       "0       1  139484.860206\n",
       "1       2   83656.895458"
      ]
     },
     "execution_count": 22,
     "metadata": {},
     "output_type": "execute_result"
    }
   ],
   "source": [
    "df.groupby('gender')['paid_amount'].mean().reset_index().sort_values('paid_amount', axis=0, ascending=False)"
   ]
  },
  {
   "cell_type": "code",
   "execution_count": 23,
   "metadata": {},
   "outputs": [
    {
     "data": {
      "text/html": [
       "<div>\n",
       "<style scoped>\n",
       "    .dataframe tbody tr th:only-of-type {\n",
       "        vertical-align: middle;\n",
       "    }\n",
       "\n",
       "    .dataframe tbody tr th {\n",
       "        vertical-align: top;\n",
       "    }\n",
       "\n",
       "    .dataframe thead th {\n",
       "        text-align: right;\n",
       "    }\n",
       "</style>\n",
       "<table border=\"1\" class=\"dataframe\">\n",
       "  <thead>\n",
       "    <tr style=\"text-align: right;\">\n",
       "      <th></th>\n",
       "      <th>gender</th>\n",
       "      <th>order_amount</th>\n",
       "    </tr>\n",
       "  </thead>\n",
       "  <tbody>\n",
       "    <tr>\n",
       "      <th>2</th>\n",
       "      <td>9</td>\n",
       "      <td>161082.427510</td>\n",
       "    </tr>\n",
       "    <tr>\n",
       "      <th>0</th>\n",
       "      <td>1</td>\n",
       "      <td>157084.950032</td>\n",
       "    </tr>\n",
       "    <tr>\n",
       "      <th>1</th>\n",
       "      <td>2</td>\n",
       "      <td>91924.308213</td>\n",
       "    </tr>\n",
       "  </tbody>\n",
       "</table>\n",
       "</div>"
      ],
      "text/plain": [
       "   gender   order_amount\n",
       "2       9  161082.427510\n",
       "0       1  157084.950032\n",
       "1       2   91924.308213"
      ]
     },
     "execution_count": 23,
     "metadata": {},
     "output_type": "execute_result"
    }
   ],
   "source": [
    "df.groupby('gender')['order_amount'].mean().reset_index().sort_values('order_amount', axis=0, ascending=False)"
   ]
  },
  {
   "cell_type": "code",
   "execution_count": 24,
   "metadata": {},
   "outputs": [
    {
     "data": {
      "text/html": [
       "<div>\n",
       "<style scoped>\n",
       "    .dataframe tbody tr th:only-of-type {\n",
       "        vertical-align: middle;\n",
       "    }\n",
       "\n",
       "    .dataframe tbody tr th {\n",
       "        vertical-align: top;\n",
       "    }\n",
       "\n",
       "    .dataframe thead th {\n",
       "        text-align: right;\n",
       "    }\n",
       "</style>\n",
       "<table border=\"1\" class=\"dataframe\">\n",
       "  <thead>\n",
       "    <tr style=\"text-align: right;\">\n",
       "      <th></th>\n",
       "      <th>gender</th>\n",
       "      <th>discount_amount</th>\n",
       "    </tr>\n",
       "  </thead>\n",
       "  <tbody>\n",
       "    <tr>\n",
       "      <th>0</th>\n",
       "      <td>1</td>\n",
       "      <td>17600.089825</td>\n",
       "    </tr>\n",
       "    <tr>\n",
       "      <th>2</th>\n",
       "      <td>9</td>\n",
       "      <td>13370.184878</td>\n",
       "    </tr>\n",
       "    <tr>\n",
       "      <th>1</th>\n",
       "      <td>2</td>\n",
       "      <td>8267.412756</td>\n",
       "    </tr>\n",
       "  </tbody>\n",
       "</table>\n",
       "</div>"
      ],
      "text/plain": [
       "   gender  discount_amount\n",
       "0       1     17600.089825\n",
       "2       9     13370.184878\n",
       "1       2      8267.412756"
      ]
     },
     "execution_count": 24,
     "metadata": {},
     "output_type": "execute_result"
    }
   ],
   "source": [
    "df.groupby('gender')['discount_amount'].mean().reset_index().sort_values('discount_amount', axis=0, ascending=False)"
   ]
  },
  {
   "cell_type": "markdown",
   "metadata": {},
   "source": [
    "#### 고객의 성별별 구매 금액 비교\n",
    "- 저희 홈쇼핑의 고객의 대부분이 여성이기 때문에 절대적인 주문건수는 여성이 가장 많았습니다.\n",
    "- 하지만 평균 구매 금액을 비교해본 결과는 결제 금액과 구매 금액 모두 성별 알 수 없음, 남성, 여성의 순으로 높게 나타났습니다.\n",
    "- 할인 금액의 경우에는 남성, 알 수 없음, 여성의 순으로 높게 나타났습니다."
   ]
  },
  {
   "cell_type": "code",
   "execution_count": 25,
   "metadata": {},
   "outputs": [
    {
     "data": {
      "text/html": [
       "<div>\n",
       "<style scoped>\n",
       "    .dataframe tbody tr th:only-of-type {\n",
       "        vertical-align: middle;\n",
       "    }\n",
       "\n",
       "    .dataframe tbody tr th {\n",
       "        vertical-align: top;\n",
       "    }\n",
       "\n",
       "    .dataframe thead th {\n",
       "        text-align: right;\n",
       "    }\n",
       "</style>\n",
       "<table border=\"1\" class=\"dataframe\">\n",
       "  <thead>\n",
       "    <tr style=\"text-align: right;\">\n",
       "      <th></th>\n",
       "      <th>age_group</th>\n",
       "      <th>order_no</th>\n",
       "    </tr>\n",
       "  </thead>\n",
       "  <tbody>\n",
       "    <tr>\n",
       "      <th>2</th>\n",
       "      <td>40대</td>\n",
       "      <td>41497</td>\n",
       "    </tr>\n",
       "    <tr>\n",
       "      <th>3</th>\n",
       "      <td>50대</td>\n",
       "      <td>34972</td>\n",
       "    </tr>\n",
       "    <tr>\n",
       "      <th>1</th>\n",
       "      <td>30대</td>\n",
       "      <td>33176</td>\n",
       "    </tr>\n",
       "    <tr>\n",
       "      <th>4</th>\n",
       "      <td>60대</td>\n",
       "      <td>22547</td>\n",
       "    </tr>\n",
       "    <tr>\n",
       "      <th>0</th>\n",
       "      <td>29세 이하</td>\n",
       "      <td>8012</td>\n",
       "    </tr>\n",
       "    <tr>\n",
       "      <th>5</th>\n",
       "      <td>70세 이상</td>\n",
       "      <td>7069</td>\n",
       "    </tr>\n",
       "  </tbody>\n",
       "</table>\n",
       "</div>"
      ],
      "text/plain": [
       "  age_group  order_no\n",
       "2       40대     41497\n",
       "3       50대     34972\n",
       "1       30대     33176\n",
       "4       60대     22547\n",
       "0    29세 이하      8012\n",
       "5    70세 이상      7069"
      ]
     },
     "execution_count": 25,
     "metadata": {},
     "output_type": "execute_result"
    }
   ],
   "source": [
    "df.groupby('age_group')['order_no'].count().reset_index().sort_values('order_no', axis=0, ascending=False)"
   ]
  },
  {
   "cell_type": "code",
   "execution_count": 26,
   "metadata": {},
   "outputs": [
    {
     "data": {
      "text/html": [
       "<div>\n",
       "<style scoped>\n",
       "    .dataframe tbody tr th:only-of-type {\n",
       "        vertical-align: middle;\n",
       "    }\n",
       "\n",
       "    .dataframe tbody tr th {\n",
       "        vertical-align: top;\n",
       "    }\n",
       "\n",
       "    .dataframe thead th {\n",
       "        text-align: right;\n",
       "    }\n",
       "</style>\n",
       "<table border=\"1\" class=\"dataframe\">\n",
       "  <thead>\n",
       "    <tr style=\"text-align: right;\">\n",
       "      <th></th>\n",
       "      <th>age_group</th>\n",
       "      <th>paid_amount</th>\n",
       "    </tr>\n",
       "  </thead>\n",
       "  <tbody>\n",
       "    <tr>\n",
       "      <th>0</th>\n",
       "      <td>29세 이하</td>\n",
       "      <td>199634.832751</td>\n",
       "    </tr>\n",
       "    <tr>\n",
       "      <th>2</th>\n",
       "      <td>40대</td>\n",
       "      <td>130925.462805</td>\n",
       "    </tr>\n",
       "    <tr>\n",
       "      <th>1</th>\n",
       "      <td>30대</td>\n",
       "      <td>128792.959067</td>\n",
       "    </tr>\n",
       "    <tr>\n",
       "      <th>5</th>\n",
       "      <td>70세 이상</td>\n",
       "      <td>84343.180082</td>\n",
       "    </tr>\n",
       "    <tr>\n",
       "      <th>4</th>\n",
       "      <td>60대</td>\n",
       "      <td>84306.777842</td>\n",
       "    </tr>\n",
       "    <tr>\n",
       "      <th>3</th>\n",
       "      <td>50대</td>\n",
       "      <td>71877.061649</td>\n",
       "    </tr>\n",
       "  </tbody>\n",
       "</table>\n",
       "</div>"
      ],
      "text/plain": [
       "  age_group    paid_amount\n",
       "0    29세 이하  199634.832751\n",
       "2       40대  130925.462805\n",
       "1       30대  128792.959067\n",
       "5    70세 이상   84343.180082\n",
       "4       60대   84306.777842\n",
       "3       50대   71877.061649"
      ]
     },
     "execution_count": 26,
     "metadata": {},
     "output_type": "execute_result"
    }
   ],
   "source": [
    "df.groupby('age_group')['paid_amount'].mean().reset_index().sort_values('paid_amount', axis=0, ascending=False)"
   ]
  },
  {
   "cell_type": "code",
   "execution_count": 27,
   "metadata": {},
   "outputs": [
    {
     "data": {
      "text/html": [
       "<div>\n",
       "<style scoped>\n",
       "    .dataframe tbody tr th:only-of-type {\n",
       "        vertical-align: middle;\n",
       "    }\n",
       "\n",
       "    .dataframe tbody tr th {\n",
       "        vertical-align: top;\n",
       "    }\n",
       "\n",
       "    .dataframe thead th {\n",
       "        text-align: right;\n",
       "    }\n",
       "</style>\n",
       "<table border=\"1\" class=\"dataframe\">\n",
       "  <thead>\n",
       "    <tr style=\"text-align: right;\">\n",
       "      <th></th>\n",
       "      <th>age_group</th>\n",
       "      <th>order_amount</th>\n",
       "    </tr>\n",
       "  </thead>\n",
       "  <tbody>\n",
       "    <tr>\n",
       "      <th>0</th>\n",
       "      <td>29세 이하</td>\n",
       "      <td>224062.513729</td>\n",
       "    </tr>\n",
       "    <tr>\n",
       "      <th>1</th>\n",
       "      <td>30대</td>\n",
       "      <td>145115.654389</td>\n",
       "    </tr>\n",
       "    <tr>\n",
       "      <th>2</th>\n",
       "      <td>40대</td>\n",
       "      <td>145000.559077</td>\n",
       "    </tr>\n",
       "    <tr>\n",
       "      <th>5</th>\n",
       "      <td>70세 이상</td>\n",
       "      <td>92693.768567</td>\n",
       "    </tr>\n",
       "    <tr>\n",
       "      <th>4</th>\n",
       "      <td>60대</td>\n",
       "      <td>90502.436244</td>\n",
       "    </tr>\n",
       "    <tr>\n",
       "      <th>3</th>\n",
       "      <td>50대</td>\n",
       "      <td>78270.593618</td>\n",
       "    </tr>\n",
       "  </tbody>\n",
       "</table>\n",
       "</div>"
      ],
      "text/plain": [
       "  age_group   order_amount\n",
       "0    29세 이하  224062.513729\n",
       "1       30대  145115.654389\n",
       "2       40대  145000.559077\n",
       "5    70세 이상   92693.768567\n",
       "4       60대   90502.436244\n",
       "3       50대   78270.593618"
      ]
     },
     "execution_count": 27,
     "metadata": {},
     "output_type": "execute_result"
    }
   ],
   "source": [
    "df.groupby('age_group')['order_amount'].mean().reset_index().sort_values('order_amount', axis=0, ascending=False)"
   ]
  },
  {
   "cell_type": "code",
   "execution_count": 28,
   "metadata": {},
   "outputs": [
    {
     "data": {
      "text/html": [
       "<div>\n",
       "<style scoped>\n",
       "    .dataframe tbody tr th:only-of-type {\n",
       "        vertical-align: middle;\n",
       "    }\n",
       "\n",
       "    .dataframe tbody tr th {\n",
       "        vertical-align: top;\n",
       "    }\n",
       "\n",
       "    .dataframe thead th {\n",
       "        text-align: right;\n",
       "    }\n",
       "</style>\n",
       "<table border=\"1\" class=\"dataframe\">\n",
       "  <thead>\n",
       "    <tr style=\"text-align: right;\">\n",
       "      <th></th>\n",
       "      <th>age_group</th>\n",
       "      <th>discount_amount</th>\n",
       "    </tr>\n",
       "  </thead>\n",
       "  <tbody>\n",
       "    <tr>\n",
       "      <th>0</th>\n",
       "      <td>29세 이하</td>\n",
       "      <td>24427.680979</td>\n",
       "    </tr>\n",
       "    <tr>\n",
       "      <th>1</th>\n",
       "      <td>30대</td>\n",
       "      <td>16322.695322</td>\n",
       "    </tr>\n",
       "    <tr>\n",
       "      <th>2</th>\n",
       "      <td>40대</td>\n",
       "      <td>14075.096272</td>\n",
       "    </tr>\n",
       "    <tr>\n",
       "      <th>5</th>\n",
       "      <td>70세 이상</td>\n",
       "      <td>8350.588485</td>\n",
       "    </tr>\n",
       "    <tr>\n",
       "      <th>3</th>\n",
       "      <td>50대</td>\n",
       "      <td>6393.531968</td>\n",
       "    </tr>\n",
       "    <tr>\n",
       "      <th>4</th>\n",
       "      <td>60대</td>\n",
       "      <td>6195.658402</td>\n",
       "    </tr>\n",
       "  </tbody>\n",
       "</table>\n",
       "</div>"
      ],
      "text/plain": [
       "  age_group  discount_amount\n",
       "0    29세 이하     24427.680979\n",
       "1       30대     16322.695322\n",
       "2       40대     14075.096272\n",
       "5    70세 이상      8350.588485\n",
       "3       50대      6393.531968\n",
       "4       60대      6195.658402"
      ]
     },
     "execution_count": 28,
     "metadata": {},
     "output_type": "execute_result"
    }
   ],
   "source": [
    "df.groupby('age_group')['discount_amount'].mean().reset_index().sort_values('discount_amount', axis=0, ascending=False)"
   ]
  },
  {
   "cell_type": "markdown",
   "metadata": {},
   "source": [
    "#### 고객의 나이대별 구매 금액 비교\n",
    "- 성별비교와 마찬가지로 고객의 많은 비중을 차지하고 있는 40대의 고객의 주문 횟수가 많았습니다.\n",
    "- 하지만 평균적인 구매 금액과 결제 금액의 경우에는 29세 이하 그룹이 가장 많은 평균 금액을 보여주었습니다.\n",
    "- 할인 금액의 경우에는 70세 이상을 제외하고는 나이가 어릴수록 더 높은 경향성을 보여주었습니다."
   ]
  },
  {
   "cell_type": "markdown",
   "metadata": {},
   "source": [
    "### 고객의 타입별 선호 카테고리"
   ]
  },
  {
   "cell_type": "code",
   "execution_count": 29,
   "metadata": {},
   "outputs": [],
   "source": [
    "m_cate = df[df['gender']==1]['item_category'].value_counts().reset_index()\n",
    "f_cate = df[df['gender']==2]['item_category'].value_counts().reset_index()\n",
    "u_cate = df[df['gender']==9]['item_category'].value_counts().reset_index()"
   ]
  },
  {
   "cell_type": "code",
   "execution_count": 30,
   "metadata": {},
   "outputs": [],
   "source": [
    "cate = df['item_category'].value_counts()"
   ]
  },
  {
   "cell_type": "code",
   "execution_count": 31,
   "metadata": {},
   "outputs": [
    {
     "data": {
      "image/png": "[encoded data removed]",
      "text/plain": [
       "<Figure size 640x480 with 1 Axes>"
      ]
     },
     "metadata": {},
     "output_type": "display_data"
    }
   ],
   "source": [
    "sns.barplot(data=f_cate, x='count', y='item_category', label='female', alpha=0.5)\n",
    "sns.barplot(data=m_cate, x='count', y='item_category', label='male', alpha=0.5)\n",
    "sns.barplot(data=u_cate, x='count', y='item_category', label='unknown', alpha=0.5)\n",
    "plt.legend(loc='lower right')\n",
    "plt.title('상품 카테고리별 구매횟수')\n",
    "plt.show()"
   ]
  },
  {
   "cell_type": "code",
   "execution_count": 32,
   "metadata": {},
   "outputs": [],
   "source": [
    "m_cate = df[df['gender']==1]['item_category'].value_counts(normalize=True)\n",
    "f_cate = df[df['gender']==2]['item_category'].value_counts(normalize=True)\n",
    "u_cate = df[df['gender']==9]['item_category'].value_counts(normalize=True)"
   ]
  },
  {
   "cell_type": "code",
   "execution_count": 33,
   "metadata": {},
   "outputs": [
    {
     "name": "stdout",
     "output_type": "stream",
     "text": [
      "item_category\n",
      "일반식품       0.488090\n",
      "대형가전       0.067886\n",
      "언더웨어       0.067839\n",
      "건강식품       0.059092\n",
      "레포츠패션      0.058175\n",
      "뷰티         0.057587\n",
      "생활가전       0.051991\n",
      "생활용품       0.044395\n",
      "패션잡화       0.030498\n",
      "주방가전       0.016648\n",
      "캐쥬얼        0.013968\n",
      "여성의류       0.011992\n",
      "상품권        0.010276\n",
      "주방용품       0.007195\n",
      "레저/스포츠     0.005361\n",
      "키즈/유아동     0.003316\n",
      "가구/인테리어    0.002775\n",
      "남성의류       0.001670\n",
      "침구         0.000988\n",
      "반려용품       0.000259\n",
      "Name: proportion, dtype: float64\n"
     ]
    }
   ],
   "source": [
    "print(m_cate)"
   ]
  },
  {
   "cell_type": "code",
   "execution_count": 34,
   "metadata": {},
   "outputs": [
    {
     "name": "stdout",
     "output_type": "stream",
     "text": [
      "item_category\n",
      "일반식품       0.485661\n",
      "레포츠패션      0.084840\n",
      "생활용품       0.070891\n",
      "언더웨어       0.060404\n",
      "패션잡화       0.052045\n",
      "여성의류       0.050924\n",
      "건강식품       0.039480\n",
      "생활가전       0.031914\n",
      "캐쥬얼        0.031423\n",
      "대형가전       0.026224\n",
      "뷰티         0.023580\n",
      "주방용품       0.015900\n",
      "주방가전       0.011129\n",
      "키즈/유아동     0.004897\n",
      "가구/인테리어    0.003563\n",
      "레저/스포츠     0.003349\n",
      "침구         0.001964\n",
      "남성의류       0.000881\n",
      "반려용품       0.000667\n",
      "상품권        0.000239\n",
      "여행         0.000025\n",
      "Name: proportion, dtype: float64\n"
     ]
    }
   ],
   "source": [
    "print(f_cate)"
   ]
  },
  {
   "cell_type": "code",
   "execution_count": 35,
   "metadata": {},
   "outputs": [
    {
     "name": "stdout",
     "output_type": "stream",
     "text": [
      "item_category\n",
      "일반식품       0.381093\n",
      "건강식품       0.127913\n",
      "레포츠패션      0.091214\n",
      "생활용품       0.069803\n",
      "패션잡화       0.053291\n",
      "언더웨어       0.049696\n",
      "뷰티         0.048550\n",
      "여성의류       0.036818\n",
      "캐쥬얼        0.031208\n",
      "키즈/유아동     0.021885\n",
      "생활가전       0.021056\n",
      "주방용품       0.015486\n",
      "주방가전       0.013155\n",
      "대형가전       0.012483\n",
      "레저/스포츠     0.009639\n",
      "가구/인테리어    0.006992\n",
      "침구         0.004503\n",
      "상품권        0.003279\n",
      "남성의류       0.001185\n",
      "반려용품       0.000672\n",
      "여행         0.000079\n",
      "Name: proportion, dtype: float64\n"
     ]
    }
   ],
   "source": [
    "print(u_cate)"
   ]
  },
  {
   "cell_type": "markdown",
   "metadata": {},
   "source": [
    "#### 성별별 구매순위\n",
    "- 모든 성별에서 일반식품의 구매가 가장 많이 이루어졌습니다.\n",
    "- 남성의 경우에는 이후 대형가전, 언더웨어, 건강식품을 많이 구매하였습니다.\n",
    "- 여성의 경우에는 이후 레포츠패션, 생활용품, 언더웨어를 많이 구매하였습니다.\n",
    "- 성별을 알 수 없는 고객들의 경우에는 건강식품, 레포츠패션, 생활용품을 많이 구매하였습니다."
   ]
  },
  {
   "cell_type": "code",
   "execution_count": 36,
   "metadata": {},
   "outputs": [],
   "source": [
    "cate_29_u = df[df['age_group']=='29세 이하']['item_category'].value_counts().reset_index()\n",
    "cate_30 = df[df['age_group']=='30대']['item_category'].value_counts().reset_index()\n",
    "cate_40 = df[df['age_group']=='40대']['item_category'].value_counts().reset_index()\n",
    "cate_50 = df[df['age_group']=='50대']['item_category'].value_counts().reset_index()\n",
    "cate_60 = df[df['age_group']=='60대']['item_category'].value_counts().reset_index()\n",
    "cate_over70 = df[df['age_group']=='70세 이상']['item_category'].value_counts().reset_index()"
   ]
  },
  {
   "cell_type": "code",
   "execution_count": 37,
   "metadata": {},
   "outputs": [
    {
     "data": {
      "image/png": "[encoded data removed]",
      "text/plain": [
       "<Figure size 640x480 with 1 Axes>"
      ]
     },
     "metadata": {},
     "output_type": "display_data"
    }
   ],
   "source": [
    "sns.barplot(data=cate_29_u, x='count', y='item_category', label='over 40', alpha=0.5)\n",
    "sns.barplot(data=cate_30, x='count', y='item_category', label='36-40', alpha=0.5)\n",
    "sns.barplot(data=cate_40, x='count', y='item_category', label='31-35', alpha=0.5)\n",
    "sns.barplot(data=cate_50, x='count', y='item_category', label='26-30', alpha=0.5)\n",
    "sns.barplot(data=cate_60, x='count', y='item_category', label='21-25', alpha=0.5)\n",
    "sns.barplot(data=cate_over70, x='count', y='item_category', label='20 or under', alpha=0.5)\n",
    "plt.legend(loc='lower right')\n",
    "plt.title('상품 카테고리별 구매횟수')\n",
    "plt.show()"
   ]
  },
  {
   "cell_type": "code",
   "execution_count": 38,
   "metadata": {},
   "outputs": [],
   "source": [
    "cate_29_u = df[df['age_group']=='29세 이하']['item_category'].value_counts(normalize=True)\n",
    "cate_30 = df[df['age_group']=='30대']['item_category'].value_counts(normalize=True)\n",
    "cate_40 = df[df['age_group']=='40대']['item_category'].value_counts(normalize=True)\n",
    "cate_50 = df[df['age_group']=='50대']['item_category'].value_counts(normalize=True)\n",
    "cate_60 = df[df['age_group']=='60대']['item_category'].value_counts(normalize=True)\n",
    "cate_over70 = df[df['age_group']=='70세 이상']['item_category'].value_counts(normalize=True)"
   ]
  },
  {
   "cell_type": "code",
   "execution_count": 39,
   "metadata": {},
   "outputs": [
    {
     "data": {
      "text/plain": [
       "item_category\n",
       "일반식품       0.440964\n",
       "대형가전       0.118947\n",
       "생활가전       0.118198\n",
       "건강식품       0.087619\n",
       "뷰티         0.065652\n",
       "생활용품       0.042936\n",
       "언더웨어       0.033949\n",
       "레포츠패션      0.017224\n",
       "상품권        0.016850\n",
       "패션잡화       0.014853\n",
       "주방용품       0.007988\n",
       "여성의류       0.007364\n",
       "주방가전       0.006116\n",
       "캐쥬얼        0.005991\n",
       "키즈/유아동     0.005492\n",
       "레저/스포츠     0.003994\n",
       "가구/인테리어    0.003245\n",
       "반려용품       0.001248\n",
       "침구         0.000874\n",
       "남성의류       0.000499\n",
       "Name: proportion, dtype: float64"
      ]
     },
     "execution_count": 39,
     "metadata": {},
     "output_type": "execute_result"
    }
   ],
   "source": [
    "cate_29_u"
   ]
  },
  {
   "cell_type": "code",
   "execution_count": 40,
   "metadata": {},
   "outputs": [
    {
     "data": {
      "text/plain": [
       "item_category\n",
       "일반식품       0.543495\n",
       "건강식품       0.062786\n",
       "대형가전       0.062063\n",
       "뷰티         0.057964\n",
       "생활가전       0.057210\n",
       "언더웨어       0.049825\n",
       "생활용품       0.045575\n",
       "주방가전       0.030172\n",
       "레포츠패션      0.018779\n",
       "키즈/유아동     0.018447\n",
       "패션잡화       0.014559\n",
       "주방용품       0.010459\n",
       "여성의류       0.009013\n",
       "캐쥬얼        0.007596\n",
       "상품권        0.003979\n",
       "레저/스포츠     0.003557\n",
       "가구/인테리어    0.001839\n",
       "침구         0.001326\n",
       "반려용품       0.000784\n",
       "남성의류       0.000543\n",
       "여행         0.000030\n",
       "Name: proportion, dtype: float64"
      ]
     },
     "execution_count": 40,
     "metadata": {},
     "output_type": "execute_result"
    }
   ],
   "source": [
    "cate_30"
   ]
  },
  {
   "cell_type": "code",
   "execution_count": 41,
   "metadata": {},
   "outputs": [
    {
     "data": {
      "text/plain": [
       "item_category\n",
       "일반식품       0.519507\n",
       "건강식품       0.080030\n",
       "언더웨어       0.068511\n",
       "생활용품       0.064535\n",
       "레포츠패션      0.063402\n",
       "패션잡화       0.032725\n",
       "뷰티         0.030870\n",
       "대형가전       0.029279\n",
       "생활가전       0.025905\n",
       "여성의류       0.021929\n",
       "캐쥬얼        0.020459\n",
       "주방용품       0.012386\n",
       "키즈/유아동     0.008820\n",
       "레저/스포츠     0.006868\n",
       "주방가전       0.006145\n",
       "가구/인테리어    0.004121\n",
       "침구         0.002169\n",
       "상품권        0.001157\n",
       "남성의류       0.000795\n",
       "반려용품       0.000361\n",
       "여행         0.000024\n",
       "Name: proportion, dtype: float64"
      ]
     },
     "execution_count": 41,
     "metadata": {},
     "output_type": "execute_result"
    }
   ],
   "source": [
    "cate_40"
   ]
  },
  {
   "cell_type": "code",
   "execution_count": 42,
   "metadata": {},
   "outputs": [
    {
     "data": {
      "text/plain": [
       "item_category\n",
       "일반식품       0.395259\n",
       "레포츠패션      0.134708\n",
       "생활용품       0.077634\n",
       "패션잡화       0.072229\n",
       "언더웨어       0.067683\n",
       "여성의류       0.065081\n",
       "캐쥬얼        0.043349\n",
       "건강식품       0.037459\n",
       "뷰티         0.029509\n",
       "생활가전       0.020388\n",
       "주방용품       0.015527\n",
       "대형가전       0.009922\n",
       "주방가전       0.008864\n",
       "상품권        0.005833\n",
       "가구/인테리어    0.005662\n",
       "레저/스포츠     0.004432\n",
       "침구         0.002716\n",
       "남성의류       0.001944\n",
       "키즈/유아동     0.001172\n",
       "반려용품       0.000572\n",
       "여행         0.000057\n",
       "Name: proportion, dtype: float64"
      ]
     },
     "execution_count": 42,
     "metadata": {},
     "output_type": "execute_result"
    }
   ],
   "source": [
    "cate_50"
   ]
  },
  {
   "cell_type": "code",
   "execution_count": 43,
   "metadata": {},
   "outputs": [
    {
     "data": {
      "text/plain": [
       "item_category\n",
       "일반식품       0.384087\n",
       "레포츠패션      0.128310\n",
       "패션잡화       0.083736\n",
       "여성의류       0.069721\n",
       "생활용품       0.069278\n",
       "언더웨어       0.061605\n",
       "캐쥬얼        0.045150\n",
       "건강식품       0.042533\n",
       "뷰티         0.025414\n",
       "대형가전       0.023950\n",
       "생활가전       0.021378\n",
       "주방용품       0.017696\n",
       "주방가전       0.011842\n",
       "레저/스포츠     0.005411\n",
       "가구/인테리어    0.004125\n",
       "침구         0.002794\n",
       "남성의류       0.001818\n",
       "키즈/유아동     0.000710\n",
       "반려용품       0.000266\n",
       "상품권        0.000177\n",
       "Name: proportion, dtype: float64"
      ]
     },
     "execution_count": 43,
     "metadata": {},
     "output_type": "execute_result"
    }
   ],
   "source": [
    "cate_60"
   ]
  },
  {
   "cell_type": "code",
   "execution_count": 44,
   "metadata": {},
   "outputs": [
    {
     "data": {
      "text/plain": [
       "item_category\n",
       "일반식품       0.477578\n",
       "레포츠패션      0.074409\n",
       "건강식품       0.072429\n",
       "생활용품       0.067195\n",
       "언더웨어       0.058990\n",
       "패션잡화       0.057434\n",
       "여성의류       0.052483\n",
       "뷰티         0.030556\n",
       "캐쥬얼        0.027868\n",
       "대형가전       0.024332\n",
       "생활가전       0.023200\n",
       "주방용품       0.013297\n",
       "주방가전       0.006083\n",
       "가구/인테리어    0.004102\n",
       "레저/스포츠     0.003678\n",
       "상품권        0.002263\n",
       "침구         0.001839\n",
       "남성의류       0.000990\n",
       "키즈/유아동     0.000707\n",
       "반려용품       0.000566\n",
       "Name: proportion, dtype: float64"
      ]
     },
     "execution_count": 44,
     "metadata": {},
     "output_type": "execute_result"
    }
   ],
   "source": [
    "cate_over70"
   ]
  },
  {
   "cell_type": "markdown",
   "metadata": {},
   "source": [
    "#### 고객의 나이대별 구매순위\n",
    "- 모든 연령대의 고객들이 일반식품을 가장 많이 구매하였습니다.\n",
    "- 29세 이하의 고객들은 대형가전과 생활 가전을 그 다음으로 많이 구매하였습니다.\n",
    "- 30대 고객들은 건강식품과 대형가전을 그 다음으로 많이 구매하였습니다.\n",
    "- 40대 고객들은 건강식품과 언더웨어를 그 다음으로 많이 구매하였습니다.\n",
    "- 50대 고객들은 레포츠패션과 생활용품을 그 다음으로 많이 구매하였습니다.\n",
    "- 60대 고객들은 레포츠패션과 패션잡화를 그 다음으로 많이 구매하였습니다.\n",
    "- 70세 이상의 고객들은 레포츠패션과 건강식품을 많이 구매하였습니다.\n",
    "- 40대 부터 그 이하의 고객들은 건강식품을 50대 부터는 레포츠패션을 선호하는 경향성을 보이고 있습니다."
   ]
  },
  {
   "cell_type": "markdown",
   "metadata": {},
   "source": [
    "### 채녈별 특징 분석"
   ]
  },
  {
   "cell_type": "code",
   "execution_count": 45,
   "metadata": {},
   "outputs": [
    {
     "data": {
      "image/png": "[encoded data removed]",
      "text/plain": [
       "<Figure size 640x480 with 1 Axes>"
      ]
     },
     "metadata": {},
     "output_type": "display_data"
    }
   ],
   "source": [
    "value_counts = df['channel'].value_counts(normalize=True)\n",
    "ratio = value_counts.values\n",
    "labels = value_counts.index\n",
    "plt.pie(ratio, autopct='%.1f%%', startangle=260, counterclock=False)\n",
    "plt.title('채널분포')\n",
    "plt.legend(labels, loc='upper right')\n",
    "plt.show()"
   ]
  },
  {
   "cell_type": "code",
   "execution_count": 46,
   "metadata": {},
   "outputs": [],
   "source": [
    "mobile = df[df['channel']=='Mobile']\n",
    "tv = df[df['channel']=='TV']"
   ]
  },
  {
   "cell_type": "code",
   "execution_count": 47,
   "metadata": {},
   "outputs": [
    {
     "data": {
      "text/plain": [
       "channel  gender\n",
       "Mobile   2         44139\n",
       "         1         29239\n",
       "         9         11002\n",
       "TV       2         35293\n",
       "         9         14312\n",
       "         1         13288\n",
       "Name: count, dtype: int64"
      ]
     },
     "execution_count": 47,
     "metadata": {},
     "output_type": "execute_result"
    }
   ],
   "source": [
    "df.groupby('channel')['gender'].value_counts()"
   ]
  },
  {
   "cell_type": "code",
   "execution_count": 48,
   "metadata": {},
   "outputs": [
    {
     "data": {
      "image/png": "[encoded data removed]",
      "text/plain": [
       "<Figure size 640x480 with 1 Axes>"
      ]
     },
     "metadata": {},
     "output_type": "display_data"
    }
   ],
   "source": [
    "value_counts = mobile['gender'].value_counts(normalize=True)\n",
    "ratio = value_counts.values\n",
    "n_labels = value_counts.index\n",
    "label_dic = {1:'남성', 2:'여성', 9:'알 수 없음'}\n",
    "labels = [label_dic[i] for i in n_labels]\n",
    "plt.pie(ratio, autopct='%.1f%%', startangle=260, counterclock=False)\n",
    "plt.title('모바일 고객 성별 분포')\n",
    "plt.legend(labels, loc='upper right')\n",
    "plt.show()"
   ]
  },
  {
   "cell_type": "code",
   "execution_count": 49,
   "metadata": {},
   "outputs": [
    {
     "data": {
      "image/png": "[encoded data removed]",
      "text/plain": [
       "<Figure size 640x480 with 1 Axes>"
      ]
     },
     "metadata": {},
     "output_type": "display_data"
    }
   ],
   "source": [
    "value_counts = tv['gender'].value_counts(normalize=True)\n",
    "ratio = value_counts.values\n",
    "n_labels = value_counts.index\n",
    "label_dic = {1:'남성', 2:'여성', 9:'알 수 없음'}\n",
    "labels = [label_dic[i] for i in n_labels]\n",
    "plt.pie(ratio, autopct='%.1f%%', startangle=260, counterclock=False)\n",
    "plt.title('TV 고객 성별 분포')\n",
    "plt.legend(labels, loc='upper right')\n",
    "plt.show()"
   ]
  },
  {
   "cell_type": "markdown",
   "metadata": {},
   "source": [
    "#### 채널별 성별 분포\n",
    "- 두 집단 모두 여성이 절반이상을 차지하고 있습니다.\n",
    "- 하지만 TV의 경우 모바일보다 남성의 비율이 약 11.9%p 낮고 알 수 없음의 비율이 약 8.1%p 높습니다."
   ]
  },
  {
   "cell_type": "code",
   "execution_count": 50,
   "metadata": {},
   "outputs": [],
   "source": [
    "from scipy import stats"
   ]
  },
  {
   "cell_type": "code",
   "execution_count": 51,
   "metadata": {},
   "outputs": [
    {
     "name": "stdout",
     "output_type": "stream",
     "text": [
      "44.77319269969187\n",
      "52.51697327206525\n",
      "0.0\n"
     ]
    }
   ],
   "source": [
    "t, p = stats.ttest_ind(mobile['age'], tv['age'], equal_var=True)\n",
    "print(mobile['age'].mean())\n",
    "print(tv['age'].mean())\n",
    "print(p)"
   ]
  },
  {
   "cell_type": "code",
   "execution_count": 52,
   "metadata": {},
   "outputs": [
    {
     "data": {
      "image/png": "[encoded data removed]",
      "text/plain": [
       "<Figure size 640x480 with 1 Axes>"
      ]
     },
     "metadata": {},
     "output_type": "display_data"
    }
   ],
   "source": [
    "value_counts = mobile['age_group'].value_counts(normalize=True)\n",
    "ratio = value_counts.values\n",
    "labels = value_counts.index\n",
    "plt.pie(ratio, autopct='%.1f%%', startangle=260, counterclock=False)\n",
    "plt.title('나이분포')\n",
    "plt.legend(labels, loc='upper right')\n",
    "plt.show()"
   ]
  },
  {
   "cell_type": "code",
   "execution_count": 53,
   "metadata": {},
   "outputs": [
    {
     "data": {
      "image/png": "[encoded data removed]",
      "text/plain": [
       "<Figure size 640x480 with 1 Axes>"
      ]
     },
     "metadata": {},
     "output_type": "display_data"
    }
   ],
   "source": [
    "value_counts = tv['age_group'].value_counts(normalize=True)\n",
    "ratio = value_counts.values\n",
    "labels = value_counts.index\n",
    "plt.pie(ratio, autopct='%.1f%%', startangle=260, counterclock=False)\n",
    "plt.title('나이분포')\n",
    "plt.legend(labels, loc='upper right')\n",
    "plt.show()"
   ]
  },
  {
   "cell_type": "markdown",
   "metadata": {},
   "source": [
    "#### 채널별 연령차이\n",
    "- 모바일 고객의 평균 연령은 약 45세 이고 TV 고객의 평균 연령은 약 53세 입니다.\n",
    "- 두 집단의 T-test 결과 P-value가 0으로 이는 통계적으로 유의미한 평균 차이를 갖고 있다는 것을 나타냅니다.\n",
    "- 모바일의 경우에는 40대 와 30대 고객이 가장 많았고 TV의 경우에는 50대와 60대의 고객이 가장 많았습니다."
   ]
  },
  {
   "cell_type": "markdown",
   "metadata": {},
   "source": [
    "### 채널별 구매 금액 비교"
   ]
  },
  {
   "cell_type": "code",
   "execution_count": 54,
   "metadata": {},
   "outputs": [
    {
     "data": {
      "text/html": [
       "<div>\n",
       "<style scoped>\n",
       "    .dataframe tbody tr th:only-of-type {\n",
       "        vertical-align: middle;\n",
       "    }\n",
       "\n",
       "    .dataframe tbody tr th {\n",
       "        vertical-align: top;\n",
       "    }\n",
       "\n",
       "    .dataframe thead th {\n",
       "        text-align: right;\n",
       "    }\n",
       "</style>\n",
       "<table border=\"1\" class=\"dataframe\">\n",
       "  <thead>\n",
       "    <tr style=\"text-align: right;\">\n",
       "      <th></th>\n",
       "      <th>customer_no</th>\n",
       "      <th>age</th>\n",
       "      <th>gender</th>\n",
       "      <th>order_no</th>\n",
       "      <th>order_date</th>\n",
       "      <th>channel</th>\n",
       "      <th>item_category</th>\n",
       "      <th>item_code</th>\n",
       "      <th>item_name</th>\n",
       "      <th>price</th>\n",
       "      <th>qty</th>\n",
       "      <th>order_amount</th>\n",
       "      <th>discount_amount</th>\n",
       "      <th>paid_amount</th>\n",
       "      <th>age_group</th>\n",
       "    </tr>\n",
       "  </thead>\n",
       "  <tbody>\n",
       "    <tr>\n",
       "      <th>0</th>\n",
       "      <td>2021059651101</td>\n",
       "      <td>68.0</td>\n",
       "      <td>9</td>\n",
       "      <td>202106072433746</td>\n",
       "      <td>2021-06-07</td>\n",
       "      <td>TV</td>\n",
       "      <td>캐쥬얼</td>\n",
       "      <td>323421750</td>\n",
       "      <td>밴딩팬츠</td>\n",
       "      <td>49900</td>\n",
       "      <td>1</td>\n",
       "      <td>49900</td>\n",
       "      <td>4990</td>\n",
       "      <td>44910</td>\n",
       "      <td>60대</td>\n",
       "    </tr>\n",
       "    <tr>\n",
       "      <th>1</th>\n",
       "      <td>2018069800502</td>\n",
       "      <td>49.0</td>\n",
       "      <td>2</td>\n",
       "      <td>202105311957155</td>\n",
       "      <td>2021-05-31</td>\n",
       "      <td>TV</td>\n",
       "      <td>레포츠패션</td>\n",
       "      <td>323516657</td>\n",
       "      <td>트랙수트</td>\n",
       "      <td>39000</td>\n",
       "      <td>1</td>\n",
       "      <td>39000</td>\n",
       "      <td>1000</td>\n",
       "      <td>38000</td>\n",
       "      <td>40대</td>\n",
       "    </tr>\n",
       "    <tr>\n",
       "      <th>2</th>\n",
       "      <td>2019073300103</td>\n",
       "      <td>35.0</td>\n",
       "      <td>1</td>\n",
       "      <td>202105138020462</td>\n",
       "      <td>2021-05-13</td>\n",
       "      <td>TV</td>\n",
       "      <td>뷰티</td>\n",
       "      <td>323393459</td>\n",
       "      <td>기초세트</td>\n",
       "      <td>72000</td>\n",
       "      <td>2</td>\n",
       "      <td>144000</td>\n",
       "      <td>27600</td>\n",
       "      <td>116400</td>\n",
       "      <td>30대</td>\n",
       "    </tr>\n",
       "    <tr>\n",
       "      <th>3</th>\n",
       "      <td>2020075283364</td>\n",
       "      <td>41.0</td>\n",
       "      <td>9</td>\n",
       "      <td>202106171444319</td>\n",
       "      <td>2021-06-17</td>\n",
       "      <td>TV</td>\n",
       "      <td>건강식품</td>\n",
       "      <td>323420069</td>\n",
       "      <td>유산균</td>\n",
       "      <td>119000</td>\n",
       "      <td>2</td>\n",
       "      <td>238000</td>\n",
       "      <td>72920</td>\n",
       "      <td>165080</td>\n",
       "      <td>40대</td>\n",
       "    </tr>\n",
       "    <tr>\n",
       "      <th>4</th>\n",
       "      <td>2020104780765</td>\n",
       "      <td>46.0</td>\n",
       "      <td>1</td>\n",
       "      <td>202106024431989</td>\n",
       "      <td>2021-06-02</td>\n",
       "      <td>TV</td>\n",
       "      <td>일반식품</td>\n",
       "      <td>321820178</td>\n",
       "      <td>건강주스</td>\n",
       "      <td>45900</td>\n",
       "      <td>1</td>\n",
       "      <td>45900</td>\n",
       "      <td>2290</td>\n",
       "      <td>43610</td>\n",
       "      <td>40대</td>\n",
       "    </tr>\n",
       "  </tbody>\n",
       "</table>\n",
       "</div>"
      ],
      "text/plain": [
       "     customer_no   age  gender         order_no order_date channel  \\\n",
       "0  2021059651101  68.0       9  202106072433746 2021-06-07      TV   \n",
       "1  2018069800502  49.0       2  202105311957155 2021-05-31      TV   \n",
       "2  2019073300103  35.0       1  202105138020462 2021-05-13      TV   \n",
       "3  2020075283364  41.0       9  202106171444319 2021-06-17      TV   \n",
       "4  2020104780765  46.0       1  202106024431989 2021-06-02      TV   \n",
       "\n",
       "  item_category  item_code item_name   price  qty  order_amount  \\\n",
       "0           캐쥬얼  323421750      밴딩팬츠   49900    1         49900   \n",
       "1         레포츠패션  323516657      트랙수트   39000    1         39000   \n",
       "2            뷰티  323393459      기초세트   72000    2        144000   \n",
       "3          건강식품  323420069       유산균  119000    2        238000   \n",
       "4          일반식품  321820178      건강주스   45900    1         45900   \n",
       "\n",
       "   discount_amount  paid_amount age_group  \n",
       "0             4990        44910       60대  \n",
       "1             1000        38000       40대  \n",
       "2            27600       116400       30대  \n",
       "3            72920       165080       40대  \n",
       "4             2290        43610       40대  "
      ]
     },
     "execution_count": 54,
     "metadata": {},
     "output_type": "execute_result"
    }
   ],
   "source": [
    "df.head()"
   ]
  },
  {
   "cell_type": "code",
   "execution_count": 55,
   "metadata": {},
   "outputs": [
    {
     "name": "stdout",
     "output_type": "stream",
     "text": [
      "109050.41585683811\n",
      "140843.17491612738\n",
      "4.738671126745462e-54\n"
     ]
    }
   ],
   "source": [
    "t, p = stats.ttest_ind(mobile['order_amount'], tv['order_amount'], equal_var=True)\n",
    "print(mobile['order_amount'].mean())\n",
    "print(tv['order_amount'].mean())\n",
    "print(p)"
   ]
  },
  {
   "cell_type": "code",
   "execution_count": 56,
   "metadata": {},
   "outputs": [
    {
     "name": "stdout",
     "output_type": "stream",
     "text": [
      "6622.789677648732\n",
      "18838.312960106847\n",
      "0.0\n"
     ]
    }
   ],
   "source": [
    "t, p = stats.ttest_ind(mobile['discount_amount'], tv['discount_amount'], equal_var=True)\n",
    "print(mobile['discount_amount'].mean())\n",
    "print(tv['discount_amount'].mean())\n",
    "print(p)"
   ]
  },
  {
   "cell_type": "code",
   "execution_count": 57,
   "metadata": {},
   "outputs": [
    {
     "name": "stdout",
     "output_type": "stream",
     "text": [
      "102427.62617918938\n",
      "122004.86195602054\n",
      "6.924600599068578e-26\n"
     ]
    }
   ],
   "source": [
    "t, p = stats.ttest_ind(mobile['paid_amount'], tv['paid_amount'], equal_var=True)\n",
    "print(mobile['paid_amount'].mean())\n",
    "print(tv['paid_amount'].mean())\n",
    "print(p)"
   ]
  },
  {
   "cell_type": "markdown",
   "metadata": {},
   "source": [
    "#### 매출 비교 결과\n",
    "- 총 구매횟수의 경우 모바일이 TV 보다 많았습니다.\n",
    "- 하지만 평균 구매금액과 평균 결제금액 모두 TV가 높았으며 T-test 결과 둘 다 통계적으로 유의미한 차이가 있었습니다.\n",
    "- 할인금액도 역시 TV가 더 높았는데 이 경우에는 TV가 거의 두배 높았으며 역시 T-test 결과 통계적으로 유의미하였습니다."
   ]
  },
  {
   "cell_type": "code",
   "execution_count": 58,
   "metadata": {},
   "outputs": [
    {
     "data": {
      "image/png": "[encoded data removed]",
      "text/plain": [
       "<Figure size 640x480 with 1 Axes>"
      ]
     },
     "metadata": {},
     "output_type": "display_data"
    }
   ],
   "source": [
    "mobile_cnt = mobile['item_category'].value_counts().reset_index()\n",
    "tv_cnt = tv['item_category'].value_counts().reset_index()\n",
    "\n",
    "sns.barplot(data=mobile_cnt, x='count', y='item_category', label='Mobile', alpha=0.7)\n",
    "sns.barplot(data=tv_cnt, x='count', y='item_category', label='TV', alpha=0.7)\n",
    "plt.title('채널별 카테고리 구매 분포')\n",
    "plt.show()"
   ]
  },
  {
   "cell_type": "markdown",
   "metadata": {},
   "source": [
    "#### 카테고리별 구매 분포 비교\n",
    "- 일반식품과 언더웨어, 생활용품의 경우 두 채널에서 모두 높은 판매를 보여주었습니다.\n",
    "- 반면 다른 대부분의 상품에서 두 집단은 다른 분포를 보여주고 있습니다.\n",
    "  - 예를 들어 레포츠패션과 여성의류의 경우에는 거의 대부분의 판매가 TV에서 이루어졌습니다.\n",
    "  - 반면 대형과전과 생활가전 그리고 키즈/유아동 상품은 대부분의 판매가 모바일에서 이루어졌습니다."
   ]
  },
  {
   "cell_type": "markdown",
   "metadata": {},
   "source": [
    "## Time Decay 적용하기"
   ]
  },
  {
   "cell_type": "markdown",
   "metadata": {},
   "source": [
    "### Time Decay를 통해서 선호하는 채널 분석\n",
    "- 선호하는 채널을 분석하여 그 채널에서 비슷한 조건의 고객이 많이 구매한 상품 상위 5개 추천"
   ]
  },
  {
   "cell_type": "code",
   "execution_count": 59,
   "metadata": {},
   "outputs": [],
   "source": [
    "from datetime import datetime, timedelta"
   ]
  },
  {
   "cell_type": "code",
   "execution_count": 60,
   "metadata": {},
   "outputs": [
    {
     "data": {
      "text/html": [
       "<div>\n",
       "<style scoped>\n",
       "    .dataframe tbody tr th:only-of-type {\n",
       "        vertical-align: middle;\n",
       "    }\n",
       "\n",
       "    .dataframe tbody tr th {\n",
       "        vertical-align: top;\n",
       "    }\n",
       "\n",
       "    .dataframe thead th {\n",
       "        text-align: right;\n",
       "    }\n",
       "</style>\n",
       "<table border=\"1\" class=\"dataframe\">\n",
       "  <thead>\n",
       "    <tr style=\"text-align: right;\">\n",
       "      <th></th>\n",
       "      <th>customer_no</th>\n",
       "      <th>age</th>\n",
       "      <th>gender</th>\n",
       "      <th>order_no</th>\n",
       "      <th>order_date</th>\n",
       "      <th>channel</th>\n",
       "      <th>item_category</th>\n",
       "      <th>item_code</th>\n",
       "      <th>item_name</th>\n",
       "      <th>price</th>\n",
       "      <th>qty</th>\n",
       "      <th>order_amount</th>\n",
       "      <th>discount_amount</th>\n",
       "      <th>paid_amount</th>\n",
       "      <th>age_group</th>\n",
       "    </tr>\n",
       "  </thead>\n",
       "  <tbody>\n",
       "    <tr>\n",
       "      <th>69122</th>\n",
       "      <td>2020121967734</td>\n",
       "      <td>58.0</td>\n",
       "      <td>2</td>\n",
       "      <td>202106242229766</td>\n",
       "      <td>2021-06-24</td>\n",
       "      <td>TV</td>\n",
       "      <td>생활가전</td>\n",
       "      <td>323573636</td>\n",
       "      <td>블루투스이어폰</td>\n",
       "      <td>89000</td>\n",
       "      <td>1</td>\n",
       "      <td>89000</td>\n",
       "      <td>10000</td>\n",
       "      <td>79000</td>\n",
       "      <td>50대</td>\n",
       "    </tr>\n",
       "    <tr>\n",
       "      <th>51399</th>\n",
       "      <td>2020081608963</td>\n",
       "      <td>32.0</td>\n",
       "      <td>2</td>\n",
       "      <td>202106241896651</td>\n",
       "      <td>2021-06-24</td>\n",
       "      <td>TV</td>\n",
       "      <td>주방용품</td>\n",
       "      <td>323608310</td>\n",
       "      <td>프라이팬</td>\n",
       "      <td>159000</td>\n",
       "      <td>4</td>\n",
       "      <td>636000</td>\n",
       "      <td>24000</td>\n",
       "      <td>612000</td>\n",
       "      <td>30대</td>\n",
       "    </tr>\n",
       "    <tr>\n",
       "      <th>7090</th>\n",
       "      <td>2020045274483</td>\n",
       "      <td>64.0</td>\n",
       "      <td>2</td>\n",
       "      <td>202106241773617</td>\n",
       "      <td>2021-06-24</td>\n",
       "      <td>TV</td>\n",
       "      <td>여성의류</td>\n",
       "      <td>323632109</td>\n",
       "      <td>원피스</td>\n",
       "      <td>39900</td>\n",
       "      <td>1</td>\n",
       "      <td>39900</td>\n",
       "      <td>1000</td>\n",
       "      <td>38900</td>\n",
       "      <td>60대</td>\n",
       "    </tr>\n",
       "    <tr>\n",
       "      <th>83024</th>\n",
       "      <td>2019086625644</td>\n",
       "      <td>39.0</td>\n",
       "      <td>2</td>\n",
       "      <td>202106241860390</td>\n",
       "      <td>2021-06-24</td>\n",
       "      <td>TV</td>\n",
       "      <td>주방용품</td>\n",
       "      <td>323608310</td>\n",
       "      <td>프라이팬</td>\n",
       "      <td>159000</td>\n",
       "      <td>2</td>\n",
       "      <td>318000</td>\n",
       "      <td>12000</td>\n",
       "      <td>306000</td>\n",
       "      <td>30대</td>\n",
       "    </tr>\n",
       "    <tr>\n",
       "      <th>51363</th>\n",
       "      <td>2020069228052</td>\n",
       "      <td>72.0</td>\n",
       "      <td>2</td>\n",
       "      <td>202106242091636</td>\n",
       "      <td>2021-06-24</td>\n",
       "      <td>TV</td>\n",
       "      <td>생활용품</td>\n",
       "      <td>322413868</td>\n",
       "      <td>화장지</td>\n",
       "      <td>28900</td>\n",
       "      <td>3</td>\n",
       "      <td>86700</td>\n",
       "      <td>6000</td>\n",
       "      <td>80700</td>\n",
       "      <td>70세 이상</td>\n",
       "    </tr>\n",
       "    <tr>\n",
       "      <th>...</th>\n",
       "      <td>...</td>\n",
       "      <td>...</td>\n",
       "      <td>...</td>\n",
       "      <td>...</td>\n",
       "      <td>...</td>\n",
       "      <td>...</td>\n",
       "      <td>...</td>\n",
       "      <td>...</td>\n",
       "      <td>...</td>\n",
       "      <td>...</td>\n",
       "      <td>...</td>\n",
       "      <td>...</td>\n",
       "      <td>...</td>\n",
       "      <td>...</td>\n",
       "      <td>...</td>\n",
       "    </tr>\n",
       "    <tr>\n",
       "      <th>146936</th>\n",
       "      <td>2019112568362</td>\n",
       "      <td>62.0</td>\n",
       "      <td>2</td>\n",
       "      <td>202101018166501</td>\n",
       "      <td>2021-01-01</td>\n",
       "      <td>TV</td>\n",
       "      <td>여성의류</td>\n",
       "      <td>322442163</td>\n",
       "      <td>패딩점퍼</td>\n",
       "      <td>29900</td>\n",
       "      <td>1</td>\n",
       "      <td>29900</td>\n",
       "      <td>1000</td>\n",
       "      <td>28900</td>\n",
       "      <td>60대</td>\n",
       "    </tr>\n",
       "    <tr>\n",
       "      <th>99289</th>\n",
       "      <td>2018119450648</td>\n",
       "      <td>47.0</td>\n",
       "      <td>2</td>\n",
       "      <td>202101019160183</td>\n",
       "      <td>2021-01-01</td>\n",
       "      <td>TV</td>\n",
       "      <td>생활용품</td>\n",
       "      <td>322413868</td>\n",
       "      <td>화장지</td>\n",
       "      <td>28900</td>\n",
       "      <td>1</td>\n",
       "      <td>28900</td>\n",
       "      <td>2000</td>\n",
       "      <td>26900</td>\n",
       "      <td>40대</td>\n",
       "    </tr>\n",
       "    <tr>\n",
       "      <th>23210</th>\n",
       "      <td>2019107678281</td>\n",
       "      <td>66.0</td>\n",
       "      <td>2</td>\n",
       "      <td>202101018558935</td>\n",
       "      <td>2021-01-01</td>\n",
       "      <td>TV</td>\n",
       "      <td>생활용품</td>\n",
       "      <td>322319860</td>\n",
       "      <td>화장지</td>\n",
       "      <td>36810</td>\n",
       "      <td>1</td>\n",
       "      <td>36810</td>\n",
       "      <td>0</td>\n",
       "      <td>36810</td>\n",
       "      <td>60대</td>\n",
       "    </tr>\n",
       "    <tr>\n",
       "      <th>719</th>\n",
       "      <td>2017049614387</td>\n",
       "      <td>66.0</td>\n",
       "      <td>2</td>\n",
       "      <td>202101018474236</td>\n",
       "      <td>2021-01-01</td>\n",
       "      <td>TV</td>\n",
       "      <td>언더웨어</td>\n",
       "      <td>322403230</td>\n",
       "      <td>여성팬티</td>\n",
       "      <td>39900</td>\n",
       "      <td>1</td>\n",
       "      <td>39900</td>\n",
       "      <td>1000</td>\n",
       "      <td>38900</td>\n",
       "      <td>60대</td>\n",
       "    </tr>\n",
       "    <tr>\n",
       "      <th>129412</th>\n",
       "      <td>2019099807359</td>\n",
       "      <td>60.0</td>\n",
       "      <td>1</td>\n",
       "      <td>202101018701924</td>\n",
       "      <td>2021-01-01</td>\n",
       "      <td>TV</td>\n",
       "      <td>생활용품</td>\n",
       "      <td>322505860</td>\n",
       "      <td>황사마스크</td>\n",
       "      <td>78000</td>\n",
       "      <td>1</td>\n",
       "      <td>78000</td>\n",
       "      <td>1000</td>\n",
       "      <td>77000</td>\n",
       "      <td>60대</td>\n",
       "    </tr>\n",
       "  </tbody>\n",
       "</table>\n",
       "<p>147273 rows × 15 columns</p>\n",
       "</div>"
      ],
      "text/plain": [
       "          customer_no   age  gender         order_no order_date channel  \\\n",
       "69122   2020121967734  58.0       2  202106242229766 2021-06-24      TV   \n",
       "51399   2020081608963  32.0       2  202106241896651 2021-06-24      TV   \n",
       "7090    2020045274483  64.0       2  202106241773617 2021-06-24      TV   \n",
       "83024   2019086625644  39.0       2  202106241860390 2021-06-24      TV   \n",
       "51363   2020069228052  72.0       2  202106242091636 2021-06-24      TV   \n",
       "...               ...   ...     ...              ...        ...     ...   \n",
       "146936  2019112568362  62.0       2  202101018166501 2021-01-01      TV   \n",
       "99289   2018119450648  47.0       2  202101019160183 2021-01-01      TV   \n",
       "23210   2019107678281  66.0       2  202101018558935 2021-01-01      TV   \n",
       "719     2017049614387  66.0       2  202101018474236 2021-01-01      TV   \n",
       "129412  2019099807359  60.0       1  202101018701924 2021-01-01      TV   \n",
       "\n",
       "       item_category  item_code item_name   price  qty  order_amount  \\\n",
       "69122           생활가전  323573636   블루투스이어폰   89000    1         89000   \n",
       "51399           주방용품  323608310      프라이팬  159000    4        636000   \n",
       "7090            여성의류  323632109       원피스   39900    1         39900   \n",
       "83024           주방용품  323608310      프라이팬  159000    2        318000   \n",
       "51363           생활용품  322413868       화장지   28900    3         86700   \n",
       "...              ...        ...       ...     ...  ...           ...   \n",
       "146936          여성의류  322442163      패딩점퍼   29900    1         29900   \n",
       "99289           생활용품  322413868       화장지   28900    1         28900   \n",
       "23210           생활용품  322319860       화장지   36810    1         36810   \n",
       "719             언더웨어  322403230      여성팬티   39900    1         39900   \n",
       "129412          생활용품  322505860     황사마스크   78000    1         78000   \n",
       "\n",
       "        discount_amount  paid_amount age_group  \n",
       "69122             10000        79000       50대  \n",
       "51399             24000       612000       30대  \n",
       "7090               1000        38900       60대  \n",
       "83024             12000       306000       30대  \n",
       "51363              6000        80700    70세 이상  \n",
       "...                 ...          ...       ...  \n",
       "146936             1000        28900       60대  \n",
       "99289              2000        26900       40대  \n",
       "23210                 0        36810       60대  \n",
       "719                1000        38900       60대  \n",
       "129412             1000        77000       60대  \n",
       "\n",
       "[147273 rows x 15 columns]"
      ]
     },
     "execution_count": 60,
     "metadata": {},
     "output_type": "execute_result"
    }
   ],
   "source": [
    "df.sort_values('order_date', ascending=False)"
   ]
  },
  {
   "cell_type": "code",
   "execution_count": 61,
   "metadata": {},
   "outputs": [
    {
     "data": {
      "text/html": [
       "<div>\n",
       "<style scoped>\n",
       "    .dataframe tbody tr th:only-of-type {\n",
       "        vertical-align: middle;\n",
       "    }\n",
       "\n",
       "    .dataframe tbody tr th {\n",
       "        vertical-align: top;\n",
       "    }\n",
       "\n",
       "    .dataframe thead th {\n",
       "        text-align: right;\n",
       "    }\n",
       "</style>\n",
       "<table border=\"1\" class=\"dataframe\">\n",
       "  <thead>\n",
       "    <tr style=\"text-align: right;\">\n",
       "      <th></th>\n",
       "      <th>customer_no</th>\n",
       "      <th>channel</th>\n",
       "      <th>cnt_order</th>\n",
       "    </tr>\n",
       "  </thead>\n",
       "  <tbody>\n",
       "    <tr>\n",
       "      <th>0</th>\n",
       "      <td>2015010000596</td>\n",
       "      <td>Mobile</td>\n",
       "      <td>1</td>\n",
       "    </tr>\n",
       "    <tr>\n",
       "      <th>1</th>\n",
       "      <td>2015010000596</td>\n",
       "      <td>TV</td>\n",
       "      <td>1</td>\n",
       "    </tr>\n",
       "    <tr>\n",
       "      <th>2</th>\n",
       "      <td>2015010000652</td>\n",
       "      <td>Mobile</td>\n",
       "      <td>1</td>\n",
       "    </tr>\n",
       "    <tr>\n",
       "      <th>3</th>\n",
       "      <td>2015010001152</td>\n",
       "      <td>Mobile</td>\n",
       "      <td>1</td>\n",
       "    </tr>\n",
       "    <tr>\n",
       "      <th>4</th>\n",
       "      <td>2015010001152</td>\n",
       "      <td>TV</td>\n",
       "      <td>5</td>\n",
       "    </tr>\n",
       "    <tr>\n",
       "      <th>5</th>\n",
       "      <td>2015010001213</td>\n",
       "      <td>TV</td>\n",
       "      <td>1</td>\n",
       "    </tr>\n",
       "    <tr>\n",
       "      <th>6</th>\n",
       "      <td>2015010001954</td>\n",
       "      <td>TV</td>\n",
       "      <td>1</td>\n",
       "    </tr>\n",
       "    <tr>\n",
       "      <th>7</th>\n",
       "      <td>2015010004299</td>\n",
       "      <td>Mobile</td>\n",
       "      <td>1</td>\n",
       "    </tr>\n",
       "    <tr>\n",
       "      <th>8</th>\n",
       "      <td>2015010004451</td>\n",
       "      <td>TV</td>\n",
       "      <td>2</td>\n",
       "    </tr>\n",
       "    <tr>\n",
       "      <th>9</th>\n",
       "      <td>2015010005813</td>\n",
       "      <td>Mobile</td>\n",
       "      <td>1</td>\n",
       "    </tr>\n",
       "  </tbody>\n",
       "</table>\n",
       "</div>"
      ],
      "text/plain": [
       "     customer_no channel  cnt_order\n",
       "0  2015010000596  Mobile          1\n",
       "1  2015010000596      TV          1\n",
       "2  2015010000652  Mobile          1\n",
       "3  2015010001152  Mobile          1\n",
       "4  2015010001152      TV          5\n",
       "5  2015010001213      TV          1\n",
       "6  2015010001954      TV          1\n",
       "7  2015010004299  Mobile          1\n",
       "8  2015010004451      TV          2\n",
       "9  2015010005813  Mobile          1"
      ]
     },
     "execution_count": 61,
     "metadata": {},
     "output_type": "execute_result"
    }
   ],
   "source": [
    "## 유저 단위로 channel별 구매 건수 구하기\n",
    "user_summary = df.groupby(['customer_no', 'channel'])['order_no'].nunique().reset_index()\n",
    "user_summary = user_summary.rename(columns={'order_no': 'cnt_order'})\n",
    "user_summary.head(10)"
   ]
  },
  {
   "cell_type": "code",
   "execution_count": 62,
   "metadata": {},
   "outputs": [
    {
     "data": {
      "text/html": [
       "<div>\n",
       "<style scoped>\n",
       "    .dataframe tbody tr th:only-of-type {\n",
       "        vertical-align: middle;\n",
       "    }\n",
       "\n",
       "    .dataframe tbody tr th {\n",
       "        vertical-align: top;\n",
       "    }\n",
       "\n",
       "    .dataframe thead th {\n",
       "        text-align: right;\n",
       "    }\n",
       "</style>\n",
       "<table border=\"1\" class=\"dataframe\">\n",
       "  <thead>\n",
       "    <tr style=\"text-align: right;\">\n",
       "      <th></th>\n",
       "      <th>customer_no</th>\n",
       "      <th>channel</th>\n",
       "      <th>cnt_order</th>\n",
       "      <th>rn</th>\n",
       "    </tr>\n",
       "  </thead>\n",
       "  <tbody>\n",
       "    <tr>\n",
       "      <th>0</th>\n",
       "      <td>2015010000596</td>\n",
       "      <td>Mobile</td>\n",
       "      <td>1</td>\n",
       "      <td>1</td>\n",
       "    </tr>\n",
       "    <tr>\n",
       "      <th>1</th>\n",
       "      <td>2015010000596</td>\n",
       "      <td>TV</td>\n",
       "      <td>1</td>\n",
       "      <td>2</td>\n",
       "    </tr>\n",
       "    <tr>\n",
       "      <th>2</th>\n",
       "      <td>2015010000652</td>\n",
       "      <td>Mobile</td>\n",
       "      <td>1</td>\n",
       "      <td>1</td>\n",
       "    </tr>\n",
       "    <tr>\n",
       "      <th>3</th>\n",
       "      <td>2015010001152</td>\n",
       "      <td>Mobile</td>\n",
       "      <td>1</td>\n",
       "      <td>2</td>\n",
       "    </tr>\n",
       "    <tr>\n",
       "      <th>4</th>\n",
       "      <td>2015010001152</td>\n",
       "      <td>TV</td>\n",
       "      <td>5</td>\n",
       "      <td>1</td>\n",
       "    </tr>\n",
       "    <tr>\n",
       "      <th>5</th>\n",
       "      <td>2015010001213</td>\n",
       "      <td>TV</td>\n",
       "      <td>1</td>\n",
       "      <td>1</td>\n",
       "    </tr>\n",
       "    <tr>\n",
       "      <th>6</th>\n",
       "      <td>2015010001954</td>\n",
       "      <td>TV</td>\n",
       "      <td>1</td>\n",
       "      <td>1</td>\n",
       "    </tr>\n",
       "    <tr>\n",
       "      <th>7</th>\n",
       "      <td>2015010004299</td>\n",
       "      <td>Mobile</td>\n",
       "      <td>1</td>\n",
       "      <td>1</td>\n",
       "    </tr>\n",
       "    <tr>\n",
       "      <th>8</th>\n",
       "      <td>2015010004451</td>\n",
       "      <td>TV</td>\n",
       "      <td>2</td>\n",
       "      <td>1</td>\n",
       "    </tr>\n",
       "    <tr>\n",
       "      <th>9</th>\n",
       "      <td>2015010005813</td>\n",
       "      <td>Mobile</td>\n",
       "      <td>1</td>\n",
       "      <td>1</td>\n",
       "    </tr>\n",
       "  </tbody>\n",
       "</table>\n",
       "</div>"
      ],
      "text/plain": [
       "     customer_no channel  cnt_order  rn\n",
       "0  2015010000596  Mobile          1   1\n",
       "1  2015010000596      TV          1   2\n",
       "2  2015010000652  Mobile          1   1\n",
       "3  2015010001152  Mobile          1   2\n",
       "4  2015010001152      TV          5   1\n",
       "5  2015010001213      TV          1   1\n",
       "6  2015010001954      TV          1   1\n",
       "7  2015010004299  Mobile          1   1\n",
       "8  2015010004451      TV          2   1\n",
       "9  2015010005813  Mobile          1   1"
      ]
     },
     "execution_count": 62,
     "metadata": {},
     "output_type": "execute_result"
    }
   ],
   "source": [
    "## 구매 건수가 많은 channel별로 순위 매기기\n",
    "user_summary['rn'] = user_summary.sort_values(by='cnt_order', ascending=False) \\\n",
    "             .groupby('customer_no') \\\n",
    "             .cumcount() + 1\n",
    "\n",
    "user_summary.head(10)"
   ]
  },
  {
   "cell_type": "code",
   "execution_count": 63,
   "metadata": {},
   "outputs": [
    {
     "data": {
      "text/html": [
       "<div>\n",
       "<style scoped>\n",
       "    .dataframe tbody tr th:only-of-type {\n",
       "        vertical-align: middle;\n",
       "    }\n",
       "\n",
       "    .dataframe tbody tr th {\n",
       "        vertical-align: top;\n",
       "    }\n",
       "\n",
       "    .dataframe thead th {\n",
       "        text-align: right;\n",
       "    }\n",
       "</style>\n",
       "<table border=\"1\" class=\"dataframe\">\n",
       "  <thead>\n",
       "    <tr style=\"text-align: right;\">\n",
       "      <th></th>\n",
       "      <th>customer_no</th>\n",
       "      <th>channel</th>\n",
       "      <th>cnt_order</th>\n",
       "      <th>rn</th>\n",
       "    </tr>\n",
       "  </thead>\n",
       "  <tbody>\n",
       "    <tr>\n",
       "      <th>0</th>\n",
       "      <td>2015010000596</td>\n",
       "      <td>Mobile</td>\n",
       "      <td>1</td>\n",
       "      <td>1</td>\n",
       "    </tr>\n",
       "    <tr>\n",
       "      <th>1</th>\n",
       "      <td>2015010000652</td>\n",
       "      <td>Mobile</td>\n",
       "      <td>1</td>\n",
       "      <td>1</td>\n",
       "    </tr>\n",
       "    <tr>\n",
       "      <th>2</th>\n",
       "      <td>2015010001152</td>\n",
       "      <td>TV</td>\n",
       "      <td>5</td>\n",
       "      <td>1</td>\n",
       "    </tr>\n",
       "    <tr>\n",
       "      <th>3</th>\n",
       "      <td>2015010001213</td>\n",
       "      <td>TV</td>\n",
       "      <td>1</td>\n",
       "      <td>1</td>\n",
       "    </tr>\n",
       "    <tr>\n",
       "      <th>4</th>\n",
       "      <td>2015010001954</td>\n",
       "      <td>TV</td>\n",
       "      <td>1</td>\n",
       "      <td>1</td>\n",
       "    </tr>\n",
       "  </tbody>\n",
       "</table>\n",
       "</div>"
      ],
      "text/plain": [
       "     customer_no channel  cnt_order  rn\n",
       "0  2015010000596  Mobile          1   1\n",
       "1  2015010000652  Mobile          1   1\n",
       "2  2015010001152      TV          5   1\n",
       "3  2015010001213      TV          1   1\n",
       "4  2015010001954      TV          1   1"
      ]
     },
     "execution_count": 63,
     "metadata": {},
     "output_type": "execute_result"
    }
   ],
   "source": [
    "## 최다 구매 channel 정보만 남기기\n",
    "user_max_item_info = user_summary[user_summary['rn'] == 1].reset_index(drop = True)\n",
    "user_max_item_info.head()"
   ]
  },
  {
   "cell_type": "code",
   "execution_count": 64,
   "metadata": {},
   "outputs": [],
   "source": [
    "# 추천을 제공하는 날짜가 이 데이터의 가장 마지막 구매 일자의 다음 날이라고 가정\n",
    "recommend_ymd = df['order_date'].max() + pd.Timedelta(days=1)"
   ]
  },
  {
   "cell_type": "code",
   "execution_count": 65,
   "metadata": {},
   "outputs": [
    {
     "data": {
      "text/html": [
       "<div>\n",
       "<style scoped>\n",
       "    .dataframe tbody tr th:only-of-type {\n",
       "        vertical-align: middle;\n",
       "    }\n",
       "\n",
       "    .dataframe tbody tr th {\n",
       "        vertical-align: top;\n",
       "    }\n",
       "\n",
       "    .dataframe thead th {\n",
       "        text-align: right;\n",
       "    }\n",
       "</style>\n",
       "<table border=\"1\" class=\"dataframe\">\n",
       "  <thead>\n",
       "    <tr style=\"text-align: right;\">\n",
       "      <th></th>\n",
       "      <th>customer_no</th>\n",
       "      <th>order_date</th>\n",
       "      <th>channel</th>\n",
       "      <th>cnt_order</th>\n",
       "    </tr>\n",
       "  </thead>\n",
       "  <tbody>\n",
       "    <tr>\n",
       "      <th>0</th>\n",
       "      <td>2015010000596</td>\n",
       "      <td>2021-01-15</td>\n",
       "      <td>TV</td>\n",
       "      <td>1</td>\n",
       "    </tr>\n",
       "    <tr>\n",
       "      <th>1</th>\n",
       "      <td>2015010000596</td>\n",
       "      <td>2021-06-03</td>\n",
       "      <td>Mobile</td>\n",
       "      <td>1</td>\n",
       "    </tr>\n",
       "    <tr>\n",
       "      <th>2</th>\n",
       "      <td>2015010000652</td>\n",
       "      <td>2021-03-06</td>\n",
       "      <td>Mobile</td>\n",
       "      <td>1</td>\n",
       "    </tr>\n",
       "    <tr>\n",
       "      <th>3</th>\n",
       "      <td>2015010001152</td>\n",
       "      <td>2021-02-13</td>\n",
       "      <td>TV</td>\n",
       "      <td>1</td>\n",
       "    </tr>\n",
       "    <tr>\n",
       "      <th>4</th>\n",
       "      <td>2015010001152</td>\n",
       "      <td>2021-02-18</td>\n",
       "      <td>TV</td>\n",
       "      <td>1</td>\n",
       "    </tr>\n",
       "    <tr>\n",
       "      <th>5</th>\n",
       "      <td>2015010001152</td>\n",
       "      <td>2021-03-02</td>\n",
       "      <td>Mobile</td>\n",
       "      <td>1</td>\n",
       "    </tr>\n",
       "    <tr>\n",
       "      <th>6</th>\n",
       "      <td>2015010001152</td>\n",
       "      <td>2021-03-23</td>\n",
       "      <td>TV</td>\n",
       "      <td>1</td>\n",
       "    </tr>\n",
       "    <tr>\n",
       "      <th>7</th>\n",
       "      <td>2015010001152</td>\n",
       "      <td>2021-04-24</td>\n",
       "      <td>TV</td>\n",
       "      <td>1</td>\n",
       "    </tr>\n",
       "    <tr>\n",
       "      <th>8</th>\n",
       "      <td>2015010001152</td>\n",
       "      <td>2021-05-25</td>\n",
       "      <td>TV</td>\n",
       "      <td>1</td>\n",
       "    </tr>\n",
       "    <tr>\n",
       "      <th>9</th>\n",
       "      <td>2015010001213</td>\n",
       "      <td>2021-02-25</td>\n",
       "      <td>TV</td>\n",
       "      <td>1</td>\n",
       "    </tr>\n",
       "  </tbody>\n",
       "</table>\n",
       "</div>"
      ],
      "text/plain": [
       "     customer_no order_date channel  cnt_order\n",
       "0  2015010000596 2021-01-15      TV          1\n",
       "1  2015010000596 2021-06-03  Mobile          1\n",
       "2  2015010000652 2021-03-06  Mobile          1\n",
       "3  2015010001152 2021-02-13      TV          1\n",
       "4  2015010001152 2021-02-18      TV          1\n",
       "5  2015010001152 2021-03-02  Mobile          1\n",
       "6  2015010001152 2021-03-23      TV          1\n",
       "7  2015010001152 2021-04-24      TV          1\n",
       "8  2015010001152 2021-05-25      TV          1\n",
       "9  2015010001213 2021-02-25      TV          1"
      ]
     },
     "execution_count": 65,
     "metadata": {},
     "output_type": "execute_result"
    }
   ],
   "source": [
    "## 유저별 데이터 집계\n",
    "decay_summary = df.groupby(['customer_no', 'order_date', 'channel'])['order_no'].nunique().reset_index()\n",
    "decay_summary = decay_summary.rename(columns={'order_no': 'cnt_order'})\n",
    "decay_summary.head(10)"
   ]
  },
  {
   "cell_type": "code",
   "execution_count": 66,
   "metadata": {},
   "outputs": [
    {
     "data": {
      "text/html": [
       "<div>\n",
       "<style scoped>\n",
       "    .dataframe tbody tr th:only-of-type {\n",
       "        vertical-align: middle;\n",
       "    }\n",
       "\n",
       "    .dataframe tbody tr th {\n",
       "        vertical-align: top;\n",
       "    }\n",
       "\n",
       "    .dataframe thead th {\n",
       "        text-align: right;\n",
       "    }\n",
       "</style>\n",
       "<table border=\"1\" class=\"dataframe\">\n",
       "  <thead>\n",
       "    <tr style=\"text-align: right;\">\n",
       "      <th></th>\n",
       "      <th>customer_no</th>\n",
       "      <th>order_date</th>\n",
       "      <th>channel</th>\n",
       "      <th>cnt_order</th>\n",
       "      <th>decay_day</th>\n",
       "    </tr>\n",
       "  </thead>\n",
       "  <tbody>\n",
       "    <tr>\n",
       "      <th>0</th>\n",
       "      <td>2015010000596</td>\n",
       "      <td>2021-01-15</td>\n",
       "      <td>TV</td>\n",
       "      <td>1</td>\n",
       "      <td>0.446186</td>\n",
       "    </tr>\n",
       "    <tr>\n",
       "      <th>1</th>\n",
       "      <td>2015010000596</td>\n",
       "      <td>2021-06-03</td>\n",
       "      <td>Mobile</td>\n",
       "      <td>1</td>\n",
       "      <td>0.895587</td>\n",
       "    </tr>\n",
       "    <tr>\n",
       "      <th>2</th>\n",
       "      <td>2015010000652</td>\n",
       "      <td>2021-03-06</td>\n",
       "      <td>Mobile</td>\n",
       "      <td>1</td>\n",
       "      <td>0.573274</td>\n",
       "    </tr>\n",
       "    <tr>\n",
       "      <th>3</th>\n",
       "      <td>2015010001152</td>\n",
       "      <td>2021-02-13</td>\n",
       "      <td>TV</td>\n",
       "      <td>1</td>\n",
       "      <td>0.515996</td>\n",
       "    </tr>\n",
       "    <tr>\n",
       "      <th>4</th>\n",
       "      <td>2015010001152</td>\n",
       "      <td>2021-02-18</td>\n",
       "      <td>TV</td>\n",
       "      <td>1</td>\n",
       "      <td>0.529092</td>\n",
       "    </tr>\n",
       "    <tr>\n",
       "      <th>5</th>\n",
       "      <td>2015010001152</td>\n",
       "      <td>2021-03-02</td>\n",
       "      <td>Mobile</td>\n",
       "      <td>1</td>\n",
       "      <td>0.561894</td>\n",
       "    </tr>\n",
       "    <tr>\n",
       "      <th>6</th>\n",
       "      <td>2015010001152</td>\n",
       "      <td>2021-03-23</td>\n",
       "      <td>TV</td>\n",
       "      <td>1</td>\n",
       "      <td>0.624266</td>\n",
       "    </tr>\n",
       "    <tr>\n",
       "      <th>7</th>\n",
       "      <td>2015010001152</td>\n",
       "      <td>2021-04-24</td>\n",
       "      <td>TV</td>\n",
       "      <td>1</td>\n",
       "      <td>0.732877</td>\n",
       "    </tr>\n",
       "    <tr>\n",
       "      <th>8</th>\n",
       "      <td>2015010001152</td>\n",
       "      <td>2021-05-25</td>\n",
       "      <td>TV</td>\n",
       "      <td>1</td>\n",
       "      <td>0.856082</td>\n",
       "    </tr>\n",
       "    <tr>\n",
       "      <th>9</th>\n",
       "      <td>2015010001213</td>\n",
       "      <td>2021-02-25</td>\n",
       "      <td>TV</td>\n",
       "      <td>1</td>\n",
       "      <td>0.547986</td>\n",
       "    </tr>\n",
       "  </tbody>\n",
       "</table>\n",
       "</div>"
      ],
      "text/plain": [
       "     customer_no order_date channel  cnt_order  decay_day\n",
       "0  2015010000596 2021-01-15      TV          1   0.446186\n",
       "1  2015010000596 2021-06-03  Mobile          1   0.895587\n",
       "2  2015010000652 2021-03-06  Mobile          1   0.573274\n",
       "3  2015010001152 2021-02-13      TV          1   0.515996\n",
       "4  2015010001152 2021-02-18      TV          1   0.529092\n",
       "5  2015010001152 2021-03-02  Mobile          1   0.561894\n",
       "6  2015010001152 2021-03-23      TV          1   0.624266\n",
       "7  2015010001152 2021-04-24      TV          1   0.732877\n",
       "8  2015010001152 2021-05-25      TV          1   0.856082\n",
       "9  2015010001213 2021-02-25      TV          1   0.547986"
      ]
     },
     "execution_count": 66,
     "metadata": {},
     "output_type": "execute_result"
    }
   ],
   "source": [
    "## 파라미터 설정\n",
    "day_parameter = 0.995\n",
    "\n",
    "## Time Decay 적용 컬럼 생성\n",
    "decay_summary['decay_day'] = day_parameter ** ((recommend_ymd - decay_summary['order_date']).dt.days)\n",
    "decay_summary.head(10)"
   ]
  },
  {
   "cell_type": "code",
   "execution_count": 67,
   "metadata": {},
   "outputs": [
    {
     "data": {
      "text/html": [
       "<div>\n",
       "<style scoped>\n",
       "    .dataframe tbody tr th:only-of-type {\n",
       "        vertical-align: middle;\n",
       "    }\n",
       "\n",
       "    .dataframe tbody tr th {\n",
       "        vertical-align: top;\n",
       "    }\n",
       "\n",
       "    .dataframe thead th {\n",
       "        text-align: right;\n",
       "    }\n",
       "</style>\n",
       "<table border=\"1\" class=\"dataframe\">\n",
       "  <thead>\n",
       "    <tr style=\"text-align: right;\">\n",
       "      <th></th>\n",
       "      <th>customer_no</th>\n",
       "      <th>channel</th>\n",
       "      <th>cnt_order</th>\n",
       "      <th>decay_day</th>\n",
       "    </tr>\n",
       "  </thead>\n",
       "  <tbody>\n",
       "    <tr>\n",
       "      <th>0</th>\n",
       "      <td>2015010000596</td>\n",
       "      <td>Mobile</td>\n",
       "      <td>1</td>\n",
       "      <td>0.895587</td>\n",
       "    </tr>\n",
       "    <tr>\n",
       "      <th>1</th>\n",
       "      <td>2015010000596</td>\n",
       "      <td>TV</td>\n",
       "      <td>1</td>\n",
       "      <td>0.446186</td>\n",
       "    </tr>\n",
       "    <tr>\n",
       "      <th>2</th>\n",
       "      <td>2015010000652</td>\n",
       "      <td>Mobile</td>\n",
       "      <td>1</td>\n",
       "      <td>0.573274</td>\n",
       "    </tr>\n",
       "    <tr>\n",
       "      <th>3</th>\n",
       "      <td>2015010001152</td>\n",
       "      <td>Mobile</td>\n",
       "      <td>1</td>\n",
       "      <td>0.561894</td>\n",
       "    </tr>\n",
       "    <tr>\n",
       "      <th>4</th>\n",
       "      <td>2015010001152</td>\n",
       "      <td>TV</td>\n",
       "      <td>5</td>\n",
       "      <td>3.258313</td>\n",
       "    </tr>\n",
       "    <tr>\n",
       "      <th>5</th>\n",
       "      <td>2015010001213</td>\n",
       "      <td>TV</td>\n",
       "      <td>1</td>\n",
       "      <td>0.547986</td>\n",
       "    </tr>\n",
       "    <tr>\n",
       "      <th>6</th>\n",
       "      <td>2015010001954</td>\n",
       "      <td>TV</td>\n",
       "      <td>1</td>\n",
       "      <td>0.564717</td>\n",
       "    </tr>\n",
       "    <tr>\n",
       "      <th>7</th>\n",
       "      <td>2015010004299</td>\n",
       "      <td>Mobile</td>\n",
       "      <td>1</td>\n",
       "      <td>0.697047</td>\n",
       "    </tr>\n",
       "    <tr>\n",
       "      <th>8</th>\n",
       "      <td>2015010004451</td>\n",
       "      <td>TV</td>\n",
       "      <td>2</td>\n",
       "      <td>1.373534</td>\n",
       "    </tr>\n",
       "    <tr>\n",
       "      <th>9</th>\n",
       "      <td>2015010005813</td>\n",
       "      <td>Mobile</td>\n",
       "      <td>1</td>\n",
       "      <td>0.834893</td>\n",
       "    </tr>\n",
       "  </tbody>\n",
       "</table>\n",
       "</div>"
      ],
      "text/plain": [
       "     customer_no channel  cnt_order  decay_day\n",
       "0  2015010000596  Mobile          1   0.895587\n",
       "1  2015010000596      TV          1   0.446186\n",
       "2  2015010000652  Mobile          1   0.573274\n",
       "3  2015010001152  Mobile          1   0.561894\n",
       "4  2015010001152      TV          5   3.258313\n",
       "5  2015010001213      TV          1   0.547986\n",
       "6  2015010001954      TV          1   0.564717\n",
       "7  2015010004299  Mobile          1   0.697047\n",
       "8  2015010004451      TV          2   1.373534\n",
       "9  2015010005813  Mobile          1   0.834893"
      ]
     },
     "execution_count": 67,
     "metadata": {},
     "output_type": "execute_result"
    }
   ],
   "source": [
    "## decay_day 집계\n",
    "user_decay_summary = decay_summary.groupby(['customer_no', 'channel']).agg(cnt_order = ('cnt_order', 'sum'),\n",
    "                                                                             decay_day = ('decay_day', 'sum')).reset_index()\n",
    "\n",
    "user_decay_summary.head(10)"
   ]
  },
  {
   "cell_type": "code",
   "execution_count": 68,
   "metadata": {},
   "outputs": [
    {
     "data": {
      "text/html": [
       "<div>\n",
       "<style scoped>\n",
       "    .dataframe tbody tr th:only-of-type {\n",
       "        vertical-align: middle;\n",
       "    }\n",
       "\n",
       "    .dataframe tbody tr th {\n",
       "        vertical-align: top;\n",
       "    }\n",
       "\n",
       "    .dataframe thead th {\n",
       "        text-align: right;\n",
       "    }\n",
       "</style>\n",
       "<table border=\"1\" class=\"dataframe\">\n",
       "  <thead>\n",
       "    <tr style=\"text-align: right;\">\n",
       "      <th></th>\n",
       "      <th>customer_no</th>\n",
       "      <th>channel</th>\n",
       "      <th>cnt_order</th>\n",
       "      <th>decay_day</th>\n",
       "      <th>rn</th>\n",
       "    </tr>\n",
       "  </thead>\n",
       "  <tbody>\n",
       "    <tr>\n",
       "      <th>0</th>\n",
       "      <td>2015010000596</td>\n",
       "      <td>Mobile</td>\n",
       "      <td>1</td>\n",
       "      <td>0.895587</td>\n",
       "      <td>1</td>\n",
       "    </tr>\n",
       "    <tr>\n",
       "      <th>1</th>\n",
       "      <td>2015010000596</td>\n",
       "      <td>TV</td>\n",
       "      <td>1</td>\n",
       "      <td>0.446186</td>\n",
       "      <td>2</td>\n",
       "    </tr>\n",
       "    <tr>\n",
       "      <th>2</th>\n",
       "      <td>2015010000652</td>\n",
       "      <td>Mobile</td>\n",
       "      <td>1</td>\n",
       "      <td>0.573274</td>\n",
       "      <td>1</td>\n",
       "    </tr>\n",
       "    <tr>\n",
       "      <th>3</th>\n",
       "      <td>2015010001152</td>\n",
       "      <td>Mobile</td>\n",
       "      <td>1</td>\n",
       "      <td>0.561894</td>\n",
       "      <td>2</td>\n",
       "    </tr>\n",
       "    <tr>\n",
       "      <th>4</th>\n",
       "      <td>2015010001152</td>\n",
       "      <td>TV</td>\n",
       "      <td>5</td>\n",
       "      <td>3.258313</td>\n",
       "      <td>1</td>\n",
       "    </tr>\n",
       "    <tr>\n",
       "      <th>5</th>\n",
       "      <td>2015010001213</td>\n",
       "      <td>TV</td>\n",
       "      <td>1</td>\n",
       "      <td>0.547986</td>\n",
       "      <td>1</td>\n",
       "    </tr>\n",
       "    <tr>\n",
       "      <th>6</th>\n",
       "      <td>2015010001954</td>\n",
       "      <td>TV</td>\n",
       "      <td>1</td>\n",
       "      <td>0.564717</td>\n",
       "      <td>1</td>\n",
       "    </tr>\n",
       "    <tr>\n",
       "      <th>7</th>\n",
       "      <td>2015010004299</td>\n",
       "      <td>Mobile</td>\n",
       "      <td>1</td>\n",
       "      <td>0.697047</td>\n",
       "      <td>1</td>\n",
       "    </tr>\n",
       "    <tr>\n",
       "      <th>8</th>\n",
       "      <td>2015010004451</td>\n",
       "      <td>TV</td>\n",
       "      <td>2</td>\n",
       "      <td>1.373534</td>\n",
       "      <td>1</td>\n",
       "    </tr>\n",
       "    <tr>\n",
       "      <th>9</th>\n",
       "      <td>2015010005813</td>\n",
       "      <td>Mobile</td>\n",
       "      <td>1</td>\n",
       "      <td>0.834893</td>\n",
       "      <td>1</td>\n",
       "    </tr>\n",
       "  </tbody>\n",
       "</table>\n",
       "</div>"
      ],
      "text/plain": [
       "     customer_no channel  cnt_order  decay_day  rn\n",
       "0  2015010000596  Mobile          1   0.895587   1\n",
       "1  2015010000596      TV          1   0.446186   2\n",
       "2  2015010000652  Mobile          1   0.573274   1\n",
       "3  2015010001152  Mobile          1   0.561894   2\n",
       "4  2015010001152      TV          5   3.258313   1\n",
       "5  2015010001213      TV          1   0.547986   1\n",
       "6  2015010001954      TV          1   0.564717   1\n",
       "7  2015010004299  Mobile          1   0.697047   1\n",
       "8  2015010004451      TV          2   1.373534   1\n",
       "9  2015010005813  Mobile          1   0.834893   1"
      ]
     },
     "execution_count": 68,
     "metadata": {},
     "output_type": "execute_result"
    }
   ],
   "source": [
    "## decay_day 값이 큰 아이템별로 순위 매기기\n",
    "user_decay_summary['rn'] = user_decay_summary.sort_values(by='decay_day', ascending=False) \\\n",
    "             .groupby('customer_no') \\\n",
    "             .cumcount() + 1\n",
    "\n",
    "user_decay_summary.head(10)"
   ]
  },
  {
   "cell_type": "code",
   "execution_count": 69,
   "metadata": {},
   "outputs": [
    {
     "data": {
      "text/html": [
       "<div>\n",
       "<style scoped>\n",
       "    .dataframe tbody tr th:only-of-type {\n",
       "        vertical-align: middle;\n",
       "    }\n",
       "\n",
       "    .dataframe tbody tr th {\n",
       "        vertical-align: top;\n",
       "    }\n",
       "\n",
       "    .dataframe thead th {\n",
       "        text-align: right;\n",
       "    }\n",
       "</style>\n",
       "<table border=\"1\" class=\"dataframe\">\n",
       "  <thead>\n",
       "    <tr style=\"text-align: right;\">\n",
       "      <th></th>\n",
       "      <th>customer_no</th>\n",
       "      <th>channel</th>\n",
       "      <th>cnt_order</th>\n",
       "      <th>decay_day</th>\n",
       "      <th>rn</th>\n",
       "    </tr>\n",
       "  </thead>\n",
       "  <tbody>\n",
       "    <tr>\n",
       "      <th>0</th>\n",
       "      <td>2015010000596</td>\n",
       "      <td>Mobile</td>\n",
       "      <td>1</td>\n",
       "      <td>0.895587</td>\n",
       "      <td>1</td>\n",
       "    </tr>\n",
       "    <tr>\n",
       "      <th>1</th>\n",
       "      <td>2015010000652</td>\n",
       "      <td>Mobile</td>\n",
       "      <td>1</td>\n",
       "      <td>0.573274</td>\n",
       "      <td>1</td>\n",
       "    </tr>\n",
       "    <tr>\n",
       "      <th>2</th>\n",
       "      <td>2015010001152</td>\n",
       "      <td>TV</td>\n",
       "      <td>5</td>\n",
       "      <td>3.258313</td>\n",
       "      <td>1</td>\n",
       "    </tr>\n",
       "    <tr>\n",
       "      <th>3</th>\n",
       "      <td>2015010001213</td>\n",
       "      <td>TV</td>\n",
       "      <td>1</td>\n",
       "      <td>0.547986</td>\n",
       "      <td>1</td>\n",
       "    </tr>\n",
       "    <tr>\n",
       "      <th>4</th>\n",
       "      <td>2015010001954</td>\n",
       "      <td>TV</td>\n",
       "      <td>1</td>\n",
       "      <td>0.564717</td>\n",
       "      <td>1</td>\n",
       "    </tr>\n",
       "  </tbody>\n",
       "</table>\n",
       "</div>"
      ],
      "text/plain": [
       "     customer_no channel  cnt_order  decay_day  rn\n",
       "0  2015010000596  Mobile          1   0.895587   1\n",
       "1  2015010000652  Mobile          1   0.573274   1\n",
       "2  2015010001152      TV          5   3.258313   1\n",
       "3  2015010001213      TV          1   0.547986   1\n",
       "4  2015010001954      TV          1   0.564717   1"
      ]
     },
     "execution_count": 69,
     "metadata": {},
     "output_type": "execute_result"
    }
   ],
   "source": [
    "## Time decay 적용한 최선호 구매 아이템 정보만 남기기\n",
    "user_decay_channel_info = user_decay_summary[user_decay_summary['rn'] == 1].reset_index(drop = True)\n",
    "user_decay_channel_info.head()"
   ]
  },
  {
   "cell_type": "code",
   "execution_count": 70,
   "metadata": {},
   "outputs": [
    {
     "data": {
      "text/plain": [
       "channel\n",
       "TV        45303\n",
       "Mobile    26728\n",
       "Name: count, dtype: int64"
      ]
     },
     "execution_count": 70,
     "metadata": {},
     "output_type": "execute_result"
    }
   ],
   "source": [
    "user_decay_channel_info['channel'].value_counts()"
   ]
  },
  {
   "cell_type": "code",
   "execution_count": 71,
   "metadata": {},
   "outputs": [],
   "source": [
    "test = df.groupby('customer_no')[['gender', 'age_group']].value_counts().reset_index()"
   ]
  },
  {
   "cell_type": "code",
   "execution_count": 72,
   "metadata": {},
   "outputs": [],
   "source": [
    "unique_gender_age = test[test['count']!=0]"
   ]
  },
  {
   "cell_type": "code",
   "execution_count": 73,
   "metadata": {},
   "outputs": [
    {
     "data": {
      "text/html": [
       "<div>\n",
       "<style scoped>\n",
       "    .dataframe tbody tr th:only-of-type {\n",
       "        vertical-align: middle;\n",
       "    }\n",
       "\n",
       "    .dataframe tbody tr th {\n",
       "        vertical-align: top;\n",
       "    }\n",
       "\n",
       "    .dataframe thead th {\n",
       "        text-align: right;\n",
       "    }\n",
       "</style>\n",
       "<table border=\"1\" class=\"dataframe\">\n",
       "  <thead>\n",
       "    <tr style=\"text-align: right;\">\n",
       "      <th></th>\n",
       "      <th>customer_no</th>\n",
       "      <th>channel</th>\n",
       "      <th>cnt_order</th>\n",
       "      <th>decay_day</th>\n",
       "      <th>rn</th>\n",
       "    </tr>\n",
       "  </thead>\n",
       "  <tbody>\n",
       "    <tr>\n",
       "      <th>0</th>\n",
       "      <td>2015010000596</td>\n",
       "      <td>Mobile</td>\n",
       "      <td>1</td>\n",
       "      <td>0.895587</td>\n",
       "      <td>1</td>\n",
       "    </tr>\n",
       "    <tr>\n",
       "      <th>1</th>\n",
       "      <td>2015010000652</td>\n",
       "      <td>Mobile</td>\n",
       "      <td>1</td>\n",
       "      <td>0.573274</td>\n",
       "      <td>1</td>\n",
       "    </tr>\n",
       "    <tr>\n",
       "      <th>2</th>\n",
       "      <td>2015010001152</td>\n",
       "      <td>TV</td>\n",
       "      <td>5</td>\n",
       "      <td>3.258313</td>\n",
       "      <td>1</td>\n",
       "    </tr>\n",
       "    <tr>\n",
       "      <th>3</th>\n",
       "      <td>2015010001213</td>\n",
       "      <td>TV</td>\n",
       "      <td>1</td>\n",
       "      <td>0.547986</td>\n",
       "      <td>1</td>\n",
       "    </tr>\n",
       "    <tr>\n",
       "      <th>4</th>\n",
       "      <td>2015010001954</td>\n",
       "      <td>TV</td>\n",
       "      <td>1</td>\n",
       "      <td>0.564717</td>\n",
       "      <td>1</td>\n",
       "    </tr>\n",
       "  </tbody>\n",
       "</table>\n",
       "</div>"
      ],
      "text/plain": [
       "     customer_no channel  cnt_order  decay_day  rn\n",
       "0  2015010000596  Mobile          1   0.895587   1\n",
       "1  2015010000652  Mobile          1   0.573274   1\n",
       "2  2015010001152      TV          5   3.258313   1\n",
       "3  2015010001213      TV          1   0.547986   1\n",
       "4  2015010001954      TV          1   0.564717   1"
      ]
     },
     "execution_count": 73,
     "metadata": {},
     "output_type": "execute_result"
    }
   ],
   "source": [
    "user_decay_channel_info.head()"
   ]
  },
  {
   "cell_type": "code",
   "execution_count": 74,
   "metadata": {},
   "outputs": [
    {
     "data": {
      "text/html": [
       "<div>\n",
       "<style scoped>\n",
       "    .dataframe tbody tr th:only-of-type {\n",
       "        vertical-align: middle;\n",
       "    }\n",
       "\n",
       "    .dataframe tbody tr th {\n",
       "        vertical-align: top;\n",
       "    }\n",
       "\n",
       "    .dataframe thead th {\n",
       "        text-align: right;\n",
       "    }\n",
       "</style>\n",
       "<table border=\"1\" class=\"dataframe\">\n",
       "  <thead>\n",
       "    <tr style=\"text-align: right;\">\n",
       "      <th></th>\n",
       "      <th>customer_no</th>\n",
       "      <th>gender</th>\n",
       "      <th>age_group</th>\n",
       "      <th>count</th>\n",
       "    </tr>\n",
       "  </thead>\n",
       "  <tbody>\n",
       "    <tr>\n",
       "      <th>0</th>\n",
       "      <td>2015010000596</td>\n",
       "      <td>1</td>\n",
       "      <td>40대</td>\n",
       "      <td>2</td>\n",
       "    </tr>\n",
       "    <tr>\n",
       "      <th>18</th>\n",
       "      <td>2015010000652</td>\n",
       "      <td>2</td>\n",
       "      <td>40대</td>\n",
       "      <td>1</td>\n",
       "    </tr>\n",
       "    <tr>\n",
       "      <th>36</th>\n",
       "      <td>2015010001152</td>\n",
       "      <td>1</td>\n",
       "      <td>50대</td>\n",
       "      <td>6</td>\n",
       "    </tr>\n",
       "    <tr>\n",
       "      <th>54</th>\n",
       "      <td>2015010001213</td>\n",
       "      <td>2</td>\n",
       "      <td>30대</td>\n",
       "      <td>1</td>\n",
       "    </tr>\n",
       "    <tr>\n",
       "      <th>72</th>\n",
       "      <td>2015010001954</td>\n",
       "      <td>2</td>\n",
       "      <td>50대</td>\n",
       "      <td>1</td>\n",
       "    </tr>\n",
       "  </tbody>\n",
       "</table>\n",
       "</div>"
      ],
      "text/plain": [
       "      customer_no  gender age_group  count\n",
       "0   2015010000596       1       40대      2\n",
       "18  2015010000652       2       40대      1\n",
       "36  2015010001152       1       50대      6\n",
       "54  2015010001213       2       30대      1\n",
       "72  2015010001954       2       50대      1"
      ]
     },
     "execution_count": 74,
     "metadata": {},
     "output_type": "execute_result"
    }
   ],
   "source": [
    "unique_gender_age.head()"
   ]
  },
  {
   "cell_type": "code",
   "execution_count": 75,
   "metadata": {},
   "outputs": [],
   "source": [
    "merge_df = pd.merge(user_decay_channel_info, unique_gender_age, on=['customer_no'])"
   ]
  },
  {
   "cell_type": "code",
   "execution_count": 76,
   "metadata": {},
   "outputs": [
    {
     "data": {
      "text/html": [
       "<div>\n",
       "<style scoped>\n",
       "    .dataframe tbody tr th:only-of-type {\n",
       "        vertical-align: middle;\n",
       "    }\n",
       "\n",
       "    .dataframe tbody tr th {\n",
       "        vertical-align: top;\n",
       "    }\n",
       "\n",
       "    .dataframe thead th {\n",
       "        text-align: right;\n",
       "    }\n",
       "</style>\n",
       "<table border=\"1\" class=\"dataframe\">\n",
       "  <thead>\n",
       "    <tr style=\"text-align: right;\">\n",
       "      <th></th>\n",
       "      <th>customer_no</th>\n",
       "      <th>channel</th>\n",
       "      <th>cnt_order</th>\n",
       "      <th>decay_day</th>\n",
       "      <th>rn</th>\n",
       "      <th>gender</th>\n",
       "      <th>age_group</th>\n",
       "      <th>count</th>\n",
       "    </tr>\n",
       "  </thead>\n",
       "  <tbody>\n",
       "    <tr>\n",
       "      <th>0</th>\n",
       "      <td>2015010000596</td>\n",
       "      <td>Mobile</td>\n",
       "      <td>1</td>\n",
       "      <td>0.895587</td>\n",
       "      <td>1</td>\n",
       "      <td>1</td>\n",
       "      <td>40대</td>\n",
       "      <td>2</td>\n",
       "    </tr>\n",
       "    <tr>\n",
       "      <th>1</th>\n",
       "      <td>2015010000652</td>\n",
       "      <td>Mobile</td>\n",
       "      <td>1</td>\n",
       "      <td>0.573274</td>\n",
       "      <td>1</td>\n",
       "      <td>2</td>\n",
       "      <td>40대</td>\n",
       "      <td>1</td>\n",
       "    </tr>\n",
       "    <tr>\n",
       "      <th>2</th>\n",
       "      <td>2015010001152</td>\n",
       "      <td>TV</td>\n",
       "      <td>5</td>\n",
       "      <td>3.258313</td>\n",
       "      <td>1</td>\n",
       "      <td>1</td>\n",
       "      <td>50대</td>\n",
       "      <td>6</td>\n",
       "    </tr>\n",
       "    <tr>\n",
       "      <th>3</th>\n",
       "      <td>2015010001213</td>\n",
       "      <td>TV</td>\n",
       "      <td>1</td>\n",
       "      <td>0.547986</td>\n",
       "      <td>1</td>\n",
       "      <td>2</td>\n",
       "      <td>30대</td>\n",
       "      <td>1</td>\n",
       "    </tr>\n",
       "    <tr>\n",
       "      <th>4</th>\n",
       "      <td>2015010001954</td>\n",
       "      <td>TV</td>\n",
       "      <td>1</td>\n",
       "      <td>0.564717</td>\n",
       "      <td>1</td>\n",
       "      <td>2</td>\n",
       "      <td>50대</td>\n",
       "      <td>1</td>\n",
       "    </tr>\n",
       "  </tbody>\n",
       "</table>\n",
       "</div>"
      ],
      "text/plain": [
       "     customer_no channel  cnt_order  decay_day  rn  gender age_group  count\n",
       "0  2015010000596  Mobile          1   0.895587   1       1       40대      2\n",
       "1  2015010000652  Mobile          1   0.573274   1       2       40대      1\n",
       "2  2015010001152      TV          5   3.258313   1       1       50대      6\n",
       "3  2015010001213      TV          1   0.547986   1       2       30대      1\n",
       "4  2015010001954      TV          1   0.564717   1       2       50대      1"
      ]
     },
     "execution_count": 76,
     "metadata": {},
     "output_type": "execute_result"
    }
   ],
   "source": [
    "merge_df.head()"
   ]
  },
  {
   "cell_type": "code",
   "execution_count": 77,
   "metadata": {},
   "outputs": [],
   "source": [
    "from tqdm import tqdm"
   ]
  },
  {
   "cell_type": "code",
   "execution_count": 78,
   "metadata": {},
   "outputs": [
    {
     "data": {
      "text/plain": [
       "72031"
      ]
     },
     "execution_count": 78,
     "metadata": {},
     "output_type": "execute_result"
    }
   ],
   "source": [
    "len(merge_df['customer_no'])"
   ]
  },
  {
   "cell_type": "code",
   "execution_count": 79,
   "metadata": {},
   "outputs": [
    {
     "name": "stderr",
     "output_type": "stream",
     "text": [
      "  0%|          | 232/72031 [00:01<09:31, 125.58it/s]"
     ]
    },
    {
     "name": "stderr",
     "output_type": "stream",
     "text": [
      "100%|██████████| 72031/72031 [08:56<00:00, 134.21it/s]\n"
     ]
    }
   ],
   "source": [
    "res = []\n",
    "for i in tqdm(merge_df['customer_no']):\n",
    "    u_df = merge_df[merge_df['customer_no']==i]\n",
    "    gender = u_df['gender'].values[0]\n",
    "    age_group = u_df['age_group'].values[0]\n",
    "    channel = u_df['channel'].values[0]\n",
    "    target = df[(df['channel']==channel) & (df['gender']==gender) & (df['age_group']==age_group)]\n",
    "    result = list(target['item_name'].value_counts()[:5].index)\n",
    "    if not len(result) == 0:\n",
    "        res.append(result)\n",
    "    else: \n",
    "        res.append([])"
   ]
  },
  {
   "cell_type": "code",
   "execution_count": 80,
   "metadata": {},
   "outputs": [],
   "source": [
    "res_df = merge_df.copy()\n",
    "res_df['rec_by_td'] = res"
   ]
  },
  {
   "cell_type": "code",
   "execution_count": 81,
   "metadata": {},
   "outputs": [
    {
     "data": {
      "text/html": [
       "<div>\n",
       "<style scoped>\n",
       "    .dataframe tbody tr th:only-of-type {\n",
       "        vertical-align: middle;\n",
       "    }\n",
       "\n",
       "    .dataframe tbody tr th {\n",
       "        vertical-align: top;\n",
       "    }\n",
       "\n",
       "    .dataframe thead th {\n",
       "        text-align: right;\n",
       "    }\n",
       "</style>\n",
       "<table border=\"1\" class=\"dataframe\">\n",
       "  <thead>\n",
       "    <tr style=\"text-align: right;\">\n",
       "      <th></th>\n",
       "      <th>customer_no</th>\n",
       "      <th>channel</th>\n",
       "      <th>cnt_order</th>\n",
       "      <th>decay_day</th>\n",
       "      <th>rn</th>\n",
       "      <th>gender</th>\n",
       "      <th>age_group</th>\n",
       "      <th>count</th>\n",
       "      <th>rec_by_td</th>\n",
       "    </tr>\n",
       "  </thead>\n",
       "  <tbody>\n",
       "    <tr>\n",
       "      <th>0</th>\n",
       "      <td>2015010000596</td>\n",
       "      <td>Mobile</td>\n",
       "      <td>1</td>\n",
       "      <td>0.895587</td>\n",
       "      <td>1</td>\n",
       "      <td>1</td>\n",
       "      <td>40대</td>\n",
       "      <td>2</td>\n",
       "      <td>[생수, 드로즈, 건강음료, 기타 간편/즉석식품, 드럼세탁기]</td>\n",
       "    </tr>\n",
       "    <tr>\n",
       "      <th>1</th>\n",
       "      <td>2015010000652</td>\n",
       "      <td>Mobile</td>\n",
       "      <td>1</td>\n",
       "      <td>0.573274</td>\n",
       "      <td>1</td>\n",
       "      <td>2</td>\n",
       "      <td>40대</td>\n",
       "      <td>1</td>\n",
       "      <td>[생수, 기타 간편/즉석식품, 드로즈, 건강음료, 드럼세탁기]</td>\n",
       "    </tr>\n",
       "    <tr>\n",
       "      <th>2</th>\n",
       "      <td>2015010001152</td>\n",
       "      <td>TV</td>\n",
       "      <td>5</td>\n",
       "      <td>3.258313</td>\n",
       "      <td>1</td>\n",
       "      <td>1</td>\n",
       "      <td>50대</td>\n",
       "      <td>6</td>\n",
       "      <td>[티셔츠, 기초세트, 트랙수트, 캐주얼화, 트레킹화]</td>\n",
       "    </tr>\n",
       "    <tr>\n",
       "      <th>3</th>\n",
       "      <td>2015010001213</td>\n",
       "      <td>TV</td>\n",
       "      <td>1</td>\n",
       "      <td>0.547986</td>\n",
       "      <td>1</td>\n",
       "      <td>2</td>\n",
       "      <td>30대</td>\n",
       "      <td>1</td>\n",
       "      <td>[오메가3, 황사마스크, 티셔츠, 트랙수트, 김치]</td>\n",
       "    </tr>\n",
       "    <tr>\n",
       "      <th>4</th>\n",
       "      <td>2015010001954</td>\n",
       "      <td>TV</td>\n",
       "      <td>1</td>\n",
       "      <td>0.564717</td>\n",
       "      <td>1</td>\n",
       "      <td>2</td>\n",
       "      <td>50대</td>\n",
       "      <td>1</td>\n",
       "      <td>[티셔츠, 캐주얼화, 트랙수트, 황사마스크, 팬츠]</td>\n",
       "    </tr>\n",
       "  </tbody>\n",
       "</table>\n",
       "</div>"
      ],
      "text/plain": [
       "     customer_no channel  cnt_order  decay_day  rn  gender age_group  count  \\\n",
       "0  2015010000596  Mobile          1   0.895587   1       1       40대      2   \n",
       "1  2015010000652  Mobile          1   0.573274   1       2       40대      1   \n",
       "2  2015010001152      TV          5   3.258313   1       1       50대      6   \n",
       "3  2015010001213      TV          1   0.547986   1       2       30대      1   \n",
       "4  2015010001954      TV          1   0.564717   1       2       50대      1   \n",
       "\n",
       "                            rec_by_td  \n",
       "0  [생수, 드로즈, 건강음료, 기타 간편/즉석식품, 드럼세탁기]  \n",
       "1  [생수, 기타 간편/즉석식품, 드로즈, 건강음료, 드럼세탁기]  \n",
       "2       [티셔츠, 기초세트, 트랙수트, 캐주얼화, 트레킹화]  \n",
       "3        [오메가3, 황사마스크, 티셔츠, 트랙수트, 김치]  \n",
       "4        [티셔츠, 캐주얼화, 트랙수트, 황사마스크, 팬츠]  "
      ]
     },
     "execution_count": 81,
     "metadata": {},
     "output_type": "execute_result"
    }
   ],
   "source": [
    "res_df.head()"
   ]
  },
  {
   "cell_type": "code",
   "execution_count": 82,
   "metadata": {},
   "outputs": [],
   "source": [
    "res_df.to_csv('rec.csv')"
   ]
  },
  {
   "cell_type": "markdown",
   "metadata": {},
   "source": [
    "## Time Decay + Association Rule 기반 추천"
   ]
  },
  {
   "cell_type": "markdown",
   "metadata": {},
   "source": [
    "### Association Rule 생성"
   ]
  },
  {
   "cell_type": "code",
   "execution_count": 83,
   "metadata": {},
   "outputs": [],
   "source": [
    "from mlxtend.preprocessing import TransactionEncoder\n",
    "from mlxtend.frequent_patterns import apriori\n",
    "from mlxtend.frequent_patterns import association_rules\n",
    "import networkx as nx\n",
    "import plotly.express as px"
   ]
  },
  {
   "cell_type": "code",
   "execution_count": 84,
   "metadata": {},
   "outputs": [
    {
     "data": {
      "text/html": [
       "<div>\n",
       "<style scoped>\n",
       "    .dataframe tbody tr th:only-of-type {\n",
       "        vertical-align: middle;\n",
       "    }\n",
       "\n",
       "    .dataframe tbody tr th {\n",
       "        vertical-align: top;\n",
       "    }\n",
       "\n",
       "    .dataframe thead th {\n",
       "        text-align: right;\n",
       "    }\n",
       "</style>\n",
       "<table border=\"1\" class=\"dataframe\">\n",
       "  <thead>\n",
       "    <tr style=\"text-align: right;\">\n",
       "      <th></th>\n",
       "      <th>customer_no</th>\n",
       "      <th>item_code</th>\n",
       "      <th>item_name</th>\n",
       "    </tr>\n",
       "  </thead>\n",
       "  <tbody>\n",
       "    <tr>\n",
       "      <th>0</th>\n",
       "      <td>2021059651101</td>\n",
       "      <td>323421750</td>\n",
       "      <td>밴딩팬츠</td>\n",
       "    </tr>\n",
       "    <tr>\n",
       "      <th>1</th>\n",
       "      <td>2018069800502</td>\n",
       "      <td>323516657</td>\n",
       "      <td>트랙수트</td>\n",
       "    </tr>\n",
       "    <tr>\n",
       "      <th>2</th>\n",
       "      <td>2019073300103</td>\n",
       "      <td>323393459</td>\n",
       "      <td>기초세트</td>\n",
       "    </tr>\n",
       "    <tr>\n",
       "      <th>3</th>\n",
       "      <td>2020075283364</td>\n",
       "      <td>323420069</td>\n",
       "      <td>유산균</td>\n",
       "    </tr>\n",
       "    <tr>\n",
       "      <th>4</th>\n",
       "      <td>2020104780765</td>\n",
       "      <td>321820178</td>\n",
       "      <td>건강주스</td>\n",
       "    </tr>\n",
       "  </tbody>\n",
       "</table>\n",
       "</div>"
      ],
      "text/plain": [
       "     customer_no  item_code item_name\n",
       "0  2021059651101  323421750      밴딩팬츠\n",
       "1  2018069800502  323516657      트랙수트\n",
       "2  2019073300103  323393459      기초세트\n",
       "3  2020075283364  323420069       유산균\n",
       "4  2020104780765  321820178      건강주스"
      ]
     },
     "execution_count": 84,
     "metadata": {},
     "output_type": "execute_result"
    }
   ],
   "source": [
    "# 연관 규칙 분석에 필요한 컬럼만 선택하여 다시 객체 지정하기\n",
    "ar_df = df[['customer_no', 'item_code', 'item_name']]\n",
    "ar_df.head()"
   ]
  },
  {
   "cell_type": "code",
   "execution_count": 85,
   "metadata": {},
   "outputs": [
    {
     "data": {
      "text/plain": [
       "customer_no\n",
       "2015010000596                    [도가니탕, 혈당/혈압측정기]\n",
       "2015010000652                              [이온음료]\n",
       "2015010001152    [닭고기(계육), 크리스피롤, 오메가3, 도가니탕, 사과]\n",
       "2015010001213                               [유산균]\n",
       "2015010001954                              [기모팬츠]\n",
       "Name: item_name, dtype: object"
      ]
     },
     "execution_count": 85,
     "metadata": {},
     "output_type": "execute_result"
    }
   ],
   "source": [
    "# apriori 모델 적용을 위한 품목 리스트 가공\n",
    "itemset = ar_df.drop_duplicates(\n",
    "    ['customer_no', 'item_name']).groupby(['customer_no'])['item_name'].apply(list)\n",
    "\n",
    "# itemset = pd.DataFrame(itemset).reset_index().drop(['customer_no'], axis = 'columns')\n",
    "\n",
    "itemset = itemset.squeeze()\n",
    "\n",
    "itemset_df = pd.DataFrame(itemset).reset_index()\n",
    "\n",
    "itemset.head()"
   ]
  },
  {
   "cell_type": "code",
   "execution_count": 86,
   "metadata": {},
   "outputs": [
    {
     "data": {
      "text/html": [
       "<div>\n",
       "<style scoped>\n",
       "    .dataframe tbody tr th:only-of-type {\n",
       "        vertical-align: middle;\n",
       "    }\n",
       "\n",
       "    .dataframe tbody tr th {\n",
       "        vertical-align: top;\n",
       "    }\n",
       "\n",
       "    .dataframe thead th {\n",
       "        text-align: right;\n",
       "    }\n",
       "</style>\n",
       "<table border=\"1\" class=\"dataframe\">\n",
       "  <thead>\n",
       "    <tr style=\"text-align: right;\">\n",
       "      <th></th>\n",
       "      <th>18K쥬얼리</th>\n",
       "      <th>18K쥬얼리세트</th>\n",
       "      <th>2-4단 서랍장/협탁</th>\n",
       "      <th>2-5인용텐트</th>\n",
       "      <th>2구 가스레인지</th>\n",
       "      <th>2구 이상 전기레인지</th>\n",
       "      <th>7부/9부/크롭</th>\n",
       "      <th>DIY반제품</th>\n",
       "      <th>IH압력밥솥</th>\n",
       "      <th>LA갈비</th>\n",
       "      <th>...</th>\n",
       "      <th>후라이팬24-26cm</th>\n",
       "      <th>후라이팬28cm이상</th>\n",
       "      <th>후라이팬2종세트</th>\n",
       "      <th>후라이팬세트</th>\n",
       "      <th>후지필름</th>\n",
       "      <th>훌라후프</th>\n",
       "      <th>훌라후프/짐볼</th>\n",
       "      <th>휴대폰 거치대</th>\n",
       "      <th>흑미</th>\n",
       "      <th>흑염소즙</th>\n",
       "    </tr>\n",
       "  </thead>\n",
       "  <tbody>\n",
       "    <tr>\n",
       "      <th>0</th>\n",
       "      <td>False</td>\n",
       "      <td>False</td>\n",
       "      <td>False</td>\n",
       "      <td>False</td>\n",
       "      <td>False</td>\n",
       "      <td>False</td>\n",
       "      <td>False</td>\n",
       "      <td>False</td>\n",
       "      <td>False</td>\n",
       "      <td>False</td>\n",
       "      <td>...</td>\n",
       "      <td>False</td>\n",
       "      <td>False</td>\n",
       "      <td>False</td>\n",
       "      <td>False</td>\n",
       "      <td>False</td>\n",
       "      <td>False</td>\n",
       "      <td>False</td>\n",
       "      <td>False</td>\n",
       "      <td>False</td>\n",
       "      <td>False</td>\n",
       "    </tr>\n",
       "    <tr>\n",
       "      <th>1</th>\n",
       "      <td>False</td>\n",
       "      <td>False</td>\n",
       "      <td>False</td>\n",
       "      <td>False</td>\n",
       "      <td>False</td>\n",
       "      <td>False</td>\n",
       "      <td>False</td>\n",
       "      <td>False</td>\n",
       "      <td>False</td>\n",
       "      <td>False</td>\n",
       "      <td>...</td>\n",
       "      <td>False</td>\n",
       "      <td>False</td>\n",
       "      <td>False</td>\n",
       "      <td>False</td>\n",
       "      <td>False</td>\n",
       "      <td>False</td>\n",
       "      <td>False</td>\n",
       "      <td>False</td>\n",
       "      <td>False</td>\n",
       "      <td>False</td>\n",
       "    </tr>\n",
       "    <tr>\n",
       "      <th>2</th>\n",
       "      <td>False</td>\n",
       "      <td>False</td>\n",
       "      <td>False</td>\n",
       "      <td>False</td>\n",
       "      <td>False</td>\n",
       "      <td>False</td>\n",
       "      <td>False</td>\n",
       "      <td>False</td>\n",
       "      <td>False</td>\n",
       "      <td>False</td>\n",
       "      <td>...</td>\n",
       "      <td>False</td>\n",
       "      <td>False</td>\n",
       "      <td>False</td>\n",
       "      <td>False</td>\n",
       "      <td>False</td>\n",
       "      <td>False</td>\n",
       "      <td>False</td>\n",
       "      <td>False</td>\n",
       "      <td>False</td>\n",
       "      <td>False</td>\n",
       "    </tr>\n",
       "    <tr>\n",
       "      <th>3</th>\n",
       "      <td>False</td>\n",
       "      <td>False</td>\n",
       "      <td>False</td>\n",
       "      <td>False</td>\n",
       "      <td>False</td>\n",
       "      <td>False</td>\n",
       "      <td>False</td>\n",
       "      <td>False</td>\n",
       "      <td>False</td>\n",
       "      <td>False</td>\n",
       "      <td>...</td>\n",
       "      <td>False</td>\n",
       "      <td>False</td>\n",
       "      <td>False</td>\n",
       "      <td>False</td>\n",
       "      <td>False</td>\n",
       "      <td>False</td>\n",
       "      <td>False</td>\n",
       "      <td>False</td>\n",
       "      <td>False</td>\n",
       "      <td>False</td>\n",
       "    </tr>\n",
       "    <tr>\n",
       "      <th>4</th>\n",
       "      <td>False</td>\n",
       "      <td>False</td>\n",
       "      <td>False</td>\n",
       "      <td>False</td>\n",
       "      <td>False</td>\n",
       "      <td>False</td>\n",
       "      <td>False</td>\n",
       "      <td>False</td>\n",
       "      <td>False</td>\n",
       "      <td>False</td>\n",
       "      <td>...</td>\n",
       "      <td>False</td>\n",
       "      <td>False</td>\n",
       "      <td>False</td>\n",
       "      <td>False</td>\n",
       "      <td>False</td>\n",
       "      <td>False</td>\n",
       "      <td>False</td>\n",
       "      <td>False</td>\n",
       "      <td>False</td>\n",
       "      <td>False</td>\n",
       "    </tr>\n",
       "  </tbody>\n",
       "</table>\n",
       "<p>5 rows × 1185 columns</p>\n",
       "</div>"
      ],
      "text/plain": [
       "   18K쥬얼리  18K쥬얼리세트  2-4단 서랍장/협탁  2-5인용텐트  2구 가스레인지  2구 이상 전기레인지  7부/9부/크롭  \\\n",
       "0   False     False        False    False     False        False     False   \n",
       "1   False     False        False    False     False        False     False   \n",
       "2   False     False        False    False     False        False     False   \n",
       "3   False     False        False    False     False        False     False   \n",
       "4   False     False        False    False     False        False     False   \n",
       "\n",
       "   DIY반제품  IH압력밥솥   LA갈비  ...  후라이팬24-26cm  후라이팬28cm이상  후라이팬2종세트  후라이팬세트  \\\n",
       "0   False   False  False  ...        False       False     False   False   \n",
       "1   False   False  False  ...        False       False     False   False   \n",
       "2   False   False  False  ...        False       False     False   False   \n",
       "3   False   False  False  ...        False       False     False   False   \n",
       "4   False   False  False  ...        False       False     False   False   \n",
       "\n",
       "    후지필름   훌라후프  훌라후프/짐볼  휴대폰 거치대     흑미   흑염소즙  \n",
       "0  False  False    False    False  False  False  \n",
       "1  False  False    False    False  False  False  \n",
       "2  False  False    False    False  False  False  \n",
       "3  False  False    False    False  False  False  \n",
       "4  False  False    False    False  False  False  \n",
       "\n",
       "[5 rows x 1185 columns]"
      ]
     },
     "execution_count": 86,
     "metadata": {},
     "output_type": "execute_result"
    }
   ],
   "source": [
    "# apriori 모델 적용을 위한 장바구니 - 품목 더미 가공\n",
    "\n",
    "encoder = TransactionEncoder()\n",
    "encoder_T = encoder.fit(itemset).transform(itemset)\n",
    "\n",
    "# 데이터프레임으로 변경\n",
    "itemset_matrix = pd.DataFrame(encoder_T, columns=encoder.columns_)\n",
    "\n",
    "itemset_matrix.head()"
   ]
  },
  {
   "cell_type": "code",
   "execution_count": 87,
   "metadata": {},
   "outputs": [
    {
     "data": {
      "text/html": [
       "<div>\n",
       "<style scoped>\n",
       "    .dataframe tbody tr th:only-of-type {\n",
       "        vertical-align: middle;\n",
       "    }\n",
       "\n",
       "    .dataframe tbody tr th {\n",
       "        vertical-align: top;\n",
       "    }\n",
       "\n",
       "    .dataframe thead th {\n",
       "        text-align: right;\n",
       "    }\n",
       "</style>\n",
       "<table border=\"1\" class=\"dataframe\">\n",
       "  <thead>\n",
       "    <tr style=\"text-align: right;\">\n",
       "      <th></th>\n",
       "      <th>support</th>\n",
       "      <th>itemsets</th>\n",
       "    </tr>\n",
       "  </thead>\n",
       "  <tbody>\n",
       "    <tr>\n",
       "      <th>0</th>\n",
       "      <td>0.001569</td>\n",
       "      <td>(IH압력밥솥)</td>\n",
       "    </tr>\n",
       "    <tr>\n",
       "      <th>1</th>\n",
       "      <td>0.009010</td>\n",
       "      <td>(LA갈비)</td>\n",
       "    </tr>\n",
       "    <tr>\n",
       "      <th>2</th>\n",
       "      <td>0.001805</td>\n",
       "      <td>(LED TV)</td>\n",
       "    </tr>\n",
       "    <tr>\n",
       "      <th>3</th>\n",
       "      <td>0.001888</td>\n",
       "      <td>(가글/치약)</td>\n",
       "    </tr>\n",
       "    <tr>\n",
       "      <th>4</th>\n",
       "      <td>0.000944</td>\n",
       "      <td>(가발세트)</td>\n",
       "    </tr>\n",
       "  </tbody>\n",
       "</table>\n",
       "</div>"
      ],
      "text/plain": [
       "    support  itemsets\n",
       "0  0.001569  (IH압력밥솥)\n",
       "1  0.009010    (LA갈비)\n",
       "2  0.001805  (LED TV)\n",
       "3  0.001888   (가글/치약)\n",
       "4  0.000944    (가발세트)"
      ]
     },
     "execution_count": 87,
     "metadata": {},
     "output_type": "execute_result"
    }
   ],
   "source": [
    "# 지지도 0.0005 기준으로 apriori 적용\n",
    "\n",
    "itemset_apriori = apriori(itemset_matrix, min_support = 0.0005, use_colnames=True)\n",
    "itemset_apriori.head()"
   ]
  },
  {
   "cell_type": "code",
   "execution_count": 88,
   "metadata": {},
   "outputs": [
    {
     "data": {
      "text/html": [
       "<div>\n",
       "<style scoped>\n",
       "    .dataframe tbody tr th:only-of-type {\n",
       "        vertical-align: middle;\n",
       "    }\n",
       "\n",
       "    .dataframe tbody tr th {\n",
       "        vertical-align: top;\n",
       "    }\n",
       "\n",
       "    .dataframe thead th {\n",
       "        text-align: right;\n",
       "    }\n",
       "</style>\n",
       "<table border=\"1\" class=\"dataframe\">\n",
       "  <thead>\n",
       "    <tr style=\"text-align: right;\">\n",
       "      <th></th>\n",
       "      <th>antecedents</th>\n",
       "      <th>consequents</th>\n",
       "      <th>antecedent support</th>\n",
       "      <th>consequent support</th>\n",
       "      <th>support</th>\n",
       "      <th>confidence</th>\n",
       "      <th>lift</th>\n",
       "      <th>leverage</th>\n",
       "      <th>conviction</th>\n",
       "      <th>zhangs_metric</th>\n",
       "    </tr>\n",
       "  </thead>\n",
       "  <tbody>\n",
       "    <tr>\n",
       "      <th>0</th>\n",
       "      <td>(IH압력밥솥)</td>\n",
       "      <td>(공기청정기)</td>\n",
       "      <td>0.001569</td>\n",
       "      <td>0.001833</td>\n",
       "      <td>0.000750</td>\n",
       "      <td>0.477876</td>\n",
       "      <td>260.771923</td>\n",
       "      <td>0.000747</td>\n",
       "      <td>1.911744</td>\n",
       "      <td>0.997730</td>\n",
       "    </tr>\n",
       "    <tr>\n",
       "      <th>1</th>\n",
       "      <td>(공기청정기)</td>\n",
       "      <td>(IH압력밥솥)</td>\n",
       "      <td>0.001833</td>\n",
       "      <td>0.001569</td>\n",
       "      <td>0.000750</td>\n",
       "      <td>0.409091</td>\n",
       "      <td>260.771923</td>\n",
       "      <td>0.000747</td>\n",
       "      <td>1.689653</td>\n",
       "      <td>0.997994</td>\n",
       "    </tr>\n",
       "    <tr>\n",
       "      <th>2</th>\n",
       "      <td>(미니/업소용 전기밥솥)</td>\n",
       "      <td>(IH압력밥솥)</td>\n",
       "      <td>0.000708</td>\n",
       "      <td>0.001569</td>\n",
       "      <td>0.000514</td>\n",
       "      <td>0.725490</td>\n",
       "      <td>462.458268</td>\n",
       "      <td>0.000513</td>\n",
       "      <td>3.637142</td>\n",
       "      <td>0.998545</td>\n",
       "    </tr>\n",
       "    <tr>\n",
       "      <th>3</th>\n",
       "      <td>(IH압력밥솥)</td>\n",
       "      <td>(미니/업소용 전기밥솥)</td>\n",
       "      <td>0.001569</td>\n",
       "      <td>0.000708</td>\n",
       "      <td>0.000514</td>\n",
       "      <td>0.327434</td>\n",
       "      <td>462.458268</td>\n",
       "      <td>0.000513</td>\n",
       "      <td>1.485789</td>\n",
       "      <td>0.999405</td>\n",
       "    </tr>\n",
       "    <tr>\n",
       "      <th>4</th>\n",
       "      <td>(일반압력밥솥)</td>\n",
       "      <td>(IH압력밥솥)</td>\n",
       "      <td>0.001527</td>\n",
       "      <td>0.001569</td>\n",
       "      <td>0.001291</td>\n",
       "      <td>0.845455</td>\n",
       "      <td>538.928640</td>\n",
       "      <td>0.001289</td>\n",
       "      <td>6.460437</td>\n",
       "      <td>0.999671</td>\n",
       "    </tr>\n",
       "  </tbody>\n",
       "</table>\n",
       "</div>"
      ],
      "text/plain": [
       "     antecedents    consequents  antecedent support  consequent support  \\\n",
       "0       (IH압력밥솥)        (공기청정기)            0.001569            0.001833   \n",
       "1        (공기청정기)       (IH압력밥솥)            0.001833            0.001569   \n",
       "2  (미니/업소용 전기밥솥)       (IH압력밥솥)            0.000708            0.001569   \n",
       "3       (IH압력밥솥)  (미니/업소용 전기밥솥)            0.001569            0.000708   \n",
       "4       (일반압력밥솥)       (IH압력밥솥)            0.001527            0.001569   \n",
       "\n",
       "    support  confidence        lift  leverage  conviction  zhangs_metric  \n",
       "0  0.000750    0.477876  260.771923  0.000747    1.911744       0.997730  \n",
       "1  0.000750    0.409091  260.771923  0.000747    1.689653       0.997994  \n",
       "2  0.000514    0.725490  462.458268  0.000513    3.637142       0.998545  \n",
       "3  0.000514    0.327434  462.458268  0.000513    1.485789       0.999405  \n",
       "4  0.001291    0.845455  538.928640  0.001289    6.460437       0.999671  "
      ]
     },
     "execution_count": 88,
     "metadata": {},
     "output_type": "execute_result"
    }
   ],
   "source": [
    "# 향상도 5 이상 상품 조합 추출\n",
    "association_rules(itemset_apriori, metric=\"lift\", min_threshold=5).head()"
   ]
  },
  {
   "cell_type": "markdown",
   "metadata": {},
   "source": [
    "### Time Decay를 활용한 선호아이템 상위 3개 추출 "
   ]
  },
  {
   "cell_type": "code",
   "execution_count": 89,
   "metadata": {},
   "outputs": [],
   "source": [
    "## 유저 단위로 channel별 구매 건수 구하기\n",
    "user_summary = df.groupby(['customer_no', 'item_name'])['order_no'].nunique().reset_index()\n",
    "user_summary = user_summary.rename(columns={'order_no': 'cnt_order'})"
   ]
  },
  {
   "cell_type": "code",
   "execution_count": 90,
   "metadata": {},
   "outputs": [],
   "source": [
    "## 구매 건수가 많은 channel별로 순위 매기기\n",
    "user_summary['rn'] = user_summary.sort_values(by='cnt_order', ascending=False) \\\n",
    "             .groupby('customer_no') \\\n",
    "             .cumcount() + 1"
   ]
  },
  {
   "cell_type": "code",
   "execution_count": 91,
   "metadata": {},
   "outputs": [
    {
     "data": {
      "text/html": [
       "<div>\n",
       "<style scoped>\n",
       "    .dataframe tbody tr th:only-of-type {\n",
       "        vertical-align: middle;\n",
       "    }\n",
       "\n",
       "    .dataframe tbody tr th {\n",
       "        vertical-align: top;\n",
       "    }\n",
       "\n",
       "    .dataframe thead th {\n",
       "        text-align: right;\n",
       "    }\n",
       "</style>\n",
       "<table border=\"1\" class=\"dataframe\">\n",
       "  <thead>\n",
       "    <tr style=\"text-align: right;\">\n",
       "      <th></th>\n",
       "      <th>customer_no</th>\n",
       "      <th>item_name</th>\n",
       "      <th>cnt_order</th>\n",
       "      <th>decay_day</th>\n",
       "      <th>rn</th>\n",
       "    </tr>\n",
       "  </thead>\n",
       "  <tbody>\n",
       "    <tr>\n",
       "      <th>0</th>\n",
       "      <td>2015010000596</td>\n",
       "      <td>혈당/혈압측정기</td>\n",
       "      <td>1</td>\n",
       "      <td>0.895587</td>\n",
       "      <td>1</td>\n",
       "    </tr>\n",
       "    <tr>\n",
       "      <th>1</th>\n",
       "      <td>2015010000652</td>\n",
       "      <td>이온음료</td>\n",
       "      <td>1</td>\n",
       "      <td>0.573274</td>\n",
       "      <td>1</td>\n",
       "    </tr>\n",
       "    <tr>\n",
       "      <th>2</th>\n",
       "      <td>2015010001152</td>\n",
       "      <td>도가니탕</td>\n",
       "      <td>2</td>\n",
       "      <td>1.045088</td>\n",
       "      <td>1</td>\n",
       "    </tr>\n",
       "    <tr>\n",
       "      <th>3</th>\n",
       "      <td>2015010001213</td>\n",
       "      <td>유산균</td>\n",
       "      <td>1</td>\n",
       "      <td>0.547986</td>\n",
       "      <td>1</td>\n",
       "    </tr>\n",
       "    <tr>\n",
       "      <th>4</th>\n",
       "      <td>2015010001954</td>\n",
       "      <td>기모팬츠</td>\n",
       "      <td>1</td>\n",
       "      <td>0.564717</td>\n",
       "      <td>1</td>\n",
       "    </tr>\n",
       "  </tbody>\n",
       "</table>\n",
       "</div>"
      ],
      "text/plain": [
       "     customer_no item_name  cnt_order  decay_day  rn\n",
       "0  2015010000596  혈당/혈압측정기          1   0.895587   1\n",
       "1  2015010000652      이온음료          1   0.573274   1\n",
       "2  2015010001152      도가니탕          2   1.045088   1\n",
       "3  2015010001213       유산균          1   0.547986   1\n",
       "4  2015010001954      기모팬츠          1   0.564717   1"
      ]
     },
     "execution_count": 91,
     "metadata": {},
     "output_type": "execute_result"
    }
   ],
   "source": [
    "## 최다 구매 channel 정보만 남기기\n",
    "user_max_item_info = user_summary[user_summary['rn'] == 1].reset_index(drop = True)\n",
    "# 추천을 제공하는 날짜가 이 데이터의 가장 마지막 구매 일자의 다음 날이라고 가정\n",
    "recommend_ymd = df['order_date'].max() + pd.Timedelta(days=1)\n",
    "\n",
    "decay_summary = df.groupby(['customer_no', 'order_date', 'item_name'])['order_no'].nunique().reset_index()\n",
    "decay_summary = decay_summary.rename(columns={'order_no': 'cnt_order'})\n",
    "\n",
    "## 파라미터 설정\n",
    "day_parameter = 0.995\n",
    "\n",
    "## Time Decay 적용 컬럼 생성\n",
    "decay_summary['decay_day'] = day_parameter ** ((recommend_ymd - decay_summary['order_date']).dt.days)\n",
    "decay_summary.head(10)\n",
    "\n",
    "## decay_day 집계\n",
    "user_decay_summary = decay_summary.groupby(['customer_no', 'item_name']).agg(cnt_order = ('cnt_order', 'sum'),\n",
    "                                                                             decay_day = ('decay_day', 'sum')).reset_index()\n",
    "\n",
    "user_decay_summary['rn'] = user_decay_summary.sort_values(by='decay_day', ascending=False) \\\n",
    "             .groupby('customer_no') \\\n",
    "             .cumcount() + 1\n",
    "\n",
    "user_decay_item_info = user_decay_summary[user_decay_summary['rn'] == 1].reset_index(drop = True)\n",
    "user_decay_item_info.head()"
   ]
  },
  {
   "cell_type": "code",
   "execution_count": 92,
   "metadata": {},
   "outputs": [],
   "source": [
    "user_decay_item_info = user_decay_summary[user_decay_summary['rn'] == 1].reset_index(drop = True)"
   ]
  },
  {
   "cell_type": "code",
   "execution_count": 93,
   "metadata": {},
   "outputs": [],
   "source": [
    "user_decay_item_info_sort = user_decay_item_info.sort_values(['customer_no', 'rn'])"
   ]
  },
  {
   "cell_type": "code",
   "execution_count": 94,
   "metadata": {},
   "outputs": [
    {
     "data": {
      "text/html": [
       "<div>\n",
       "<style scoped>\n",
       "    .dataframe tbody tr th:only-of-type {\n",
       "        vertical-align: middle;\n",
       "    }\n",
       "\n",
       "    .dataframe tbody tr th {\n",
       "        vertical-align: top;\n",
       "    }\n",
       "\n",
       "    .dataframe thead th {\n",
       "        text-align: right;\n",
       "    }\n",
       "</style>\n",
       "<table border=\"1\" class=\"dataframe\">\n",
       "  <thead>\n",
       "    <tr style=\"text-align: right;\">\n",
       "      <th></th>\n",
       "      <th>customer_no</th>\n",
       "      <th>item_name</th>\n",
       "      <th>cnt_order</th>\n",
       "      <th>decay_day</th>\n",
       "      <th>rn</th>\n",
       "    </tr>\n",
       "  </thead>\n",
       "  <tbody>\n",
       "    <tr>\n",
       "      <th>0</th>\n",
       "      <td>2015010000596</td>\n",
       "      <td>혈당/혈압측정기</td>\n",
       "      <td>1</td>\n",
       "      <td>0.895587</td>\n",
       "      <td>1</td>\n",
       "    </tr>\n",
       "    <tr>\n",
       "      <th>1</th>\n",
       "      <td>2015010000652</td>\n",
       "      <td>이온음료</td>\n",
       "      <td>1</td>\n",
       "      <td>0.573274</td>\n",
       "      <td>1</td>\n",
       "    </tr>\n",
       "    <tr>\n",
       "      <th>2</th>\n",
       "      <td>2015010001152</td>\n",
       "      <td>도가니탕</td>\n",
       "      <td>2</td>\n",
       "      <td>1.045088</td>\n",
       "      <td>1</td>\n",
       "    </tr>\n",
       "    <tr>\n",
       "      <th>3</th>\n",
       "      <td>2015010001213</td>\n",
       "      <td>유산균</td>\n",
       "      <td>1</td>\n",
       "      <td>0.547986</td>\n",
       "      <td>1</td>\n",
       "    </tr>\n",
       "    <tr>\n",
       "      <th>4</th>\n",
       "      <td>2015010001954</td>\n",
       "      <td>기모팬츠</td>\n",
       "      <td>1</td>\n",
       "      <td>0.564717</td>\n",
       "      <td>1</td>\n",
       "    </tr>\n",
       "  </tbody>\n",
       "</table>\n",
       "</div>"
      ],
      "text/plain": [
       "     customer_no item_name  cnt_order  decay_day  rn\n",
       "0  2015010000596  혈당/혈압측정기          1   0.895587   1\n",
       "1  2015010000652      이온음료          1   0.573274   1\n",
       "2  2015010001152      도가니탕          2   1.045088   1\n",
       "3  2015010001213       유산균          1   0.547986   1\n",
       "4  2015010001954      기모팬츠          1   0.564717   1"
      ]
     },
     "execution_count": 94,
     "metadata": {},
     "output_type": "execute_result"
    }
   ],
   "source": [
    "user_decay_item_info_sort.head()"
   ]
  },
  {
   "cell_type": "code",
   "execution_count": 95,
   "metadata": {},
   "outputs": [],
   "source": [
    "t_df = user_decay_item_info_sort.copy()"
   ]
  },
  {
   "cell_type": "code",
   "execution_count": 96,
   "metadata": {},
   "outputs": [
    {
     "data": {
      "text/plain": [
       "0    [혈당/혈압측정기]\n",
       "1        [이온음료]\n",
       "2        [도가니탕]\n",
       "3         [유산균]\n",
       "4        [기모팬츠]\n",
       "Name: item_name, dtype: object"
      ]
     },
     "execution_count": 96,
     "metadata": {},
     "output_type": "execute_result"
    }
   ],
   "source": [
    "# apriori 모델 적용을 위한 품목 리스트 가공\n",
    "itemset = t_df.drop_duplicates(\n",
    "    ['customer_no', 'item_name']).groupby(['customer_no'])['item_name'].apply(list)\n",
    "\n",
    "itemset = pd.DataFrame(itemset).reset_index().drop(['customer_no'], axis = 'columns')\n",
    "\n",
    "itemset = itemset.squeeze()\n",
    "\n",
    "itemset.head()"
   ]
  },
  {
   "cell_type": "code",
   "execution_count": 97,
   "metadata": {},
   "outputs": [
    {
     "data": {
      "text/html": [
       "<div>\n",
       "<style scoped>\n",
       "    .dataframe tbody tr th:only-of-type {\n",
       "        vertical-align: middle;\n",
       "    }\n",
       "\n",
       "    .dataframe tbody tr th {\n",
       "        vertical-align: top;\n",
       "    }\n",
       "\n",
       "    .dataframe thead th {\n",
       "        text-align: right;\n",
       "    }\n",
       "</style>\n",
       "<table border=\"1\" class=\"dataframe\">\n",
       "  <thead>\n",
       "    <tr style=\"text-align: right;\">\n",
       "      <th></th>\n",
       "      <th>antecedents</th>\n",
       "      <th>consequents</th>\n",
       "      <th>antecedent support</th>\n",
       "      <th>consequent support</th>\n",
       "      <th>support</th>\n",
       "      <th>confidence</th>\n",
       "      <th>lift</th>\n",
       "      <th>leverage</th>\n",
       "      <th>conviction</th>\n",
       "      <th>zhangs_metric</th>\n",
       "    </tr>\n",
       "  </thead>\n",
       "  <tbody>\n",
       "    <tr>\n",
       "      <th>23</th>\n",
       "      <td>(건강음료)</td>\n",
       "      <td>(생수)</td>\n",
       "      <td>0.012453</td>\n",
       "      <td>0.185031</td>\n",
       "      <td>0.008302</td>\n",
       "      <td>0.666667</td>\n",
       "      <td>3.602991</td>\n",
       "      <td>0.005998</td>\n",
       "      <td>2.444906</td>\n",
       "      <td>0.731563</td>\n",
       "    </tr>\n",
       "    <tr>\n",
       "      <th>22</th>\n",
       "      <td>(생수)</td>\n",
       "      <td>(건강음료)</td>\n",
       "      <td>0.185031</td>\n",
       "      <td>0.012453</td>\n",
       "      <td>0.008302</td>\n",
       "      <td>0.044868</td>\n",
       "      <td>3.602991</td>\n",
       "      <td>0.005998</td>\n",
       "      <td>1.033938</td>\n",
       "      <td>0.886479</td>\n",
       "    </tr>\n",
       "    <tr>\n",
       "      <th>82</th>\n",
       "      <td>(생수)</td>\n",
       "      <td>(드로즈)</td>\n",
       "      <td>0.185031</td>\n",
       "      <td>0.031084</td>\n",
       "      <td>0.008149</td>\n",
       "      <td>0.044043</td>\n",
       "      <td>1.416898</td>\n",
       "      <td>0.002398</td>\n",
       "      <td>1.013556</td>\n",
       "      <td>0.361036</td>\n",
       "    </tr>\n",
       "    <tr>\n",
       "      <th>83</th>\n",
       "      <td>(드로즈)</td>\n",
       "      <td>(생수)</td>\n",
       "      <td>0.031084</td>\n",
       "      <td>0.185031</td>\n",
       "      <td>0.008149</td>\n",
       "      <td>0.262171</td>\n",
       "      <td>1.416898</td>\n",
       "      <td>0.002398</td>\n",
       "      <td>1.104549</td>\n",
       "      <td>0.303672</td>\n",
       "    </tr>\n",
       "    <tr>\n",
       "      <th>99</th>\n",
       "      <td>(오메가3)</td>\n",
       "      <td>(유산균)</td>\n",
       "      <td>0.010287</td>\n",
       "      <td>0.010218</td>\n",
       "      <td>0.002263</td>\n",
       "      <td>0.219973</td>\n",
       "      <td>21.528364</td>\n",
       "      <td>0.002158</td>\n",
       "      <td>1.268908</td>\n",
       "      <td>0.963461</td>\n",
       "    </tr>\n",
       "  </tbody>\n",
       "</table>\n",
       "</div>"
      ],
      "text/plain": [
       "   antecedents consequents  antecedent support  consequent support   support  \\\n",
       "23      (건강음료)        (생수)            0.012453            0.185031  0.008302   \n",
       "22        (생수)      (건강음료)            0.185031            0.012453  0.008302   \n",
       "82        (생수)       (드로즈)            0.185031            0.031084  0.008149   \n",
       "83       (드로즈)        (생수)            0.031084            0.185031  0.008149   \n",
       "99      (오메가3)       (유산균)            0.010287            0.010218  0.002263   \n",
       "\n",
       "    confidence       lift  leverage  conviction  zhangs_metric  \n",
       "23    0.666667   3.602991  0.005998    2.444906       0.731563  \n",
       "22    0.044868   3.602991  0.005998    1.033938       0.886479  \n",
       "82    0.044043   1.416898  0.002398    1.013556       0.361036  \n",
       "83    0.262171   1.416898  0.002398    1.104549       0.303672  \n",
       "99    0.219973  21.528364  0.002158    1.268908       0.963461  "
      ]
     },
     "execution_count": 97,
     "metadata": {},
     "output_type": "execute_result"
    }
   ],
   "source": [
    "# 향상도 1 이상인 것만 추출\n",
    "rules = association_rules(itemset_apriori, metric=\"lift\", min_threshold=1)\n",
    "# support 값이 큰 순으로 내림차순 정렬\n",
    "rules.sort_values(by='support', ascending=False).head()"
   ]
  },
  {
   "cell_type": "code",
   "execution_count": 98,
   "metadata": {},
   "outputs": [],
   "source": [
    "def top_3(df:pd.DataFrame, item_name:str) -> list:\n",
    "    u_no = df[df['item_name']==item_name]['customer_no'].unique()\n",
    "    target_df = df[(df['customer_no'].isin(u_no)) & (df['item_name']!=item_name)]\n",
    "    res = list(target_df.value_counts('item_name').index[:3])\n",
    "    return res"
   ]
  },
  {
   "cell_type": "code",
   "execution_count": 99,
   "metadata": {},
   "outputs": [
    {
     "name": "stderr",
     "output_type": "stream",
     "text": [
      "100%|██████████| 72031/72031 [12:38<00:00, 94.95it/s] \n"
     ]
    }
   ],
   "source": [
    "rec_by_ar = []\n",
    "for i in tqdm(itemset):\n",
    "    res = rules[rules.antecedents == frozenset(i)]\n",
    "    if not len(res) == 0:\n",
    "        rec_by_ar.append([item for subset in res['consequents'].values for item in subset])\n",
    "    else:\n",
    "        rec_by_ar.append(top_3(df, i[0]))"
   ]
  },
  {
   "cell_type": "code",
   "execution_count": 100,
   "metadata": {},
   "outputs": [
    {
     "data": {
      "text/plain": [
       "0        [혈당/혈압측정기]\n",
       "1            [이온음료]\n",
       "2            [도가니탕]\n",
       "3             [유산균]\n",
       "4            [기모팬츠]\n",
       "            ...    \n",
       "72026        [트랙수트]\n",
       "72027        [트랙수트]\n",
       "72028        [트랙수트]\n",
       "72029        [트랙수트]\n",
       "72030        [트랙수트]\n",
       "Name: item_name, Length: 72031, dtype: object"
      ]
     },
     "execution_count": 100,
     "metadata": {},
     "output_type": "execute_result"
    }
   ],
   "source": [
    "itemset"
   ]
  },
  {
   "cell_type": "code",
   "execution_count": 101,
   "metadata": {},
   "outputs": [],
   "source": [
    "res_df['rec_by_ar'] = rec_by_ar"
   ]
  },
  {
   "cell_type": "code",
   "execution_count": 102,
   "metadata": {},
   "outputs": [],
   "source": [
    "rec_df = res_df[['customer_no', 'rec_by_td', 'rec_by_ar']]"
   ]
  },
  {
   "cell_type": "code",
   "execution_count": 103,
   "metadata": {},
   "outputs": [],
   "source": [
    "rec_df.to_csv('final_rec.csv')"
   ]
  },
  {
   "cell_type": "markdown",
   "metadata": {},
   "source": [
    "### 추천방식\n",
    "- 우선적으로 전체구매 데이터를 바탕으로 Association Rule 생성하였습니다.\n",
    "- 생성된 Rule과 Time Decay를 통해 산출한 가장 선호되는 아이템을 바탕으로 추천 목록 작성하였습니다.\n",
    "- 위의 Rule을 바탕으로 추천되지 않는 항목들이 많이 존재하였습니다.\n",
    "    - 이 경우 가장 선호하는 아이템을 구매한 사람들이 많이 구매한 아이템 상위 3개를 추천하였습니다."
   ]
  },
  {
   "cell_type": "code",
   "execution_count": 105,
   "metadata": {},
   "outputs": [
    {
     "data": {
      "text/html": [
       "<div>\n",
       "<style scoped>\n",
       "    .dataframe tbody tr th:only-of-type {\n",
       "        vertical-align: middle;\n",
       "    }\n",
       "\n",
       "    .dataframe tbody tr th {\n",
       "        vertical-align: top;\n",
       "    }\n",
       "\n",
       "    .dataframe thead th {\n",
       "        text-align: right;\n",
       "    }\n",
       "</style>\n",
       "<table border=\"1\" class=\"dataframe\">\n",
       "  <thead>\n",
       "    <tr style=\"text-align: right;\">\n",
       "      <th></th>\n",
       "      <th>customer_no</th>\n",
       "      <th>rec_by_td</th>\n",
       "      <th>rec_by_ar</th>\n",
       "    </tr>\n",
       "  </thead>\n",
       "  <tbody>\n",
       "    <tr>\n",
       "      <th>0</th>\n",
       "      <td>2015010000596</td>\n",
       "      <td>[생수, 드로즈, 건강음료, 기타 간편/즉석식품, 드럼세탁기]</td>\n",
       "      <td>[아이스크림, 남성화, 도가니탕]</td>\n",
       "    </tr>\n",
       "    <tr>\n",
       "      <th>1</th>\n",
       "      <td>2015010000652</td>\n",
       "      <td>[생수, 기타 간편/즉석식품, 드로즈, 건강음료, 드럼세탁기]</td>\n",
       "      <td>[생수, 기타 간편/즉석식품, 쿠키/파이]</td>\n",
       "    </tr>\n",
       "    <tr>\n",
       "      <th>2</th>\n",
       "      <td>2015010001152</td>\n",
       "      <td>[티셔츠, 기초세트, 트랙수트, 캐주얼화, 트레킹화]</td>\n",
       "      <td>[갈비탕, 티셔츠, 유산균]</td>\n",
       "    </tr>\n",
       "    <tr>\n",
       "      <th>3</th>\n",
       "      <td>2015010001213</td>\n",
       "      <td>[오메가3, 황사마스크, 티셔츠, 트랙수트, 김치]</td>\n",
       "      <td>[농축액, 루테인, 오메가3]</td>\n",
       "    </tr>\n",
       "    <tr>\n",
       "      <th>4</th>\n",
       "      <td>2015010001954</td>\n",
       "      <td>[티셔츠, 캐주얼화, 트랙수트, 황사마스크, 팬츠]</td>\n",
       "      <td>[플리스재킷, 밴딩팬츠, 이지웨어]</td>\n",
       "    </tr>\n",
       "  </tbody>\n",
       "</table>\n",
       "</div>"
      ],
      "text/plain": [
       "     customer_no                           rec_by_td                rec_by_ar\n",
       "0  2015010000596  [생수, 드로즈, 건강음료, 기타 간편/즉석식품, 드럼세탁기]       [아이스크림, 남성화, 도가니탕]\n",
       "1  2015010000652  [생수, 기타 간편/즉석식품, 드로즈, 건강음료, 드럼세탁기]  [생수, 기타 간편/즉석식품, 쿠키/파이]\n",
       "2  2015010001152       [티셔츠, 기초세트, 트랙수트, 캐주얼화, 트레킹화]          [갈비탕, 티셔츠, 유산균]\n",
       "3  2015010001213        [오메가3, 황사마스크, 티셔츠, 트랙수트, 김치]         [농축액, 루테인, 오메가3]\n",
       "4  2015010001954        [티셔츠, 캐주얼화, 트랙수트, 황사마스크, 팬츠]      [플리스재킷, 밴딩팬츠, 이지웨어]"
      ]
     },
     "execution_count": 105,
     "metadata": {},
     "output_type": "execute_result"
    }
   ],
   "source": [
    "rec_df.head()"
   ]
  },
  {
   "cell_type": "code",
   "execution_count": null,
   "metadata": {},
   "outputs": [],
   "source": []
  }
 ],
 "metadata": {
  "kernelspec": {
   "display_name": "fastcampus-giRWxq6z-py3.10",
   "language": "python",
   "name": "python3"
  },
  "language_info": {
   "codemirror_mode": {
    "name": "ipython",
    "version": 3
   },
   "file_extension": ".py",
   "mimetype": "text/x-python",
   "name": "python",
   "nbconvert_exporter": "python",
   "pygments_lexer": "ipython3",
   "version": "3.10.13"
  }
 },
 "nbformat": 4,
 "nbformat_minor": 2
}
