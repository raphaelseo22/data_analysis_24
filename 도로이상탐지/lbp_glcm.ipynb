{
 "cells": [
  {
   "cell_type": "code",
   "execution_count": 1,
   "metadata": {},
   "outputs": [],
   "source": [
    "import os\n",
    "import warnings\n",
    "warnings.filterwarnings('ignore')\n",
    "\n",
    "import cv2\n",
    "import numpy as np\n",
    "import matplotlib.pyplot as plt\n",
    "\n",
    "from skimage.feature import local_binary_pattern\n",
    "from sklearn.model_selection import train_test_split\n",
    "from sklearn.ensemble import RandomForestClassifier\n",
    "from sklearn.metrics import accuracy_score, f1_score\n",
    "from skimage.feature import graycomatrix, graycoprops\n",
    "from scipy.stats import ttest_ind"
   ]
  },
  {
   "cell_type": "markdown",
   "metadata": {},
   "source": [
    "# LBP 통계값"
   ]
  },
  {
   "cell_type": "code",
   "execution_count": 2,
   "metadata": {},
   "outputs": [],
   "source": [
    "normal_img = cv2.imread('/Users/raphaelseo/Documents/projects/SPH/og_data/normal/202201252341184-dry-asphalt-smooth.jpg', cv2.IMREAD_GRAYSCALE)\n",
    "normal_lbp = local_binary_pattern(normal_img, 24, 3, method='uniform')"
   ]
  },
  {
   "cell_type": "code",
   "execution_count": 3,
   "metadata": {},
   "outputs": [
    {
     "name": "stdout",
     "output_type": "stream",
     "text": [
      "Normal LBP Histogram: [0.0872338  0.0359838  0.03483796 0.02443287 0.01252315 0.00767361\n",
      " 0.00528935 0.00424769 0.00342593 0.00298611 0.00260417 0.00274306\n",
      " 0.00265046 0.00489583 0.0028125  0.00480324 0.00342593 0.00533565\n",
      " 0.00652778 0.00856481 0.01405093 0.02636574 0.03601852 0.03336806\n",
      " 0.0859375  0.54126157]\n",
      "Normal LBP Mean: 19.060625\n",
      "Normal LBP Standard Deviation: 9.461491424703896\n",
      "Normal LBP Median: 25.0\n",
      "Normal LBP Entropy: 2.724841769704676\n"
     ]
    }
   ],
   "source": [
    "# Calculate LBP statistics for normal image\n",
    "normal_lbp_hist, _ = np.histogram(normal_lbp.ravel(), bins=np.arange(0, 27), range=(0, 26))\n",
    "\n",
    "# Normalize the histogram\n",
    "normal_lbp_hist = normal_lbp_hist.astype(\"float\")\n",
    "normal_lbp_hist /= (normal_lbp_hist.sum() + 1e-7)\n",
    "\n",
    "# Calculate basic statistics\n",
    "normal_lbp_mean = np.mean(normal_lbp)\n",
    "normal_lbp_std = np.std(normal_lbp)\n",
    "normal_lbp_median = np.median(normal_lbp)\n",
    "\n",
    "# Calculate entropy\n",
    "normal_lbp_entropy = -np.sum(normal_lbp_hist * np.log2(normal_lbp_hist + 1e-7))\n",
    "\n",
    "# Print the results for normal image\n",
    "print(\"Normal LBP Histogram:\", normal_lbp_hist)\n",
    "print(\"Normal LBP Mean:\", normal_lbp_mean)\n",
    "print(\"Normal LBP Standard Deviation:\", normal_lbp_std)\n",
    "print(\"Normal LBP Median:\", normal_lbp_median)\n",
    "print(\"Normal LBP Entropy:\", normal_lbp_entropy)\n"
   ]
  },
  {
   "cell_type": "markdown",
   "metadata": {},
   "source": [
    "## LBP 통계값 연산 및 비교"
   ]
  },
  {
   "cell_type": "code",
   "execution_count": 5,
   "metadata": {},
   "outputs": [],
   "source": [
    "def get_lbp_statistics(folder_path):\n",
    "    entropies = []\n",
    "    means = []\n",
    "    medians = []\n",
    "    stds = []\n",
    "    file_paths = [os.path.join(folder_path, f) for f in os.listdir(folder_path) if os.path.isfile(os.path.join(folder_path, f))]\n",
    "    for path in file_paths:\n",
    "        img = cv2.imread(path, cv2.IMREAD_GRAYSCALE)\n",
    "        try:\n",
    "            if len(img.shape) == 3:\n",
    "                img = cv2.cvtColor(img, cv2.COLOR_BGR2GRAY)\n",
    "        except:\n",
    "            print(f\"Error processing image: {path}\")\n",
    "            break\n",
    "        lbp = local_binary_pattern(img, 24, 3, method='default')\n",
    "        # Calculate LBP statistics\n",
    "        lbp_hist, _ = np.histogram(lbp.ravel(), bins=np.arange(0, 27), range=(0, 26))\n",
    "\n",
    "        # Normalize the histogram\n",
    "        lbp_hist = lbp_hist.astype(\"float\")\n",
    "        lbp_hist /= (lbp_hist.sum() + 1e-7)\n",
    "\n",
    "        # Calculate entropy\n",
    "        lbp_entropy = -np.sum(lbp_hist * np.log2(lbp_hist + 1e-7))\n",
    "        entropies.append(lbp_entropy)\n",
    "\n",
    "        # Calculate mean, median, and standard deviation\n",
    "        lbp_mean = np.mean(lbp)\n",
    "        lbp_median = np.median(lbp)\n",
    "        lbp_std = np.std(lbp)\n",
    "\n",
    "        means.append(lbp_mean)\n",
    "        medians.append(lbp_median)\n",
    "        stds.append(lbp_std)\n",
    "\n",
    "    return {\n",
    "        'entropy': entropies,\n",
    "        'mean': means,\n",
    "        'median': medians,\n",
    "        'std': stds\n",
    "    }\n"
   ]
  },
  {
   "cell_type": "code",
   "execution_count": 6,
   "metadata": {},
   "outputs": [
    {
     "name": "stdout",
     "output_type": "stream",
     "text": [
      "{'entropy': [1.52924434145798, 1.3778283677080663, 1.3473361033396927, 1.4875423483007644, 1.5624238560344323, 1.3704805363529726, 1.3474668250564965, 1.471451936395264, 1.3557809924677688, 1.3093717939686238, 1.2850356403091117, 1.4122191645982702, 1.2364242102951395, 1.3073782773538694, 1.5167510735632417, 1.3219153934295544, 1.400073209855685, 1.3225101655868756, 1.2907703880214134, 1.431504438751508, 1.3524389561132972, 1.4972815478740629, 1.3598142752733826, 1.4000740358145247, 1.3928540274676255, 1.4118369775268573, 1.3302533747997036, 1.475678859460199, 1.5041882178366217, 1.335365697734726, 1.609763221254154, 1.3075949358512613, 1.4567104751136541, 1.307835883288189, 1.3437185156597768, 1.4432955483134209, 1.2721558377577529, 1.3772639595626355, 1.402876061947189, 1.2509744120160409, 1.4728050999998503, 1.4459728664948577, 1.3739674037682992, 1.357154214758152, 1.361930892184115, 1.5481546740656726, 1.3698358322985642, 1.370525452913179, 1.2680709258929816, 1.5393275683714323, 1.4642916943430413, 1.2936376361522433, 1.4946819295516638, 1.297381488782504, 1.3401956990796895, 1.310198947295007, 1.4917482205302581, 1.5257560543529416, 1.4390577541112128, 1.3637867456974477, 1.1703656182257078, 1.299420657118888, 1.5079545884009096, 1.4020997217581246, 1.356453395912651, 1.3456514363370502, 1.3943659745341583, 1.4566819695971156, 1.3033373283223049, 1.324273470172369, 1.4645932506428436, 1.378647614631694, 1.3431216213793389, 1.5204369406700027, 1.5871302651230215, 1.7017782601182805, 1.5403149058215508, 1.4507771253199617, 1.463757305704342, 1.227803180256723, 1.4674856368721634, 1.3871226428216274, 1.3194866586849603, 1.4627709773947326, 1.3373182878622836, 1.392783735172266, 1.339087434126743, 1.4385767604133366, 1.3013925771391095, 1.3494786982589904, 1.4869759078956157, 1.3897135149528783, 1.3250564821618274], 'mean': [8270420.435405092, 8418547.850787036, 8287775.0867708335, 8237564.109965278, 8487059.555636574, 8335693.898599537, 8115818.81880787, 8244228.344386574, 8258874.886597223, 8271346.038946759, 8266272.103564815, 8265514.111759259, 8261455.878935185, 8256142.7439583335, 8240113.164166667, 8167705.753449074, 8356437.002650463, 8211765.211469907, 8261551.593599537, 8205739.068032407, 8283183.773460648, 8277008.973530092, 8288709.954236111, 8313167.709340278, 8343401.837256945, 8384227.7108796295, 8245605.701168981, 8336068.6354282405, 8564985.709085649, 8218703.436435185, 8341298.7995370375, 8262351.170034722, 8279394.845763889, 8298660.093275463, 8242671.281967592, 8292395.7117939815, 8278214.447777778, 8283005.032893519, 8274504.337303241, 8236159.416064815, 8266677.98625, 8296441.4565393515, 8288713.847488426, 8247888.076365741, 8331824.052326389, 8247878.604340278, 8272055.073877315, 8326934.206666667, 8209456.923877315, 8438304.054120371, 8231496.718032408, 8213366.17431713, 8303144.213726852, 8177508.495821759, 8308232.4784375, 8236967.791689815, 8431446.445532408, 8253600.838993056, 8309584.564432871, 8327564.921296297, 8239825.247974537, 8166191.374375, 8313353.373518518, 8282564.216203704, 8221049.923611111, 8222787.980011574, 8280018.681770833, 8272617.138472222, 8982137.577939814, 8344932.815798611, 8297131.6197569445, 8252895.821377315, 8121572.759942129, 8279986.522222222, 8290907.165995371, 8178209.732766204, 8255293.332222222, 8261418.240543981, 8219539.222546296, 8268644.14494213, 8279110.191134259, 8791440.645543981, 8166088.094467592, 8233226.036944444, 8376074.417916667, 8283262.872071759, 8333357.136967593, 8283451.930081018, 8198114.410497685, 8221368.650578704, 8306131.079398148, 8262360.3055671295, 8241402.438645833], 'median': [8388544.0, 8388611.0, 8388592.0, 8387584.0, 8388615.0, 8388607.0, 8381385.5, 8387709.0, 8388220.0, 8388494.0, 8388599.0, 8388599.0, 8388574.0, 8388351.5, 8387615.0, 8388090.0, 8388607.0, 8388600.0, 8388480.0, 8387071.0, 8388592.0, 8388511.0, 8388577.0, 8388600.0, 8388607.0, 8388609.0, 8388477.0, 8388604.0, 8392703.0, 8388510.0, 8388606.0, 8388573.0, 8388480.0, 8388598.0, 8388592.0, 8388592.0, 8388604.0, 8388592.0, 8388394.0, 8387645.0, 8388544.0, 8388604.0, 8388592.0, 8388600.0, 8388607.0, 8388351.5, 8388508.0, 8388606.0, 8386813.0, 8388623.0, 8387708.0, 8386664.0, 8388592.0, 8386619.0, 8388606.0, 8388095.0, 8388617.0, 8388367.0, 8388604.0, 8388607.0, 8388092.0, 8386560.0, 8388606.0, 8388547.0, 8388544.0, 8388542.0, 8388577.5, 8388604.0, 8878091.0, 8388606.0, 8388592.0, 8388480.0, 8385151.5, 8388600.0, 8388600.0, 8386560.0, 8388098.0, 8388495.0, 8386813.0, 8388550.0, 8388510.0, 8438401.0, 8380671.0, 8388109.0, 8388607.0, 8388573.0, 8388607.0, 8388576.0, 8388352.0, 8388576.0, 8388604.0, 8388576.0, 8388223.0], 'std': [7378560.091181271, 7283978.756398764, 7307786.645956062, 7374543.573137352, 7349166.243152709, 7263947.147788517, 7181549.812714589, 7375580.3647034755, 7332066.536365113, 7327901.576441867, 7236247.715246127, 7299082.6226551635, 7256866.764974272, 7307568.7286155075, 7365368.6756184995, 7184536.624629389, 7270496.002429054, 7187911.60281812, 7315203.481598602, 7344840.490206297, 7291083.744907836, 7376368.640396776, 7318315.736966315, 7333776.929642006, 7269668.896228557, 7287949.149842953, 7295374.6944495905, 7377792.902712841, 7340862.431413538, 7195925.410023842, 7374153.522857779, 7307301.903468613, 7373487.3155172635, 7235239.079892992, 7177659.013698658, 7379391.245920737, 7250179.15359628, 7291769.287413233, 7326627.52351772, 7270706.539795638, 7359620.3649643995, 7331048.238336682, 7317368.562783272, 7195544.685055025, 7279296.610486685, 7397390.157221661, 7296504.698831822, 7258143.817639003, 7292494.845654424, 7371453.130345895, 7373005.129815409, 7232786.509574401, 7365720.701636334, 7255756.016794648, 7256393.04601833, 7243320.672518984, 7302792.170761567, 7354648.710863616, 7323566.144587447, 7269896.25064051, 7278129.910417463, 7172887.785660967, 7323430.282389561, 7345786.902432532, 7175097.154733541, 7192457.200989349, 7326906.274474335, 7321211.404751684, 7291392.906371369, 7261197.459448974, 7392270.303958229, 7280611.123795001, 7236964.770564479, 7315131.836710755, 7393977.340689805, 7342957.3208215935, 7387500.755083486, 7351503.494312442, 7346916.721568104, 7257751.212791888, 7354055.619136735, 7288089.101897655, 7307258.50257329, 7368353.125681925, 7268318.728852447, 7320695.901623005, 7249354.894138179, 7323877.348441065, 7180579.191592912, 7181081.32851116, 7307185.6748085115, 7188044.519160119, 7302440.005515584]}\n",
      "{'entropy': [1.5731979548696247, 1.4514822111817498, 1.684162024193039, 1.6663901603970934, 1.7227124259152837, 1.6316310425729574, 1.6504800167965246, 1.7036798590510462, 1.7412123920371854, 1.7101979634012583, 1.645286844181587, 1.3791336565160988, 1.426289811037493, 1.6732777966820849, 1.4958299706678808, 1.6063690268545923, 1.5171826132838109, 1.4298944064426415, 1.6783758606847792, 1.517860672548659, 1.5623076219297505, 1.570692958095473, 1.3826467167448862, 1.5721664753465243, 1.4302231504375764, 1.6114784559792783, 1.4965635368359076, 1.569278916687824, 1.5188629845038377, 1.3755243233096526, 1.4514014065206344, 1.5876986071590733, 1.4497695129141628, 1.626393003270041, 1.4114850114043058, 1.2777976967849578, 1.6480578968587327, 1.3150528639866492, 1.5107890203700118, 1.7389994880247748, 1.5973137676015294, 1.4846558300127384, 1.6477698090549122, 1.6157487221719695, 1.5456419424019314, 1.6226401381829052, 1.6788155362141703, 1.5522214082275851, 1.4816459483930235, 1.5615378687713863, 1.4748785991073636, 1.6346680784346028, 1.4858362590655423, 1.4862027050196314, 1.6412633752145112, 1.421702951803586, 1.5686582223044496, 1.408681597181055, 1.7149137826601566, 1.4674061637145464, 1.5828670063101424, 1.5537854598262935, 1.540203244683504, 1.4064795077619299, 1.4546885444820403, 1.441287317524584, 1.450178969731214, 1.4667986840249956, 1.4976318628048249, 1.686339755666497, 1.7062426523723913, 1.6514942367332592, 1.4415648799839338, 1.3916651056373874, 1.3876333390436464, 1.7083573592796877, 1.577693215074636, 1.6930236981053595, 1.6263464301497186, 1.6841874688057794, 1.5819539882266889, 1.4581631983579062, 1.4762888288645093, 1.5733809405995467, 1.4161324706436016, 1.5518432795219501, 1.742389022091703, 1.6270437392673371, 1.6110909206612805, 1.6513849788338166, 1.5958241392935546, 1.532533531725317, 1.5562508370607666, 1.5440566342585191, 1.5632070801598135, 1.594101770129447, 1.6930601253722102, 1.4048625649318025, 1.6683372816909627, 1.630215726925008, 1.6680856518972225, 1.5772686665464994, 1.6331650159326152, 1.599890722886727, 1.6851784108494638, 1.750755783211965, 1.5687997735135188], 'mean': [8260923.6511226855, 8500411.054502314, 8256743.594988426, 8092020.12931713, 8569126.216215277, 8182317.108009259, 8590858.491261574, 8208030.40738426, 8230570.774606481, 8255957.078703703, 8351874.967430555, 8310000.469594907, 8489906.233136574, 8226866.043761574, 8240318.369861111, 8243194.00224537, 8351306.025763889, 8243015.031400463, 8545863.386030093, 8322669.191840278, 8295519.94900463, 8297963.371944444, 8396997.460162036, 8206575.441134259, 8525987.618819445, 8294009.0668981485, 8295580.2231018515, 8525702.089155093, 8202681.090914352, 8521986.251956018, 8266532.497870371, 8249221.989305556, 8182016.55912037, 8402343.23056713, 8345107.326770834, 8210961.57974537, 8321309.671516203, 8303204.453842592, 8246755.436111111, 8396089.246238425, 8444107.331990741, 8530959.842476852, 8473217.950740742, 8406462.778414352, 8276228.694907407, 8225521.993206019, 8199968.945763889, 8344060.775590278, 8374089.308611111, 8256708.226817129, 8251445.612638889, 8213431.863449074, 8220251.190023148, 8181793.77994213, 8175370.529467593, 8274275.855208334, 8447002.9475, 8530518.711979168, 8250061.101631944, 8571348.748009259, 8393003.250300925, 8250471.02943287, 8426782.852523148, 8255174.192037037, 8571668.710787037, 8289178.630775463, 8189411.298796296, 8286028.297361111, 8346694.827430556, 8254336.300497686, 8302372.705798611, 8291630.6778935185, 8318554.847800926, 8312246.436597222, 8107595.8429166665, 8453804.43480324, 8235441.774398148, 8336427.090081018, 8699805.431377314, 8610708.444664352, 8257661.02005787, 8279621.139027778, 8342241.635914352, 8356290.914583334, 8294562.215613426, 8358600.642523148, 8237157.238923611, 8291533.896087963, 8565347.368877314, 8398058.038159722, 8378856.927395834, 8194087.616539352, 8489174.882372685, 8141615.636030093, 8336073.806053241, 8229237.429085648, 8654770.307407407, 8422014.984224537, 8357571.924826389, 8221891.931793981, 8339356.021944445, 8263302.886331018, 8187964.086365741, 8186909.333148148, 8369630.550740741, 8275041.843622685, 8334191.778252315], 'median': [8388600.0, 8388609.0, 8388604.0, 8384512.0, 8396027.0, 8388096.0, 8395007.0, 8388600.0, 8388600.0, 8388604.0, 8388609.0, 8388606.0, 8388623.0, 8388600.0, 8388604.0, 8388604.0, 8388606.0, 8388352.0, 8390654.0, 8388606.0, 8388605.0, 8388604.0, 8388609.0, 8388591.5, 8388632.5, 8388604.0, 8388606.0, 8389631.0, 8388480.0, 8388907.0, 8388604.0, 8388600.0, 8388094.0, 8388609.0, 8388606.0, 8387068.0, 8388606.0, 8388606.0, 8388604.0, 8388609.0, 8388703.5, 8389119.0, 8389159.0, 8388609.0, 8388606.0, 8388592.0, 8388544.0, 8388606.0, 8388607.0, 8388604.0, 8388600.0, 8388559.0, 8388592.0, 8388414.0, 8388223.0, 8388480.0, 8388615.0, 8388863.0, 8388604.0, 8390748.0, 8388608.0, 8388604.0, 8388609.0, 8388604.0, 8389059.0, 8388606.0, 8388352.0, 8388592.0, 8388607.0, 8388604.0, 8388606.0, 8388606.0, 8388606.0, 8388606.0, 8382387.0, 8388803.0, 8388592.0, 8388606.0, 8404963.0, 8396799.0, 8388494.0, 8388591.0, 8388607.0, 8388607.0, 8388600.0, 8388607.0, 8388604.0, 8388592.0, 8392691.5, 8388611.0, 8388609.0, 8388494.0, 8389573.0, 8386572.0, 8388606.0, 8386647.5, 8398339.0, 8388608.0, 8388609.0, 8388600.0, 8388607.0, 8388604.0, 8388396.0, 8388352.0, 8388609.0, 8388604.0, 8388606.0], 'std': [7339435.56753672, 7143624.350697432, 7240422.067114125, 7361507.68258429, 7291836.33272146, 7296061.270834226, 7336946.1969472505, 7233638.712654906, 7378561.318420001, 7276721.794031799, 7341598.593934717, 7257911.881950917, 7131914.351797566, 7260662.441986232, 7194473.064384785, 7267471.333354836, 7128211.864409928, 7322491.753010853, 7260620.749988847, 7305497.317496434, 7306482.780661921, 7255278.097119595, 7134164.820156354, 7216627.189494091, 7131298.412311936, 7305670.573653352, 7163915.650088937, 7267710.900746553, 7198863.660780554, 7261229.372753345, 7086503.643998023, 7287441.166678327, 7111778.060276198, 7275457.406740927, 7173939.4817259805, 7273058.628651272, 7337277.921535576, 7229812.42702264, 7233177.277798402, 7285314.107995104, 7313679.5032744715, 7234903.79762182, 7272033.398738912, 7252987.21808847, 7279230.572946822, 7322753.175889506, 7332100.80895404, 7305290.208828582, 7185102.318432838, 7313561.202557202, 7250722.032481464, 7299682.240213547, 7181158.468892296, 7165426.322216402, 7322198.731757573, 7342411.447910615, 7253850.37148053, 7222341.297774417, 7264253.970209363, 7265911.8416244555, 7305300.516082682, 7326498.074906406, 7227890.161412632, 7130390.463313569, 7136539.172164237, 7184474.005029509, 7073436.914070798, 7343594.605191379, 7259005.852285143, 7282283.835701477, 7242641.525482571, 7340315.190743359, 7210637.91204523, 7262446.902741201, 7234506.456026029, 7285824.085203211, 7214123.531198722, 7367121.839672368, 7310491.128211349, 7285774.358420626, 7356098.283526904, 7343543.073002697, 7056954.306018686, 7349729.671851665, 7339914.339208643, 7277636.465694175, 7255476.077140257, 7377485.099022823, 7243534.703493562, 7342206.714667379, 7300340.973546934, 7198163.294534675, 7310565.873686255, 7207351.372497585, 7345781.344684726, 7369486.438836111, 7282289.10452177, 7161656.178996461, 7349427.700140744, 7251760.495957534, 7328176.613590042, 7238717.96873658, 7227493.986698525, 7293980.370556938, 7256438.217935599, 7341982.4310330525, 7208710.839386764]}\n"
     ]
    }
   ],
   "source": [
    "normal_lbp_statistics = get_lbp_statistics('/Users/raphaelseo/Documents/projects/SPH/og_data/normal')\n",
    "crack_lbp_statistics = get_lbp_statistics('/Users/raphaelseo/Documents/projects/SPH/og_data/crack')\n",
    "\n",
    "print(normal_lbp_statistics)\n",
    "print(crack_lbp_statistics)"
   ]
  },
  {
   "cell_type": "code",
   "execution_count": 7,
   "metadata": {},
   "outputs": [
    {
     "name": "stdout",
     "output_type": "stream",
     "text": [
      "entropy: TtestResult(statistic=-11.487670467245305, pvalue=9.77668388918627e-24, df=198.0)\n",
      "mean: TtestResult(statistic=-2.384192666066312, pvalue=0.01806116945468969, df=198.0)\n",
      "median: TtestResult(statistic=1.011072952033482, pvalue=0.3132154726260097, df=198.0)\n",
      "std: TtestResult(statistic=3.9047831900445233, pvalue=0.00012930143264763483, df=198.0)\n"
     ]
    }
   ],
   "source": [
    "for k in normal_lbp_statistics.keys():\n",
    "    print(f\"{k}: {ttest_ind(normal_lbp_statistics[k], crack_lbp_statistics[k])}\")"
   ]
  },
  {
   "cell_type": "markdown",
   "metadata": {},
   "source": [
    "### LBP 통계값의 평균비교\n",
    "- 엔트로피 값 비교\n",
    "  - 엔트로피 값의 경우 매우 낮은 p-value를 보여주므로 두 집단간 통계적으로 유의미한 차이를 보여주고 있습니다.\n",
    "- 평균 값 비교\n",
    "  - 평균 값의 경우 낮은 p-value를 보여주므로 두 집단간 통계적으로 유의미한 차이를 보여주고 있습니다.\n",
    "- 중앙값 비교\n",
    "  - 중앙값의 경우 0.05 이상의 p-value를 보여주므로 두 집단간 통계적으로 유의미한 차이가 존재하지 않는다고 판단됩니다.\n",
    "- 표준편차 비교\n",
    "  - 표준편차의 경우 매우 낮은 p-value를 보여주므로 두 집단간 통계적으로 유의미한 차이를 보여주고 있습니다.\n",
    "\n",
    "- 따라서 두 집단을 분류하는데 사용할 수 있는 지표로는 엔트로피, 평균, 표준편차가 사용될 수 있습니다."
   ]
  },
  {
   "cell_type": "markdown",
   "metadata": {},
   "source": [
    "## 각 지표별 분류 성능 계산"
   ]
  },
  {
   "cell_type": "markdown",
   "metadata": {},
   "source": [
    "### Entropy"
   ]
  },
  {
   "cell_type": "code",
   "execution_count": 8,
   "metadata": {},
   "outputs": [
    {
     "name": "stdout",
     "output_type": "stream",
     "text": [
      "Accuracy: 0.7\n",
      "F1 Score: 0.6842105263157895\n"
     ]
    }
   ],
   "source": [
    "def classify_images_with_lbp_entropy(normal_entropy, crack_entropy):\n",
    "    # Prepare the data\n",
    "    X = np.concatenate([normal_entropy, crack_entropy])\n",
    "    y = np.array([0] * len(normal_entropy) + [1] * len(crack_entropy))  # 0 for normal, 1 for crack\n",
    "\n",
    "    # Split the data into training and testing sets\n",
    "    X_train, X_test, y_train, y_test = train_test_split(X, y, test_size=0.2, random_state=42)\n",
    "\n",
    "    # Reshape the data for sklearn (it expects 2D array)\n",
    "    X_train = X_train.reshape(-1, 1)\n",
    "    X_test = X_test.reshape(-1, 1)\n",
    "\n",
    "    # Create and train the classifier\n",
    "    clf = RandomForestClassifier(n_estimators=10, random_state=42)\n",
    "    clf.fit(X_train, y_train)\n",
    "\n",
    "    # Make predictions\n",
    "    y_pred = clf.predict(X_test)\n",
    "\n",
    "    # Print the results\n",
    "    print(\"Accuracy:\", accuracy_score(y_test, y_pred))\n",
    "    print(f\"F1 Score: {f1_score(y_test, y_pred)}\")\n",
    "\n",
    "# Call the function with your LBP entropy data\n",
    "classify_images_with_lbp_entropy(normal_lbp_statistics['entropy'], crack_lbp_statistics['entropy'])\n"
   ]
  },
  {
   "cell_type": "markdown",
   "metadata": {},
   "source": [
    "### Mean"
   ]
  },
  {
   "cell_type": "code",
   "execution_count": 9,
   "metadata": {},
   "outputs": [
    {
     "name": "stdout",
     "output_type": "stream",
     "text": [
      "Accuracy: 0.5\n",
      "F1 Score: 0.47368421052631576\n"
     ]
    }
   ],
   "source": [
    "def get_lbp_mean(image_path):\n",
    "    image = cv2.imread(image_path, cv2.IMREAD_GRAYSCALE)\n",
    "    radius = 3\n",
    "    n_points = 8 * radius\n",
    "    lbp = local_binary_pattern(image, n_points, radius, method='uniform')\n",
    "    return np.mean(lbp)\n",
    "\n",
    "def classify_images_with_lbp_mean(normal_dir, crack_dir):\n",
    "    normal_lbp_means = []\n",
    "    crack_lbp_means = []\n",
    "\n",
    "    for img in os.listdir(normal_dir):\n",
    "        lbp_mean = get_lbp_mean(os.path.join(normal_dir, img))\n",
    "        normal_lbp_means.append(lbp_mean)\n",
    "\n",
    "    for img in os.listdir(crack_dir):\n",
    "        lbp_mean = get_lbp_mean(os.path.join(crack_dir, img))\n",
    "        crack_lbp_means.append(lbp_mean)\n",
    "\n",
    "    X = np.array(normal_lbp_means + crack_lbp_means).reshape(-1, 1)\n",
    "    y = np.array([0] * len(normal_lbp_means) + [1] * len(crack_lbp_means))\n",
    "\n",
    "    X_train, X_test, y_train, y_test = train_test_split(X, y, test_size=0.2, random_state=42)\n",
    "\n",
    "    clf = RandomForestClassifier(n_estimators=10, random_state=42)\n",
    "    clf.fit(X_train, y_train)\n",
    "\n",
    "    y_pred = clf.predict(X_test)\n",
    "\n",
    "    print(\"Accuracy:\", accuracy_score(y_test, y_pred))\n",
    "    print(f\"F1 Score: {f1_score(y_test, y_pred)}\")\n",
    "\n",
    "# Call the function with your image directories\n",
    "normal_dir = '/Users/raphaelseo/Documents/projects/SPH/og_data/normal'\n",
    "crack_dir = '/Users/raphaelseo/Documents/projects/SPH/og_data/crack'\n",
    "classify_images_with_lbp_mean(normal_dir, crack_dir)\n"
   ]
  },
  {
   "cell_type": "markdown",
   "metadata": {},
   "source": [
    "### Std"
   ]
  },
  {
   "cell_type": "code",
   "execution_count": 10,
   "metadata": {},
   "outputs": [
    {
     "name": "stdout",
     "output_type": "stream",
     "text": [
      "Accuracy: 0.675\n",
      "F1 Score: 0.6976744186046512\n"
     ]
    }
   ],
   "source": [
    "def get_lbp_std(image_path):\n",
    "    image = cv2.imread(image_path, cv2.IMREAD_GRAYSCALE)\n",
    "    radius = 3\n",
    "    n_points = 8 * radius\n",
    "    lbp = local_binary_pattern(image, n_points, radius, method='uniform')\n",
    "    return np.std(lbp)\n",
    "\n",
    "def classify_images_with_lbp_std(normal_dir, crack_dir):\n",
    "    normal_lbp_std = []\n",
    "    crack_lbp_std = []\n",
    "\n",
    "    for img in os.listdir(normal_dir):\n",
    "        lbp_mean = get_lbp_std(os.path.join(normal_dir, img))\n",
    "        normal_lbp_std.append(lbp_mean)\n",
    "\n",
    "    for img in os.listdir(crack_dir):\n",
    "        lbp_mean = get_lbp_std(os.path.join(crack_dir, img))\n",
    "        crack_lbp_std.append(lbp_mean)\n",
    "\n",
    "    X = np.array(normal_lbp_std + crack_lbp_std).reshape(-1, 1)\n",
    "    y = np.array([0] * len(normal_lbp_std) + [1] * len(crack_lbp_std))\n",
    "\n",
    "    X_train, X_test, y_train, y_test = train_test_split(X, y, test_size=0.2, random_state=42)\n",
    "\n",
    "    clf = RandomForestClassifier(n_estimators=10, random_state=42)\n",
    "    clf.fit(X_train, y_train)\n",
    "\n",
    "    y_pred = clf.predict(X_test)\n",
    "\n",
    "    print(\"Accuracy:\", accuracy_score(y_test, y_pred))\n",
    "    print(f\"F1 Score: {f1_score(y_test, y_pred)}\")\n",
    "\n",
    "# Call the function with your image directories\n",
    "normal_dir = '/Users/raphaelseo/Documents/projects/SPH/og_data/normal'\n",
    "crack_dir = '/Users/raphaelseo/Documents/projects/SPH/og_data/crack'\n",
    "classify_images_with_lbp_std(normal_dir, crack_dir)\n"
   ]
  },
  {
   "cell_type": "markdown",
   "metadata": {},
   "source": [
    "### Entropy & Std"
   ]
  },
  {
   "cell_type": "code",
   "execution_count": 11,
   "metadata": {},
   "outputs": [
    {
     "name": "stdout",
     "output_type": "stream",
     "text": [
      "Accuracy: 0.75\n",
      "F1 Score: 0.7222222222222222\n"
     ]
    }
   ],
   "source": [
    "def get_lbp_entropy_std(image_path):\n",
    "    image = cv2.imread(image_path, cv2.IMREAD_GRAYSCALE)\n",
    "    radius = 3\n",
    "    n_points = 8 * radius\n",
    "    lbp = local_binary_pattern(image, n_points, radius, method='uniform')\n",
    "    \n",
    "    # Calculate entropy\n",
    "    hist, _ = np.histogram(lbp.ravel(), bins=np.arange(0, n_points + 3), range=(0, n_points + 2))\n",
    "    hist = hist.astype(\"float\")\n",
    "    hist /= (hist.sum() + 1e-7)\n",
    "    entropy = -np.sum(hist * np.log2(hist + 1e-7))\n",
    "    \n",
    "    # Calculate standard deviation\n",
    "    std = np.std(lbp)\n",
    "    \n",
    "    return entropy, std\n",
    "\n",
    "def classify_images_with_lbp_entropy_std(normal_dir, crack_dir):\n",
    "    normal_features = []\n",
    "    crack_features = []\n",
    "\n",
    "    for img in os.listdir(normal_dir):\n",
    "        entropy, std = get_lbp_entropy_std(os.path.join(normal_dir, img))\n",
    "        normal_features.append([entropy, std])\n",
    "\n",
    "    for img in os.listdir(crack_dir):\n",
    "        entropy, std = get_lbp_entropy_std(os.path.join(crack_dir, img))\n",
    "        crack_features.append([entropy, std])\n",
    "\n",
    "    X = np.array(normal_features + crack_features)\n",
    "    y = np.array([0] * len(normal_features) + [1] * len(crack_features))\n",
    "\n",
    "    X_train, X_test, y_train, y_test = train_test_split(X, y, test_size=0.2, random_state=42)\n",
    "\n",
    "    clf = RandomForestClassifier(n_estimators=10, random_state=42)\n",
    "    clf.fit(X_train, y_train)\n",
    "\n",
    "    y_pred = clf.predict(X_test)\n",
    "\n",
    "    print(\"Accuracy:\", accuracy_score(y_test, y_pred))\n",
    "    print(f\"F1 Score: {f1_score(y_test, y_pred)}\")\n",
    "\n",
    "# Call the function with your image directories\n",
    "normal_dir = '/Users/raphaelseo/Documents/projects/SPH/og_data/normal'\n",
    "crack_dir = '/Users/raphaelseo/Documents/projects/SPH/og_data/crack'\n",
    "classify_images_with_lbp_entropy_std(normal_dir, crack_dir)"
   ]
  },
  {
   "cell_type": "markdown",
   "metadata": {},
   "source": [
    "### Entropy & Mean & Std"
   ]
  },
  {
   "cell_type": "code",
   "execution_count": 12,
   "metadata": {},
   "outputs": [
    {
     "name": "stdout",
     "output_type": "stream",
     "text": [
      "Accuracy: 0.7\n",
      "F1 Score: 0.6842105263157895\n"
     ]
    }
   ],
   "source": [
    "def get_lbp_entropy_mean_std(image_path):\n",
    "    image = cv2.imread(image_path, cv2.IMREAD_GRAYSCALE)\n",
    "    radius = 3\n",
    "    n_points = 8 * radius\n",
    "    lbp = local_binary_pattern(image, n_points, radius, method='uniform')\n",
    "    \n",
    "    # Calculate entropy\n",
    "    hist, _ = np.histogram(lbp.ravel(), bins=np.arange(0, n_points + 3), range=(0, n_points + 2))\n",
    "    hist = hist.astype(\"float\")\n",
    "    hist /= (hist.sum() + 1e-7)\n",
    "    entropy = -np.sum(hist * np.log2(hist + 1e-7))\n",
    "    \n",
    "    # Calculate mean and standard deviation\n",
    "    mean = np.mean(lbp)\n",
    "    std = np.std(lbp)\n",
    "    \n",
    "    return entropy, mean, std\n",
    "\n",
    "def classify_images_with_lbp_entropy_mean_std(normal_dir, crack_dir):\n",
    "    normal_features = []\n",
    "    crack_features = []\n",
    "\n",
    "    for img in os.listdir(normal_dir):\n",
    "        entropy, mean, std = get_lbp_entropy_mean_std(os.path.join(normal_dir, img))\n",
    "        normal_features.append([entropy, mean, std])\n",
    "\n",
    "    for img in os.listdir(crack_dir):\n",
    "        entropy, mean, std = get_lbp_entropy_mean_std(os.path.join(crack_dir, img))\n",
    "        crack_features.append([entropy, mean, std])\n",
    "\n",
    "    X = np.array(normal_features + crack_features)\n",
    "    y = np.array([0] * len(normal_features) + [1] * len(crack_features))\n",
    "\n",
    "    X_train, X_test, y_train, y_test = train_test_split(X, y, test_size=0.2, random_state=42)\n",
    "\n",
    "    clf = RandomForestClassifier(n_estimators=10, random_state=42)\n",
    "    clf.fit(X_train, y_train)\n",
    "\n",
    "    y_pred = clf.predict(X_test)\n",
    "\n",
    "    print(\"Accuracy:\", accuracy_score(y_test, y_pred))\n",
    "    print(f\"F1 Score: {f1_score(y_test, y_pred)}\")\n",
    "\n",
    "# Call the function with your image directories\n",
    "normal_dir = '/Users/raphaelseo/Documents/projects/SPH/og_data/normal'\n",
    "crack_dir = '/Users/raphaelseo/Documents/projects/SPH/og_data/crack'\n",
    "classify_images_with_lbp_entropy_mean_std(normal_dir, crack_dir)\n"
   ]
  },
  {
   "cell_type": "markdown",
   "metadata": {},
   "source": [
    "# GLCM 특성\n",
    "- 0도, 45도, 90도, 135도 각도 각각에 대해 특성값을 계산하였습니다.\n",
    "- 이는 방향성을 고려한여 다양한 방향의 텍스처 특성을 확인할 수 있습니다.\n",
    "- 위에서 사용한 각도는 일반적으로 glcm 분석을 진행할 때 사용되는 각도입니다."
   ]
  },
  {
   "cell_type": "markdown",
   "metadata": {},
   "source": [
    "## GLCM 특성 평균 연산 및 비교\n",
    "- 0도, 45도, 90도, 135도 각도 각각에 대해 특성값을 계산하고 계산한 값의 평균을 사용하였습니다."
   ]
  },
  {
   "cell_type": "code",
   "execution_count": 13,
   "metadata": {},
   "outputs": [],
   "source": [
    "def calculate_glcm_features(folder_path, distances=[1], angles=[0, np.pi/4, np.pi/2, 3*np.pi/4]):\n",
    "    contrast = []\n",
    "    dissimilarity = []\n",
    "    homogeneity = []\n",
    "    energy = []\n",
    "    correlation = []\n",
    "    file_paths = [os.path.join(folder_path, f) for f in os.listdir(folder_path) if os.path.isfile(os.path.join(folder_path, f))]\n",
    "    for path in file_paths:\n",
    "        img = cv2.imread(path, cv2.IMREAD_GRAYSCALE)\n",
    "        try:\n",
    "            if len(img.shape) == 3:\n",
    "                img = cv2.cvtColor(img, cv2.COLOR_BGR2GRAY)\n",
    "        except:\n",
    "            print(f\"Error processing image: {path}\")\n",
    "            break\n",
    "        glcm = graycomatrix(img, distances=distances, angles=angles, symmetric=True, normed=True)\n",
    "        \n",
    "        # Calculate GLCM properties\n",
    "        contrast.append(np.mean(graycoprops(glcm, 'contrast')))\n",
    "        dissimilarity.append(np.mean(graycoprops(glcm, 'dissimilarity')))\n",
    "        homogeneity.append(np.mean(graycoprops(glcm, 'homogeneity')))\n",
    "        energy.append(np.mean(graycoprops(glcm, 'energy')))\n",
    "        correlation.append(np.mean(graycoprops(glcm, 'correlation')))\n",
    "        \n",
    "    # Average the features over all angles\n",
    "    features = {\n",
    "        '대비': contrast,\n",
    "        '비유사성': dissimilarity,\n",
    "        '동질성': homogeneity,\n",
    "        '균일성': energy,\n",
    "        '상관성': correlation\n",
    "    }\n",
    "    \n",
    "    return features\n",
    "\n"
   ]
  },
  {
   "cell_type": "code",
   "execution_count": 14,
   "metadata": {},
   "outputs": [],
   "source": [
    "normal_glcm_features = calculate_glcm_features('/Users/raphaelseo/Documents/projects/SPH/og_data/normal')\n",
    "crack_glcm_features = calculate_glcm_features('/Users/raphaelseo/Documents/projects/SPH/og_data/crack')"
   ]
  },
  {
   "cell_type": "code",
   "execution_count": 15,
   "metadata": {},
   "outputs": [
    {
     "name": "stdout",
     "output_type": "stream",
     "text": [
      "대비: TtestResult(statistic=-0.9520038676883149, pvalue=0.3422557040530948, df=198.0)\n",
      "비유사성: TtestResult(statistic=2.2602605128154365, pvalue=0.024893385979268285, df=198.0)\n",
      "동질성: TtestResult(statistic=-7.537720320012255, pvalue=1.6783070112145846e-12, df=198.0)\n",
      "균일성: TtestResult(statistic=-8.16420829234819, pvalue=3.723000612656828e-14, df=198.0)\n",
      "상관성: TtestResult(statistic=-2.3212567562882747, pvalue=0.02129064773491552, df=198.0)\n"
     ]
    }
   ],
   "source": [
    "for k in normal_glcm_features.keys():\n",
    "    print(f\"{k}: {ttest_ind(normal_glcm_features[k], crack_glcm_features[k])}\")"
   ]
  },
  {
   "cell_type": "markdown",
   "metadata": {},
   "source": [
    "### GLCM 특성 평균 비교\n",
    "- 평균 대비(contrast) 비교\n",
    "  - P-value가 0.05 이상이므로 통계적으로 유의미한 차이를 보이지 않는다고 판단됩니다.\n",
    "- 평균 비유사성(dissimilarity) 비교\n",
    "  - P-value가 0.05 이하이므로 통계적으로 유의미한 차이를 보이고 있습니다.\n",
    "- 평균 동질성(homogeneity) 비교\n",
    "  - P-value가 0.05 이하이므로 통계적으로 유의미한 차이를 보이고 있습니다.\n",
    "- 평균 균일성(energy) 비교\n",
    "  - P-value가 0.05 이하이므로 통계적으로 유의미한 차이를 보이고 있습니다.\n",
    "- 평균 상관성(correlation) 비교\n",
    "  - P-value가 0.05 이하이므로 통계적으로 유의미한 차이를 보이고 있습니다.\n",
    "\n",
    "- 따라서 두 집단을 분류하는데 비유사성, 동질성, 균일성, 상관성이 사용될 수 있습니다.\n",
    "  - 하지만 동질성과 균일성이 다른 특성들에 비해 많이 작은 P-value를 보여주기 때문에 우선적으로 고려합니다."
   ]
  },
  {
   "cell_type": "markdown",
   "metadata": {},
   "source": [
    "## 각 특성별 분류 모델 생성"
   ]
  },
  {
   "cell_type": "markdown",
   "metadata": {},
   "source": [
    "### Homogeneity"
   ]
  },
  {
   "cell_type": "code",
   "execution_count": 16,
   "metadata": {},
   "outputs": [
    {
     "name": "stdout",
     "output_type": "stream",
     "text": [
      "Accuracy: 0.5\n",
      "F1 Score: 0.5\n"
     ]
    }
   ],
   "source": [
    "def classify_images_with_glcm_homogeneity(normal_homogeneity, crack_homogeneity):\n",
    "    # Prepare the data\n",
    "    X = np.concatenate([normal_homogeneity, crack_homogeneity])\n",
    "    y = np.array([0] * len(normal_homogeneity) + [1] * len(crack_homogeneity))  # 0 for normal, 1 for crack\n",
    "\n",
    "    # Split the data into training and testing sets\n",
    "    X_train, X_test, y_train, y_test = train_test_split(X, y, test_size=0.2, random_state=42)\n",
    "\n",
    "    # Reshape the data for sklearn (it expects 2D array)\n",
    "    X_train = X_train.reshape(-1, 1)\n",
    "    X_test = X_test.reshape(-1, 1)\n",
    "\n",
    "    # Create and train the classifier\n",
    "    clf = RandomForestClassifier(n_estimators=10, random_state=42)\n",
    "    clf.fit(X_train, y_train)\n",
    "\n",
    "    # Make predictions\n",
    "    y_pred = clf.predict(X_test)\n",
    "\n",
    "    # Print the results\n",
    "    print(\"Accuracy:\", accuracy_score(y_test, y_pred))\n",
    "    print(f\"F1 Score: {f1_score(y_test, y_pred)}\")\n",
    "\n",
    "# Call the function with GLCM homogeneity features\n",
    "normal_homogeneity = normal_glcm_features['동질성']\n",
    "crack_homogeneity = crack_glcm_features['동질성']\n",
    "classify_images_with_glcm_homogeneity(normal_homogeneity, crack_homogeneity)"
   ]
  },
  {
   "cell_type": "markdown",
   "metadata": {},
   "source": [
    "### Energy"
   ]
  },
  {
   "cell_type": "code",
   "execution_count": 17,
   "metadata": {},
   "outputs": [
    {
     "name": "stdout",
     "output_type": "stream",
     "text": [
      "Accuracy: 0.625\n",
      "F1 Score: 0.6511627906976745\n"
     ]
    }
   ],
   "source": [
    "def classify_images_with_glcm_energy(normal_energy, crack_energy):\n",
    "    # Prepare the data\n",
    "    X = np.concatenate([normal_energy, crack_energy])\n",
    "    y = np.array([0] * len(normal_energy) + [1] * len(crack_energy))  # 0 for normal, 1 for crack\n",
    "\n",
    "    # Split the data into training and testing sets\n",
    "    X_train, X_test, y_train, y_test = train_test_split(X, y, test_size=0.2, random_state=42)\n",
    "\n",
    "    # Reshape the data for sklearn (it expects 2D array)\n",
    "    X_train = X_train.reshape(-1, 1)\n",
    "    X_test = X_test.reshape(-1, 1)\n",
    "\n",
    "    # Create and train the classifier\n",
    "    clf = RandomForestClassifier(n_estimators=10, random_state=42)\n",
    "    clf.fit(X_train, y_train)\n",
    "\n",
    "    # Make predictions\n",
    "    y_pred = clf.predict(X_test)\n",
    "\n",
    "    # Print the results\n",
    "    print(\"Accuracy:\", accuracy_score(y_test, y_pred))\n",
    "    print(f\"F1 Score: {f1_score(y_test, y_pred)}\")\n",
    "\n",
    "# Call the function with GLCM energy features\n",
    "normal_energy = normal_glcm_features['균일성']\n",
    "crack_energy = crack_glcm_features['균일성']\n",
    "classify_images_with_glcm_energy(normal_energy, crack_energy)\n"
   ]
  },
  {
   "cell_type": "markdown",
   "metadata": {},
   "source": [
    "### Dissimilarity"
   ]
  },
  {
   "cell_type": "code",
   "execution_count": 18,
   "metadata": {},
   "outputs": [
    {
     "name": "stdout",
     "output_type": "stream",
     "text": [
      "Accuracy: 0.6\n",
      "F1 Score: 0.6190476190476191\n"
     ]
    }
   ],
   "source": [
    "def classify_images_with_glcm_dissimilarity(normal_dissimilarity, crack_dissimilarity):\n",
    "    # Prepare the data\n",
    "    X = np.concatenate([normal_dissimilarity, crack_dissimilarity])\n",
    "    y = np.array([0] * len(normal_dissimilarity) + [1] * len(crack_dissimilarity))  # 0 for normal, 1 for crack\n",
    "\n",
    "    # Split the data into training and testing sets\n",
    "    X_train, X_test, y_train, y_test = train_test_split(X, y, test_size=0.2, random_state=42)\n",
    "\n",
    "    # Reshape the data for sklearn (it expects 2D array)\n",
    "    X_train = X_train.reshape(-1, 1)\n",
    "    X_test = X_test.reshape(-1, 1)\n",
    "\n",
    "    # Create and train the classifier\n",
    "    clf = RandomForestClassifier(n_estimators=10, random_state=42)\n",
    "    clf.fit(X_train, y_train)\n",
    "\n",
    "    # Make predictions\n",
    "    y_pred = clf.predict(X_test)\n",
    "\n",
    "    # Print the results\n",
    "    print(\"Accuracy:\", accuracy_score(y_test, y_pred))\n",
    "    print(f\"F1 Score: {f1_score(y_test, y_pred)}\")\n",
    "\n",
    "# Call the function with GLCM dissimilarity features\n",
    "normal_dissimilarity = normal_glcm_features['비유사성']\n",
    "crack_dissimilarity = crack_glcm_features['비유사성']\n",
    "classify_images_with_glcm_dissimilarity(normal_dissimilarity, crack_dissimilarity)\n"
   ]
  },
  {
   "cell_type": "markdown",
   "metadata": {},
   "source": [
    "### Correlation"
   ]
  },
  {
   "cell_type": "code",
   "execution_count": 19,
   "metadata": {},
   "outputs": [
    {
     "name": "stdout",
     "output_type": "stream",
     "text": [
      "Accuracy: 0.575\n",
      "F1 Score: 0.6046511627906976\n"
     ]
    }
   ],
   "source": [
    "def classify_images_with_glcm_correlation(normal_correlation, crack_correlation):\n",
    "    # Prepare the data\n",
    "    X = np.concatenate([normal_correlation, crack_correlation])\n",
    "    y = np.array([0] * len(normal_correlation) + [1] * len(crack_correlation))  # 0 for normal, 1 for crack\n",
    "\n",
    "    # Split the data into training and testing sets\n",
    "    X_train, X_test, y_train, y_test = train_test_split(X, y, test_size=0.2, random_state=42)\n",
    "\n",
    "    # Reshape the data for sklearn (it expects 2D array)\n",
    "    X_train = X_train.reshape(-1, 1)\n",
    "    X_test = X_test.reshape(-1, 1)\n",
    "\n",
    "    # Create and train the classifier\n",
    "    clf = RandomForestClassifier(n_estimators=10, random_state=42)\n",
    "    clf.fit(X_train, y_train)\n",
    "\n",
    "    # Make predictions\n",
    "    y_pred = clf.predict(X_test)\n",
    "\n",
    "    # Print the results\n",
    "    print(\"Accuracy:\", accuracy_score(y_test, y_pred))\n",
    "    print(f\"F1 Score: {f1_score(y_test, y_pred)}\")\n",
    "\n",
    "# Call the function with GLCM correlation features\n",
    "normal_correlation = normal_glcm_features['상관성']\n",
    "crack_correlation = crack_glcm_features['상관성']\n",
    "classify_images_with_glcm_correlation(normal_correlation, crack_correlation)\n",
    "\n"
   ]
  },
  {
   "cell_type": "markdown",
   "metadata": {},
   "source": [
    "### Homogeneity & Energy"
   ]
  },
  {
   "cell_type": "code",
   "execution_count": 20,
   "metadata": {},
   "outputs": [
    {
     "name": "stdout",
     "output_type": "stream",
     "text": [
      "Accuracy: 0.6\n",
      "F1 Score: 0.6\n"
     ]
    }
   ],
   "source": [
    "def classify_images_with_glcm_homogeneity_energy(normal_homogeneity, normal_energy, crack_homogeneity, crack_energy):\n",
    "    # Prepare the data\n",
    "    X = np.concatenate([\n",
    "        np.column_stack((normal_homogeneity, normal_energy)),\n",
    "        np.column_stack((crack_homogeneity, crack_energy))\n",
    "    ])\n",
    "    y = np.array([0] * len(normal_homogeneity) + [1] * len(crack_homogeneity))  # 0 for normal, 1 for crack\n",
    "\n",
    "    # Split the data into training and testing sets\n",
    "    X_train, X_test, y_train, y_test = train_test_split(X, y, test_size=0.2, random_state=42)\n",
    "\n",
    "    # Create and train the classifier\n",
    "    clf = RandomForestClassifier(n_estimators=10, random_state=42)\n",
    "    clf.fit(X_train, y_train)\n",
    "\n",
    "    # Make predictions\n",
    "    y_pred = clf.predict(X_test)\n",
    "\n",
    "    # Print the results\n",
    "    print(\"Accuracy:\", accuracy_score(y_test, y_pred))\n",
    "    print(f\"F1 Score: {f1_score(y_test, y_pred)}\")\n",
    "\n",
    "# Call the function with GLCM homogeneity and ASM features\n",
    "normal_homogeneity = normal_glcm_features['동질성']\n",
    "normal_energy= normal_glcm_features['균일성']\n",
    "crack_homogeneity = crack_glcm_features['동질성']\n",
    "crack_energy = crack_glcm_features['균일성']\n",
    "classify_images_with_glcm_homogeneity_energy(normal_homogeneity, normal_energy, crack_homogeneity, crack_energy)\n"
   ]
  },
  {
   "cell_type": "markdown",
   "metadata": {},
   "source": [
    "### Energy & Correlation"
   ]
  },
  {
   "cell_type": "code",
   "execution_count": 21,
   "metadata": {},
   "outputs": [
    {
     "name": "stdout",
     "output_type": "stream",
     "text": [
      "Accuracy: 0.725\n",
      "F1 Score: 0.717948717948718\n"
     ]
    }
   ],
   "source": [
    "def classify_images_with_glcm_energy_correlation(normal_energy, normal_correlation, crack_energy, crack_correlation):\n",
    "    # Prepare the data\n",
    "    X = np.concatenate([\n",
    "        np.column_stack((normal_energy, normal_correlation)),\n",
    "        np.column_stack((crack_energy, crack_correlation))\n",
    "    ])\n",
    "    y = np.array([0] * len(normal_energy) + [1] * len(crack_energy))  # 0 for normal, 1 for crack\n",
    "\n",
    "    # Split the data into training and testing sets\n",
    "    X_train, X_test, y_train, y_test = train_test_split(X, y, test_size=0.2, random_state=42)\n",
    "\n",
    "    # Create and train the classifier\n",
    "    clf = RandomForestClassifier(n_estimators=10, random_state=42)\n",
    "    clf.fit(X_train, y_train)\n",
    "\n",
    "    # Make predictions\n",
    "    y_pred = clf.predict(X_test)\n",
    "\n",
    "    # Print the results\n",
    "    print(\"Accuracy:\", accuracy_score(y_test, y_pred))\n",
    "    print(f\"F1 Score: {f1_score(y_test, y_pred)}\")\n",
    "\n",
    "# Call the function with GLCM energy and correlation features\n",
    "normal_energy = normal_glcm_features['균일성']\n",
    "normal_correlation = normal_glcm_features['상관성']\n",
    "crack_energy = crack_glcm_features['균일성']\n",
    "crack_correlation = crack_glcm_features['상관성']\n",
    "classify_images_with_glcm_energy_correlation(normal_energy, normal_correlation, crack_energy, crack_correlation)"
   ]
  },
  {
   "cell_type": "markdown",
   "metadata": {},
   "source": [
    "### Homogeneity & Energy & Correlation"
   ]
  },
  {
   "cell_type": "code",
   "execution_count": 22,
   "metadata": {},
   "outputs": [
    {
     "name": "stdout",
     "output_type": "stream",
     "text": [
      "Accuracy: 0.65\n",
      "F1 Score: 0.6666666666666666\n"
     ]
    }
   ],
   "source": [
    "def classify_images_with_glcm_homogeneity_energy_correlation(normal_homogeneity, normal_energy, normal_correlation, crack_homogeneity, crack_energy, crack_correlation):\n",
    "    # Prepare the data\n",
    "    X = np.concatenate([\n",
    "        np.column_stack((normal_homogeneity, normal_energy, normal_correlation)),\n",
    "        np.column_stack((crack_homogeneity, crack_energy, crack_correlation))\n",
    "    ])\n",
    "    y = np.array([0] * len(normal_homogeneity) + [1] * len(crack_homogeneity))  # 0 for normal, 1 for crack\n",
    "\n",
    "    # Split the data into training and testing sets\n",
    "    X_train, X_test, y_train, y_test = train_test_split(X, y, test_size=0.2, random_state=42)\n",
    "\n",
    "    # Create and train the classifier\n",
    "    clf = RandomForestClassifier(n_estimators=10, random_state=42)\n",
    "    clf.fit(X_train, y_train)\n",
    "\n",
    "    # Make predictions\n",
    "    y_pred = clf.predict(X_test)\n",
    "\n",
    "    # Print the results\n",
    "    print(\"Accuracy:\", accuracy_score(y_test, y_pred))\n",
    "    print(f\"F1 Score: {f1_score(y_test, y_pred)}\")\n",
    "\n",
    "# Call the function with GLCM homogeneity, ASM, and correlation features\n",
    "normal_homogeneity = normal_glcm_features['동질성']\n",
    "normal_energy = normal_glcm_features['균일성']\n",
    "normal_correlation = normal_glcm_features['상관성']\n",
    "crack_homogeneity = crack_glcm_features['동질성']\n",
    "crack_energy = crack_glcm_features['균일성']\n",
    "crack_correlation = crack_glcm_features['상관성']\n",
    "classify_images_with_glcm_homogeneity_energy_correlation(normal_homogeneity, normal_energy, normal_correlation, crack_homogeneity, crack_energy, crack_correlation)\n"
   ]
  },
  {
   "cell_type": "markdown",
   "metadata": {},
   "source": [
    "## GLCM 통계값 표준편차 연산 및 비교\n",
    "- 0도, 45도, 90도, 135도 각도 각각에 대해 특성값을 계산하고 계산한 값의 표준편차를 사용하였습니다."
   ]
  },
  {
   "cell_type": "code",
   "execution_count": 23,
   "metadata": {},
   "outputs": [
    {
     "name": "stdout",
     "output_type": "stream",
     "text": [
      "Accuracy: 0.775\n",
      "F1 Score: 0.7906976744186046\n"
     ]
    }
   ],
   "source": [
    "def classify_images_with_glcm_features(normal_homogeneity, normal_energy, normal_correlation, normal_dissimilarity,\n",
    "                                       crack_homogeneity, crack_energy, crack_correlation, crack_dissimilarity):\n",
    "    # Prepare the data\n",
    "    X = np.concatenate([\n",
    "        np.column_stack((normal_homogeneity, normal_energy, normal_correlation, normal_dissimilarity)),\n",
    "        np.column_stack((crack_homogeneity, crack_energy, crack_correlation, crack_dissimilarity))\n",
    "    ])\n",
    "    y = np.array([0] * len(normal_homogeneity) + [1] * len(crack_homogeneity))  # 0 for normal, 1 for crack\n",
    "\n",
    "    # Split the data into training and testing sets\n",
    "    X_train, X_test, y_train, y_test = train_test_split(X, y, test_size=0.2, random_state=42)\n",
    "\n",
    "    # Create and train the classifier\n",
    "    clf = RandomForestClassifier(n_estimators=100, random_state=42)\n",
    "    clf.fit(X_train, y_train)\n",
    "\n",
    "    # Make predictions\n",
    "    y_pred = clf.predict(X_test)\n",
    "\n",
    "    # Print the results\n",
    "    print(\"Accuracy:\", accuracy_score(y_test, y_pred))\n",
    "    print(f\"F1 Score: {f1_score(y_test, y_pred)}\")\n",
    "\n",
    "# Call the function with GLCM homogeneity, energy, correlation, and dissimilarity features\n",
    "normal_homogeneity = normal_glcm_features['동질성']\n",
    "normal_energy = normal_glcm_features['균일성']\n",
    "normal_correlation = normal_glcm_features['상관성']\n",
    "normal_dissimilarity = normal_glcm_features['비유사성']\n",
    "crack_homogeneity = crack_glcm_features['동질성']\n",
    "crack_energy = crack_glcm_features['균일성']\n",
    "crack_correlation = crack_glcm_features['상관성']\n",
    "crack_dissimilarity = crack_glcm_features['비유사성']\n",
    "\n",
    "classify_images_with_glcm_features(normal_homogeneity, normal_energy, normal_correlation, normal_dissimilarity,\n",
    "                                   crack_homogeneity, crack_energy, crack_correlation, crack_dissimilarity)"
   ]
  },
  {
   "cell_type": "code",
   "execution_count": 24,
   "metadata": {},
   "outputs": [],
   "source": [
    "def calculate_glcm_features_std(folder_path, distances=[1], angles=[0, np.pi/4, np.pi/2, 3*np.pi/4]):\n",
    "    contrast = []\n",
    "    dissimilarity = []\n",
    "    homogeneity = []\n",
    "    energy = []\n",
    "    correlation = []\n",
    "    file_paths = [os.path.join(folder_path, f) for f in os.listdir(folder_path) if os.path.isfile(os.path.join(folder_path, f))]\n",
    "    for path in file_paths:\n",
    "        img = cv2.imread(path, cv2.IMREAD_GRAYSCALE)\n",
    "        try:\n",
    "            if len(img.shape) == 3:\n",
    "                img = cv2.cvtColor(img, cv2.COLOR_BGR2GRAY)\n",
    "        except:\n",
    "            print(f\"Error processing image: {path}\")\n",
    "            break\n",
    "        glcm = graycomatrix(img, distances=distances, angles=angles, symmetric=True, normed=True)\n",
    "        \n",
    "        # Calculate GLCM properties\n",
    "        contrast.append(np.std(graycoprops(glcm, 'contrast')))\n",
    "        dissimilarity.append(np.std(graycoprops(glcm, 'dissimilarity')))\n",
    "        homogeneity.append(np.std(graycoprops(glcm, 'homogeneity')))\n",
    "        energy.append(np.std(graycoprops(glcm, 'energy')))\n",
    "        correlation.append(np.std(graycoprops(glcm, 'correlation')))\n",
    "        \n",
    "    # Average the features over all angles\n",
    "    features = {\n",
    "        '대비': contrast,\n",
    "        '비유사성': dissimilarity,\n",
    "        '동질성': homogeneity,\n",
    "        '균일성': energy,\n",
    "        '상관성': correlation\n",
    "    }\n",
    "    \n",
    "    return features\n",
    "\n"
   ]
  },
  {
   "cell_type": "code",
   "execution_count": 25,
   "metadata": {},
   "outputs": [],
   "source": [
    "normal_glcm_features_std = calculate_glcm_features_std('/Users/raphaelseo/Documents/projects/SPH/og_data/normal')\n",
    "crack_glcm_features_std = calculate_glcm_features_std('/Users/raphaelseo/Documents/projects/SPH/og_data/crack') "
   ]
  },
  {
   "cell_type": "code",
   "execution_count": 26,
   "metadata": {},
   "outputs": [
    {
     "name": "stdout",
     "output_type": "stream",
     "text": [
      "대비: TtestResult(statistic=-2.712306465985771, pvalue=0.007269782564502081, df=198.0)\n",
      "비유사성: TtestResult(statistic=-3.112387130400807, pvalue=0.0021303520469992685, df=198.0)\n",
      "동질성: TtestResult(statistic=-12.760485865704334, pvalue=1.3186634547470181e-27, df=198.0)\n",
      "균일성: TtestResult(statistic=-11.520326432370661, pvalue=7.792555279849415e-24, df=198.0)\n",
      "상관성: TtestResult(statistic=-2.594144425489744, pvalue=0.01019154096202418, df=198.0)\n"
     ]
    }
   ],
   "source": [
    "for k in normal_glcm_features_std.keys():\n",
    "    print(f\"{k}: {ttest_ind(normal_glcm_features_std[k], crack_glcm_features_std[k])}\")"
   ]
  },
  {
   "cell_type": "markdown",
   "metadata": {},
   "source": [
    "### GLCM 특성 표준편차 평균 비교\n",
    "- 특성의 평균을 비교한 것과 달리 모든 특성들이 P-value가 0.05 이하로 통계적으로 유의미한 차이를 보여주었습니다."
   ]
  },
  {
   "cell_type": "markdown",
   "metadata": {},
   "source": [
    "## 각 특성별 분류 모델 생성"
   ]
  },
  {
   "cell_type": "markdown",
   "metadata": {},
   "source": [
    "### Contrast"
   ]
  },
  {
   "cell_type": "code",
   "execution_count": 27,
   "metadata": {},
   "outputs": [
    {
     "name": "stdout",
     "output_type": "stream",
     "text": [
      "Accuracy: 0.6\n",
      "F1 Score: 0.6\n"
     ]
    }
   ],
   "source": [
    "def classify_images_with_glcm_std_contrast(normal_contrast, crack_contrast):\n",
    "    # Prepare the data\n",
    "    X = np.concatenate([normal_contrast, crack_contrast])\n",
    "    y = np.array([0] * len(normal_contrast) + [1] * len(crack_contrast))  # 0 for normal, 1 for crack\n",
    "\n",
    "    # Split the data into training and testing sets\n",
    "    X_train, X_test, y_train, y_test = train_test_split(X, y, test_size=0.2, random_state=42)\n",
    "\n",
    "    # Reshape the data for sklearn (it expects 2D array)\n",
    "    X_train = X_train.reshape(-1, 1)\n",
    "    X_test = X_test.reshape(-1, 1)\n",
    "\n",
    "    # Create and train the classifier\n",
    "    clf = RandomForestClassifier(n_estimators=10, random_state=42)\n",
    "    clf.fit(X_train, y_train)\n",
    "\n",
    "    # Make predictions\n",
    "    y_pred = clf.predict(X_test)\n",
    "\n",
    "    # Print the results\n",
    "    print(\"Accuracy:\", accuracy_score(y_test, y_pred))\n",
    "    print(f\"F1 Score: {f1_score(y_test, y_pred)}\")\n",
    "\n",
    "# Call the function with GLCM homogeneity features\n",
    "normal_contrast = normal_glcm_features_std['대비']\n",
    "crack_contrast = crack_glcm_features_std['대비']\n",
    "classify_images_with_glcm_std_contrast(normal_contrast, crack_contrast)"
   ]
  },
  {
   "cell_type": "markdown",
   "metadata": {},
   "source": [
    "### Homogeneity"
   ]
  },
  {
   "cell_type": "code",
   "execution_count": 28,
   "metadata": {},
   "outputs": [
    {
     "name": "stdout",
     "output_type": "stream",
     "text": [
      "Accuracy: 0.725\n",
      "F1 Score: 0.7317073170731707\n"
     ]
    }
   ],
   "source": [
    "def classify_images_with_glcm_std_homogeneity(normal_homogeneity, crack_homogeneity):\n",
    "    # Prepare the data\n",
    "    X = np.concatenate([normal_homogeneity, crack_homogeneity])\n",
    "    y = np.array([0] * len(normal_homogeneity) + [1] * len(crack_homogeneity))  # 0 for normal, 1 for crack\n",
    "\n",
    "    # Split the data into training and testing sets\n",
    "    X_train, X_test, y_train, y_test = train_test_split(X, y, test_size=0.2, random_state=42)\n",
    "\n",
    "    # Reshape the data for sklearn (it expects 2D array)\n",
    "    X_train = X_train.reshape(-1, 1)\n",
    "    X_test = X_test.reshape(-1, 1)\n",
    "\n",
    "    # Create and train the classifier\n",
    "    clf = RandomForestClassifier(n_estimators=10, random_state=42)\n",
    "    clf.fit(X_train, y_train)\n",
    "\n",
    "    # Make predictions\n",
    "    y_pred = clf.predict(X_test)\n",
    "\n",
    "    # Print the results\n",
    "    print(\"Accuracy:\", accuracy_score(y_test, y_pred))\n",
    "    print(f\"F1 Score: {f1_score(y_test, y_pred)}\")\n",
    "\n",
    "# Call the function with GLCM homogeneity features\n",
    "normal_homogeneity = normal_glcm_features_std['동질성']\n",
    "crack_homogeneity = crack_glcm_features_std['동질성']\n",
    "classify_images_with_glcm_std_homogeneity(normal_homogeneity, crack_homogeneity)"
   ]
  },
  {
   "cell_type": "markdown",
   "metadata": {},
   "source": [
    "### Energy"
   ]
  },
  {
   "cell_type": "code",
   "execution_count": 29,
   "metadata": {},
   "outputs": [
    {
     "name": "stdout",
     "output_type": "stream",
     "text": [
      "Accuracy: 0.625\n",
      "F1 Score: 0.6341463414634146\n"
     ]
    }
   ],
   "source": [
    "def classify_images_with_glcm_std_energy(normal_energy, crack_energy):\n",
    "    # Prepare the data\n",
    "    X = np.concatenate([normal_energy, crack_energy])\n",
    "    y = np.array([0] * len(normal_energy) + [1] * len(crack_energy))  # 0 for normal, 1 for crack\n",
    "\n",
    "    # Split the data into training and testing sets\n",
    "    X_train, X_test, y_train, y_test = train_test_split(X, y, test_size=0.2, random_state=42)\n",
    "\n",
    "    # Reshape the data for sklearn (it expects 2D array)\n",
    "    X_train = X_train.reshape(-1, 1)\n",
    "    X_test = X_test.reshape(-1, 1)\n",
    "\n",
    "    # Create and train the classifier\n",
    "    clf = RandomForestClassifier(n_estimators=10, random_state=42)\n",
    "    clf.fit(X_train, y_train)\n",
    "\n",
    "    # Make predictions\n",
    "    y_pred = clf.predict(X_test)\n",
    "\n",
    "    # Print the results\n",
    "    print(\"Accuracy:\", accuracy_score(y_test, y_pred))\n",
    "    print(f\"F1 Score: {f1_score(y_test, y_pred)}\")\n",
    "\n",
    "# Call the function with GLCM energy features\n",
    "normal_energy = normal_glcm_features_std['균일성']\n",
    "crack_energy = crack_glcm_features_std['균일성']\n",
    "classify_images_with_glcm_std_energy(normal_energy, crack_energy)\n"
   ]
  },
  {
   "cell_type": "markdown",
   "metadata": {},
   "source": [
    "### Dissimilarity"
   ]
  },
  {
   "cell_type": "code",
   "execution_count": 30,
   "metadata": {},
   "outputs": [
    {
     "name": "stdout",
     "output_type": "stream",
     "text": [
      "Accuracy: 0.575\n",
      "F1 Score: 0.5853658536585366\n"
     ]
    }
   ],
   "source": [
    "def classify_images_with_glcm_std_dissimilarity(normal_dissimilarity, crack_dissimilarity):\n",
    "    # Prepare the data\n",
    "    X = np.concatenate([normal_dissimilarity, crack_dissimilarity])\n",
    "    y = np.array([0] * len(normal_dissimilarity) + [1] * len(crack_dissimilarity))  # 0 for normal, 1 for crack\n",
    "\n",
    "    # Split the data into training and testing sets\n",
    "    X_train, X_test, y_train, y_test = train_test_split(X, y, test_size=0.2, random_state=42)\n",
    "\n",
    "    # Reshape the data for sklearn (it expects 2D array)\n",
    "    X_train = X_train.reshape(-1, 1)\n",
    "    X_test = X_test.reshape(-1, 1)\n",
    "\n",
    "    # Create and train the classifier\n",
    "    clf = RandomForestClassifier(n_estimators=10, random_state=42)\n",
    "    clf.fit(X_train, y_train)\n",
    "\n",
    "    # Make predictions\n",
    "    y_pred = clf.predict(X_test)\n",
    "\n",
    "    # Print the results\n",
    "    print(\"Accuracy:\", accuracy_score(y_test, y_pred))\n",
    "    print(f\"F1 Score: {f1_score(y_test, y_pred)}\")\n",
    "\n",
    "# Call the function with GLCM dissimilarity features\n",
    "normal_dissimilarity = normal_glcm_features_std['비유사성']\n",
    "crack_dissimilarity = crack_glcm_features_std['비유사성']\n",
    "classify_images_with_glcm_std_dissimilarity(normal_dissimilarity, crack_dissimilarity)"
   ]
  },
  {
   "cell_type": "markdown",
   "metadata": {},
   "source": [
    "### Correlation"
   ]
  },
  {
   "cell_type": "code",
   "execution_count": 31,
   "metadata": {},
   "outputs": [
    {
     "name": "stdout",
     "output_type": "stream",
     "text": [
      "Accuracy: 0.675\n",
      "F1 Score: 0.6829268292682927\n"
     ]
    }
   ],
   "source": [
    "def classify_images_with_glcm_std_correlation(normal_correlation, crack_correlation):\n",
    "    # Prepare the data\n",
    "    X = np.concatenate([normal_correlation, crack_correlation])\n",
    "    y = np.array([0] * len(normal_correlation) + [1] * len(crack_correlation))  # 0 for normal, 1 for crack\n",
    "\n",
    "    # Split the data into training and testing sets\n",
    "    X_train, X_test, y_train, y_test = train_test_split(X, y, test_size=0.2, random_state=42)\n",
    "\n",
    "    # Reshape the data for sklearn (it expects 2D array)\n",
    "    X_train = X_train.reshape(-1, 1)\n",
    "    X_test = X_test.reshape(-1, 1)\n",
    "\n",
    "    # Create and train the classifier\n",
    "    clf = RandomForestClassifier(n_estimators=10, random_state=42)\n",
    "    clf.fit(X_train, y_train)\n",
    "\n",
    "    # Make predictions\n",
    "    y_pred = clf.predict(X_test)\n",
    "\n",
    "    # Print the results\n",
    "    print(\"Accuracy:\", accuracy_score(y_test, y_pred))\n",
    "    print(f\"F1 Score: {f1_score(y_test, y_pred)}\")\n",
    "\n",
    "# Call the function with GLCM correlation features\n",
    "normal_correlation = normal_glcm_features_std['상관성']\n",
    "crack_correlation = crack_glcm_features_std['상관성']\n",
    "classify_images_with_glcm_std_correlation(normal_correlation, crack_correlation)"
   ]
  },
  {
   "cell_type": "markdown",
   "metadata": {},
   "source": [
    "### Homogeneity & Correlation"
   ]
  },
  {
   "cell_type": "code",
   "execution_count": 32,
   "metadata": {},
   "outputs": [
    {
     "name": "stdout",
     "output_type": "stream",
     "text": [
      "Accuracy: 0.75\n",
      "F1 Score: 0.7368421052631579\n"
     ]
    }
   ],
   "source": [
    "def classify_images_with_glcm_std_homogeneity_correlation(normal_homogeneity, normal_correlation, crack_homogeneity, crack_correlation):\n",
    "    # Prepare the data\n",
    "    X_normal = np.column_stack((normal_homogeneity, normal_correlation))\n",
    "    X_crack = np.column_stack((crack_homogeneity, crack_correlation))\n",
    "    X = np.vstack((X_normal, X_crack))\n",
    "    y = np.array([0] * len(X_normal) + [1] * len(X_crack))  # 0 for normal, 1 for crack\n",
    "\n",
    "    # Split the data into training and testing sets\n",
    "    X_train, X_test, y_train, y_test = train_test_split(X, y, test_size=0.2, random_state=42)\n",
    "\n",
    "    # Create and train the classifier\n",
    "    clf = RandomForestClassifier(n_estimators=10, random_state=42)\n",
    "    clf.fit(X_train, y_train)\n",
    "\n",
    "    # Make predictions\n",
    "    y_pred = clf.predict(X_test)\n",
    "\n",
    "    # Print the results\n",
    "    print(\"Accuracy:\", accuracy_score(y_test, y_pred))\n",
    "    print(f\"F1 Score: {f1_score(y_test, y_pred)}\")\n",
    "\n",
    "# Call the function with GLCM homogeneity and correlation features\n",
    "normal_homogeneity = normal_glcm_features_std['동질성']\n",
    "normal_correlation = normal_glcm_features_std['상관성']\n",
    "crack_homogeneity = crack_glcm_features_std['동질성']\n",
    "crack_correlation = crack_glcm_features_std['상관성']\n",
    "classify_images_with_glcm_std_homogeneity_correlation(normal_homogeneity, normal_correlation, crack_homogeneity, crack_correlation)\n"
   ]
  },
  {
   "cell_type": "markdown",
   "metadata": {},
   "source": [
    "### All Features"
   ]
  },
  {
   "cell_type": "code",
   "execution_count": 33,
   "metadata": {},
   "outputs": [
    {
     "name": "stdout",
     "output_type": "stream",
     "text": [
      "Accuracy: 0.9\n",
      "F1 Score: 0.9 \n",
      "\n",
      "동질성: 0.4179357306886572\n",
      "균일성: 0.25474992915048256\n",
      "비유사성: 0.15653500677437326\n",
      "대비: 0.09019753226860217\n",
      "상관성: 0.0805818011178849\n"
     ]
    },
    {
     "data": {
      "image/png": "[encoded data removed]",
      "text/plain": [
       "<Figure size 1000x600 with 1 Axes>"
      ]
     },
     "metadata": {},
     "output_type": "display_data"
    }
   ],
   "source": [
    "def classify_images_with_all_glcm_std_features(normal_features, crack_features):\n",
    "    # Prepare the data\n",
    "    X_normal = np.array(list(zip(*normal_features)))\n",
    "    X_crack = np.array(list(zip(*crack_features)))\n",
    "    X = np.vstack((X_normal, X_crack))\n",
    "    y = np.array([0] * len(X_normal) + [1] * len(X_crack))  # 0 for normal, 1 for crack\n",
    "\n",
    "    # Split the data into training and testing sets\n",
    "    X_train, X_test, y_train, y_test = train_test_split(X, y, test_size=0.2, random_state=42)\n",
    "\n",
    "    # Create and train the classifier\n",
    "    clf = RandomForestClassifier(n_estimators=10, random_state=42)\n",
    "    clf.fit(X_train, y_train)\n",
    "\n",
    "    # Make predictions\n",
    "    y_pred = clf.predict(X_test)\n",
    "\n",
    "    # Print the results\n",
    "    print(\"Accuracy:\", accuracy_score(y_test, y_pred))\n",
    "    print(f\"F1 Score: {f1_score(y_test, y_pred)}\", '\\n')\n",
    "\n",
    "    importances = clf.feature_importances_\n",
    "    feature_names = ['대비', '비유사성', '동질성', '균일성', '상관성']\n",
    "    feature_importance = sorted(zip(feature_names, importances), key=lambda x: x[1], reverse=True)\n",
    "\n",
    "    for feature, importance in feature_importance:\n",
    "        print(f\"{feature}: {importance}\")\n",
    "\n",
    "    plt.figure(figsize=(10, 6))\n",
    "    plt.rcParams['font.family'] = 'AppleGothic'\n",
    "    plt.bar(range(len(importances)), importances)\n",
    "    plt.xticks(range(len(importances)), feature_names)\n",
    "    plt.title(\"Feature Importances\")\n",
    "    plt.tight_layout()\n",
    "    plt.show()\n",
    "\n",
    "\n",
    "\n",
    "# Prepare all GLCM features\n",
    "normal_features = [normal_glcm_features_std[feature] for feature in normal_glcm_features_std.keys()]\n",
    "crack_features = [crack_glcm_features_std[feature] for feature in crack_glcm_features_std.keys()]\n",
    "\n",
    "# Call the function with all GLCM features\n",
    "classify_images_with_all_glcm_std_features(normal_features, crack_features)\n"
   ]
  },
  {
   "cell_type": "markdown",
   "metadata": {},
   "source": [
    "# 결과\n",
    "- lbp와 glcm의 통계값과 특성들을 활용하여 Randomforest모델을 n_estimator를 10으로 생성하여 F1 score를 비교하였습니다.\n",
    "- 단일 특성을 사용하였을 떄 가장 좋은 성능을 보여준 것은 GLCM homogeneity의 표준편차를 활용한 모델로 F1 score 약 0.73을 기록하였습니다.\n",
    "- 여러 특성을 종합하여 사용하였을 때 가장 좋은 성능을 보여준 것은 GLCM 모든 특성의 표준편차를 사용한 모델이었습니다.\n",
    "  - 이 때 F1 score는 0.9로 측정되었습니다.\n",
    "  - 이 모델에서 각 특성의 중요도는 동질성 > 균일성 > 비유사성 > 대비 > 상관성 순으로 측정되었습니다."
   ]
  },
  {
   "cell_type": "markdown",
   "metadata": {},
   "source": []
  }
 ],
 "metadata": {
  "kernelspec": {
   "display_name": "sph-jUbChLaw-py3.10",
   "language": "python",
   "name": "python3"
  },
  "language_info": {
   "codemirror_mode": {
    "name": "ipython",
    "version": 3
   },
   "file_extension": ".py",
   "mimetype": "text/x-python",
   "name": "python",
   "nbconvert_exporter": "python",
   "pygments_lexer": "ipython3",
   "version": "3.10.13"
  }
 },
 "nbformat": 4,
 "nbformat_minor": 2
}
