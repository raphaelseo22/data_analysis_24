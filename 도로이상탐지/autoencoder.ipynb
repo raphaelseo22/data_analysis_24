{
 "cells": [
  {
   "cell_type": "code",
   "execution_count": 50,
   "metadata": {},
   "outputs": [],
   "source": [
    "import tensorflow as tf\n",
    "from tensorflow import keras\n",
    "from tensorflow.keras import layers, models, optimizers\n",
    "import numpy as np\n",
    "import os\n",
    "from sklearn.model_selection import train_test_split\n",
    "import cv2\n",
    "from sklearn.metrics import accuracy_score, f1_score"
   ]
  },
  {
   "cell_type": "code",
   "execution_count": 38,
   "metadata": {},
   "outputs": [],
   "source": [
    "# Autoencoder 모델 정의\n",
    "def create_autoencoder():\n",
    "    input_img = layers.Input(shape=(360, 240, 1))\n",
    "    \n",
    "    # Encoder\n",
    "    x = layers.Conv2D(16, (3, 3), activation='relu', padding='same')(input_img)\n",
    "    x = layers.MaxPooling2D((2, 2), padding='same')(x)\n",
    "    x = layers.Conv2D(32, (3, 3), activation='relu', padding='same')(x)\n",
    "    x = layers.MaxPooling2D((2, 2), padding='same')(x)\n",
    "    x = layers.Conv2D(64, (3, 3), activation='relu', padding='same')(x)\n",
    "    encoded = layers.MaxPooling2D((2, 2), padding='same')(x)\n",
    "\n",
    "    # Decoder\n",
    "    x = layers.Conv2D(64, (3, 3), activation='relu', padding='same')(encoded)\n",
    "    x = layers.UpSampling2D((2, 2))(x)\n",
    "    x = layers.Conv2D(32, (3, 3), activation='relu', padding='same')(x)\n",
    "    x = layers.UpSampling2D((2, 2))(x)\n",
    "    x = layers.Conv2D(16, (3, 3), activation='relu', padding='same')(x)\n",
    "    x = layers.UpSampling2D((2, 2))(x)\n",
    "    decoded = layers.Conv2D(1, (3, 3), activation='sigmoid', padding='same')(x)\n",
    "\n",
    "    autoencoder = models.Model(input_img, decoded)\n",
    "    return autoencoder\n",
    "\n",
    "# 데이터 로드 및 전처리\n",
    "def load_data(directory):\n",
    "    images = []\n",
    "    for filename in os.listdir(directory):\n",
    "        if filename.endswith(\".jpg\"):\n",
    "            img_path = os.path.join(directory, filename)\n",
    "            img = cv2.imread(img_path, 0)  # 그레이스케일로 변환\n",
    "            # img = cv2.resize(img, (256, 256))  # 크기 조정\n",
    "            img_array = np.array(img) / 255.0  # 정규화\n",
    "            images.append(img_array)\n",
    "    return np.array(images)\n",
    "\n",
    "# 모델 학습\n",
    "def train_model(model, train_data, val_data, epochs=25):\n",
    "    model.compile(optimizer='adam', loss='mean_squared_error')\n",
    "    \n",
    "    history = model.fit(\n",
    "        train_data, train_data,\n",
    "        epochs=epochs,\n",
    "        batch_size=32,\n",
    "        shuffle=True,\n",
    "        validation_data=(val_data, val_data)\n",
    "    )\n",
    "    \n",
    "    return model, history\n",
    "\n",
    "# 크랙 탐지\n",
    "def detect_cracks(model, data, threshold):\n",
    "    reconstructions = model(data)\n",
    "    reconstructions = np.squeeze(reconstructions, axis=-1)\n",
    "    mse = np.mean(np.square(data - reconstructions), axis=(1,2))\n",
    "    return mse > threshold"
   ]
  },
  {
   "cell_type": "markdown",
   "metadata": {},
   "source": [
    "# 학습\n",
    "- 학습은 메모리 문제로 인하여 Colab에서 진행하였습니다."
   ]
  },
  {
   "cell_type": "code",
   "execution_count": 2,
   "metadata": {},
   "outputs": [],
   "source": [
    "crack_data = load_data(\"/Users/raphaelseo/Documents/projects/SPH/og_data/crack\")"
   ]
  },
  {
   "cell_type": "code",
   "execution_count": 46,
   "metadata": {},
   "outputs": [
    {
     "name": "stderr",
     "output_type": "stream",
     "text": [
      "WARNING:absl:Compiled the loaded model, but the compiled metrics have yet to be built. `model.compile_metrics` will be empty until you train or evaluate the model.\n",
      "WARNING:absl:Error in loading the saved optimizer state. As a result, your model is starting with a freshly initialized optimizer.\n"
     ]
    }
   ],
   "source": [
    "loaded_model = keras.models.load_model('autoencoder.h5')"
   ]
  },
  {
   "cell_type": "code",
   "execution_count": 4,
   "metadata": {},
   "outputs": [
    {
     "name": "stderr",
     "output_type": "stream",
     "text": [
      "2024-07-17 20:39:53.393031: I tensorflow/core/grappler/optimizers/custom_graph_optimizer_registry.cc:117] Plugin optimizer for device_type GPU is enabled.\n"
     ]
    },
    {
     "name": "stdout",
     "output_type": "stream",
     "text": [
      "\u001b[1m1/1\u001b[0m \u001b[32m━━━━━━━━━━━━━━━━━━━━\u001b[0m\u001b[37m\u001b[0m \u001b[1m1s\u001b[0m 735ms/step\n"
     ]
    }
   ],
   "source": [
    "normal_data = load_data(\"/Users/raphaelseo/Documents/projects/SPH/og_data/normal\")\n",
    "\n",
    "# 정상 이미지를 학습 및 검증 세트로 분할\n",
    "train_data, val_data = train_test_split(normal_data, test_size=0.2, random_state=42)\n",
    "val_reconstructions = loaded_model.predict(val_data)\n",
    "val_reconstructions = np.squeeze(val_reconstructions, axis=-1)\n",
    "val_mse = np.mean(np.square(val_data - val_reconstructions), axis=(1,2))\n",
    "threshold = np.percentile(val_mse, 95)  # 예: 95 퍼센타일을 임계값으로 사용"
   ]
  },
  {
   "cell_type": "markdown",
   "metadata": {},
   "source": [
    "# 이상치 검출 기준\n",
    "- validation 데이터를 활용하여 임계값을 설정하였습니다.\n",
    "- 임계값은 95퍼센타일로 설정하였습니다.\n",
    "- 이는 정상 이미지에서 생성된 이미지들 중 오차범위가 상위 5%이상인 이미지를 이상치로 간주하겠다는 의미입니다."
   ]
  },
  {
   "cell_type": "code",
   "execution_count": 47,
   "metadata": {},
   "outputs": [
    {
     "data": {
      "text/plain": [
       "(93, 360, 240)"
      ]
     },
     "execution_count": 47,
     "metadata": {},
     "output_type": "execute_result"
    }
   ],
   "source": [
    "normal_data.shape"
   ]
  },
  {
   "cell_type": "code",
   "execution_count": 6,
   "metadata": {},
   "outputs": [
    {
     "name": "stdout",
     "output_type": "stream",
     "text": [
      "Shape of combined data: (126, 360, 240)\n",
      "Total number of images: 126\n",
      "Number of normal images: 19\n",
      "Number of crack images: 107\n"
     ]
    }
   ],
   "source": [
    "# Combine normal_data and crack_data\n",
    "combined_data = np.vstack((val_data, crack_data))\n",
    "\n",
    "# Print the shape of the combined data to verify\n",
    "print(\"Shape of combined data:\", combined_data.shape)\n",
    "\n",
    "# If you need to keep track of which images are normal and which are cracks,\n",
    "# you can create a corresponding label array\n",
    "labels = np.concatenate([np.full(len(val_data), False), np.full(len(crack_data), True)])\n",
    "\n",
    "print(\"Total number of images:\", len(combined_data))\n",
    "print(\"Number of normal images:\", len(val_data))\n",
    "print(\"Number of crack images:\", len(crack_data))\n"
   ]
  },
  {
   "cell_type": "code",
   "execution_count": 53,
   "metadata": {},
   "outputs": [
    {
     "name": "stdout",
     "output_type": "stream",
     "text": [
      "Accuracy: 0.8571428571428571\n",
      "F1 Score: 0.9090909090909091\n"
     ]
    }
   ],
   "source": [
    "crack_results = detect_cracks(loaded_model, combined_data, threshold)\n",
    "print(f\"Accuracy: {accuracy_score(labels, crack_results)}\")\n",
    "print(f\"F1 Score: {f1_score(labels, crack_results)}\")"
   ]
  },
  {
   "cell_type": "markdown",
   "metadata": {},
   "source": [
    "## 결과\n",
    "- 약 0.91의 F1 score를 기록하였습니다."
   ]
  }
 ],
 "metadata": {
  "kernelspec": {
   "display_name": "sph-jUbChLaw-py3.10",
   "language": "python",
   "name": "python3"
  },
  "language_info": {
   "codemirror_mode": {
    "name": "ipython",
    "version": 3
   },
   "file_extension": ".py",
   "mimetype": "text/x-python",
   "name": "python",
   "nbconvert_exporter": "python",
   "pygments_lexer": "ipython3",
   "version": "3.10.13"
  }
 },
 "nbformat": 4,
 "nbformat_minor": 2
}
